{
  "nbformat": 4,
  "nbformat_minor": 0,
  "metadata": {
    "colab": {
      "provenance": [],
      "authorship_tag": "ABX9TyPb4c7QlMrUzGkOS3eSjpbu",
      "include_colab_link": true
    },
    "kernelspec": {
      "name": "python3",
      "display_name": "Python 3"
    },
    "language_info": {
      "name": "python"
    }
  },
  "cells": [
    {
      "cell_type": "markdown",
      "metadata": {
        "id": "view-in-github",
        "colab_type": "text"
      },
      "source": [
        "<a href=\"https://colab.research.google.com/github/1013115/KTB_Project/blob/main/Agent.ipynb\" target=\"_parent\"><img src=\"https://colab.research.google.com/assets/colab-badge.svg\" alt=\"Open In Colab\"/></a>"
      ]
    },
    {
      "cell_type": "markdown",
      "source": [
        "# Agent\n",
        "\n",
        "langchain 및 기타 LLM 애플리케이션에서 중요한 개념으로, 인공지능 시스템이 더 자율적이고 목표 지향적으로 작업을 수행할 수 있게 해주는 컴포넌트이다. 에이전트는 주어진 목표를 달성하기 위해 환경과 상호작용하며 의사 결정을 내리고 행동을 취하는 지능형 개체로 볼 수 있다.\n",
        "\n",
        "**<주요 특징>**\n",
        "1. 자율성 : 에이전트는 사전에 정의된 규칙이나 명시적인 프로그래밍 없이도 스스로 결정을 내리고 행동할 수 있다.\n",
        "2. 목표 지향성 : 특정 목표나 작업을 달성하기 위해 설계되어있음\n",
        "3. 환경 인식 : 주변 환경이나 상황을 인식하고 이에 따라 적응할 수 있다.\n",
        "4. 도구 사용 : 다양한 도구나 API를 활용하여 작업을 수행할 수 있다.\n",
        "5. 연속성 : 주어진 목표를 달성하기 위하여 1회 수행이 아닌 반복 수행을 통해 목표 달성을 추구한다.\n",
        "\n",
        "### LangChain애서의 에이전트\n",
        "1. Agent : 의사 결정을 담당하는 핵심 컴포넌트\n",
        "2. Tools : 에이전트가 사용할 수 있는 기능들의 집합\n",
        "3. Toolkits : 관련된 도구들의 그룹\n",
        "4. AgentExecutor : 에이전트의 실행을 관리하는 컴포넌트\n",
        "\n",
        "### 에이전트 작동방식\n",
        "1. 입력 수신 : 사용자로부터 작업이나 질문을 받는다.\n",
        "2. 계획 수립 : 주어진 작업을 완료하기 위한 단계별 계획을 세운다.\n",
        "3. 도구 선택 : 각 단계에 적합한 도구를 선택한다.\n",
        "4. 실행 : 선택한 도구를 사용하여 작업을 수행한다.\n",
        "5. 결과 평가 : 수행 결과를 평가하고 필요시 계획을 조정한다.\n",
        "6. 출력 생성 : 최종 결과나 답변을 사용자에게 제공한다.\n",
        "\n",
        "<장점과 한계>\n",
        "\n",
        "장점\n",
        "- 복잡한 작업의 자동화\n",
        "- 유연성과 적응성\n",
        "- 다양항 도구와 통합 가능성\n",
        "\n",
        "한계\n",
        "- 제어와 예측 가능성의 어려움\n",
        "- 계산 비용와 리소스 요구사항\n"
      ],
      "metadata": {
        "id": "AJ9l6x2Hopoa"
      }
    },
    {
      "cell_type": "markdown",
      "source": [
        "## 도구\n",
        "에이전트, 체인 또는 LLM이 외부 세계와 상호작용하기 위한 인터페이스이다.\n",
        "\n",
        "langchain에서 기본 제공하는 도구를 사용하여 쉽게 도구를 활용할 수 있으며, 사용자 정의 도구를 쉽게 구축하는 것도 가능하다."
      ],
      "metadata": {
        "id": "X4G_yQ9Rq1qq"
      }
    },
    {
      "cell_type": "code",
      "source": [
        "import os\n",
        "from google.colab import userdata\n",
        "#os.environ['OPENAI_API_KEY'] = 'OPEN_API_KEY'\n",
        "os.environ['OPENAI_API_KEY'] = userdata.get('OPENAI_API_KEY'\n",
        ")"
      ],
      "metadata": {
        "id": "KsTkeG_cwM3H"
      },
      "execution_count": 11,
      "outputs": []
    },
    {
      "cell_type": "code",
      "source": [
        "!pip install python_dotenv"
      ],
      "metadata": {
        "colab": {
          "base_uri": "https://localhost:8080/"
        },
        "id": "XatoDPRzrVKK",
        "outputId": "8e862f2e-0079-4ca2-f3f1-8ba40acab1fb"
      },
      "execution_count": 12,
      "outputs": [
        {
          "output_type": "stream",
          "name": "stdout",
          "text": [
            "Requirement already satisfied: python_dotenv in /usr/local/lib/python3.10/dist-packages (1.0.1)\n"
          ]
        }
      ]
    },
    {
      "cell_type": "code",
      "source": [
        "import os\n",
        "from google.colab import userdata\n",
        "\n",
        "os.environ[\"LANGCHAIN_TRACING_V2\"] = \"true\"\n",
        "os.environ[\"LANGCHAIN_ENDPOINT\"] = \"https://api.smith.langchain.com\"\n",
        "os.environ[\"LANGCHAIN_PROJECT\"] = \"test\"\n",
        "os.environ[\"LANGCHAIN_API_KEY\"] = userdata.get('LANGCHAIN_API_KEY')"
      ],
      "metadata": {
        "id": "NPmf1dJKsxXu"
      },
      "execution_count": 13,
      "outputs": []
    },
    {
      "cell_type": "code",
      "source": [
        "!pip install langchain_teddynote"
      ],
      "metadata": {
        "colab": {
          "base_uri": "https://localhost:8080/"
        },
        "id": "zFIsHB7_tbX5",
        "outputId": "68fe486a-78d9-458a-f0c0-577824db8878"
      },
      "execution_count": 15,
      "outputs": [
        {
          "output_type": "stream",
          "name": "stdout",
          "text": [
            "Requirement already satisfied: langchain_teddynote in /usr/local/lib/python3.10/dist-packages (0.3.7)\n",
            "Requirement already satisfied: langchain in /usr/local/lib/python3.10/dist-packages (from langchain_teddynote) (0.3.3)\n",
            "Requirement already satisfied: langgraph in /usr/local/lib/python3.10/dist-packages (from langchain_teddynote) (0.2.37)\n",
            "Requirement already satisfied: kiwipiepy in /usr/local/lib/python3.10/dist-packages (from langchain_teddynote) (0.19.0)\n",
            "Requirement already satisfied: konlpy in /usr/local/lib/python3.10/dist-packages (from langchain_teddynote) (0.6.0)\n",
            "Requirement already satisfied: rank-bm25 in /usr/local/lib/python3.10/dist-packages (from langchain_teddynote) (0.2.2)\n",
            "Requirement already satisfied: pinecone-client[grpc] in /usr/local/lib/python3.10/dist-packages (from langchain_teddynote) (5.0.1)\n",
            "Requirement already satisfied: pinecone-text in /usr/local/lib/python3.10/dist-packages (from langchain_teddynote) (0.9.0)\n",
            "Requirement already satisfied: olefile in /usr/local/lib/python3.10/dist-packages (from langchain_teddynote) (0.47)\n",
            "Requirement already satisfied: pdf2image in /usr/local/lib/python3.10/dist-packages (from langchain_teddynote) (1.17.0)\n",
            "Requirement already satisfied: openai in /usr/local/lib/python3.10/dist-packages (from langchain_teddynote) (1.51.2)\n",
            "Requirement already satisfied: deepl in /usr/local/lib/python3.10/dist-packages (from langchain_teddynote) (1.19.1)\n",
            "Requirement already satisfied: feedparser in /usr/local/lib/python3.10/dist-packages (from langchain_teddynote) (6.0.11)\n",
            "Requirement already satisfied: requests<3,>=2 in /usr/local/lib/python3.10/dist-packages (from deepl->langchain_teddynote) (2.32.3)\n",
            "Requirement already satisfied: sgmllib3k in /usr/local/lib/python3.10/dist-packages (from feedparser->langchain_teddynote) (1.0.0)\n",
            "Requirement already satisfied: kiwipiepy-model<0.20,>=0.19 in /usr/local/lib/python3.10/dist-packages (from kiwipiepy->langchain_teddynote) (0.19.0)\n",
            "Requirement already satisfied: tqdm in /usr/local/lib/python3.10/dist-packages (from kiwipiepy->langchain_teddynote) (4.66.5)\n",
            "Requirement already satisfied: numpy in /usr/local/lib/python3.10/dist-packages (from kiwipiepy->langchain_teddynote) (1.26.4)\n",
            "Requirement already satisfied: JPype1>=0.7.0 in /usr/local/lib/python3.10/dist-packages (from konlpy->langchain_teddynote) (1.5.0)\n",
            "Requirement already satisfied: lxml>=4.1.0 in /usr/local/lib/python3.10/dist-packages (from konlpy->langchain_teddynote) (4.9.4)\n",
            "Requirement already satisfied: PyYAML>=5.3 in /usr/local/lib/python3.10/dist-packages (from langchain->langchain_teddynote) (6.0.2)\n",
            "Requirement already satisfied: SQLAlchemy<3,>=1.4 in /usr/local/lib/python3.10/dist-packages (from langchain->langchain_teddynote) (2.0.35)\n",
            "Requirement already satisfied: aiohttp<4.0.0,>=3.8.3 in /usr/local/lib/python3.10/dist-packages (from langchain->langchain_teddynote) (3.10.10)\n",
            "Requirement already satisfied: async-timeout<5.0.0,>=4.0.0 in /usr/local/lib/python3.10/dist-packages (from langchain->langchain_teddynote) (4.0.3)\n",
            "Requirement already satisfied: langchain-core<0.4.0,>=0.3.10 in /usr/local/lib/python3.10/dist-packages (from langchain->langchain_teddynote) (0.3.10)\n",
            "Requirement already satisfied: langchain-text-splitters<0.4.0,>=0.3.0 in /usr/local/lib/python3.10/dist-packages (from langchain->langchain_teddynote) (0.3.0)\n",
            "Requirement already satisfied: langsmith<0.2.0,>=0.1.17 in /usr/local/lib/python3.10/dist-packages (from langchain->langchain_teddynote) (0.1.135)\n",
            "Requirement already satisfied: pydantic<3.0.0,>=2.7.4 in /usr/local/lib/python3.10/dist-packages (from langchain->langchain_teddynote) (2.9.2)\n",
            "Requirement already satisfied: tenacity!=8.4.0,<9.0.0,>=8.1.0 in /usr/local/lib/python3.10/dist-packages (from langchain->langchain_teddynote) (8.5.0)\n",
            "Requirement already satisfied: langgraph-checkpoint<3.0.0,>=2.0.0 in /usr/local/lib/python3.10/dist-packages (from langgraph->langchain_teddynote) (2.0.1)\n",
            "Requirement already satisfied: langgraph-sdk<0.2.0,>=0.1.32 in /usr/local/lib/python3.10/dist-packages (from langgraph->langchain_teddynote) (0.1.33)\n",
            "Requirement already satisfied: anyio<5,>=3.5.0 in /usr/local/lib/python3.10/dist-packages (from openai->langchain_teddynote) (3.7.1)\n",
            "Requirement already satisfied: distro<2,>=1.7.0 in /usr/lib/python3/dist-packages (from openai->langchain_teddynote) (1.7.0)\n",
            "Requirement already satisfied: httpx<1,>=0.23.0 in /usr/local/lib/python3.10/dist-packages (from openai->langchain_teddynote) (0.27.2)\n",
            "Requirement already satisfied: jiter<1,>=0.4.0 in /usr/local/lib/python3.10/dist-packages (from openai->langchain_teddynote) (0.6.1)\n",
            "Requirement already satisfied: sniffio in /usr/local/lib/python3.10/dist-packages (from openai->langchain_teddynote) (1.3.1)\n",
            "Requirement already satisfied: typing-extensions<5,>=4.11 in /usr/local/lib/python3.10/dist-packages (from openai->langchain_teddynote) (4.12.2)\n",
            "Requirement already satisfied: pillow in /usr/local/lib/python3.10/dist-packages (from pdf2image->langchain_teddynote) (10.4.0)\n",
            "Requirement already satisfied: certifi>=2019.11.17 in /usr/local/lib/python3.10/dist-packages (from pinecone-client[grpc]->langchain_teddynote) (2024.8.30)\n",
            "Requirement already satisfied: pinecone-plugin-inference<2.0.0,>=1.0.3 in /usr/local/lib/python3.10/dist-packages (from pinecone-client[grpc]->langchain_teddynote) (1.1.0)\n",
            "Requirement already satisfied: pinecone-plugin-interface<0.0.8,>=0.0.7 in /usr/local/lib/python3.10/dist-packages (from pinecone-client[grpc]->langchain_teddynote) (0.0.7)\n",
            "Requirement already satisfied: urllib3>=1.26.0 in /usr/local/lib/python3.10/dist-packages (from pinecone-client[grpc]->langchain_teddynote) (2.2.3)\n",
            "Requirement already satisfied: googleapis-common-protos>=1.53.0 in /usr/local/lib/python3.10/dist-packages (from pinecone-client[grpc]->langchain_teddynote) (1.65.0)\n",
            "Requirement already satisfied: grpcio>=1.44.0 in /usr/local/lib/python3.10/dist-packages (from pinecone-client[grpc]->langchain_teddynote) (1.64.1)\n",
            "Requirement already satisfied: lz4>=3.1.3 in /usr/local/lib/python3.10/dist-packages (from pinecone-client[grpc]->langchain_teddynote) (4.3.3)\n",
            "Collecting protobuf<5.0,>=4.25 (from pinecone-client[grpc]->langchain_teddynote)\n",
            "  Using cached protobuf-4.25.5-cp37-abi3-manylinux2014_x86_64.whl.metadata (541 bytes)\n",
            "Requirement already satisfied: protoc-gen-openapiv2<0.0.2,>=0.0.1 in /usr/local/lib/python3.10/dist-packages (from pinecone-client[grpc]->langchain_teddynote) (0.0.1)\n",
            "Requirement already satisfied: mmh3<5.0.0,>=4.1.0 in /usr/local/lib/python3.10/dist-packages (from pinecone-text->langchain_teddynote) (4.1.0)\n",
            "Requirement already satisfied: nltk<4.0.0,>=3.6.5 in /usr/local/lib/python3.10/dist-packages (from pinecone-text->langchain_teddynote) (3.8.1)\n",
            "Requirement already satisfied: python-dotenv<2.0.0,>=1.0.1 in /usr/local/lib/python3.10/dist-packages (from pinecone-text->langchain_teddynote) (1.0.1)\n",
            "Requirement already satisfied: types-requests<3.0.0,>=2.25.0 in /usr/local/lib/python3.10/dist-packages (from pinecone-text->langchain_teddynote) (2.32.0.20240914)\n",
            "Requirement already satisfied: wget<4.0,>=3.2 in /usr/local/lib/python3.10/dist-packages (from pinecone-text->langchain_teddynote) (3.2)\n",
            "Requirement already satisfied: aiohappyeyeballs>=2.3.0 in /usr/local/lib/python3.10/dist-packages (from aiohttp<4.0.0,>=3.8.3->langchain->langchain_teddynote) (2.4.3)\n",
            "Requirement already satisfied: aiosignal>=1.1.2 in /usr/local/lib/python3.10/dist-packages (from aiohttp<4.0.0,>=3.8.3->langchain->langchain_teddynote) (1.3.1)\n",
            "Requirement already satisfied: attrs>=17.3.0 in /usr/local/lib/python3.10/dist-packages (from aiohttp<4.0.0,>=3.8.3->langchain->langchain_teddynote) (24.2.0)\n",
            "Requirement already satisfied: frozenlist>=1.1.1 in /usr/local/lib/python3.10/dist-packages (from aiohttp<4.0.0,>=3.8.3->langchain->langchain_teddynote) (1.4.1)\n",
            "Requirement already satisfied: multidict<7.0,>=4.5 in /usr/local/lib/python3.10/dist-packages (from aiohttp<4.0.0,>=3.8.3->langchain->langchain_teddynote) (6.1.0)\n",
            "Requirement already satisfied: yarl<2.0,>=1.12.0 in /usr/local/lib/python3.10/dist-packages (from aiohttp<4.0.0,>=3.8.3->langchain->langchain_teddynote) (1.14.0)\n",
            "Requirement already satisfied: idna>=2.8 in /usr/local/lib/python3.10/dist-packages (from anyio<5,>=3.5.0->openai->langchain_teddynote) (3.10)\n",
            "Requirement already satisfied: exceptiongroup in /usr/local/lib/python3.10/dist-packages (from anyio<5,>=3.5.0->openai->langchain_teddynote) (1.2.2)\n",
            "Requirement already satisfied: httpcore==1.* in /usr/local/lib/python3.10/dist-packages (from httpx<1,>=0.23.0->openai->langchain_teddynote) (1.0.6)\n",
            "Requirement already satisfied: h11<0.15,>=0.13 in /usr/local/lib/python3.10/dist-packages (from httpcore==1.*->httpx<1,>=0.23.0->openai->langchain_teddynote) (0.14.0)\n",
            "Requirement already satisfied: packaging in /usr/local/lib/python3.10/dist-packages (from JPype1>=0.7.0->konlpy->langchain_teddynote) (24.1)\n",
            "Requirement already satisfied: jsonpatch<2.0,>=1.33 in /usr/local/lib/python3.10/dist-packages (from langchain-core<0.4.0,>=0.3.10->langchain->langchain_teddynote) (1.33)\n",
            "Requirement already satisfied: msgpack<2.0.0,>=1.1.0 in /usr/local/lib/python3.10/dist-packages (from langgraph-checkpoint<3.0.0,>=2.0.0->langgraph->langchain_teddynote) (1.1.0)\n",
            "Requirement already satisfied: httpx-sse>=0.4.0 in /usr/local/lib/python3.10/dist-packages (from langgraph-sdk<0.2.0,>=0.1.32->langgraph->langchain_teddynote) (0.4.0)\n",
            "Requirement already satisfied: orjson>=3.10.1 in /usr/local/lib/python3.10/dist-packages (from langgraph-sdk<0.2.0,>=0.1.32->langgraph->langchain_teddynote) (3.10.7)\n",
            "Requirement already satisfied: requests-toolbelt<2.0.0,>=1.0.0 in /usr/local/lib/python3.10/dist-packages (from langsmith<0.2.0,>=0.1.17->langchain->langchain_teddynote) (1.0.0)\n",
            "Requirement already satisfied: click in /usr/local/lib/python3.10/dist-packages (from nltk<4.0.0,>=3.6.5->pinecone-text->langchain_teddynote) (8.1.7)\n",
            "Requirement already satisfied: joblib in /usr/local/lib/python3.10/dist-packages (from nltk<4.0.0,>=3.6.5->pinecone-text->langchain_teddynote) (1.4.2)\n",
            "Requirement already satisfied: regex>=2021.8.3 in /usr/local/lib/python3.10/dist-packages (from nltk<4.0.0,>=3.6.5->pinecone-text->langchain_teddynote) (2024.9.11)\n",
            "Requirement already satisfied: annotated-types>=0.6.0 in /usr/local/lib/python3.10/dist-packages (from pydantic<3.0.0,>=2.7.4->langchain->langchain_teddynote) (0.7.0)\n",
            "Requirement already satisfied: pydantic-core==2.23.4 in /usr/local/lib/python3.10/dist-packages (from pydantic<3.0.0,>=2.7.4->langchain->langchain_teddynote) (2.23.4)\n",
            "Requirement already satisfied: charset-normalizer<4,>=2 in /usr/local/lib/python3.10/dist-packages (from requests<3,>=2->deepl->langchain_teddynote) (3.4.0)\n",
            "Requirement already satisfied: greenlet!=0.4.17 in /usr/local/lib/python3.10/dist-packages (from SQLAlchemy<3,>=1.4->langchain->langchain_teddynote) (3.1.1)\n",
            "Requirement already satisfied: jsonpointer>=1.9 in /usr/local/lib/python3.10/dist-packages (from jsonpatch<2.0,>=1.33->langchain-core<0.4.0,>=0.3.10->langchain->langchain_teddynote) (3.0.0)\n",
            "Requirement already satisfied: propcache>=0.2.0 in /usr/local/lib/python3.10/dist-packages (from yarl<2.0,>=1.12.0->aiohttp<4.0.0,>=3.8.3->langchain->langchain_teddynote) (0.2.0)\n",
            "Using cached protobuf-4.25.5-cp37-abi3-manylinux2014_x86_64.whl (294 kB)\n",
            "Installing collected packages: protobuf\n",
            "  Attempting uninstall: protobuf\n",
            "    Found existing installation: protobuf 3.20.3\n",
            "    Uninstalling protobuf-3.20.3:\n",
            "      Successfully uninstalled protobuf-3.20.3\n",
            "\u001b[31mERROR: pip's dependency resolver does not currently take into account all the packages that are installed. This behaviour is the source of the following dependency conflicts.\n",
            "tensorflow-metadata 1.16.1 requires protobuf<4.21,>=3.20.3; python_version < \"3.11\", but you have protobuf 4.25.5 which is incompatible.\u001b[0m\u001b[31m\n",
            "\u001b[0mSuccessfully installed protobuf-4.25.5\n"
          ]
        }
      ]
    },
    {
      "cell_type": "code",
      "source": [
        "from langchain_teddynote import logging\n",
        "\n",
        "logging.langsmith(\"agent\")"
      ],
      "metadata": {
        "colab": {
          "base_uri": "https://localhost:8080/"
        },
        "id": "PBUjoUGirria",
        "outputId": "f64dc2e4-08d9-4eb4-d9e0-7b2bda263c71"
      },
      "execution_count": 95,
      "outputs": [
        {
          "output_type": "stream",
          "name": "stdout",
          "text": [
            "LangSmith 추적을 시작합니다.\n",
            "[프로젝트명]\n",
            "agent\n"
          ]
        }
      ]
    },
    {
      "cell_type": "code",
      "source": [
        "import warnings\n",
        "\n",
        "warnings.filterwarnings(\"ignore\")"
      ],
      "metadata": {
        "id": "ED5USOGXtC0Y"
      },
      "execution_count": 16,
      "outputs": []
    },
    {
      "cell_type": "code",
      "source": [
        "!pip install langchain"
      ],
      "metadata": {
        "colab": {
          "base_uri": "https://localhost:8080/"
        },
        "id": "nAoAsgaxuQhu",
        "outputId": "bae95f89-1460-495c-c3bf-ee899063ecdf"
      },
      "execution_count": 17,
      "outputs": [
        {
          "output_type": "stream",
          "name": "stdout",
          "text": [
            "Requirement already satisfied: langchain in /usr/local/lib/python3.10/dist-packages (0.3.3)\n",
            "Requirement already satisfied: PyYAML>=5.3 in /usr/local/lib/python3.10/dist-packages (from langchain) (6.0.2)\n",
            "Requirement already satisfied: SQLAlchemy<3,>=1.4 in /usr/local/lib/python3.10/dist-packages (from langchain) (2.0.35)\n",
            "Requirement already satisfied: aiohttp<4.0.0,>=3.8.3 in /usr/local/lib/python3.10/dist-packages (from langchain) (3.10.10)\n",
            "Requirement already satisfied: async-timeout<5.0.0,>=4.0.0 in /usr/local/lib/python3.10/dist-packages (from langchain) (4.0.3)\n",
            "Requirement already satisfied: langchain-core<0.4.0,>=0.3.10 in /usr/local/lib/python3.10/dist-packages (from langchain) (0.3.10)\n",
            "Requirement already satisfied: langchain-text-splitters<0.4.0,>=0.3.0 in /usr/local/lib/python3.10/dist-packages (from langchain) (0.3.0)\n",
            "Requirement already satisfied: langsmith<0.2.0,>=0.1.17 in /usr/local/lib/python3.10/dist-packages (from langchain) (0.1.135)\n",
            "Requirement already satisfied: numpy<2,>=1 in /usr/local/lib/python3.10/dist-packages (from langchain) (1.26.4)\n",
            "Requirement already satisfied: pydantic<3.0.0,>=2.7.4 in /usr/local/lib/python3.10/dist-packages (from langchain) (2.9.2)\n",
            "Requirement already satisfied: requests<3,>=2 in /usr/local/lib/python3.10/dist-packages (from langchain) (2.32.3)\n",
            "Requirement already satisfied: tenacity!=8.4.0,<9.0.0,>=8.1.0 in /usr/local/lib/python3.10/dist-packages (from langchain) (8.5.0)\n",
            "Requirement already satisfied: aiohappyeyeballs>=2.3.0 in /usr/local/lib/python3.10/dist-packages (from aiohttp<4.0.0,>=3.8.3->langchain) (2.4.3)\n",
            "Requirement already satisfied: aiosignal>=1.1.2 in /usr/local/lib/python3.10/dist-packages (from aiohttp<4.0.0,>=3.8.3->langchain) (1.3.1)\n",
            "Requirement already satisfied: attrs>=17.3.0 in /usr/local/lib/python3.10/dist-packages (from aiohttp<4.0.0,>=3.8.3->langchain) (24.2.0)\n",
            "Requirement already satisfied: frozenlist>=1.1.1 in /usr/local/lib/python3.10/dist-packages (from aiohttp<4.0.0,>=3.8.3->langchain) (1.4.1)\n",
            "Requirement already satisfied: multidict<7.0,>=4.5 in /usr/local/lib/python3.10/dist-packages (from aiohttp<4.0.0,>=3.8.3->langchain) (6.1.0)\n",
            "Requirement already satisfied: yarl<2.0,>=1.12.0 in /usr/local/lib/python3.10/dist-packages (from aiohttp<4.0.0,>=3.8.3->langchain) (1.14.0)\n",
            "Requirement already satisfied: jsonpatch<2.0,>=1.33 in /usr/local/lib/python3.10/dist-packages (from langchain-core<0.4.0,>=0.3.10->langchain) (1.33)\n",
            "Requirement already satisfied: packaging<25,>=23.2 in /usr/local/lib/python3.10/dist-packages (from langchain-core<0.4.0,>=0.3.10->langchain) (24.1)\n",
            "Requirement already satisfied: typing-extensions>=4.7 in /usr/local/lib/python3.10/dist-packages (from langchain-core<0.4.0,>=0.3.10->langchain) (4.12.2)\n",
            "Requirement already satisfied: httpx<1,>=0.23.0 in /usr/local/lib/python3.10/dist-packages (from langsmith<0.2.0,>=0.1.17->langchain) (0.27.2)\n",
            "Requirement already satisfied: orjson<4.0.0,>=3.9.14 in /usr/local/lib/python3.10/dist-packages (from langsmith<0.2.0,>=0.1.17->langchain) (3.10.7)\n",
            "Requirement already satisfied: requests-toolbelt<2.0.0,>=1.0.0 in /usr/local/lib/python3.10/dist-packages (from langsmith<0.2.0,>=0.1.17->langchain) (1.0.0)\n",
            "Requirement already satisfied: annotated-types>=0.6.0 in /usr/local/lib/python3.10/dist-packages (from pydantic<3.0.0,>=2.7.4->langchain) (0.7.0)\n",
            "Requirement already satisfied: pydantic-core==2.23.4 in /usr/local/lib/python3.10/dist-packages (from pydantic<3.0.0,>=2.7.4->langchain) (2.23.4)\n",
            "Requirement already satisfied: charset-normalizer<4,>=2 in /usr/local/lib/python3.10/dist-packages (from requests<3,>=2->langchain) (3.4.0)\n",
            "Requirement already satisfied: idna<4,>=2.5 in /usr/local/lib/python3.10/dist-packages (from requests<3,>=2->langchain) (3.10)\n",
            "Requirement already satisfied: urllib3<3,>=1.21.1 in /usr/local/lib/python3.10/dist-packages (from requests<3,>=2->langchain) (2.2.3)\n",
            "Requirement already satisfied: certifi>=2017.4.17 in /usr/local/lib/python3.10/dist-packages (from requests<3,>=2->langchain) (2024.8.30)\n",
            "Requirement already satisfied: greenlet!=0.4.17 in /usr/local/lib/python3.10/dist-packages (from SQLAlchemy<3,>=1.4->langchain) (3.1.1)\n",
            "Requirement already satisfied: anyio in /usr/local/lib/python3.10/dist-packages (from httpx<1,>=0.23.0->langsmith<0.2.0,>=0.1.17->langchain) (3.7.1)\n",
            "Requirement already satisfied: httpcore==1.* in /usr/local/lib/python3.10/dist-packages (from httpx<1,>=0.23.0->langsmith<0.2.0,>=0.1.17->langchain) (1.0.6)\n",
            "Requirement already satisfied: sniffio in /usr/local/lib/python3.10/dist-packages (from httpx<1,>=0.23.0->langsmith<0.2.0,>=0.1.17->langchain) (1.3.1)\n",
            "Requirement already satisfied: h11<0.15,>=0.13 in /usr/local/lib/python3.10/dist-packages (from httpcore==1.*->httpx<1,>=0.23.0->langsmith<0.2.0,>=0.1.17->langchain) (0.14.0)\n",
            "Requirement already satisfied: jsonpointer>=1.9 in /usr/local/lib/python3.10/dist-packages (from jsonpatch<2.0,>=1.33->langchain-core<0.4.0,>=0.3.10->langchain) (3.0.0)\n",
            "Requirement already satisfied: propcache>=0.2.0 in /usr/local/lib/python3.10/dist-packages (from yarl<2.0,>=1.12.0->aiohttp<4.0.0,>=3.8.3->langchain) (0.2.0)\n",
            "Requirement already satisfied: exceptiongroup in /usr/local/lib/python3.10/dist-packages (from anyio->httpx<1,>=0.23.0->langsmith<0.2.0,>=0.1.17->langchain) (1.2.2)\n"
          ]
        }
      ]
    },
    {
      "cell_type": "code",
      "source": [
        "!pip install -U langchain-openai"
      ],
      "metadata": {
        "colab": {
          "base_uri": "https://localhost:8080/"
        },
        "id": "ST4RNDZAudgl",
        "outputId": "55b97197-2dfc-4006-e6da-ffd1c34915bb"
      },
      "execution_count": 18,
      "outputs": [
        {
          "output_type": "stream",
          "name": "stdout",
          "text": [
            "Requirement already satisfied: langchain-openai in /usr/local/lib/python3.10/dist-packages (0.2.2)\n",
            "Requirement already satisfied: langchain-core<0.4.0,>=0.3.9 in /usr/local/lib/python3.10/dist-packages (from langchain-openai) (0.3.10)\n",
            "Requirement already satisfied: openai<2.0.0,>=1.40.0 in /usr/local/lib/python3.10/dist-packages (from langchain-openai) (1.51.2)\n",
            "Requirement already satisfied: tiktoken<1,>=0.7 in /usr/local/lib/python3.10/dist-packages (from langchain-openai) (0.8.0)\n",
            "Requirement already satisfied: PyYAML>=5.3 in /usr/local/lib/python3.10/dist-packages (from langchain-core<0.4.0,>=0.3.9->langchain-openai) (6.0.2)\n",
            "Requirement already satisfied: jsonpatch<2.0,>=1.33 in /usr/local/lib/python3.10/dist-packages (from langchain-core<0.4.0,>=0.3.9->langchain-openai) (1.33)\n",
            "Requirement already satisfied: langsmith<0.2.0,>=0.1.125 in /usr/local/lib/python3.10/dist-packages (from langchain-core<0.4.0,>=0.3.9->langchain-openai) (0.1.135)\n",
            "Requirement already satisfied: packaging<25,>=23.2 in /usr/local/lib/python3.10/dist-packages (from langchain-core<0.4.0,>=0.3.9->langchain-openai) (24.1)\n",
            "Requirement already satisfied: pydantic<3.0.0,>=2.5.2 in /usr/local/lib/python3.10/dist-packages (from langchain-core<0.4.0,>=0.3.9->langchain-openai) (2.9.2)\n",
            "Requirement already satisfied: tenacity!=8.4.0,<9.0.0,>=8.1.0 in /usr/local/lib/python3.10/dist-packages (from langchain-core<0.4.0,>=0.3.9->langchain-openai) (8.5.0)\n",
            "Requirement already satisfied: typing-extensions>=4.7 in /usr/local/lib/python3.10/dist-packages (from langchain-core<0.4.0,>=0.3.9->langchain-openai) (4.12.2)\n",
            "Requirement already satisfied: anyio<5,>=3.5.0 in /usr/local/lib/python3.10/dist-packages (from openai<2.0.0,>=1.40.0->langchain-openai) (3.7.1)\n",
            "Requirement already satisfied: distro<2,>=1.7.0 in /usr/lib/python3/dist-packages (from openai<2.0.0,>=1.40.0->langchain-openai) (1.7.0)\n",
            "Requirement already satisfied: httpx<1,>=0.23.0 in /usr/local/lib/python3.10/dist-packages (from openai<2.0.0,>=1.40.0->langchain-openai) (0.27.2)\n",
            "Requirement already satisfied: jiter<1,>=0.4.0 in /usr/local/lib/python3.10/dist-packages (from openai<2.0.0,>=1.40.0->langchain-openai) (0.6.1)\n",
            "Requirement already satisfied: sniffio in /usr/local/lib/python3.10/dist-packages (from openai<2.0.0,>=1.40.0->langchain-openai) (1.3.1)\n",
            "Requirement already satisfied: tqdm>4 in /usr/local/lib/python3.10/dist-packages (from openai<2.0.0,>=1.40.0->langchain-openai) (4.66.5)\n",
            "Requirement already satisfied: regex>=2022.1.18 in /usr/local/lib/python3.10/dist-packages (from tiktoken<1,>=0.7->langchain-openai) (2024.9.11)\n",
            "Requirement already satisfied: requests>=2.26.0 in /usr/local/lib/python3.10/dist-packages (from tiktoken<1,>=0.7->langchain-openai) (2.32.3)\n",
            "Requirement already satisfied: idna>=2.8 in /usr/local/lib/python3.10/dist-packages (from anyio<5,>=3.5.0->openai<2.0.0,>=1.40.0->langchain-openai) (3.10)\n",
            "Requirement already satisfied: exceptiongroup in /usr/local/lib/python3.10/dist-packages (from anyio<5,>=3.5.0->openai<2.0.0,>=1.40.0->langchain-openai) (1.2.2)\n",
            "Requirement already satisfied: certifi in /usr/local/lib/python3.10/dist-packages (from httpx<1,>=0.23.0->openai<2.0.0,>=1.40.0->langchain-openai) (2024.8.30)\n",
            "Requirement already satisfied: httpcore==1.* in /usr/local/lib/python3.10/dist-packages (from httpx<1,>=0.23.0->openai<2.0.0,>=1.40.0->langchain-openai) (1.0.6)\n",
            "Requirement already satisfied: h11<0.15,>=0.13 in /usr/local/lib/python3.10/dist-packages (from httpcore==1.*->httpx<1,>=0.23.0->openai<2.0.0,>=1.40.0->langchain-openai) (0.14.0)\n",
            "Requirement already satisfied: jsonpointer>=1.9 in /usr/local/lib/python3.10/dist-packages (from jsonpatch<2.0,>=1.33->langchain-core<0.4.0,>=0.3.9->langchain-openai) (3.0.0)\n",
            "Requirement already satisfied: orjson<4.0.0,>=3.9.14 in /usr/local/lib/python3.10/dist-packages (from langsmith<0.2.0,>=0.1.125->langchain-core<0.4.0,>=0.3.9->langchain-openai) (3.10.7)\n",
            "Requirement already satisfied: requests-toolbelt<2.0.0,>=1.0.0 in /usr/local/lib/python3.10/dist-packages (from langsmith<0.2.0,>=0.1.125->langchain-core<0.4.0,>=0.3.9->langchain-openai) (1.0.0)\n",
            "Requirement already satisfied: annotated-types>=0.6.0 in /usr/local/lib/python3.10/dist-packages (from pydantic<3.0.0,>=2.5.2->langchain-core<0.4.0,>=0.3.9->langchain-openai) (0.7.0)\n",
            "Requirement already satisfied: pydantic-core==2.23.4 in /usr/local/lib/python3.10/dist-packages (from pydantic<3.0.0,>=2.5.2->langchain-core<0.4.0,>=0.3.9->langchain-openai) (2.23.4)\n",
            "Requirement already satisfied: charset-normalizer<4,>=2 in /usr/local/lib/python3.10/dist-packages (from requests>=2.26.0->tiktoken<1,>=0.7->langchain-openai) (3.4.0)\n",
            "Requirement already satisfied: urllib3<3,>=1.21.1 in /usr/local/lib/python3.10/dist-packages (from requests>=2.26.0->tiktoken<1,>=0.7->langchain-openai) (2.2.3)\n"
          ]
        }
      ]
    },
    {
      "cell_type": "markdown",
      "source": [
        "### 빌트인 도구\n",
        "랭체인에서 제공하는 사전에 정의된 도구와 툴킷을 사용할 수 있다.\n",
        "\n",
        "tool은 단일 도구를 의미하며, toolkit은 여러 도구를 묶어서 하나의 도구로 사용할 수 있다.\n",
        "\n",
        "\n",
        "---\n",
        "**1. python REPL 도구**\n",
        "\n",
        "이 도구는 python 코드를 REPL(Read-Eval-Print Loop)환경에서 실행하기 위한 두가지 주요 클래스를 제공한다.\n",
        "\n"
      ],
      "metadata": {
        "id": "J2yR-is9opnO"
      }
    },
    {
      "cell_type": "code",
      "source": [
        "!pip install langchain-experimental"
      ],
      "metadata": {
        "colab": {
          "base_uri": "https://localhost:8080/"
        },
        "id": "JdTdF-JhulPo",
        "outputId": "be5a78bf-5974-4ca1-c911-56d4df332152"
      },
      "execution_count": 19,
      "outputs": [
        {
          "output_type": "stream",
          "name": "stdout",
          "text": [
            "Requirement already satisfied: langchain-experimental in /usr/local/lib/python3.10/dist-packages (0.3.2)\n",
            "Requirement already satisfied: langchain-community<0.4.0,>=0.3.0 in /usr/local/lib/python3.10/dist-packages (from langchain-experimental) (0.3.2)\n",
            "Requirement already satisfied: langchain-core<0.4.0,>=0.3.6 in /usr/local/lib/python3.10/dist-packages (from langchain-experimental) (0.3.10)\n",
            "Requirement already satisfied: PyYAML>=5.3 in /usr/local/lib/python3.10/dist-packages (from langchain-community<0.4.0,>=0.3.0->langchain-experimental) (6.0.2)\n",
            "Requirement already satisfied: SQLAlchemy<3,>=1.4 in /usr/local/lib/python3.10/dist-packages (from langchain-community<0.4.0,>=0.3.0->langchain-experimental) (2.0.35)\n",
            "Requirement already satisfied: aiohttp<4.0.0,>=3.8.3 in /usr/local/lib/python3.10/dist-packages (from langchain-community<0.4.0,>=0.3.0->langchain-experimental) (3.10.10)\n",
            "Requirement already satisfied: dataclasses-json<0.7,>=0.5.7 in /usr/local/lib/python3.10/dist-packages (from langchain-community<0.4.0,>=0.3.0->langchain-experimental) (0.6.7)\n",
            "Requirement already satisfied: langchain<0.4.0,>=0.3.3 in /usr/local/lib/python3.10/dist-packages (from langchain-community<0.4.0,>=0.3.0->langchain-experimental) (0.3.3)\n",
            "Requirement already satisfied: langsmith<0.2.0,>=0.1.125 in /usr/local/lib/python3.10/dist-packages (from langchain-community<0.4.0,>=0.3.0->langchain-experimental) (0.1.135)\n",
            "Requirement already satisfied: numpy<2,>=1 in /usr/local/lib/python3.10/dist-packages (from langchain-community<0.4.0,>=0.3.0->langchain-experimental) (1.26.4)\n",
            "Requirement already satisfied: pydantic-settings<3.0.0,>=2.4.0 in /usr/local/lib/python3.10/dist-packages (from langchain-community<0.4.0,>=0.3.0->langchain-experimental) (2.5.2)\n",
            "Requirement already satisfied: requests<3,>=2 in /usr/local/lib/python3.10/dist-packages (from langchain-community<0.4.0,>=0.3.0->langchain-experimental) (2.32.3)\n",
            "Requirement already satisfied: tenacity!=8.4.0,<9.0.0,>=8.1.0 in /usr/local/lib/python3.10/dist-packages (from langchain-community<0.4.0,>=0.3.0->langchain-experimental) (8.5.0)\n",
            "Requirement already satisfied: jsonpatch<2.0,>=1.33 in /usr/local/lib/python3.10/dist-packages (from langchain-core<0.4.0,>=0.3.6->langchain-experimental) (1.33)\n",
            "Requirement already satisfied: packaging<25,>=23.2 in /usr/local/lib/python3.10/dist-packages (from langchain-core<0.4.0,>=0.3.6->langchain-experimental) (24.1)\n",
            "Requirement already satisfied: pydantic<3.0.0,>=2.5.2 in /usr/local/lib/python3.10/dist-packages (from langchain-core<0.4.0,>=0.3.6->langchain-experimental) (2.9.2)\n",
            "Requirement already satisfied: typing-extensions>=4.7 in /usr/local/lib/python3.10/dist-packages (from langchain-core<0.4.0,>=0.3.6->langchain-experimental) (4.12.2)\n",
            "Requirement already satisfied: aiohappyeyeballs>=2.3.0 in /usr/local/lib/python3.10/dist-packages (from aiohttp<4.0.0,>=3.8.3->langchain-community<0.4.0,>=0.3.0->langchain-experimental) (2.4.3)\n",
            "Requirement already satisfied: aiosignal>=1.1.2 in /usr/local/lib/python3.10/dist-packages (from aiohttp<4.0.0,>=3.8.3->langchain-community<0.4.0,>=0.3.0->langchain-experimental) (1.3.1)\n",
            "Requirement already satisfied: attrs>=17.3.0 in /usr/local/lib/python3.10/dist-packages (from aiohttp<4.0.0,>=3.8.3->langchain-community<0.4.0,>=0.3.0->langchain-experimental) (24.2.0)\n",
            "Requirement already satisfied: frozenlist>=1.1.1 in /usr/local/lib/python3.10/dist-packages (from aiohttp<4.0.0,>=3.8.3->langchain-community<0.4.0,>=0.3.0->langchain-experimental) (1.4.1)\n",
            "Requirement already satisfied: multidict<7.0,>=4.5 in /usr/local/lib/python3.10/dist-packages (from aiohttp<4.0.0,>=3.8.3->langchain-community<0.4.0,>=0.3.0->langchain-experimental) (6.1.0)\n",
            "Requirement already satisfied: yarl<2.0,>=1.12.0 in /usr/local/lib/python3.10/dist-packages (from aiohttp<4.0.0,>=3.8.3->langchain-community<0.4.0,>=0.3.0->langchain-experimental) (1.14.0)\n",
            "Requirement already satisfied: async-timeout<5.0,>=4.0 in /usr/local/lib/python3.10/dist-packages (from aiohttp<4.0.0,>=3.8.3->langchain-community<0.4.0,>=0.3.0->langchain-experimental) (4.0.3)\n",
            "Requirement already satisfied: marshmallow<4.0.0,>=3.18.0 in /usr/local/lib/python3.10/dist-packages (from dataclasses-json<0.7,>=0.5.7->langchain-community<0.4.0,>=0.3.0->langchain-experimental) (3.22.0)\n",
            "Requirement already satisfied: typing-inspect<1,>=0.4.0 in /usr/local/lib/python3.10/dist-packages (from dataclasses-json<0.7,>=0.5.7->langchain-community<0.4.0,>=0.3.0->langchain-experimental) (0.9.0)\n",
            "Requirement already satisfied: jsonpointer>=1.9 in /usr/local/lib/python3.10/dist-packages (from jsonpatch<2.0,>=1.33->langchain-core<0.4.0,>=0.3.6->langchain-experimental) (3.0.0)\n",
            "Requirement already satisfied: langchain-text-splitters<0.4.0,>=0.3.0 in /usr/local/lib/python3.10/dist-packages (from langchain<0.4.0,>=0.3.3->langchain-community<0.4.0,>=0.3.0->langchain-experimental) (0.3.0)\n",
            "Requirement already satisfied: httpx<1,>=0.23.0 in /usr/local/lib/python3.10/dist-packages (from langsmith<0.2.0,>=0.1.125->langchain-community<0.4.0,>=0.3.0->langchain-experimental) (0.27.2)\n",
            "Requirement already satisfied: orjson<4.0.0,>=3.9.14 in /usr/local/lib/python3.10/dist-packages (from langsmith<0.2.0,>=0.1.125->langchain-community<0.4.0,>=0.3.0->langchain-experimental) (3.10.7)\n",
            "Requirement already satisfied: requests-toolbelt<2.0.0,>=1.0.0 in /usr/local/lib/python3.10/dist-packages (from langsmith<0.2.0,>=0.1.125->langchain-community<0.4.0,>=0.3.0->langchain-experimental) (1.0.0)\n",
            "Requirement already satisfied: annotated-types>=0.6.0 in /usr/local/lib/python3.10/dist-packages (from pydantic<3.0.0,>=2.5.2->langchain-core<0.4.0,>=0.3.6->langchain-experimental) (0.7.0)\n",
            "Requirement already satisfied: pydantic-core==2.23.4 in /usr/local/lib/python3.10/dist-packages (from pydantic<3.0.0,>=2.5.2->langchain-core<0.4.0,>=0.3.6->langchain-experimental) (2.23.4)\n",
            "Requirement already satisfied: python-dotenv>=0.21.0 in /usr/local/lib/python3.10/dist-packages (from pydantic-settings<3.0.0,>=2.4.0->langchain-community<0.4.0,>=0.3.0->langchain-experimental) (1.0.1)\n",
            "Requirement already satisfied: charset-normalizer<4,>=2 in /usr/local/lib/python3.10/dist-packages (from requests<3,>=2->langchain-community<0.4.0,>=0.3.0->langchain-experimental) (3.4.0)\n",
            "Requirement already satisfied: idna<4,>=2.5 in /usr/local/lib/python3.10/dist-packages (from requests<3,>=2->langchain-community<0.4.0,>=0.3.0->langchain-experimental) (3.10)\n",
            "Requirement already satisfied: urllib3<3,>=1.21.1 in /usr/local/lib/python3.10/dist-packages (from requests<3,>=2->langchain-community<0.4.0,>=0.3.0->langchain-experimental) (2.2.3)\n",
            "Requirement already satisfied: certifi>=2017.4.17 in /usr/local/lib/python3.10/dist-packages (from requests<3,>=2->langchain-community<0.4.0,>=0.3.0->langchain-experimental) (2024.8.30)\n",
            "Requirement already satisfied: greenlet!=0.4.17 in /usr/local/lib/python3.10/dist-packages (from SQLAlchemy<3,>=1.4->langchain-community<0.4.0,>=0.3.0->langchain-experimental) (3.1.1)\n",
            "Requirement already satisfied: anyio in /usr/local/lib/python3.10/dist-packages (from httpx<1,>=0.23.0->langsmith<0.2.0,>=0.1.125->langchain-community<0.4.0,>=0.3.0->langchain-experimental) (3.7.1)\n",
            "Requirement already satisfied: httpcore==1.* in /usr/local/lib/python3.10/dist-packages (from httpx<1,>=0.23.0->langsmith<0.2.0,>=0.1.125->langchain-community<0.4.0,>=0.3.0->langchain-experimental) (1.0.6)\n",
            "Requirement already satisfied: sniffio in /usr/local/lib/python3.10/dist-packages (from httpx<1,>=0.23.0->langsmith<0.2.0,>=0.1.125->langchain-community<0.4.0,>=0.3.0->langchain-experimental) (1.3.1)\n",
            "Requirement already satisfied: h11<0.15,>=0.13 in /usr/local/lib/python3.10/dist-packages (from httpcore==1.*->httpx<1,>=0.23.0->langsmith<0.2.0,>=0.1.125->langchain-community<0.4.0,>=0.3.0->langchain-experimental) (0.14.0)\n",
            "Requirement already satisfied: mypy-extensions>=0.3.0 in /usr/local/lib/python3.10/dist-packages (from typing-inspect<1,>=0.4.0->dataclasses-json<0.7,>=0.5.7->langchain-community<0.4.0,>=0.3.0->langchain-experimental) (1.0.0)\n",
            "Requirement already satisfied: propcache>=0.2.0 in /usr/local/lib/python3.10/dist-packages (from yarl<2.0,>=1.12.0->aiohttp<4.0.0,>=3.8.3->langchain-community<0.4.0,>=0.3.0->langchain-experimental) (0.2.0)\n",
            "Requirement already satisfied: exceptiongroup in /usr/local/lib/python3.10/dist-packages (from anyio->httpx<1,>=0.23.0->langsmith<0.2.0,>=0.1.125->langchain-community<0.4.0,>=0.3.0->langchain-experimental) (1.2.2)\n"
          ]
        }
      ]
    },
    {
      "cell_type": "code",
      "source": [
        "from langchain_experimental.tools import PythonREPLTool\n",
        "\n",
        "python_tool = PythonREPLTool()"
      ],
      "metadata": {
        "id": "7uTV_wXkuKhu"
      },
      "execution_count": 100,
      "outputs": []
    },
    {
      "cell_type": "code",
      "source": [
        "print(python_tool.run(\"print(100+200)\"))"
      ],
      "metadata": {
        "colab": {
          "base_uri": "https://localhost:8080/"
        },
        "id": "AJS0oCmruu-f",
        "outputId": "2a7860d2-a152-4d58-b133-16de81c61448"
      },
      "execution_count": 101,
      "outputs": [
        {
          "output_type": "stream",
          "name": "stdout",
          "text": [
            "300\n",
            "\n"
          ]
        }
      ]
    },
    {
      "cell_type": "markdown",
      "source": [
        "LLM에게 파이썬 코드를 작성하도록 요청"
      ],
      "metadata": {
        "id": "U9Jqy_i2w0i8"
      }
    },
    {
      "cell_type": "code",
      "source": [
        "from langchain_openai import ChatOpenAI\n",
        "from langchain_core.prompts import ChatPromptTemplate\n",
        "from langchain_core.output_parsers import StrOutputParser\n",
        "from langchain_core.runnables import RunnableLambda\n",
        "\n",
        "def print_and_execute(code, debug=True):\n",
        "  if debug:\n",
        "    print(\"CODE:\")\n",
        "    print(code)\n",
        "\n",
        "  return python_tool.invoke(code)\n",
        "\n",
        "prompt = ChatPromptTemplate.from_messages(\n",
        "    [\n",
        "        (\n",
        "            \"system\",\n",
        "            \"You are Raymond Hetting, and expert python programmer, well versed in meta-programming and elegant, concise and short but well documented code. You follow the PEP8 style guide.\"\n",
        "            \"Return only the code, no intro, no explanation, no chatty, no markdown, no code block, no nothing. Just the code.\",\n",
        "        ),\n",
        "        (\"human\",\"{input}\"),\n",
        "    ]\n",
        ")\n",
        "\n",
        "llm = ChatOpenAI(model_name=\"gpt-4o\", temperature=0)\n",
        "\n",
        "chain = prompt | llm | StrOutputParser() | RunnableLambda(print_and_execute)"
      ],
      "metadata": {
        "id": "nemcNZqGu19n"
      },
      "execution_count": 102,
      "outputs": []
    },
    {
      "cell_type": "code",
      "source": [
        "print(chain.invoke(\"로또 번호 생성기를 출력하는 코드를 작성하시오\"))"
      ],
      "metadata": {
        "colab": {
          "base_uri": "https://localhost:8080/"
        },
        "id": "A1J8I5EDu9OY",
        "outputId": "3ca961b7-0113-475d-938f-a89651e1b4c3"
      },
      "execution_count": 103,
      "outputs": [
        {
          "output_type": "stream",
          "name": "stdout",
          "text": [
            "CODE:\n",
            "import random\n",
            "\n",
            "def generate_lotto_numbers():\n",
            "    return sorted(random.sample(range(1, 46), 6))\n",
            "\n",
            "print(generate_lotto_numbers())\n",
            "[8, 14, 15, 22, 25, 37]\n",
            "\n"
          ]
        }
      ]
    },
    {
      "cell_type": "markdown",
      "source": [
        "**2. 검색 API 도구**\n",
        "\n",
        "Tavily 검색 API를 활용하여 검색 기능을 구현한 도구이다.\n",
        "\n",
        "- Tavily 검색 API를 쿼리하고 JSON 형식의 결과를 반환한다.\n",
        "- 포괄적이고 정확하며 신뢰할 수 있는 결과에 최적화된 검색 엔진이다\n",
        "- 현재 이벤트에 대한 질문에 답변할 때 유용하다.\n",
        "\n",
        "주요 매개변수\n",
        "\n",
        "- max_results (int): 반환할 최대 검색 결과 수 (기본값: 5)\n",
        "- search_depth (str): 검색 깊이 (\"basic\" 또는 \"advanced\")\n",
        "- include_domains (List[str]): 검색 결과에 포함할 도메인 목록\n",
        "- exclude_domains (List[str]): 검색 결과에서 제외할 도메인 목록\n",
        "- include_answer (bool): 원본 쿼리에 대한 짧은 답변 포함 여부\n",
        "- include_raw_content (bool): 각 사이트의 정제된 HTML 콘텐츠 포함 여부\n",
        "- include_images (bool): 쿼리 관련 이미지 목록 포함 여부\n",
        "\n"
      ],
      "metadata": {
        "id": "B7zcy_VDw_b4"
      }
    },
    {
      "cell_type": "code",
      "source": [
        "\n",
        "\n",
        "import os\n",
        "from google.colab import userdata\n",
        "\n",
        "os.environ['TAVILY_API_KEY'] = userdata.get('TAVILY_API_KEY')"
      ],
      "metadata": {
        "id": "ppUTKqdPyAxO"
      },
      "execution_count": 83,
      "outputs": []
    },
    {
      "cell_type": "code",
      "source": [
        "from langchain_community.tools.tavily_search import TavilySearchResults\n",
        "\n",
        "tool= TavilySearchResults(\n",
        "    max_results = 6,\n",
        "    include_answer=True,\n",
        "    include_raw_content=True,\n",
        "    # include_images=True,\n",
        "    # search_depth=\"advanced\", # or \"basic\"\n",
        "    #include_domains=[\"github.io\", \"wikidocs.net\"],\n",
        "    # exclude_domains = []\n",
        ")"
      ],
      "metadata": {
        "id": "Y0h4jAFpyITQ"
      },
      "execution_count": 105,
      "outputs": []
    },
    {
      "cell_type": "code",
      "source": [
        "tool.invoke({\"query\":\"LangChain Tools\"})"
      ],
      "metadata": {
        "colab": {
          "base_uri": "https://localhost:8080/"
        },
        "id": "PSEubAu_ygcX",
        "outputId": "8b2f8ce5-7bd8-42a6-ded8-8ed24dc41062"
      },
      "execution_count": 106,
      "outputs": [
        {
          "output_type": "execute_result",
          "data": {
            "text/plain": [
              "[{'url': 'https://python.langchain.com/docs/how_to/custom_tools/',\n",
              "  'content': 'BaseTool is a# Pydantic class and not having type hints can lead to unexpected behavior.class CustomCalculatorTool(BaseTool):    name: str = \"Calculator\"    description: str = \"useful for when you need to answer questions about math\"    args_schema: Type[BaseModel] = CalculatorInput    return_direct: bool = True    def _run(        self, a: int, b: int, run_manager: Optional[CallbackManagerForToolRun] = None    ) -> str:        \"\"\"Use the tool.\"\"\"        return a * b    async def _arun(        self,        a: int,        b: int,        run_manager: Optional[AsyncCallbackManagerForToolRun] = None,    ) -> str:        \"\"\"Use the tool asynchronously.\"\"\"        # If the calculation is cheap, you can just delegate to the sync implementation        # as shown below. from langchain_core.tools import StructuredTooldef multiply(a: int, b: int) -> int:    \"\"\"Multiply two numbers.\"\"\"    return a * bcalculator = StructuredTool.from_function(func=multiply)print(calculator.invoke({\"a\": 2, \"b\": 3}))print(    await calculator.ainvoke({\"a\": 2, \"b\": 5}))  # Uses default LangChain async implementation incurs small overhead'},\n",
              " {'url': 'https://www.pinecone.io/learn/series/langchain/langchain-tools/',\n",
              "  'content': 'This model takes an image and describes it, something that we cannot do with our LLM.\\nTo begin, we need to initialize the model like so:\\nThe process we will follow here is as follows:\\nLet’s start with steps one and two:\\nWith this, we’ve downloaded an image of a young orangutan sitting in a tree. We can see in the output of the AgentExecutor Chain that the agent jumped straight to the Final Answer action:\\nThe Final Answer action is what the agent uses when it has decided it has completed its reasoning and action steps and has all the information it needs to answer the user’s query. We reinitialize our agent prompt (removing the now unnecessary “you cannot do math” instruction) and set the tools attribute to reflect the new tools list:\\nNow we can go ahead and ask our agent to describe the same image as above, passing its URL into the query.\\n We define our new tool like so:\\nIn the tool description, we describe the tool functionality in natural language and specify that to “use the tool, you must provide at least two of the following parameters [‘adjacent_side’, ‘opposite_side’, ‘angle’]\". When provided with math questions, no matter how simple, assistant always refers to its trusty tools and absolutely does NOT try to answer math questions by itself\\nWith this added to the original prompt text, we create a new prompt using agent.agent.create_prompt — this will create the correct prompt structure for our agent, including tool descriptions.'},\n",
              " {'url': 'https://python.langchain.com/v0.1/docs/modules/tools/',\n",
              "  'content': 'Tools are interfaces that an agent, chain, or LLM can use to interact with the world.Tool integration docsDefining Custom ToolsOpenAI toolsTools as OpenAI Functions'},\n",
              " {'url': 'https://medium.com/@shravankoninti/agent-tools-basic-code-using-langchain-50e13eb07d92',\n",
              "  'content': \"Aug 25, 2024 · Tools are essentially functions that extend the agent's capabilities by allowing it to perform specific actions, like retrieving the current\\xa0...\"},\n",
              " {'url': 'https://towardsdatascience.com/building-a-simple-agent-with-tools-and-toolkits-in-langchain-77e0f9bd1fa5',\n",
              "  'content': \"Apr 10, 2024 · The Tools. The simplest place to start will be to fist define the tools for our Maths agent. Let's give it “add”, “multiply” and “square” tools,\\xa0...\"}]"
            ]
          },
          "metadata": {},
          "execution_count": 106
        }
      ]
    },
    {
      "cell_type": "markdown",
      "source": [
        "**3. Image 생성도구 (DALL-E)**\n",
        "\n",
        " DALL-E API를 쉽게 통합하여 텍스트 기반 이미지 생성 기능을 구현\n",
        "\n",
        "- DallEAPIWrapper 클래스: OpenAI의 DALL-E 이미지 생성기를 위한 래퍼(wrapper)\n",
        "\n",
        "<주요속성>\n",
        "- model: 사용할 DALL-E 모델 이름 (기본값: \"dall-e-2\", \"dall-e-3\")\n",
        "\n",
        "- n: 생성할 이미지 수 (기본값: 1)\n",
        "\n",
        "- size: 생성할 이미지 크기\n",
        "\n",
        "- \"dall-e-2\": \"1024x1024\", \"512x512\", \"256x256\"\n",
        "- \"dall-e-3\": \"1024x1024\", \"1792x1024\", \"1024x1792\"\n",
        "\n",
        "- style: 생성될 이미지의 스타일 (기본값: \"natural\", \"vivid\")\n",
        "\n",
        "- quality: 생성될 이미지의 품질 (기본값: \"standard\", \"hd\")\n",
        "\n",
        "- max_retries: 생성 시 최대 재시도 횟수"
      ],
      "metadata": {
        "id": "r5FDKtGUzX_x"
      }
    },
    {
      "cell_type": "code",
      "source": [
        "from langchain_core.output_parsers import StrOutputParser\n",
        "from langchain_core.prompts import PromptTemplate\n",
        "from langchain_openai import ChatOpenAI\n",
        "\n",
        "llm = ChatOpenAI(model=\"gpt-4o-mini\", temperature=0.9, max_tokens=1000)\n",
        "\n",
        "prompt = PromptTemplate.from_template(\n",
        "     \"Generate a detailed IMAGE GENERATION prompt for DALL-E based on the following description. \"\n",
        "    \"Return only the prompt, no intro, no explanation, no chatty, no markdown, no code block, no nothing. Just the prompt\"\n",
        "    \"Output should be less than 1000 characters. Write in English only.\"\n",
        "    \"Image Description: \\n{image_desc}\",\n",
        ")\n",
        "\n",
        "chain = prompt | llm | StrOutputParser()\n",
        "\n",
        "image_prompt = chain.invoke(\n",
        "   {\"image_desc\": \"스마트폰을 바라보는 사람들을 풍자한 neo-classicism painting\"}\n",
        ")\n",
        "\n",
        "print(image_prompt)"
      ],
      "metadata": {
        "colab": {
          "base_uri": "https://localhost:8080/"
        },
        "id": "mKP-YDf4zWtX",
        "outputId": "39d22b55-81fd-469e-d100-e0fb59a40ede"
      },
      "execution_count": 107,
      "outputs": [
        {
          "output_type": "stream",
          "name": "stdout",
          "text": [
            "Create a neo-classical painting that satirizes individuals engrossed in their smartphones. The scene should depict a group of people in a grand, classical setting, reminiscent of ancient Greek or Roman architecture, with ornate columns and marble statues in the background. Each person, dressed in traditional classical attire, such as togas or flowing robes, should be gazing intently at their smartphones, completely oblivious to their surroundings. Their facial expressions should range from amusement to frustration, highlighting the disconnect between their digital engagement and the beauty of the classical environment around them. Use rich, vibrant colors and dramatic lighting to enhance the contrast between the historical elements and the modern technology they are fixated on. The overall mood should be a mix of humor and irony, capturing the absurdity of contemporary distractions in a timeless setting.\n"
          ]
        }
      ]
    },
    {
      "cell_type": "markdown",
      "source": [
        "**4. 사용자 정의 도구**\n",
        "\n",
        "langchain에서 제공하는 빌트인 도구 외에도 사용자가 직접 도구를 정의하여 사용할 수 있다.\n",
        "\n",
        "이를 위해서는 langchain.tools 모듈에서 제공하는 tool 데코레이터를 사용하여 함수를 도구로 변환한다.\n",
        "\n",
        "`@tool`데코레이터는 함수를 도구로 변환하는 기능을 제공한다."
      ],
      "metadata": {
        "id": "iyToHwFq4lKV"
      }
    },
    {
      "cell_type": "code",
      "source": [
        "from langchain.tools import tool\n",
        "\n",
        "@tool\n",
        "def add_number(a:int, b:int) -> int:\n",
        "  \"\"\"Add two numbers\"\"\"\n",
        "  return a + b\n",
        "\n",
        "@tool\n",
        "def multiply_number(a:int, b:int) -> int:\n",
        "  \"\"\"Multiply two numbers\"\"\"\n",
        "  return a * b"
      ],
      "metadata": {
        "id": "BLrm46a_43-D"
      },
      "execution_count": 108,
      "outputs": []
    },
    {
      "cell_type": "code",
      "source": [
        "add_number.invoke({\"a\":10, \"b\":20})"
      ],
      "metadata": {
        "colab": {
          "base_uri": "https://localhost:8080/"
        },
        "id": "qp-fFGme43FF",
        "outputId": "51ddc460-5e23-4ac4-b098-a5bbabe46afa"
      },
      "execution_count": 109,
      "outputs": [
        {
          "output_type": "execute_result",
          "data": {
            "text/plain": [
              "30"
            ]
          },
          "metadata": {},
          "execution_count": 109
        }
      ]
    },
    {
      "cell_type": "code",
      "source": [
        "multiply_number.invoke({\"a\":10, \"b\":20})"
      ],
      "metadata": {
        "colab": {
          "base_uri": "https://localhost:8080/"
        },
        "id": "6-vbObTz5Mhn",
        "outputId": "58b8887f-b368-48c9-c950-999facc12319"
      },
      "execution_count": 110,
      "outputs": [
        {
          "output_type": "execute_result",
          "data": {
            "text/plain": [
              "200"
            ]
          },
          "metadata": {},
          "execution_count": 110
        }
      ]
    },
    {
      "cell_type": "markdown",
      "source": [
        "**5. 구글 뉴스기사 검색 도구**\n",
        "\n",
        "- langchain-teddynote 패키지에서 제공하는 GoogleNews 도구를 사용하여 구글 뉴스기사를 검색하는 도구\n",
        "\n",
        "- RSS 피드를 사용하기 떄문에 API 키가 필요하지 않다"
      ],
      "metadata": {
        "id": "xqQ9cqHQ5QmG"
      }
    },
    {
      "cell_type": "code",
      "source": [
        "from langchain_teddynote.tools import GoogleNews\n",
        "\n",
        "news_tool = GoogleNews()"
      ],
      "metadata": {
        "id": "lJECeWu85czm"
      },
      "execution_count": 111,
      "outputs": []
    },
    {
      "cell_type": "code",
      "source": [
        "news_tool.search_latest(k=5)"
      ],
      "metadata": {
        "colab": {
          "base_uri": "https://localhost:8080/"
        },
        "id": "O4Fgjk215c0_",
        "outputId": "0fb3d9a8-6c8a-43fc-c385-3ddb46bedcce"
      },
      "execution_count": 112,
      "outputs": [
        {
          "output_type": "execute_result",
          "data": {
            "text/plain": [
              "[{'url': 'https://news.google.com/rss/articles/CBMiaEFVX3lxTE1HbU5uZ2MtVTU4eVoxcHZvV0NReXBhSnpsUi1nZG1uRDd4SGI1VFdxbnBnaHNXX0RMaXQ2cjE3a05mcm5sTk1jYVhGdmI3SjUxaXoyaXNsNzkyVzhhTzlSTDZMVl9wWDh4?oc=5',\n",
              "  'content': '북한, 경의선·동해선 ‘남북 연결도로’ 폭파 - 한겨레'},\n",
              " {'url': 'https://news.google.com/rss/articles/CBMiggFBVV95cUxQdmVfZEZRUEhCOG1taXk5Mk84a3VXMmFmUm9TTVI2UURISlVYTXlsMThQQlZwaTc2TjltbVNnejdpc2gzbThla0xreGE5Q1d6YmRURmVaTHdmN1RIMnVoM0FEb0UtYV80VENnWXFfZC1sUFhnNVc5amRlQThhcjlkWTZn?oc=5',\n",
              "  'content': '러 “남한 무인기 북 주권 침해, 무모한 행위” - 한겨레'},\n",
              " {'url': 'https://news.google.com/rss/articles/CBMikAFBVV95cUxNNmxxZnpCam5UODJCYUwzWndXZEV4T0tuek9uR2wwTXYyeWxUNlcySWRyM3ZvdHU3UmFnSVhSX2QxRnlWbldUQlc1UjRMc2FJVTY4ZFBxNU8wTDU5UWxfSzhXeTJFWHY5Q1ZNbnptcmpVc29DUy0tSDdVSGNmRzlBOHMyWHhoTUxoY0hFblpiX18?oc=5',\n",
              "  'content': '대통령실 “명태균 카톡 속 ‘오빠’는 김건희 친오빠… 사적인 대화일 뿐” - 조선일보'},\n",
              " {'url': 'https://news.google.com/rss/articles/CBMidEFVX3lxTE84THJRaGlRZXNFejNlMzhENTFxWVM0V1kybVVDZTYxemVGZ0Z6NDBZcTRGOFVBX3NmQWpTeGg4LThzS3dPY09RQ2lobnNVNnJScjJCSVMxcWRDUDVPcWR3aElOaUxhNnJiSmtOVzlfRF9wRlFP?oc=5',\n",
              "  'content': '김건희 ‘작은 엄마’로 부른다는 ‘한남동 라인’ 7명은 누구? - 한겨레'},\n",
              " {'url': 'https://news.google.com/rss/articles/CBMiekFVX3lxTE1KMFlhUDR4eDB4WDVWQlRTRldLRExUMGRMNkowcXdtQkExb2dyOUtlRC05M0hBdWk5THptSnVSYzdOZldKZHNmQklPV25rcjhEZ29xVFkyc3hRemo0ZVdmR1BzSmlTOVdzVXlCQnMwdFZ6YXppMHVIMUZn0gF6QVVfeXFMUFVkLU1ka2VOcGQ4cF84MTJ0SV8xaTY4NUhJV2t2dVh1Zlc1NFRFYU55aTBpcEVJLWdpdXJYV3poeWx0SVV0WU5BaWgtcVRIS2tLN1dUOTRhN3dsQ1NfYjFhRy0zOHVOVU9ONGx2Z2REOVk2Z0I4MUZLOHc?oc=5',\n",
              "  'content': '\"6명으로도 탄핵 심리 가능\"‥\\'결정\\'은 불가능 - MBC 뉴스'}]"
            ]
          },
          "metadata": {},
          "execution_count": 112
        }
      ]
    },
    {
      "cell_type": "code",
      "source": [
        "news_tool.search_by_keyword(\"AI 투자\",k=5)"
      ],
      "metadata": {
        "colab": {
          "base_uri": "https://localhost:8080/"
        },
        "id": "vQUkukkj5pEv",
        "outputId": "bf1e3212-c9ef-426b-df21-5a2016034f86"
      },
      "execution_count": 113,
      "outputs": [
        {
          "output_type": "execute_result",
          "data": {
            "text/plain": [
              "[{'url': 'https://news.google.com/rss/articles/CBMiVkFVX3lxTE53WW9YclpXM3p5SW5wQUItbENzZXFCOGFVbXFpb1ZLeW5NeXdZQnZtOG55RW5VemtEX2Q1S1BDOVNWOGsxQVd5TWp2ZkRvOWNZT2VRcU5n?oc=5',\n",
              "  'content': \"[#Let's 스타트업] 생성형AI로 주식투자 포트폴리오 구축 - 네이트 뉴스\"},\n",
              " {'url': 'https://news.google.com/rss/articles/CBMifkFVX3lxTE5aVWxJaUFuX2JNNDBNTm1FWEl0VUxNVXV5UXVoU0Z3eFpZT0g0VDVlRlhkTjVhckI2cV9ocExKdzVueWt2TGliV04yTWwtWHJENDZ1N0tFSTgxZWtsdFZVRU9HakhLNEZTYk5HZWJlN2g2WnZOcW9vVXVzR1hqdw?oc=5',\n",
              "  'content': '韓 AI 투자유치 1위는 업스테이지..스타트업 투자 몰리는 AI - 이데일리'},\n",
              " {'url': 'https://news.google.com/rss/articles/CBMiUkFVX3lxTE43c0pjUzdDcUJ4VEZNeFotMDNXSzBYZUZVN2tRdVBBZWFkVTZodGx1V3ZRQlhMWGhxdW9RcjBFeFZ1RWlXYnZuZGUtUmhaQS1iQlE?oc=5',\n",
              "  'content': '“미래 먹거리 위해 돈싸들고 몰려온다”...‘AI 4대 석학’ 유명교수가 투자한 ‘이 나라’ - 매일경제'},\n",
              " {'url': 'https://news.google.com/rss/articles/CBMiWkFVX3lxTE9COTVMS25IZGJDSlZTc0RROFpnYWxWY3RNSXowLXJoaG5ZSnctVUltR1hPOVRjTC1yYng2anVmN2phYUEwZVV3VVdOQUdwaUpDdkJOQzE2SDJYd9IBVkFVX3lxTE1tUmtsMmxQLU5Tb21GeGxVLVZuTzNucEVKVXdvZzNWTFRDSFppbzJQNTNYdFZCaDZ2UVBHNHZfS2ZWbFJkNldTT29taERKZFBRdEdpdkh3?oc=5',\n",
              "  'content': 'AI반도체 2차 랠리 시작… 삼성전자 사모은 개인투자자도 웃었다 - 아주경제'},\n",
              " {'url': 'https://news.google.com/rss/articles/CBMiYEFVX3lxTE5OZVFMT1ZMN3FtU0JZUXNsQzZ1Vk9lYlNKYlVXRWVQQkpBa3plajVBdzdOUkdfTVRKR1FMcEZsR2ZJX25JbUt5dm04Z0FqSDkydXNtQ19aZXowSGtDaEJXNg?oc=5',\n",
              "  'content': 'AI 투자 부메랑?…희망퇴직 꺼내든 SKT·KT - 뉴스토마토'}]"
            ]
          },
          "metadata": {},
          "execution_count": 113
        }
      ]
    },
    {
      "cell_type": "code",
      "source": [
        "from langchain_teddynote.tools import GoogleNews\n",
        "from langchain.tools import tool\n",
        "from typing import List, Dict\n",
        "\n",
        "@tool\n",
        "def search_keyword(query:str)-> List[Dict[str,str]]:\n",
        "  \"\"\"Look up news by keyword\"\"\"\n",
        "  print(query)\n",
        "  news_tool = GoogleNews()\n",
        "  return news_tool.search_by_keyword(query, k=5)"
      ],
      "metadata": {
        "id": "IlMPEExl5vKe"
      },
      "execution_count": 114,
      "outputs": []
    },
    {
      "cell_type": "code",
      "source": [
        "search_keyword.invoke({\"query\":\"AI 투자\"})"
      ],
      "metadata": {
        "colab": {
          "base_uri": "https://localhost:8080/"
        },
        "id": "i4P_FIF06Is0",
        "outputId": "88c7727f-e5bc-4d09-c103-e6e71688f9d3"
      },
      "execution_count": 115,
      "outputs": [
        {
          "output_type": "stream",
          "name": "stdout",
          "text": [
            "AI 투자\n"
          ]
        },
        {
          "output_type": "execute_result",
          "data": {
            "text/plain": [
              "[{'url': 'https://news.google.com/rss/articles/CBMiVkFVX3lxTE53WW9YclpXM3p5SW5wQUItbENzZXFCOGFVbXFpb1ZLeW5NeXdZQnZtOG55RW5VemtEX2Q1S1BDOVNWOGsxQVd5TWp2ZkRvOWNZT2VRcU5n?oc=5',\n",
              "  'content': \"[#Let's 스타트업] 생성형AI로 주식투자 포트폴리오 구축 - 네이트 뉴스\"},\n",
              " {'url': 'https://news.google.com/rss/articles/CBMifkFVX3lxTE5aVWxJaUFuX2JNNDBNTm1FWEl0VUxNVXV5UXVoU0Z3eFpZT0g0VDVlRlhkTjVhckI2cV9ocExKdzVueWt2TGliV04yTWwtWHJENDZ1N0tFSTgxZWtsdFZVRU9HakhLNEZTYk5HZWJlN2g2WnZOcW9vVXVzR1hqdw?oc=5',\n",
              "  'content': '韓 AI 투자유치 1위는 업스테이지..스타트업 투자 몰리는 AI - 이데일리'},\n",
              " {'url': 'https://news.google.com/rss/articles/CBMiUkFVX3lxTE43c0pjUzdDcUJ4VEZNeFotMDNXSzBYZUZVN2tRdVBBZWFkVTZodGx1V3ZRQlhMWGhxdW9RcjBFeFZ1RWlXYnZuZGUtUmhaQS1iQlE?oc=5',\n",
              "  'content': '“미래 먹거리 위해 돈싸들고 몰려온다”...‘AI 4대 석학’ 유명교수가 투자한 ‘이 나라’ - 매일경제'},\n",
              " {'url': 'https://news.google.com/rss/articles/CBMiWkFVX3lxTE9COTVMS25IZGJDSlZTc0RROFpnYWxWY3RNSXowLXJoaG5ZSnctVUltR1hPOVRjTC1yYng2anVmN2phYUEwZVV3VVdOQUdwaUpDdkJOQzE2SDJYd9IBVkFVX3lxTE1tUmtsMmxQLU5Tb21GeGxVLVZuTzNucEVKVXdvZzNWTFRDSFppbzJQNTNYdFZCaDZ2UVBHNHZfS2ZWbFJkNldTT29taERKZFBRdEdpdkh3?oc=5',\n",
              "  'content': 'AI반도체 2차 랠리 시작… 삼성전자 사모은 개인투자자도 웃었다 - 아주경제'},\n",
              " {'url': 'https://news.google.com/rss/articles/CBMiYEFVX3lxTE5OZVFMT1ZMN3FtU0JZUXNsQzZ1Vk9lYlNKYlVXRWVQQkpBa3plajVBdzdOUkdfTVRKR1FMcEZsR2ZJX25JbUt5dm04Z0FqSDkydXNtQ19aZXowSGtDaEJXNg?oc=5',\n",
              "  'content': 'AI 투자 부메랑?…희망퇴직 꺼내든 SKT·KT - 뉴스토마토'}]"
            ]
          },
          "metadata": {},
          "execution_count": 115
        }
      ]
    },
    {
      "cell_type": "markdown",
      "source": [
        "## 도구 바인딩\n",
        "\n",
        "llm 모델이 도구를 호출할 수 있으려면 chat 요청을 할때 모델에 도구 스키마를 전달해야한다.\n",
        "\n",
        "도구 호출(tool calling) 기능을 지원하는 LangChain Chat Model은 .bind_tools() 메서드를 구현하여 LangChain 도구 객체, Pydantic 클래스 또는 JSON 스키마 목록을 수신하고 공급자별 예상 형식으로 채팅 모델에 바인딩한다.\n",
        "\n",
        "- get_word_length : 단어의 길이를 반환하는 함수\n",
        "- add_function : 두 숫자를 더하는 함수\n",
        "- naver_news_crawl : 네이버 뉴스 기사를 크롤링하여 본문 내용을 반환하는 함수"
      ],
      "metadata": {
        "id": "quzDo2vz6YlZ"
      }
    },
    {
      "cell_type": "code",
      "source": [
        "import re\n",
        "import requests\n",
        "from bs4 import BeautifulSoup\n",
        "from langchain.agents import tool\n",
        "\n",
        "\n",
        "@tool\n",
        "def get_word_length(word:str)->int:\n",
        "  \"\"\"Returns the length of a word.\"\"\"\n",
        "  return len(word)\n",
        "\n",
        "\n",
        "@tool\n",
        "def add_function(a:float, b:float) -> float:\n",
        "  \"\"\"Adds two numbers together.\"\"\"\n",
        "  return a + b\n",
        "\n",
        "@tool\n",
        "def naver_news_crawl(news_url:str)->str:\n",
        "  \"\"\"Crawls a 네이버 (naver.com) news article and returns the body content.\"\"\"\n",
        "\n",
        "  response = requests.get(news_url)\n",
        "\n",
        "  if response.status_code ==200:\n",
        "    soup = BeautifulSoup(response.text, \"html.parser\")\n",
        "\n",
        "    title = soup.find(\"h2\", id=\"title_area\").get_text()\n",
        "    content = soup.find(\"div\",id = \"contents\").get_text()\n",
        "    cleaned_title = re.sub(r\"\\n{2,}\", \"\\n\", title)\n",
        "    cleaned_content = re.sub(r\"\\n{2,}\", \"\\n\", content)\n",
        "  else:\n",
        "    print(f\"HTTP 요청 실패. 응답 코드: {response.status_code}\")\n",
        "\n",
        "\n",
        "  return f\"{cleaned_title}\\n{cleaned_content}\"\n",
        "\n",
        "tools = [get_word_length, add_function, naver_news_crawl]"
      ],
      "metadata": {
        "id": "kddRiZIN7F6-"
      },
      "execution_count": 116,
      "outputs": []
    },
    {
      "cell_type": "markdown",
      "source": [
        "bind_tools()를 사용하여 도구 바인딩"
      ],
      "metadata": {
        "id": "JJLr_UEmDe2-"
      }
    },
    {
      "cell_type": "code",
      "source": [
        "# bind_tools()를 사용하여 도구 바인딩\n",
        "\n",
        "from langchain_openai import ChatOpenAI\n",
        "\n",
        "llm = ChatOpenAI(model='gpt-4o-mini',temperature=0)\n",
        "\n",
        "llm_with_tools = llm.bind_tools(tools)"
      ],
      "metadata": {
        "id": "AJ-rFr4d7F8S"
      },
      "execution_count": 117,
      "outputs": []
    },
    {
      "cell_type": "code",
      "source": [
        "llm_with_tools.invoke(\"what is the length of the word 'teddynote'?\").tool_calls"
      ],
      "metadata": {
        "colab": {
          "base_uri": "https://localhost:8080/"
        },
        "id": "kHz5Yu-eCAtS",
        "outputId": "95b13581-2b65-4a05-eca4-e23a5b176585"
      },
      "execution_count": 118,
      "outputs": [
        {
          "output_type": "execute_result",
          "data": {
            "text/plain": [
              "[{'name': 'get_word_length',\n",
              "  'args': {'word': 'teddynote'},\n",
              "  'id': 'call_JpcbENjKtFyddLHKHjjZCgAs',\n",
              "  'type': 'tool_call'}]"
            ]
          },
          "metadata": {},
          "execution_count": 118
        }
      ]
    },
    {
      "cell_type": "code",
      "source": [
        "from langchain_core.output_parsers.openai_tools import JsonOutputToolsParser\n",
        "\n",
        "chain = llm_with_tools | JsonOutputToolsParser(tools=tools)\n",
        "\n",
        "tool_call_results = chain.invoke(\"what is the length of the word 'teddynote'?\")"
      ],
      "metadata": {
        "id": "Eb6Bs5yICLtP"
      },
      "execution_count": 119,
      "outputs": []
    },
    {
      "cell_type": "code",
      "source": [
        "print(tool_call_results, end=\"\\n\\n==================\\n\\n\")\n",
        "\n",
        "single_result = tool_call_results[0]\n",
        "\n",
        "print(single_result['type'])\n",
        "print(single_result['args'])"
      ],
      "metadata": {
        "colab": {
          "base_uri": "https://localhost:8080/"
        },
        "id": "D9Qegm82CdRP",
        "outputId": "429cb5d1-7e34-45fe-cbbb-e4eab0f57b3d"
      },
      "execution_count": 120,
      "outputs": [
        {
          "output_type": "stream",
          "name": "stdout",
          "text": [
            "[{'args': {'word': 'teddynote'}, 'type': 'get_word_length'}]\n",
            "\n",
            "==================\n",
            "\n",
            "get_word_length\n",
            "{'word': 'teddynote'}\n"
          ]
        }
      ]
    },
    {
      "cell_type": "code",
      "source": [
        "from ast import MatchSingleton\n",
        "def execute_tool_calls(tool_call_results):\n",
        "  for tool_call in tool_call_results:\n",
        "    tool_name = tool_call[\"type\"]\n",
        "    tool_args = tool_call[\"args\"]\n",
        "\n",
        "    matching_tool = next((tool for tool in tools if tool.name == tool_name),None)\n",
        "\n",
        "    if matching_tool:\n",
        "      result = matching_tool.invoke(tool_args)\n",
        "\n",
        "      print(f\"[실행도구] {tool_name}\\n[실행결과] {result}\")\n",
        "    else:\n",
        "      print(f\"경고: {tool_name}에 해당하는 도구를 찾을 수 없습니다.\")\n",
        "\n",
        "\n",
        "execute_tool_calls(tool_call_results)"
      ],
      "metadata": {
        "colab": {
          "base_uri": "https://localhost:8080/"
        },
        "id": "PxGT_J5_Ctpz",
        "outputId": "33b1cd92-a457-43de-97b0-14a78ee18fea"
      },
      "execution_count": 121,
      "outputs": [
        {
          "output_type": "stream",
          "name": "stdout",
          "text": [
            "[실행도구] get_word_length\n",
            "[실행결과] 9\n"
          ]
        }
      ]
    },
    {
      "cell_type": "markdown",
      "source": [
        "bind_tools + parser + Execution\n",
        "\n",
        "- llm_with_tools : 도구를 바인딩한 모델\n",
        "- JsonOutputToolsParser : 도구 호출 결과를 파싱하는 파서\n",
        "- execute_tool_calls : 도구 호출 결과를 실행하는 함수\n",
        "\n",
        "모델에 도구 바인딩 -> 도구 호출 결과를 파싱 -> 도구 호출 결과를 실행"
      ],
      "metadata": {
        "id": "e0DpHdjjDiBU"
      }
    },
    {
      "cell_type": "code",
      "source": [
        "from langchain_core.output_parsers.openai_tools import JsonOutputToolsParser\n",
        "\n",
        "chain = llm_with_tools | JsonOutputToolsParser(tools=tools) | execute_tool_calls"
      ],
      "metadata": {
        "id": "7DvP8uzkDrXn"
      },
      "execution_count": 122,
      "outputs": []
    },
    {
      "cell_type": "code",
      "source": [
        "chain.invoke(\"what is the length of the word 'teddynote'?\")"
      ],
      "metadata": {
        "colab": {
          "base_uri": "https://localhost:8080/"
        },
        "id": "tJFfEq6dD185",
        "outputId": "b9ec670b-9fca-4d8a-a0a0-9d56bd44f74e"
      },
      "execution_count": 123,
      "outputs": [
        {
          "output_type": "stream",
          "name": "stdout",
          "text": [
            "[실행도구] get_word_length\n",
            "[실행결과] 9\n"
          ]
        }
      ]
    },
    {
      "cell_type": "code",
      "source": [
        "chain.invoke(\"114.5+121.2\")\n",
        "print(114.5+121.2)"
      ],
      "metadata": {
        "colab": {
          "base_uri": "https://localhost:8080/"
        },
        "id": "bc5dc72fD4Dd",
        "outputId": "61714708-c3be-40f8-e22c-4033c9b2a1a5"
      },
      "execution_count": 124,
      "outputs": [
        {
          "output_type": "stream",
          "name": "stdout",
          "text": [
            "[실행도구] add_function\n",
            "[실행결과] 235.7\n",
            "235.7\n"
          ]
        }
      ]
    },
    {
      "cell_type": "code",
      "source": [
        "chain.invoke(\n",
        "    \"뉴스 기사 내용을 크롤링해줘: https://n.news.naver.com/mnews/hotissue/article/092/0002347672?type=series&cid=2000065\"\n",
        ")"
      ],
      "metadata": {
        "colab": {
          "base_uri": "https://localhost:8080/"
        },
        "id": "TZlZbvN_EFmy",
        "outputId": "4bee274e-08ab-465d-b23c-acb45b71ed96"
      },
      "execution_count": 125,
      "outputs": [
        {
          "output_type": "stream",
          "name": "stdout",
          "text": [
            "[실행도구] naver_news_crawl\n",
            "[실행결과] [미장브리핑] 9월 미국 CPI 주목…3분기 S&P500 실적 발표\n",
            "\n",
            "\t\t\t▲10일(현지시간) 미국 9월 소비자물가지수(CPI) 발표 예정. 고용 지표가 양호하게 나온 가운데 물가 지표 주목. 9월 미국 비농업고용 25만4천명 증가해 시장 예상치 14만명 크게 상회. 이는 6개월 래 최대 규모로 지난 12개월 평균값 20만3천명 증가한 것보다도 높은 수치. 9월 실업률은 4.1%로 2개월 연속 하락했으며, 평균 시간당 임금은 전년 동월 대비 4% 증가해 5월 이후 최고 수준.▲시장에서 9월 헤드라인 CPI는 8월 전년 동월 대비 2.6% 로 5개월 연속 둔화하고 9월에는 2.3% 증가로 추가 하락 예상. 전월 대비도 8월 0.2% 둔화 예상. 근원 CPI는 지난 8월 3.2%와 비슷한 수준 관측.▲11일에는 미국 9월 제조업물가지수(PPI) 발표. 지난 6월 부터 8월까지 반등 추세 꺾여. 8월은 1.7% 증가.\n",
            "(사진=이미지투데이)▲11월 미국 연방준비제도(연준) 공개시장위원회(FOMC) 에서 0.50%p 인하 기대가 크케 후퇴한 가운데, 9일에는 FOMC 의사록 공개. 지난 9월 회의에서 빅컷(0.50%p) 단행한 배경과 인플레이션 전망에 대한 논의를 알 수 있을 것으로 보여.▲미국 스탠다드앤푸어스(S&P) 500 기업의 3분기 실적 발표 시작. 평균 이익증가율 추정치는 전년 동기 대비 4.6%로 5개분기 연속 플러스이나 증가폭은 둔화 예상. 11일부터 JP모건체이스, 웰스파고 등 대형은행들의 실적 발표.▲FTSE 러셀은 8일 정례 시장분류 결과를 발표. 한국은 2022년 관찰대상국 지정 이후 금번 시장접근성 등급(L1) 상향으로 세계국채지수(WGBI) 에 편입될 지 관심. 주식의 경우 지난 2009년부터 선진국 지수에 편입돼 있는 한국 증시에 대해 공매도 제한 등을 이유로 관찰 대상국으로 지정할지 관심. 지정되더라도 검토 기간이 있어 즉각 제외되지는 않음.\n",
            "손희연 기자(kunst@zdnet.co.kr)\n",
            "기자 프로필\n",
            "지디넷코리아\n",
            "지디넷코리아\n",
            "손희연 기자\n",
            "구독\n",
            "구독중\n",
            "구독자 0\n",
            "응원수\n",
            "0\n",
            "디지털이 접목되는 금융·식음료업계를 취재합니다 \n",
            "이창용 \"고금리, 자영업자는 힘들겠지만 인하가 능사 아냐\"\n",
            "퇴직연금 '머니무브' 시작된다…31일부터 해지없이 이전 가능\n",
            "지디넷코리아의 구독 많은 기자를 구독해보세요!\n",
            "닫기\n",
            "Copyright ⓒ ZDNet Korea. All rights reserved. 무단 전재 및 재배포 금지.\n",
            " \n",
            "이 기사는 언론사에서 IT 섹션으로 분류했습니다.\n",
            "기사 섹션 분류 안내\n",
            "기사의 섹션 정보는 해당 언론사의 분류를 따르고 있습니다. 언론사는 개별 기사를 2개 이상 섹션으로 중복 분류할 수 있습니다.\n",
            "닫기\n",
            "구독\n",
            "메인에서 바로 보는 언론사 편집 뉴스 지금 바로 구독해보세요!\n",
            "구독중\n",
            "메인에서 바로 보는 언론사 편집 뉴스 지금 바로 확인해보세요!\n",
            "지디넷코리아 '홈페이지'\n",
            "QR 코드를 클릭하면 크게 볼 수 있어요.\n",
            "QR을 촬영해보세요.\n",
            "지디넷코리아 '홈페이지'\n",
            "닫기\n",
            "네이버 채널 구독하기\n",
            "지디넷코리아\n",
            "지디넷코리아\n",
            "\t\t\t주요뉴스해당 언론사에서 선정하며 언론사 페이지(아웃링크)로 이동해 볼 수 있습니다.\n",
            "KB금융, 광주 1인 여성 자영업자에 월 100만원 지원\n",
            "아파트만? 이제 빌라 주담대도 갈아타자\n",
            "카카오뱅크, 6일 새벽 금융거래 일시 중단\n",
            "우리은행 올해만 세 번째 금융사고…\"허위서류로 55억 대출\"\n",
            "이 기사를 추천합니다\n",
            "기사 추천은 24시간 내 50회까지 참여할 수 있습니다.\n",
            "닫기\n",
            "쏠쏠정보\n",
            "0\n",
            "흥미진진\n",
            "0\n",
            "공감백배\n",
            "0\n",
            "분석탁월\n",
            "0\n",
            "후속강추\n",
            "0\n",
            " \n",
            "모두에게 보여주고 싶은 기사라면?beta\n",
            "이 기사를 추천합니다 버튼을 눌러주세요.  집계 기간 동안 추천을 많이 받은 기사는 네이버 자동 기사배열 영역에 추천 요소로 활용됩니다.\n",
            "레이어 닫기\n",
            " \n",
            "연재\n",
            "미장브리핑\n",
            "구독 명\n",
            "구독\n",
            "구독중\n",
            "구독해주셔서 감사합니다\n",
            "구독한 연재는 설정 페이지에서확인할 수 있습니다\n",
            "닫기\n",
            "더보기\n",
            "중동발 위기 고조…국제유가 급등\n",
            "9월 미국 CPI 주목…3분기 S&P500 실적 발표\n",
            "중동발 긴장 고조…한 때 원유값 급등\n",
            "지디넷코리아 언론사홈 바로가기\n",
            " \n",
            "기자 구독 후 기사보기\n",
            "구독 없이 계속 보기\n",
            "연재 구독 후 기사보기\n",
            "구독 없이 계속 보기\n",
            "\n"
          ]
        }
      ]
    },
    {
      "cell_type": "markdown",
      "source": [
        "bind_tools > Agent & AgentExecutor로 대체\n",
        "\n",
        "- bind_tools() 는 모델에 사용할 수 있는 스키마(도구) 제공.\n",
        "\n",
        "- AgentExecutor 는 실제로 llm 호출, 올바른 도구로 라우팅, 실행, 모델 재호출 등을 위한 실행 루프를 생성"
      ],
      "metadata": {
        "id": "DoqnE_5YEQTJ"
      }
    },
    {
      "cell_type": "code",
      "source": [
        "from langchain_core.prompts import ChatPromptTemplate, MessagesPlaceholder\n",
        "from langchain_openai import AzureChatOpenAI\n",
        "\n",
        "prompt = ChatPromptTemplate.from_messages(\n",
        "    [\n",
        "        (\n",
        "          \"system\",\n",
        "          \"You are very powerful assistant, but don't know current events\",\n",
        "        ),\n",
        "        (\"user\",\"{input}\"),\n",
        "        MessagesPlaceholder(variable_name=\"agent_scratchpad\"),\n",
        "    ]\n",
        ")\n",
        "\n",
        "llm = ChatOpenAI(model ='gpt-4o-mini',temperature=0)"
      ],
      "metadata": {
        "id": "QuJScxrGEcz9"
      },
      "execution_count": 126,
      "outputs": []
    },
    {
      "cell_type": "code",
      "source": [
        "from langchain.agents import create_tool_calling_agent\n",
        "from langchain.agents import AgentExecutor\n",
        "\n",
        "tools = [get_word_length, add_function, naver_news_crawl]\n",
        "\n",
        "agent = create_tool_calling_agent(llm, tools, prompt)\n",
        "\n",
        "agent_executor = AgentExecutor(\n",
        "    agent = agent,\n",
        "    tools = tools,\n",
        "    verbose =True,\n",
        "    handle_parsing_errors=True,\n",
        ")"
      ],
      "metadata": {
        "id": "WK1zVhq4FGWA"
      },
      "execution_count": 127,
      "outputs": []
    },
    {
      "cell_type": "code",
      "source": [
        "result = agent_executor.invoke({\"input\":\"how many letters in the word 'teddynote'?\"})\n",
        "\n",
        "print(result[\"output\"])"
      ],
      "metadata": {
        "colab": {
          "base_uri": "https://localhost:8080/"
        },
        "id": "gIFo091NFcq8",
        "outputId": "3f2d9ede-8c80-40d7-f0cd-611814882284"
      },
      "execution_count": 128,
      "outputs": [
        {
          "output_type": "stream",
          "name": "stdout",
          "text": [
            "\n",
            "\n",
            "\u001b[1m> Entering new AgentExecutor chain...\u001b[0m\n",
            "\u001b[32;1m\u001b[1;3m\n",
            "Invoking: `get_word_length` with `{'word': 'teddynote'}`\n",
            "\n",
            "\n",
            "\u001b[0m\u001b[36;1m\u001b[1;3m9\u001b[0m\u001b[32;1m\u001b[1;3mThe word 'teddynote' has 9 letters.\u001b[0m\n",
            "\n",
            "\u001b[1m> Finished chain.\u001b[0m\n",
            "The word 'teddynote' has 9 letters.\n"
          ]
        }
      ]
    },
    {
      "cell_type": "code",
      "source": [
        "# Agent 실행\n",
        "result = agent_executor.invoke({\"input\": \"114.5 + 121.2 의 계산 결과는?\"})\n",
        "\n",
        "# 결과 확인\n",
        "print(result[\"output\"])"
      ],
      "metadata": {
        "colab": {
          "base_uri": "https://localhost:8080/"
        },
        "id": "yttPezQjFsB0",
        "outputId": "ce18e26d-6859-49dc-8090-97578966fa0e"
      },
      "execution_count": 129,
      "outputs": [
        {
          "output_type": "stream",
          "name": "stdout",
          "text": [
            "\n",
            "\n",
            "\u001b[1m> Entering new AgentExecutor chain...\u001b[0m\n",
            "\u001b[32;1m\u001b[1;3m\n",
            "Invoking: `add_function` with `{'a': 114.5, 'b': 121.2}`\n",
            "\n",
            "\n",
            "\u001b[0m\u001b[33;1m\u001b[1;3m235.7\u001b[0m\u001b[32;1m\u001b[1;3m114.5 + 121.2의 계산 결과는 235.7입니다.\u001b[0m\n",
            "\n",
            "\u001b[1m> Finished chain.\u001b[0m\n",
            "114.5 + 121.2의 계산 결과는 235.7입니다.\n"
          ]
        }
      ]
    },
    {
      "cell_type": "code",
      "source": [
        "# Agent 실행\n",
        "result = agent_executor.invoke(\n",
        "    {\"input\": \"114.5 + 121.2 + 34.2 + 110.1 의 계산 결과는?\"}\n",
        ")\n",
        "\n",
        "# 결과 확인\n",
        "print(result[\"output\"])\n",
        "print(\"==========\\n\")\n",
        "print(114.5 + 121.2 + 34.2 + 110.1)\n"
      ],
      "metadata": {
        "colab": {
          "base_uri": "https://localhost:8080/"
        },
        "id": "gVrpTR53FuvS",
        "outputId": "ef12143d-d878-4e4c-d020-653af58301f2"
      },
      "execution_count": 130,
      "outputs": [
        {
          "output_type": "stream",
          "name": "stdout",
          "text": [
            "\n",
            "\n",
            "\u001b[1m> Entering new AgentExecutor chain...\u001b[0m\n",
            "\u001b[32;1m\u001b[1;3m\n",
            "Invoking: `add_function` with `{'a': 114.5, 'b': 121.2}`\n",
            "\n",
            "\n",
            "\u001b[0m\u001b[33;1m\u001b[1;3m235.7\u001b[0m\u001b[32;1m\u001b[1;3m\n",
            "Invoking: `add_function` with `{'a': 34.2, 'b': 110.1}`\n",
            "\n",
            "\n",
            "\u001b[0m\u001b[33;1m\u001b[1;3m144.3\u001b[0m\u001b[32;1m\u001b[1;3m\n",
            "Invoking: `add_function` with `{'a': 235.7, 'b': 144.3}`\n",
            "\n",
            "\n",
            "\u001b[0m\u001b[33;1m\u001b[1;3m380.0\u001b[0m\u001b[32;1m\u001b[1;3m114.5 + 121.2 + 34.2 + 110.1의 계산 결과는 380.0입니다.\u001b[0m\n",
            "\n",
            "\u001b[1m> Finished chain.\u001b[0m\n",
            "114.5 + 121.2 + 34.2 + 110.1의 계산 결과는 380.0입니다.\n",
            "==========\n",
            "\n",
            "380.0\n"
          ]
        }
      ]
    },
    {
      "cell_type": "code",
      "source": [
        "result = agent_executor.invoke(\n",
        "    {\n",
        "        \"input\": \"뉴스 기사를 요약해 줘: https://n.news.naver.com/mnews/hotissue/article/092/0002347672?type=series&cid=2000065\"\n",
        "    }\n",
        ")\n",
        "print(result[\"output\"])"
      ],
      "metadata": {
        "colab": {
          "base_uri": "https://localhost:8080/"
        },
        "id": "exJ-SpyAFy-e",
        "outputId": "83a1483e-0a02-41a7-c5aa-1d03a2ebf8c2"
      },
      "execution_count": 131,
      "outputs": [
        {
          "output_type": "stream",
          "name": "stdout",
          "text": [
            "\n",
            "\n",
            "\u001b[1m> Entering new AgentExecutor chain...\u001b[0m\n",
            "\u001b[32;1m\u001b[1;3m\n",
            "Invoking: `naver_news_crawl` with `{'news_url': 'https://n.news.naver.com/mnews/hotissue/article/092/0002347672?type=series&cid=2000065'}`\n",
            "\n",
            "\n",
            "\u001b[0m\u001b[38;5;200m\u001b[1;3m[미장브리핑] 9월 미국 CPI 주목…3분기 S&P500 실적 발표\n",
            "\n",
            "\t\t\t▲10일(현지시간) 미국 9월 소비자물가지수(CPI) 발표 예정. 고용 지표가 양호하게 나온 가운데 물가 지표 주목. 9월 미국 비농업고용 25만4천명 증가해 시장 예상치 14만명 크게 상회. 이는 6개월 래 최대 규모로 지난 12개월 평균값 20만3천명 증가한 것보다도 높은 수치. 9월 실업률은 4.1%로 2개월 연속 하락했으며, 평균 시간당 임금은 전년 동월 대비 4% 증가해 5월 이후 최고 수준.▲시장에서 9월 헤드라인 CPI는 8월 전년 동월 대비 2.6% 로 5개월 연속 둔화하고 9월에는 2.3% 증가로 추가 하락 예상. 전월 대비도 8월 0.2% 둔화 예상. 근원 CPI는 지난 8월 3.2%와 비슷한 수준 관측.▲11일에는 미국 9월 제조업물가지수(PPI) 발표. 지난 6월 부터 8월까지 반등 추세 꺾여. 8월은 1.7% 증가.\n",
            "(사진=이미지투데이)▲11월 미국 연방준비제도(연준) 공개시장위원회(FOMC) 에서 0.50%p 인하 기대가 크케 후퇴한 가운데, 9일에는 FOMC 의사록 공개. 지난 9월 회의에서 빅컷(0.50%p) 단행한 배경과 인플레이션 전망에 대한 논의를 알 수 있을 것으로 보여.▲미국 스탠다드앤푸어스(S&P) 500 기업의 3분기 실적 발표 시작. 평균 이익증가율 추정치는 전년 동기 대비 4.6%로 5개분기 연속 플러스이나 증가폭은 둔화 예상. 11일부터 JP모건체이스, 웰스파고 등 대형은행들의 실적 발표.▲FTSE 러셀은 8일 정례 시장분류 결과를 발표. 한국은 2022년 관찰대상국 지정 이후 금번 시장접근성 등급(L1) 상향으로 세계국채지수(WGBI) 에 편입될 지 관심. 주식의 경우 지난 2009년부터 선진국 지수에 편입돼 있는 한국 증시에 대해 공매도 제한 등을 이유로 관찰 대상국으로 지정할지 관심. 지정되더라도 검토 기간이 있어 즉각 제외되지는 않음.\n",
            "손희연 기자(kunst@zdnet.co.kr)\n",
            "기자 프로필\n",
            "지디넷코리아\n",
            "지디넷코리아\n",
            "손희연 기자\n",
            "구독\n",
            "구독중\n",
            "구독자 0\n",
            "응원수\n",
            "0\n",
            "디지털이 접목되는 금융·식음료업계를 취재합니다 \n",
            "이창용 \"고금리, 자영업자는 힘들겠지만 인하가 능사 아냐\"\n",
            "퇴직연금 '머니무브' 시작된다…31일부터 해지없이 이전 가능\n",
            "지디넷코리아의 구독 많은 기자를 구독해보세요!\n",
            "닫기\n",
            "Copyright ⓒ ZDNet Korea. All rights reserved. 무단 전재 및 재배포 금지.\n",
            " \n",
            "이 기사는 언론사에서 IT 섹션으로 분류했습니다.\n",
            "기사 섹션 분류 안내\n",
            "기사의 섹션 정보는 해당 언론사의 분류를 따르고 있습니다. 언론사는 개별 기사를 2개 이상 섹션으로 중복 분류할 수 있습니다.\n",
            "닫기\n",
            "구독\n",
            "메인에서 바로 보는 언론사 편집 뉴스 지금 바로 구독해보세요!\n",
            "구독중\n",
            "메인에서 바로 보는 언론사 편집 뉴스 지금 바로 확인해보세요!\n",
            "지디넷코리아 '홈페이지'\n",
            "QR 코드를 클릭하면 크게 볼 수 있어요.\n",
            "QR을 촬영해보세요.\n",
            "지디넷코리아 '홈페이지'\n",
            "닫기\n",
            "네이버 채널 구독하기\n",
            "지디넷코리아\n",
            "지디넷코리아\n",
            "\t\t\t주요뉴스해당 언론사에서 선정하며 언론사 페이지(아웃링크)로 이동해 볼 수 있습니다.\n",
            "KB금융, 광주 1인 여성 자영업자에 월 100만원 지원\n",
            "아파트만? 이제 빌라 주담대도 갈아타자\n",
            "카카오뱅크, 6일 새벽 금융거래 일시 중단\n",
            "우리은행 올해만 세 번째 금융사고…\"허위서류로 55억 대출\"\n",
            "이 기사를 추천합니다\n",
            "기사 추천은 24시간 내 50회까지 참여할 수 있습니다.\n",
            "닫기\n",
            "쏠쏠정보\n",
            "0\n",
            "흥미진진\n",
            "0\n",
            "공감백배\n",
            "0\n",
            "분석탁월\n",
            "0\n",
            "후속강추\n",
            "0\n",
            " \n",
            "모두에게 보여주고 싶은 기사라면?beta\n",
            "이 기사를 추천합니다 버튼을 눌러주세요.  집계 기간 동안 추천을 많이 받은 기사는 네이버 자동 기사배열 영역에 추천 요소로 활용됩니다.\n",
            "레이어 닫기\n",
            " \n",
            "연재\n",
            "미장브리핑\n",
            "구독 명\n",
            "구독\n",
            "구독중\n",
            "구독해주셔서 감사합니다\n",
            "구독한 연재는 설정 페이지에서확인할 수 있습니다\n",
            "닫기\n",
            "더보기\n",
            "중동발 위기 고조…국제유가 급등\n",
            "9월 미국 CPI 주목…3분기 S&P500 실적 발표\n",
            "중동발 긴장 고조…한 때 원유값 급등\n",
            "지디넷코리아 언론사홈 바로가기\n",
            " \n",
            "기자 구독 후 기사보기\n",
            "구독 없이 계속 보기\n",
            "연재 구독 후 기사보기\n",
            "구독 없이 계속 보기\n",
            "\u001b[0m\u001b[32;1m\u001b[1;3m기사 요약:\n",
            "\n",
            "9월 10일(현지시간) 미국의 소비자물가지수(CPI) 발표가 예정되어 있으며, 고용 지표가 양호한 가운데 물가 지표에 대한 관심이 집중되고 있다. 9월 비농업 고용은 25만4천명 증가하여 시장 예상치를 크게 초과했으며, 실업률은 4.1%로 하락세를 보이고 있다. 9월 헤드라인 CPI는 8월 대비 2.3% 증가할 것으로 예상되며, 근원 CPI는 3.2% 수준을 유지할 것으로 보인다.\n",
            "\n",
            "11일에는 제조업물가지수(PPI) 발표가 예정되어 있으며, 11월 연방준비제도(FOMC) 회의에서 금리 인하 기대가 줄어들고 있다. 또한, S&P 500 기업의 3분기 실적 발표가 시작되며, 평균 이익 증가율은 4.6%로 예상된다. 한국은 FTSE 러셀의 시장 접근성 등급이 상향 조정될 가능성이 있어 주목받고 있다.\u001b[0m\n",
            "\n",
            "\u001b[1m> Finished chain.\u001b[0m\n",
            "기사 요약:\n",
            "\n",
            "9월 10일(현지시간) 미국의 소비자물가지수(CPI) 발표가 예정되어 있으며, 고용 지표가 양호한 가운데 물가 지표에 대한 관심이 집중되고 있다. 9월 비농업 고용은 25만4천명 증가하여 시장 예상치를 크게 초과했으며, 실업률은 4.1%로 하락세를 보이고 있다. 9월 헤드라인 CPI는 8월 대비 2.3% 증가할 것으로 예상되며, 근원 CPI는 3.2% 수준을 유지할 것으로 보인다.\n",
            "\n",
            "11일에는 제조업물가지수(PPI) 발표가 예정되어 있으며, 11월 연방준비제도(FOMC) 회의에서 금리 인하 기대가 줄어들고 있다. 또한, S&P 500 기업의 3분기 실적 발표가 시작되며, 평균 이익 증가율은 4.6%로 예상된다. 한국은 FTSE 러셀의 시장 접근성 등급이 상향 조정될 가능성이 있어 주목받고 있다.\n"
          ]
        }
      ]
    },
    {
      "cell_type": "markdown",
      "source": [
        "## 에이전트\n",
        "\n",
        "### 도구 호출 에이전트\n",
        "\n",
        "도구 호출을 사용하면 모델이 하나 이상의 도구가 호출되어야하는 시기를 감지하고 해당 도구에 전달해아 하는 입력으로 전달할 수 있다.\n",
        "\n",
        "API 호출에서 도구를 설명하고 이러한 도구를 호출하기 위한 인수가 포함된 JSON과 같은 구조화된 객체를 출력하도록 지능적으로 선택가능하다.\n",
        "\n",
        "도구 API의 목표는 일반 텍스트 완성이나 채팅 API를 사용하여 수행할 수 있는 것보다 더 안정적으로 유효하고 유용한 도구 호출을 반환하는 것이다.\n",
        "\n",
        "이렇게 구조화된 출력을 도구 호출 채팅 모델에 여러 도구를 바인딩하고 모델이 호출할 도구를 선택할 수 있다는 사실과 결합하여 쿼리가 해결될 때까지 반복적으로 도구를 호출하고 결과를 수신하는 에이전트를 만들 수 있다.\n",
        "\n"
      ],
      "metadata": {
        "id": "zwCAEUr9dgKx"
      }
    },
    {
      "cell_type": "code",
      "source": [
        "from langchain.tools import tool\n",
        "from typing import List, Dict, Annotated\n",
        "from langchain_teddynote.tools import GoogleNews\n",
        "from langchain_experimental.utilities import PythonREPL\n",
        "\n",
        "@tool\n",
        "def search_news(query:str)-> List[Dict[str,str]]:\n",
        "  \"\"\"Search Google News by input keyword\"\"\"\n",
        "  news_tool = GoogleNews()\n",
        "  return news_tool.search_by_keyword(query, k=5)\n",
        "\n",
        "\n",
        "@tool\n",
        "def python_repl_tool(\n",
        "    code: Annotated[str, \"The python code to execute to generate your chat.\"],\n",
        "\n",
        "):\n",
        "  \"\"\"Use this to execute python code. If you want to see the output of a value,\n",
        "    you should print it out with `print(...)`. This is visible to the user.\"\"\"\n",
        "  result = \"\"\n",
        "  try:\n",
        "      result = PythonREPL().run(code)\n",
        "  except Exception as e:\n",
        "      print(f\"Failed to execute. Error: {repr(e)}\")\n",
        "  return result\n",
        "\n",
        "\n",
        "print(f\"도구 이름: {search_news.name}\")\n",
        "print(f\"도구 설명: {search_news.description}\")\n",
        "print(f\"도구 이름: {python_repl_tool.name}\")\n",
        "print(f\"도구 설명: {python_repl_tool.description}\")"
      ],
      "metadata": {
        "colab": {
          "base_uri": "https://localhost:8080/"
        },
        "id": "5FpWzMDye2a6",
        "outputId": "510437ba-a96f-49f4-bf8e-cf1b522f4d13"
      },
      "execution_count": 7,
      "outputs": [
        {
          "output_type": "stream",
          "name": "stdout",
          "text": [
            "도구 이름: search_news\n",
            "도구 설명: Search Google News by input keyword\n",
            "도구 이름: python_repl_tool\n",
            "도구 설명: Use this to execute python code. If you want to see the output of a value,\n",
            "    you should print it out with `print(...)`. This is visible to the user.\n"
          ]
        }
      ]
    },
    {
      "cell_type": "code",
      "source": [
        "tools = [search_news, python_repl_tool]"
      ],
      "metadata": {
        "id": "JnpPMYQjlMms"
      },
      "execution_count": 8,
      "outputs": []
    },
    {
      "cell_type": "markdown",
      "source": [
        "Agent 프롬프트 생성\n",
        "- chat_history : 이전 대화 내용을 저장하는 변수 (멀티턴을 지원하지 않는다면, 생략 가능합니다.)\n",
        "- agent_scratchpad : 에이전트가 임시로 저장하는 변수\n",
        "- input : 사용자의 입력"
      ],
      "metadata": {
        "id": "3yM0lux-f0ji"
      }
    },
    {
      "cell_type": "code",
      "source": [
        "from langchain_core.prompts import ChatPromptTemplate\n",
        "\n",
        "prompt = ChatPromptTemplate.from_messages(\n",
        "    [\n",
        "        (\n",
        "            \"system\",\n",
        "            \"You are a helpful assistant. \"\n",
        "            \"Make sure to use the `search_news` tool for searching keyword related news.\",\n",
        "\n",
        "        ),\n",
        "        (\"placeholder\",\"{chat_history}\"),\n",
        "        (\"human\",\"{input}\"),\n",
        "        (\"placeholder\",\"{agent_scratchpad}\")\n",
        "    ]\n",
        ")"
      ],
      "metadata": {
        "id": "8C37tji_f6Y0"
      },
      "execution_count": 9,
      "outputs": []
    },
    {
      "cell_type": "code",
      "source": [
        "from langchain_openai import ChatOpenAI\n",
        "from langchain.agents import create_tool_calling_agent\n",
        "\n",
        "llm = ChatOpenAI(model=\"gpt-4o-mini\", temperature=0)\n",
        "\n",
        "agent = create_tool_calling_agent(\n",
        "    llm, tools, prompt\n",
        ")"
      ],
      "metadata": {
        "id": "4_a6_OOwgxID"
      },
      "execution_count": 20,
      "outputs": []
    },
    {
      "cell_type": "markdown",
      "source": [
        "**AgentExecute**\n",
        "\n",
        "도구를 사용하는 에이전트를 실행하는 클래스\n",
        "\n",
        "<주요 속성>\n",
        "\n",
        "- agent: 실행 루프의 각 단계에서 계획을 생성하고 행동을 결정하는 에이전트\n",
        "- tools: 에이전트가 사용할 수 있는 유효한 도구 목록\n",
        "- return_intermediate_steps: 최종 출력과 함께 에이전트의 중간 단계 경로를 반환할지 여부\n",
        "- max_iterations: 실행 루프를 종료하기 전 최대 단계 수\n",
        "- max_execution_time: 실행 루프에 소요될 수 있는 최대 시간\n",
        "- early_stopping_method: 에이전트가 AgentFinish를 반환하지 않을 때 사용할 조기 종료 방법. (\"force\" or \"generate\")\n",
        "- \"force\" 는 시간 또는 반복 제한에 도달하여 중지되었다는 문자열을 반환합니다.\n",
        "- \"generate\" 는 에이전트의 LLM 체인을 마지막으로 한 번 호출하여 이전 단계에 따라 최종 답변을 생성합니다.\n",
        "- handle_parsing_errors: 에이전트의 출력 파서에서 발생한 오류 처리 방법. (True, False, 또는 오류 처리 함수)\n",
        "- trim_intermediate_steps: 중간 단계를 트리밍하는 방법. (-1 trim 하지 않음, 또는 트리밍 함수)\n",
        "\n",
        "<주요 메서드>\n",
        "\n",
        "1. invoke : 에이전트 실행\n",
        "2. stream : 최종 출력에 도달하는 데 필요한 단계를 스트리밍\n",
        "\n",
        "<주요 기능>\n",
        "\n",
        "1. 도구 검증 : 에이전트와 호환되는 도구인지 확인\n",
        "2. 실행 제어 : 최대 반복 횟수 및 실행 시간 제한 설정 가능\n",
        "3. 오류 처리 : 출력 파싱 오류에 대한 다양한 처리 옵션 제공\n",
        "4. 중간 단계 관리 : 중간 단계 트리밍 및 반환 옵션\n",
        "5. 비동기 지원 : 비동기 실행 및 스트리밍 지원\n",
        "\n",
        "<최적화>\n",
        "\n",
        "- max_iterations와 max_execution_time을 적절히 설정하여 실행 시간 관리\n",
        "- trim_intermediate_steps를 활용하여 메모리 사용량 최적화\n",
        "- 복잡한 작업의 경우 stream 메서드를 사용하여 단계별 결과 모니터링"
      ],
      "metadata": {
        "id": "M5Irgf-7eOWl"
      }
    },
    {
      "cell_type": "code",
      "source": [
        "from langchain.agents import AgentExecutor\n",
        "\n",
        "agent_executor = AgentExecutor(\n",
        "    agent = agent,\n",
        "    tools = tools,\n",
        "    verbose =True,\n",
        "    max_iterations=10,\n",
        "    max_execution_time=10,\n",
        "    handle_parsing_errors=True,\n",
        ")\n",
        "\n",
        "result = agent_executor.invoke({\"input\":\"AI 투자와 관련된 뉴스를 검색해주세요.\"})\n",
        "\n",
        "print(\"Agent 실행 결과:\")\n",
        "print(result[\"output\"])"
      ],
      "metadata": {
        "colab": {
          "base_uri": "https://localhost:8080/"
        },
        "id": "4mHNHQ3-iBxl",
        "outputId": "5e4a1925-a4c0-428c-ede9-38ed74c62a16"
      },
      "execution_count": 21,
      "outputs": [
        {
          "output_type": "stream",
          "name": "stdout",
          "text": [
            "\n",
            "\n",
            "\u001b[1m> Entering new AgentExecutor chain...\u001b[0m\n",
            "\u001b[32;1m\u001b[1;3m\n",
            "Invoking: `search_news` with `{'query': 'AI 투자'}`\n",
            "\n",
            "\n",
            "\u001b[0m\u001b[36;1m\u001b[1;3m[{'url': 'https://news.google.com/rss/articles/CBMiVkFVX3lxTE53WW9YclpXM3p5SW5wQUItbENzZXFCOGFVbXFpb1ZLeW5NeXdZQnZtOG55RW5VemtEX2Q1S1BDOVNWOGsxQVd5TWp2ZkRvOWNZT2VRcU5n?oc=5', 'content': \"[#Let's 스타트업] 생성형AI로 주식투자 포트폴리오 구축 - 네이트 뉴스\"}, {'url': 'https://news.google.com/rss/articles/CBMiUkFVX3lxTE43c0pjUzdDcUJ4VEZNeFotMDNXSzBYZUZVN2tRdVBBZWFkVTZodGx1V3ZRQlhMWGhxdW9RcjBFeFZ1RWlXYnZuZGUtUmhaQS1iQlE?oc=5', 'content': '“미래 먹거리 위해 돈싸들고 몰려온다”...‘AI 4대 석학’ 유명교수가 투자한 ‘이 나라’ - 매일경제'}, {'url': 'https://news.google.com/rss/articles/CBMiWkFVX3lxTE9COTVMS25IZGJDSlZTc0RROFpnYWxWY3RNSXowLXJoaG5ZSnctVUltR1hPOVRjTC1yYng2anVmN2phYUEwZVV3VVdOQUdwaUpDdkJOQzE2SDJYd9IBVkFVX3lxTE1tUmtsMmxQLU5Tb21GeGxVLVZuTzNucEVKVXdvZzNWTFRDSFppbzJQNTNYdFZCaDZ2UVBHNHZfS2ZWbFJkNldTT29taERKZFBRdEdpdkh3?oc=5', 'content': 'AI반도체 2차 랠리 시작… 삼성전자 사모은 개인투자자도 웃었다 - 아주경제'}, {'url': 'https://news.google.com/rss/articles/CBMicEFVX3lxTE5YNW5rNDl5aEZmWVIyVTBiNE95NktpaU4wdXdvQktjdmp3eVptS3Z5TXRON0RybnZlbjM2SHpCQ2ZBa0ZhRkQyZUtZdV9FTnZxMzR0RTl4ejJ4UTFFczFUbTN2QjUxRnV2OUJLWHB1djk?oc=5', 'content': 'KB자산운용, AI 비즈니스 투자 지속… 자산관리 지평 넓힌다 By MoneyS - Investing.com'}, {'url': 'https://news.google.com/rss/articles/CBMiWkFVX3lxTE8xcFhGMEhWTXliazlJZGdUVmE4S2tGZ1lkRW5jYTVhckdxajI0ODVfa0FBVl9qTTR5QnE1NHY3Slg1NnBCR3BnSkNJTnkyWFdRaWRxdDhXSktoUdIBVEFVX3lxTE52aHl6dXoxZ2JueE5tUUxwNW1WMF9KVWtFSjBaY1BKaTZWYk1XUE14UGNoX2ZqWmNkeUxENm5pNjFSeTZkQUlKNGRZNHdGTnZ6Zk0zYw?oc=5', 'content': '\"AI 전력 수요 더는 감당 못해\"…구글, 소형 원전에 직접 투자 - 한국경제'}]\u001b[0m\u001b[32;1m\u001b[1;3m다음은 AI 투자와 관련된 최근 뉴스입니다:\n",
            "\n",
            "1. **[생성형AI로 주식투자 포트폴리오 구축](https://news.google.com/rss/articles/CBMiVkFVX3lxTE53WW9YclpXM3p5SW5wQUItbENzZXFCOGFVbXFpb1ZLeW5NeXdZQnZtOG55RW5VemtEX2Q1S1BDOVNWOGsxQVd5TWp2ZkRvOWNZT2VRcU5n?oc=5)** - 네이트 뉴스\n",
            "   - 생성형 AI를 활용하여 주식 투자 포트폴리오를 구축하는 방법에 대한 기사입니다.\n",
            "\n",
            "2. **[“미래 먹거리 위해 돈싸들고 몰려온다”...‘AI 4대 석학’ 유명교수가 투자한 ‘이 나라’](https://news.google.com/rss/articles/CBMiUkFVX3lxTE43c0pjUzdDcUJ4VEZNeFotMDNXSzBYZUZVN2tRdVBBZWFkVTZodGx1V3ZRQlhMWGhxdW9RcjBFeFZ1RWlXYnZuZGUtUmhaQS1iQlE?oc=5)** - 매일경제\n",
            "   - AI 분야의 석학들이 투자하고 있는 국가에 대한 내용입니다.\n",
            "\n",
            "3. **[AI반도체 2차 랠리 시작… 삼성전자 사모은 개인투자자도 웃었다](https://news.google.com/rss/articles/CBMicEFVX3lxTE5YNW5rNDl5aEZmWVIyVTBiNE95NktpaU4wdXdvQktjdmp3eVptS3Z5TXRON0RybnZlbjM2SHpCQ2ZBa0ZhRkQyZUtZdV9FTnZxMzR0RTl4ejJ4UTFFczFUbTN2QjUxRnV2OUJLWHB1djk?oc=5)** - 아주경제\n",
            "   - AI 반도체 시장의 2차 랠리에 대한 기사로, 삼성전자의 개인 투자자들에 대한 긍정적인 소식이 포함되어 있습니다.\n",
            "\n",
            "4. **[KB자산운용, AI 비즈니스 투자 지속… 자산관리 지평 넓힌다](https://news.google.com/rss/articles/CBMiWkFVX3lxTE8xcFhGMEhWTXliazlJZGdUVmE4S2tGZ1lkRW5jYTVhckdxajI0ODVfa0FBVl9qTTR5QnE1NHY3Slg1NnBCR3BnSkNJTnkyWFdRaWRxdDhXSktoUdIBVEFVX3lxTE52aHl6dXoxZ2JueE5tUUxwNW1WMF9KVWtFSjBaY1BKaTZWYk1XUE14UGNoX2ZqWmNkeUxENm5pNjFSeTZkQUlKNGRZNHdGTnZ6Zk0zYw?oc=5)** - Investing.com\n",
            "   - KB자산운용이 AI 비즈니스에 대한 투자를 지속하고 있다는 내용입니다.\n",
            "\n",
            "5. **[\\\"AI 전력 수요 더는 감당 못해\\\"…구글, 소형 원전에 직접 투자](https://news.google.com/rss/articles/CBMiWkFVX3lxTE9COTVMS25IZGJDSlZTc0RROFpnYWxWY3RNSXowLXJoaG5ZSnctVUltR1h4OXRjTC1yYng2anVmN2phYUEwZVV3VVdOQUdwaUpDdkJOQzE2SDJYd9IBVkFVX3lxTE1tUmtsMmxQLU5Tb21GeGxVLVZuTzNucEVKVXdvZzNWTFRDSFppbzJQNTNYdFZCaDZ2UVBHNHZfS2ZWbFJkNldTT29taERKZFBRdEdpdkh3?oc=5)** - 한국경제\n",
            "   - 구글이 AI 전력 수요를 감당하기 위해 소형 원전에 직접 투자한다는 내용입니다.\n",
            "\n",
            "이 뉴스들은 AI 투자와 관련된 다양한 주제를 다루고 있습니다.\u001b[0m\n",
            "\n",
            "\u001b[1m> Finished chain.\u001b[0m\n",
            "Agent 실행 결과:\n",
            "다음은 AI 투자와 관련된 최근 뉴스입니다:\n",
            "\n",
            "1. **[생성형AI로 주식투자 포트폴리오 구축](https://news.google.com/rss/articles/CBMiVkFVX3lxTE53WW9YclpXM3p5SW5wQUItbENzZXFCOGFVbXFpb1ZLeW5NeXdZQnZtOG55RW5VemtEX2Q1S1BDOVNWOGsxQVd5TWp2ZkRvOWNZT2VRcU5n?oc=5)** - 네이트 뉴스\n",
            "   - 생성형 AI를 활용하여 주식 투자 포트폴리오를 구축하는 방법에 대한 기사입니다.\n",
            "\n",
            "2. **[“미래 먹거리 위해 돈싸들고 몰려온다”...‘AI 4대 석학’ 유명교수가 투자한 ‘이 나라’](https://news.google.com/rss/articles/CBMiUkFVX3lxTE43c0pjUzdDcUJ4VEZNeFotMDNXSzBYZUZVN2tRdVBBZWFkVTZodGx1V3ZRQlhMWGhxdW9RcjBFeFZ1RWlXYnZuZGUtUmhaQS1iQlE?oc=5)** - 매일경제\n",
            "   - AI 분야의 석학들이 투자하고 있는 국가에 대한 내용입니다.\n",
            "\n",
            "3. **[AI반도체 2차 랠리 시작… 삼성전자 사모은 개인투자자도 웃었다](https://news.google.com/rss/articles/CBMicEFVX3lxTE5YNW5rNDl5aEZmWVIyVTBiNE95NktpaU4wdXdvQktjdmp3eVptS3Z5TXRON0RybnZlbjM2SHpCQ2ZBa0ZhRkQyZUtZdV9FTnZxMzR0RTl4ejJ4UTFFczFUbTN2QjUxRnV2OUJLWHB1djk?oc=5)** - 아주경제\n",
            "   - AI 반도체 시장의 2차 랠리에 대한 기사로, 삼성전자의 개인 투자자들에 대한 긍정적인 소식이 포함되어 있습니다.\n",
            "\n",
            "4. **[KB자산운용, AI 비즈니스 투자 지속… 자산관리 지평 넓힌다](https://news.google.com/rss/articles/CBMiWkFVX3lxTE8xcFhGMEhWTXliazlJZGdUVmE4S2tGZ1lkRW5jYTVhckdxajI0ODVfa0FBVl9qTTR5QnE1NHY3Slg1NnBCR3BnSkNJTnkyWFdRaWRxdDhXSktoUdIBVEFVX3lxTE52aHl6dXoxZ2JueE5tUUxwNW1WMF9KVWtFSjBaY1BKaTZWYk1XUE14UGNoX2ZqWmNkeUxENm5pNjFSeTZkQUlKNGRZNHdGTnZ6Zk0zYw?oc=5)** - Investing.com\n",
            "   - KB자산운용이 AI 비즈니스에 대한 투자를 지속하고 있다는 내용입니다.\n",
            "\n",
            "5. **[\\\"AI 전력 수요 더는 감당 못해\\\"…구글, 소형 원전에 직접 투자](https://news.google.com/rss/articles/CBMiWkFVX3lxTE9COTVMS25IZGJDSlZTc0RROFpnYWxWY3RNSXowLXJoaG5ZSnctVUltR1h4OXRjTC1yYng2anVmN2phYUEwZVV3VVdOQUdwaUpDdkJOQzE2SDJYd9IBVkFVX3lxTE1tUmtsMmxQLU5Tb21GeGxVLVZuTzNucEVKVXdvZzNWTFRDSFppbzJQNTNYdFZCaDZ2UVBHNHZfS2ZWbFJkNldTT29taERKZFBRdEdpdkh3?oc=5)** - 한국경제\n",
            "   - 구글이 AI 전력 수요를 감당하기 위해 소형 원전에 직접 투자한다는 내용입니다.\n",
            "\n",
            "이 뉴스들은 AI 투자와 관련된 다양한 주제를 다루고 있습니다.\n"
          ]
        }
      ]
    },
    {
      "cell_type": "markdown",
      "source": [
        "** stream 출력으로 단계별 결과 확인**\n",
        "\n",
        "AgentExecutor의 stream() 메소드를 사용하여 에이전트의 중간 단계를 스트리밍\n",
        "\n",
        "stream()의 출력은 (Action, Observation) 쌍 사이에서 번갈아 나타나며, 최종적으로 에이전트가 목표를 달성했다면 답변으로 마무리\n",
        "\n",
        "Action 출력\n",
        "\n",
        "Observation 출력\n",
        "\n",
        "Action 출력\n",
        "\n",
        "Observation 출력\n",
        "\n",
        "... (목표 달성까지 계속) ...\n",
        "\n",
        "그 다음, 최종 목표가 달성되면 에이전트는 최종 답변을 출력\n",
        "\n",
        "![image.png](data:image/png;base64,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)\n",
        "\n"
      ],
      "metadata": {
        "id": "bSTsJVr5i5Q4"
      }
    },
    {
      "cell_type": "code",
      "source": [
        "from langchain.agents import AgentExecutor\n",
        "\n",
        "agent_executor = AgentExecutor(\n",
        "    agent = agent,\n",
        "    tools = tools,\n",
        "    verbose = False, # 실행중인 에이전트의 동작 과정을 얼마나 상세하게 출력할지 제어하는 옵션\n",
        "    handle_parsing_errors =True,\n",
        ")"
      ],
      "metadata": {
        "id": "kBdDupZMjQry"
      },
      "execution_count": 22,
      "outputs": []
    },
    {
      "cell_type": "code",
      "source": [
        "result = agent_executor.stream({\"input\":\"AI 투자와 관련된 뉴스를 검색해 주세요.\"})\n",
        "\n",
        "for step in result:\n",
        "  print(step)"
      ],
      "metadata": {
        "colab": {
          "base_uri": "https://localhost:8080/"
        },
        "id": "vGFSTOkIjmcC",
        "outputId": "2027f594-55a0-4bec-c912-3c10f19764e1"
      },
      "execution_count": 23,
      "outputs": [
        {
          "output_type": "stream",
          "name": "stdout",
          "text": [
            "{'actions': [ToolAgentAction(tool='search_news', tool_input={'query': 'AI 투자'}, log=\"\\nInvoking: `search_news` with `{'query': 'AI 투자'}`\\n\\n\\n\", message_log=[AIMessageChunk(content='', additional_kwargs={'tool_calls': [{'index': 0, 'id': 'call_YemLO1bnHbtkLLHs7ka39k8z', 'function': {'arguments': '{\"query\":\"AI 투자\"}', 'name': 'search_news'}, 'type': 'function'}]}, response_metadata={'finish_reason': 'tool_calls', 'model_name': 'gpt-4o-mini-2024-07-18', 'system_fingerprint': 'fp_e2bde53e6e'}, id='run-847bfb3a-1345-47d0-8bff-e990acc8571f', tool_calls=[{'name': 'search_news', 'args': {'query': 'AI 투자'}, 'id': 'call_YemLO1bnHbtkLLHs7ka39k8z', 'type': 'tool_call'}], tool_call_chunks=[{'name': 'search_news', 'args': '{\"query\":\"AI 투자\"}', 'id': 'call_YemLO1bnHbtkLLHs7ka39k8z', 'index': 0, 'type': 'tool_call_chunk'}])], tool_call_id='call_YemLO1bnHbtkLLHs7ka39k8z')], 'messages': [AIMessageChunk(content='', additional_kwargs={'tool_calls': [{'index': 0, 'id': 'call_YemLO1bnHbtkLLHs7ka39k8z', 'function': {'arguments': '{\"query\":\"AI 투자\"}', 'name': 'search_news'}, 'type': 'function'}]}, response_metadata={'finish_reason': 'tool_calls', 'model_name': 'gpt-4o-mini-2024-07-18', 'system_fingerprint': 'fp_e2bde53e6e'}, id='run-847bfb3a-1345-47d0-8bff-e990acc8571f', tool_calls=[{'name': 'search_news', 'args': {'query': 'AI 투자'}, 'id': 'call_YemLO1bnHbtkLLHs7ka39k8z', 'type': 'tool_call'}], tool_call_chunks=[{'name': 'search_news', 'args': '{\"query\":\"AI 투자\"}', 'id': 'call_YemLO1bnHbtkLLHs7ka39k8z', 'index': 0, 'type': 'tool_call_chunk'}])]}\n",
            "{'steps': [AgentStep(action=ToolAgentAction(tool='search_news', tool_input={'query': 'AI 투자'}, log=\"\\nInvoking: `search_news` with `{'query': 'AI 투자'}`\\n\\n\\n\", message_log=[AIMessageChunk(content='', additional_kwargs={'tool_calls': [{'index': 0, 'id': 'call_YemLO1bnHbtkLLHs7ka39k8z', 'function': {'arguments': '{\"query\":\"AI 투자\"}', 'name': 'search_news'}, 'type': 'function'}]}, response_metadata={'finish_reason': 'tool_calls', 'model_name': 'gpt-4o-mini-2024-07-18', 'system_fingerprint': 'fp_e2bde53e6e'}, id='run-847bfb3a-1345-47d0-8bff-e990acc8571f', tool_calls=[{'name': 'search_news', 'args': {'query': 'AI 투자'}, 'id': 'call_YemLO1bnHbtkLLHs7ka39k8z', 'type': 'tool_call'}], tool_call_chunks=[{'name': 'search_news', 'args': '{\"query\":\"AI 투자\"}', 'id': 'call_YemLO1bnHbtkLLHs7ka39k8z', 'index': 0, 'type': 'tool_call_chunk'}])], tool_call_id='call_YemLO1bnHbtkLLHs7ka39k8z'), observation=[{'url': 'https://news.google.com/rss/articles/CBMiVkFVX3lxTE53WW9YclpXM3p5SW5wQUItbENzZXFCOGFVbXFpb1ZLeW5NeXdZQnZtOG55RW5VemtEX2Q1S1BDOVNWOGsxQVd5TWp2ZkRvOWNZT2VRcU5n?oc=5', 'content': \"[#Let's 스타트업] 생성형AI로 주식투자 포트폴리오 구축 - 네이트 뉴스\"}, {'url': 'https://news.google.com/rss/articles/CBMiUkFVX3lxTE43c0pjUzdDcUJ4VEZNeFotMDNXSzBYZUZVN2tRdVBBZWFkVTZodGx1V3ZRQlhMWGhxdW9RcjBFeFZ1RWlXYnZuZGUtUmhaQS1iQlE?oc=5', 'content': '“미래 먹거리 위해 돈싸들고 몰려온다”...‘AI 4대 석학’ 유명교수가 투자한 ‘이 나라’ - 매일경제'}, {'url': 'https://news.google.com/rss/articles/CBMiWkFVX3lxTE9COTVMS25IZGJDSlZTc0RROFpnYWxWY3RNSXowLXJoaG5ZSnctVUltR1hPOVRjTC1yYng2anVmN2phYUEwZVV3VVdOQUdwaUpDdkJOQzE2SDJYd9IBVkFVX3lxTE1tUmtsMmxQLU5Tb21GeGxVLVZuTzNucEVKVXdvZzNWTFRDSFppbzJQNTNYdFZCaDZ2UVBHNHZfS2ZWbFJkNldTT29taERKZFBRdEdpdkh3?oc=5', 'content': 'AI반도체 2차 랠리 시작… 삼성전자 사모은 개인투자자도 웃었다 - 아주경제'}, {'url': 'https://news.google.com/rss/articles/CBMicEFVX3lxTE5YNW5rNDl5aEZmWVIyVTBiNE95NktpaU4wdXdvQktjdmp3eVptS3Z5TXRON0RybnZlbjM2SHpCQ2ZBa0ZhRkQyZUtZdV9FTnZxMzR0RTl4ejJ4UTFFczFUbTN2QjUxRnV2OUJLWHB1djk?oc=5', 'content': 'KB자산운용, AI 비즈니스 투자 지속… 자산관리 지평 넓힌다 By MoneyS - Investing.com'}, {'url': 'https://news.google.com/rss/articles/CBMiWkFVX3lxTE8xcFhGMEhWTXliazlJZGdUVmE4S2tGZ1lkRW5jYTVhckdxajI0ODVfa0FBVl9qTTR5QnE1NHY3Slg1NnBCR3BnSkNJTnkyWFdRaWRxdDhXSktoUdIBVEFVX3lxTE52aHl6dXoxZ2JueE5tUUxwNW1WMF9KVWtFSjBaY1BKaTZWYk1XUE14UGNoX2ZqWmNkeUxENm5pNjFSeTZkQUlKNGRZNHdGTnZ6Zk0zYw?oc=5', 'content': '\"AI 전력 수요 더는 감당 못해\"…구글, 소형 원전에 직접 투자 - 한국경제'}])], 'messages': [FunctionMessage(content='[{\"url\": \"https://news.google.com/rss/articles/CBMiVkFVX3lxTE53WW9YclpXM3p5SW5wQUItbENzZXFCOGFVbXFpb1ZLeW5NeXdZQnZtOG55RW5VemtEX2Q1S1BDOVNWOGsxQVd5TWp2ZkRvOWNZT2VRcU5n?oc=5\", \"content\": \"[#Let\\'s 스타트업] 생성형AI로 주식투자 포트폴리오 구축 - 네이트 뉴스\"}, {\"url\": \"https://news.google.com/rss/articles/CBMiUkFVX3lxTE43c0pjUzdDcUJ4VEZNeFotMDNXSzBYZUZVN2tRdVBBZWFkVTZodGx1V3ZRQlhMWGhxdW9RcjBFeFZ1RWlXYnZuZGUtUmhaQS1iQlE?oc=5\", \"content\": \"“미래 먹거리 위해 돈싸들고 몰려온다”...‘AI 4대 석학’ 유명교수가 투자한 ‘이 나라’ - 매일경제\"}, {\"url\": \"https://news.google.com/rss/articles/CBMiWkFVX3lxTE9COTVMS25IZGJDSlZTc0RROFpnYWxWY3RNSXowLXJoaG5ZSnctVUltR1hPOVRjTC1yYng2anVmN2phYUEwZVV3VVdOQUdwaUpDdkJOQzE2SDJYd9IBVkFVX3lxTE1tUmtsMmxQLU5Tb21GeGxVLVZuTzNucEVKVXdvZzNWTFRDSFppbzJQNTNYdFZCaDZ2UVBHNHZfS2ZWbFJkNldTT29taERKZFBRdEdpdkh3?oc=5\", \"content\": \"AI반도체 2차 랠리 시작… 삼성전자 사모은 개인투자자도 웃었다 - 아주경제\"}, {\"url\": \"https://news.google.com/rss/articles/CBMicEFVX3lxTE5YNW5rNDl5aEZmWVIyVTBiNE95NktpaU4wdXdvQktjdmp3eVptS3Z5TXRON0RybnZlbjM2SHpCQ2ZBa0ZhRkQyZUtZdV9FTnZxMzR0RTl4ejJ4UTFFczFUbTN2QjUxRnV2OUJLWHB1djk?oc=5\", \"content\": \"KB자산운용, AI 비즈니스 투자 지속… 자산관리 지평 넓힌다 By MoneyS - Investing.com\"}, {\"url\": \"https://news.google.com/rss/articles/CBMiWkFVX3lxTE8xcFhGMEhWTXliazlJZGdUVmE4S2tGZ1lkRW5jYTVhckdxajI0ODVfa0FBVl9qTTR5QnE1NHY3Slg1NnBCR3BnSkNJTnkyWFdRaWRxdDhXSktoUdIBVEFVX3lxTE52aHl6dXoxZ2JueE5tUUxwNW1WMF9KVWtFSjBaY1BKaTZWYk1XUE14UGNoX2ZqWmNkeUxENm5pNjFSeTZkQUlKNGRZNHdGTnZ6Zk0zYw?oc=5\", \"content\": \"\\\\\"AI 전력 수요 더는 감당 못해\\\\\"…구글, 소형 원전에 직접 투자 - 한국경제\"}]', additional_kwargs={}, response_metadata={}, name='search_news')]}\n",
            "{'output': '다음은 AI 투자와 관련된 최근 뉴스 기사들입니다:\\n\\n1. [생성형AI로 주식투자 포트폴리오 구축 - 네이트 뉴스](https://news.google.com/rss/articles/CBMiVkFVX3lxTE53WW9YclpXM3p5SW5wQUItbENzZXFCOGFVbXFpb1ZLeW5NeXdZQnZtOG55RW5VemtEX2Q1S1BDOVNWOGsxQVd5TWp2ZkRvOWNZT2VRcU5n?oc=5)\\n   \\n2. [“미래 먹거리 위해 돈싸들고 몰려온다”...‘AI 4대 석학’ 유명교수가 투자한 ‘이 나라’ - 매일경제](https://news.google.com/rss/articles/CBMiUkFVX3lxTE43c0pjUzdDcUJ4VEZNeFotMDNXSzBYZUZVN2tRdVBBZWFkVTZodGx1V3ZRQlhMWGhxdW9RcjBFeFZ1RWlXYnZuZGUtUmhaQS1iQlE?oc=5)\\n\\n3. [AI반도체 2차 랠리 시작… 삼성전자 사모은 개인투자자도 웃었다 - 아주경제](https://news.google.com/rss/articles/CBMiWkFVX3lxTE9COTVMS25IZGJDSlZTc0RROFpnYWxWY3RNSXowLXJoaG5ZSnctVUltR1h4OXRjTC1yYng2anVmN2phYUEwZVV3VVdOQUdwaUpDdkJOQzE2SDJYd9IBVkFVX3lxTE1tUmtsMmxQLU5Tb21GeGxVLVZuTzNucEVKVXdvZzNWTFRDSFppbzJQNTNYdFZCaDZ2UVBHNHZfS2ZWbFJkNldTT29taERKZFBRdEdpdkh3?oc=5)\\n\\n4. [KB자산운용, AI 비즈니스 투자 지속… 자산관리 지평 넓힌다 - Investing.com](https://news.google.com/rss/articles/CBMicEFVX3lxTE5YNW5rNDl5aEZmWVIyVTBiNE95NktpaU4wdXdvQktjdmp3eVptS3Z5TXRON0RybnZlbjM2SHpCQ2ZBa0ZhRkQyZUtZdV9FTnZxMzR0RTl4ejJ4UTFFczFUbTN2QjUxRnV2OUJLWHB1djk?oc=5)\\n\\n5. [\\\\\"AI 전력 수요 더는 감당 못해\\\\\"…구글, 소형 원전에 직접 투자 - 한국경제](https://news.google.com/rss/articles/CBMiWkFVX3lxTE8xcFhGMEhWTXliazlJZGdUVmE4S2tGZ1lkRW5jYTVhckdxajI0ODVfa0FBVl9qTTR5QnE1NHY3Slg1NnBCR3BnSkNJTnkyWFdRaWRxdDhXSktoUdIBVEFVX3lxTE52aHl6dXoxZ2JueE5tUUxwNW1WMF9KVWtFSjBaY1BKaTZWYk1XUE14UGNoX2ZqWmNkeUxENm5pNjFSeTZkQUlKNGRZNHdGTnZ6Zk0zYw?oc=5)\\n\\n이 기사들은 AI 투자와 관련된 다양한 주제를 다루고 있습니다. 관심 있는 내용을 클릭하여 자세히 읽어보세요!', 'messages': [AIMessage(content='다음은 AI 투자와 관련된 최근 뉴스 기사들입니다:\\n\\n1. [생성형AI로 주식투자 포트폴리오 구축 - 네이트 뉴스](https://news.google.com/rss/articles/CBMiVkFVX3lxTE53WW9YclpXM3p5SW5wQUItbENzZXFCOGFVbXFpb1ZLeW5NeXdZQnZtOG55RW5VemtEX2Q1S1BDOVNWOGsxQVd5TWp2ZkRvOWNZT2VRcU5n?oc=5)\\n   \\n2. [“미래 먹거리 위해 돈싸들고 몰려온다”...‘AI 4대 석학’ 유명교수가 투자한 ‘이 나라’ - 매일경제](https://news.google.com/rss/articles/CBMiUkFVX3lxTE43c0pjUzdDcUJ4VEZNeFotMDNXSzBYZUZVN2tRdVBBZWFkVTZodGx1V3ZRQlhMWGhxdW9RcjBFeFZ1RWlXYnZuZGUtUmhaQS1iQlE?oc=5)\\n\\n3. [AI반도체 2차 랠리 시작… 삼성전자 사모은 개인투자자도 웃었다 - 아주경제](https://news.google.com/rss/articles/CBMiWkFVX3lxTE9COTVMS25IZGJDSlZTc0RROFpnYWxWY3RNSXowLXJoaG5ZSnctVUltR1h4OXRjTC1yYng2anVmN2phYUEwZVV3VVdOQUdwaUpDdkJOQzE2SDJYd9IBVkFVX3lxTE1tUmtsMmxQLU5Tb21GeGxVLVZuTzNucEVKVXdvZzNWTFRDSFppbzJQNTNYdFZCaDZ2UVBHNHZfS2ZWbFJkNldTT29taERKZFBRdEdpdkh3?oc=5)\\n\\n4. [KB자산운용, AI 비즈니스 투자 지속… 자산관리 지평 넓힌다 - Investing.com](https://news.google.com/rss/articles/CBMicEFVX3lxTE5YNW5rNDl5aEZmWVIyVTBiNE95NktpaU4wdXdvQktjdmp3eVptS3Z5TXRON0RybnZlbjM2SHpCQ2ZBa0ZhRkQyZUtZdV9FTnZxMzR0RTl4ejJ4UTFFczFUbTN2QjUxRnV2OUJLWHB1djk?oc=5)\\n\\n5. [\\\\\"AI 전력 수요 더는 감당 못해\\\\\"…구글, 소형 원전에 직접 투자 - 한국경제](https://news.google.com/rss/articles/CBMiWkFVX3lxTE8xcFhGMEhWTXliazlJZGdUVmE4S2tGZ1lkRW5jYTVhckdxajI0ODVfa0FBVl9qTTR5QnE1NHY3Slg1NnBCR3BnSkNJTnkyWFdRaWRxdDhXSktoUdIBVEFVX3lxTE52aHl6dXoxZ2JueE5tUUxwNW1WMF9KVWtFSjBaY1BKaTZWYk1XUE14UGNoX2ZqWmNkeUxENm5pNjFSeTZkQUlKNGRZNHdGTnZ6Zk0zYw?oc=5)\\n\\n이 기사들은 AI 투자와 관련된 다양한 주제를 다루고 있습니다. 관심 있는 내용을 클릭하여 자세히 읽어보세요!', additional_kwargs={}, response_metadata={})]}\n"
          ]
        }
      ]
    },
    {
      "cell_type": "markdown",
      "source": [
        "**중간 단계 출력을 사용자 정의 함수로 출력**\n",
        "\n",
        "- tool_callback: 도구 호출 출력을 처리하는 함수\n",
        "- observation_callback: 관찰(Observation) 출력을 처리하는 함수\n",
        "- result_callback: 최종 답변 출력을 처리하는 함"
      ],
      "metadata": {
        "id": "cotkOIujliwN"
      }
    },
    {
      "cell_type": "code",
      "source": [
        "!pip install langchain-teddynote"
      ],
      "metadata": {
        "colab": {
          "base_uri": "https://localhost:8080/"
        },
        "id": "gkN_iD0kl0PE",
        "outputId": "552f0476-ae39-425b-a93e-1831f70de95c"
      },
      "execution_count": 2,
      "outputs": [
        {
          "output_type": "stream",
          "name": "stdout",
          "text": [
            "Requirement already satisfied: langchain-teddynote in /usr/local/lib/python3.10/dist-packages (0.3.7)\n",
            "Requirement already satisfied: langchain in /usr/local/lib/python3.10/dist-packages (from langchain-teddynote) (0.3.3)\n",
            "Requirement already satisfied: langgraph in /usr/local/lib/python3.10/dist-packages (from langchain-teddynote) (0.2.37)\n",
            "Requirement already satisfied: kiwipiepy in /usr/local/lib/python3.10/dist-packages (from langchain-teddynote) (0.19.0)\n",
            "Requirement already satisfied: konlpy in /usr/local/lib/python3.10/dist-packages (from langchain-teddynote) (0.6.0)\n",
            "Requirement already satisfied: rank-bm25 in /usr/local/lib/python3.10/dist-packages (from langchain-teddynote) (0.2.2)\n",
            "Requirement already satisfied: pinecone-client[grpc] in /usr/local/lib/python3.10/dist-packages (from langchain-teddynote) (5.0.1)\n",
            "Requirement already satisfied: pinecone-text in /usr/local/lib/python3.10/dist-packages (from langchain-teddynote) (0.9.0)\n",
            "Requirement already satisfied: olefile in /usr/local/lib/python3.10/dist-packages (from langchain-teddynote) (0.47)\n",
            "Requirement already satisfied: pdf2image in /usr/local/lib/python3.10/dist-packages (from langchain-teddynote) (1.17.0)\n",
            "Requirement already satisfied: openai in /usr/local/lib/python3.10/dist-packages (from langchain-teddynote) (1.51.2)\n",
            "Requirement already satisfied: deepl in /usr/local/lib/python3.10/dist-packages (from langchain-teddynote) (1.19.1)\n",
            "Requirement already satisfied: feedparser in /usr/local/lib/python3.10/dist-packages (from langchain-teddynote) (6.0.11)\n",
            "Requirement already satisfied: requests<3,>=2 in /usr/local/lib/python3.10/dist-packages (from deepl->langchain-teddynote) (2.32.3)\n",
            "Requirement already satisfied: sgmllib3k in /usr/local/lib/python3.10/dist-packages (from feedparser->langchain-teddynote) (1.0.0)\n",
            "Requirement already satisfied: kiwipiepy-model<0.20,>=0.19 in /usr/local/lib/python3.10/dist-packages (from kiwipiepy->langchain-teddynote) (0.19.0)\n",
            "Requirement already satisfied: tqdm in /usr/local/lib/python3.10/dist-packages (from kiwipiepy->langchain-teddynote) (4.66.5)\n",
            "Requirement already satisfied: numpy in /usr/local/lib/python3.10/dist-packages (from kiwipiepy->langchain-teddynote) (1.26.4)\n",
            "Requirement already satisfied: JPype1>=0.7.0 in /usr/local/lib/python3.10/dist-packages (from konlpy->langchain-teddynote) (1.5.0)\n",
            "Requirement already satisfied: lxml>=4.1.0 in /usr/local/lib/python3.10/dist-packages (from konlpy->langchain-teddynote) (4.9.4)\n",
            "Requirement already satisfied: PyYAML>=5.3 in /usr/local/lib/python3.10/dist-packages (from langchain->langchain-teddynote) (6.0.2)\n",
            "Requirement already satisfied: SQLAlchemy<3,>=1.4 in /usr/local/lib/python3.10/dist-packages (from langchain->langchain-teddynote) (2.0.35)\n",
            "Requirement already satisfied: aiohttp<4.0.0,>=3.8.3 in /usr/local/lib/python3.10/dist-packages (from langchain->langchain-teddynote) (3.10.10)\n",
            "Requirement already satisfied: async-timeout<5.0.0,>=4.0.0 in /usr/local/lib/python3.10/dist-packages (from langchain->langchain-teddynote) (4.0.3)\n",
            "Requirement already satisfied: langchain-core<0.4.0,>=0.3.10 in /usr/local/lib/python3.10/dist-packages (from langchain->langchain-teddynote) (0.3.10)\n",
            "Requirement already satisfied: langchain-text-splitters<0.4.0,>=0.3.0 in /usr/local/lib/python3.10/dist-packages (from langchain->langchain-teddynote) (0.3.0)\n",
            "Requirement already satisfied: langsmith<0.2.0,>=0.1.17 in /usr/local/lib/python3.10/dist-packages (from langchain->langchain-teddynote) (0.1.135)\n",
            "Requirement already satisfied: pydantic<3.0.0,>=2.7.4 in /usr/local/lib/python3.10/dist-packages (from langchain->langchain-teddynote) (2.9.2)\n",
            "Requirement already satisfied: tenacity!=8.4.0,<9.0.0,>=8.1.0 in /usr/local/lib/python3.10/dist-packages (from langchain->langchain-teddynote) (8.5.0)\n",
            "Requirement already satisfied: langgraph-checkpoint<3.0.0,>=2.0.0 in /usr/local/lib/python3.10/dist-packages (from langgraph->langchain-teddynote) (2.0.1)\n",
            "Requirement already satisfied: langgraph-sdk<0.2.0,>=0.1.32 in /usr/local/lib/python3.10/dist-packages (from langgraph->langchain-teddynote) (0.1.33)\n",
            "Requirement already satisfied: anyio<5,>=3.5.0 in /usr/local/lib/python3.10/dist-packages (from openai->langchain-teddynote) (3.7.1)\n",
            "Requirement already satisfied: distro<2,>=1.7.0 in /usr/lib/python3/dist-packages (from openai->langchain-teddynote) (1.7.0)\n",
            "Requirement already satisfied: httpx<1,>=0.23.0 in /usr/local/lib/python3.10/dist-packages (from openai->langchain-teddynote) (0.27.2)\n",
            "Requirement already satisfied: jiter<1,>=0.4.0 in /usr/local/lib/python3.10/dist-packages (from openai->langchain-teddynote) (0.6.1)\n",
            "Requirement already satisfied: sniffio in /usr/local/lib/python3.10/dist-packages (from openai->langchain-teddynote) (1.3.1)\n",
            "Requirement already satisfied: typing-extensions<5,>=4.11 in /usr/local/lib/python3.10/dist-packages (from openai->langchain-teddynote) (4.12.2)\n",
            "Requirement already satisfied: pillow in /usr/local/lib/python3.10/dist-packages (from pdf2image->langchain-teddynote) (10.4.0)\n",
            "Requirement already satisfied: certifi>=2019.11.17 in /usr/local/lib/python3.10/dist-packages (from pinecone-client[grpc]->langchain-teddynote) (2024.8.30)\n",
            "Requirement already satisfied: pinecone-plugin-inference<2.0.0,>=1.0.3 in /usr/local/lib/python3.10/dist-packages (from pinecone-client[grpc]->langchain-teddynote) (1.1.0)\n",
            "Requirement already satisfied: pinecone-plugin-interface<0.0.8,>=0.0.7 in /usr/local/lib/python3.10/dist-packages (from pinecone-client[grpc]->langchain-teddynote) (0.0.7)\n",
            "Requirement already satisfied: urllib3>=1.26.0 in /usr/local/lib/python3.10/dist-packages (from pinecone-client[grpc]->langchain-teddynote) (2.2.3)\n",
            "Requirement already satisfied: googleapis-common-protos>=1.53.0 in /usr/local/lib/python3.10/dist-packages (from pinecone-client[grpc]->langchain-teddynote) (1.65.0)\n",
            "Requirement already satisfied: grpcio>=1.44.0 in /usr/local/lib/python3.10/dist-packages (from pinecone-client[grpc]->langchain-teddynote) (1.64.1)\n",
            "Requirement already satisfied: lz4>=3.1.3 in /usr/local/lib/python3.10/dist-packages (from pinecone-client[grpc]->langchain-teddynote) (4.3.3)\n",
            "Requirement already satisfied: protobuf<5.0,>=4.25 in /usr/local/lib/python3.10/dist-packages (from pinecone-client[grpc]->langchain-teddynote) (4.25.5)\n",
            "Requirement already satisfied: protoc-gen-openapiv2<0.0.2,>=0.0.1 in /usr/local/lib/python3.10/dist-packages (from pinecone-client[grpc]->langchain-teddynote) (0.0.1)\n",
            "Requirement already satisfied: mmh3<5.0.0,>=4.1.0 in /usr/local/lib/python3.10/dist-packages (from pinecone-text->langchain-teddynote) (4.1.0)\n",
            "Requirement already satisfied: nltk<4.0.0,>=3.6.5 in /usr/local/lib/python3.10/dist-packages (from pinecone-text->langchain-teddynote) (3.8.1)\n",
            "Requirement already satisfied: python-dotenv<2.0.0,>=1.0.1 in /usr/local/lib/python3.10/dist-packages (from pinecone-text->langchain-teddynote) (1.0.1)\n",
            "Requirement already satisfied: types-requests<3.0.0,>=2.25.0 in /usr/local/lib/python3.10/dist-packages (from pinecone-text->langchain-teddynote) (2.32.0.20240914)\n",
            "Requirement already satisfied: wget<4.0,>=3.2 in /usr/local/lib/python3.10/dist-packages (from pinecone-text->langchain-teddynote) (3.2)\n",
            "Requirement already satisfied: aiohappyeyeballs>=2.3.0 in /usr/local/lib/python3.10/dist-packages (from aiohttp<4.0.0,>=3.8.3->langchain->langchain-teddynote) (2.4.3)\n",
            "Requirement already satisfied: aiosignal>=1.1.2 in /usr/local/lib/python3.10/dist-packages (from aiohttp<4.0.0,>=3.8.3->langchain->langchain-teddynote) (1.3.1)\n",
            "Requirement already satisfied: attrs>=17.3.0 in /usr/local/lib/python3.10/dist-packages (from aiohttp<4.0.0,>=3.8.3->langchain->langchain-teddynote) (24.2.0)\n",
            "Requirement already satisfied: frozenlist>=1.1.1 in /usr/local/lib/python3.10/dist-packages (from aiohttp<4.0.0,>=3.8.3->langchain->langchain-teddynote) (1.4.1)\n",
            "Requirement already satisfied: multidict<7.0,>=4.5 in /usr/local/lib/python3.10/dist-packages (from aiohttp<4.0.0,>=3.8.3->langchain->langchain-teddynote) (6.1.0)\n",
            "Requirement already satisfied: yarl<2.0,>=1.12.0 in /usr/local/lib/python3.10/dist-packages (from aiohttp<4.0.0,>=3.8.3->langchain->langchain-teddynote) (1.14.0)\n",
            "Requirement already satisfied: idna>=2.8 in /usr/local/lib/python3.10/dist-packages (from anyio<5,>=3.5.0->openai->langchain-teddynote) (3.10)\n",
            "Requirement already satisfied: exceptiongroup in /usr/local/lib/python3.10/dist-packages (from anyio<5,>=3.5.0->openai->langchain-teddynote) (1.2.2)\n",
            "Requirement already satisfied: httpcore==1.* in /usr/local/lib/python3.10/dist-packages (from httpx<1,>=0.23.0->openai->langchain-teddynote) (1.0.6)\n",
            "Requirement already satisfied: h11<0.15,>=0.13 in /usr/local/lib/python3.10/dist-packages (from httpcore==1.*->httpx<1,>=0.23.0->openai->langchain-teddynote) (0.14.0)\n",
            "Requirement already satisfied: packaging in /usr/local/lib/python3.10/dist-packages (from JPype1>=0.7.0->konlpy->langchain-teddynote) (24.1)\n",
            "Requirement already satisfied: jsonpatch<2.0,>=1.33 in /usr/local/lib/python3.10/dist-packages (from langchain-core<0.4.0,>=0.3.10->langchain->langchain-teddynote) (1.33)\n",
            "Requirement already satisfied: msgpack<2.0.0,>=1.1.0 in /usr/local/lib/python3.10/dist-packages (from langgraph-checkpoint<3.0.0,>=2.0.0->langgraph->langchain-teddynote) (1.1.0)\n",
            "Requirement already satisfied: httpx-sse>=0.4.0 in /usr/local/lib/python3.10/dist-packages (from langgraph-sdk<0.2.0,>=0.1.32->langgraph->langchain-teddynote) (0.4.0)\n",
            "Requirement already satisfied: orjson>=3.10.1 in /usr/local/lib/python3.10/dist-packages (from langgraph-sdk<0.2.0,>=0.1.32->langgraph->langchain-teddynote) (3.10.7)\n",
            "Requirement already satisfied: requests-toolbelt<2.0.0,>=1.0.0 in /usr/local/lib/python3.10/dist-packages (from langsmith<0.2.0,>=0.1.17->langchain->langchain-teddynote) (1.0.0)\n",
            "Requirement already satisfied: click in /usr/local/lib/python3.10/dist-packages (from nltk<4.0.0,>=3.6.5->pinecone-text->langchain-teddynote) (8.1.7)\n",
            "Requirement already satisfied: joblib in /usr/local/lib/python3.10/dist-packages (from nltk<4.0.0,>=3.6.5->pinecone-text->langchain-teddynote) (1.4.2)\n",
            "Requirement already satisfied: regex>=2021.8.3 in /usr/local/lib/python3.10/dist-packages (from nltk<4.0.0,>=3.6.5->pinecone-text->langchain-teddynote) (2024.9.11)\n",
            "Requirement already satisfied: annotated-types>=0.6.0 in /usr/local/lib/python3.10/dist-packages (from pydantic<3.0.0,>=2.7.4->langchain->langchain-teddynote) (0.7.0)\n",
            "Requirement already satisfied: pydantic-core==2.23.4 in /usr/local/lib/python3.10/dist-packages (from pydantic<3.0.0,>=2.7.4->langchain->langchain-teddynote) (2.23.4)\n",
            "Requirement already satisfied: charset-normalizer<4,>=2 in /usr/local/lib/python3.10/dist-packages (from requests<3,>=2->deepl->langchain-teddynote) (3.4.0)\n",
            "Requirement already satisfied: greenlet!=0.4.17 in /usr/local/lib/python3.10/dist-packages (from SQLAlchemy<3,>=1.4->langchain->langchain-teddynote) (3.1.1)\n",
            "Requirement already satisfied: jsonpointer>=1.9 in /usr/local/lib/python3.10/dist-packages (from jsonpatch<2.0,>=1.33->langchain-core<0.4.0,>=0.3.10->langchain->langchain-teddynote) (3.0.0)\n",
            "Requirement already satisfied: propcache>=0.2.0 in /usr/local/lib/python3.10/dist-packages (from yarl<2.0,>=1.12.0->aiohttp<4.0.0,>=3.8.3->langchain->langchain-teddynote) (0.2.0)\n"
          ]
        }
      ]
    },
    {
      "cell_type": "code",
      "source": [
        "from langchain_teddynote.messages import AgentStreamParser\n",
        "\n",
        "agent_stream_parser = AgentStreamParser()"
      ],
      "metadata": {
        "id": "FSQB69EYlrxw"
      },
      "execution_count": 5,
      "outputs": []
    },
    {
      "cell_type": "code",
      "source": [
        "result = agent_executor.stream({\"input\":\"matplotlib을 사용하여 pie 차트를 그리는 코드를 작성하고 실행하시오.\"})\n",
        "\n",
        "for step in result:\n",
        "  agent_stream_parser.process_agent_steps(step)"
      ],
      "metadata": {
        "colab": {
          "base_uri": "https://localhost:8080/",
          "height": 1000
        },
        "id": "mwVi752amCV1",
        "outputId": "47229780-ae52-40b4-c84e-2a954ac7c296"
      },
      "execution_count": 24,
      "outputs": [
        {
          "output_type": "stream",
          "name": "stderr",
          "text": [
            "WARNING:langchain_experimental.utilities.python:Python REPL can execute arbitrary code. Use with caution.\n"
          ]
        },
        {
          "output_type": "stream",
          "name": "stdout",
          "text": [
            "[도구 호출]\n",
            "Tool: python_repl_tool\n",
            "code: import matplotlib.pyplot as plt\n",
            "\n",
            "# 데이터\n",
            "sizes = [15, 30, 45, 10]\n",
            "labels = ['A', 'B', 'C', 'D']\n",
            "colors = ['gold', 'lightcoral', 'lightskyblue', 'lightgreen']\n",
            "\n",
            "# 파이 차트 그리기\n",
            "plt.figure(figsize=(8, 6))\n",
            "plt.pie(sizes, labels=labels, colors=colors, autopct='%1.1f%%', startangle=140)\n",
            "plt.axis('equal')  # Equal aspect ratio ensures that pie is drawn as a circle.\n",
            "plt.title('Pie Chart Example')\n",
            "plt.show()\n",
            "Log: \n",
            "Invoking: `python_repl_tool` with `{'code': \"import matplotlib.pyplot as plt\\n\\n# 데이터\\nsizes = [15, 30, 45, 10]\\nlabels = ['A', 'B', 'C', 'D']\\ncolors = ['gold', 'lightcoral', 'lightskyblue', 'lightgreen']\\n\\n# 파이 차트 그리기\\nplt.figure(figsize=(8, 6))\\nplt.pie(sizes, labels=labels, colors=colors, autopct='%1.1f%%', startangle=140)\\nplt.axis('equal')  # Equal aspect ratio ensures that pie is drawn as a circle.\\nplt.title('Pie Chart Example')\\nplt.show()\"}`\n",
            "\n",
            "\n",
            "\n"
          ]
        },
        {
          "output_type": "display_data",
          "data": {
            "text/plain": [
              "<Figure size 800x600 with 1 Axes>"
            ],
            "image/png": "[encoded data removed]"
          },
          "metadata": {}
        },
        {
          "output_type": "stream",
          "name": "stdout",
          "text": [
            "[관찰 내용]\n",
            "Observation: \n",
            "[최종 답변]\n",
            "코드 실행 결과로 파이 차트가 생성되었습니다. 이 차트는 각 카테고리(A, B, C, D)의 비율을 시각적으로 나타냅니다. 각 조각의 크기는 주어진 데이터에 따라 다르며, 퍼센트 값도 표시되어 있습니다. \n",
            "\n",
            "차트의 제목은 \"Pie Chart Example\"입니다.\n"
          ]
        }
      ]
    },
    {
      "cell_type": "code",
      "source": [
        "# callback을 수정하여 사용하는 방법\n",
        "\n",
        "# AgentCallbacks와 AgentStreamParser를 langchain_teddynote.messages에서 가져옵니다.\n",
        "from langchain_teddynote.messages import AgentCallbacks, AgentStreamParser\n",
        "\n",
        "\n",
        "# 도구 호출 시 실행되는 콜백 함수입니다.\n",
        "def tool_callback(tool) -> None:\n",
        "    print(\"<<<<<<< 도구 호출 >>>>>>\")\n",
        "    print(f\"Tool: {tool.get('tool')}\")  # 사용된 도구의 이름을 출력합니다.\n",
        "    print(\"<<<<<<< 도구 호출 >>>>>>\")\n",
        "\n",
        "\n",
        "# 관찰 결과를 출력하는 콜백 함수입니다.\n",
        "def observation_callback(observation) -> None:\n",
        "    print(\"<<<<<<< 관찰 내용 >>>>>>\")\n",
        "    print(\n",
        "        f\"Observation: {observation.get('observation')[0]}\"\n",
        "    )  # 관찰 내용을 출력합니다.\n",
        "    print(\"<<<<<<< 관찰 내용 >>>>>>\")\n",
        "\n",
        "\n",
        "# 최종 결과를 출력하는 콜백 함수입니다.\n",
        "def result_callback(result: str) -> None:\n",
        "    print(\"<<<<<<< 최종 답변 >>>>>>\")\n",
        "    print(result)  # 최종 답변을 출력합니다.\n",
        "    print(\"<<<<<<< 최종 답변 >>>>>>\")\n",
        "\n",
        "\n",
        "# AgentCallbacks 객체를 생성하여 각 단계별 콜백 함수를 설정합니다.\n",
        "agent_callbacks = AgentCallbacks(\n",
        "    tool_callback=tool_callback,\n",
        "    observation_callback=observation_callback,\n",
        "    result_callback=result_callback,\n",
        ")\n",
        "\n",
        "# AgentStreamParser 객체를 생성하여 에이전트의 실행 과정을 파싱합니다.\n",
        "agent_stream_parser = AgentStreamParser(agent_callbacks)\n"
      ],
      "metadata": {
        "id": "VM4pexOPm7Ng"
      },
      "execution_count": 26,
      "outputs": []
    },
    {
      "cell_type": "code",
      "source": [
        "result = agent_executor.stream({\"input\":\"AI 투자관련 뉴스를 검색해 주세요.\"})\n",
        "\n",
        "for step in result:\n",
        "  agent_stream_parser.process_agent_steps(step)"
      ],
      "metadata": {
        "colab": {
          "base_uri": "https://localhost:8080/"
        },
        "id": "AW2sP29mnEGH",
        "outputId": "479c0f4d-36b1-4913-8fad-beca5cb494d3"
      },
      "execution_count": 27,
      "outputs": [
        {
          "output_type": "stream",
          "name": "stdout",
          "text": [
            "<<<<<<< 도구 호출 >>>>>>\n",
            "Tool: search_news\n",
            "<<<<<<< 도구 호출 >>>>>>\n",
            "<<<<<<< 관찰 내용 >>>>>>\n",
            "Observation: {'url': 'https://news.google.com/rss/articles/CBMiVkFVX3lxTE53WW9YclpXM3p5SW5wQUItbENzZXFCOGFVbXFpb1ZLeW5NeXdZQnZtOG55RW5VemtEX2Q1S1BDOVNWOGsxQVd5TWp2ZkRvOWNZT2VRcU5n?oc=5', 'content': \"[#Let's 스타트업] 생성형AI로 주식투자 포트폴리오 구축 - 네이트 뉴스\"}\n",
            "<<<<<<< 관찰 내용 >>>>>>\n",
            "<<<<<<< 최종 답변 >>>>>>\n",
            "다음은 AI 투자와 관련된 최근 뉴스 기사들입니다:\n",
            "\n",
            "1. [생성형AI로 주식투자 포트폴리오 구축 - 네이트 뉴스](https://news.google.com/rss/articles/CBMiVkFVX3lxTE53WW9YclpXM3p5SW5wQUItbENzZXFCOGFVbXFpb1ZLeW5NeXdZQnZtOG55RW5VemtEX2Q1S1BDOVNWOGsxQVd5TWp2ZkRvOWNZT2VRcU5n?oc=5)\n",
            "\n",
            "2. [“미래 먹거리 위해 돈싸들고 몰려온다”...‘AI 4대 석학’ 유명교수가 투자한 ‘이 나라’ - 매일경제](https://news.google.com/rss/articles/CBMiUkFVX3lxTE43c0pjUzdDcUJ4VEZNeFotMDNXSzBYZUZVN2tRdVBBZWFkVTZodGx1V3ZRQlhMWGhxdW9RcjBFeFZ1RWlXYnZuZGUtUmhaQS1iQlE?oc=5)\n",
            "\n",
            "3. [AI반도체 2차 랠리 시작… 삼성전자 사모은 개인투자자도 웃었다 - 아주경제](https://news.google.com/rss/articles/CBMiWkFVX3lxTE9COTVMS25IZGJDSlZTc0RROFpnYWxWY3RNSXowLXJoaG5ZSnctVUltR1h4OXRjTC1yYng2anVmN2phYUEwZVV3VVdOQUdwaUpDdkJOQzE2SDJYd9IBVkFVX3lxTE1tUmtsMmxQLU5Tb21GeGxVLVZuTzNucEVKVXdvZzNWTFRDSFppbzJQNTNYdFZCaDZ2UVBHNHZfS2ZWbFJkNldTT29taERKZFBRdEdpdkh3?oc=5)\n",
            "\n",
            "4. [KB자산운용, AI 비즈니스 투자 지속… 자산관리 지평 넓힌다 - Investing.com](https://news.google.com/rss/articles/CBMicEFVX3lxTE5YNW5rNDl5aEZmWVIyVTBiNE95NktpaU4wdXdvQktjdmp3eVptS3Z5TXRON0RybnZlbjM2SHpCQ2ZBa0ZhRkQyZUtZdV9FTnZxMzR0RTl4ejJ4UTFFczFUbTN2QjUxRnV2OUJLWHB1djk?oc=5)\n",
            "\n",
            "5. [\\\"AI 전력 수요 더는 감당 못해\\\"…구글, 소형 원전에 직접 투자 - 한국경제](https://news.google.com/rss/articles/CBMiWkFVX3lxTE8xcFhGMEhWTXliazlJZGdUVmE4S2tGZ1lkRW5jYTVhckdxajI0ODVfa0FBVl9qTTR5QnE1NHY3Slg1NnBCR3BnSkNJTnkyWFdRaWRxdDhXSktoUdIBVEFVX3lxTE52aHl6dXoxZ2JueE5tUUxwNW1WMF9KVWtFSjBaY1BKaTZWYk1XUE14UGNoX2ZqWmNkeUxENm5pNjFSeTZkQUlKNGRZNHdGTnZ6Zk0zYw?oc=5)\n",
            "\n",
            "이 기사들은 AI 투자와 관련된 다양한 주제를 다루고 있습니다. 관심 있는 내용을 클릭하여 자세히 읽어보세요!\n",
            "<<<<<<< 최종 답변 >>>>>>\n"
          ]
        }
      ]
    },
    {
      "cell_type": "markdown",
      "source": [
        "**이전 대화 내용 기억하는 Agent**\n",
        "\n",
        "이전의 대화내용을 기억하기 위해서는 RunnableWithMessageHistory 를 사용하여 AgentExecutor 를 감싸준다."
      ],
      "metadata": {
        "id": "RbHVquUGnU6b"
      }
    },
    {
      "cell_type": "code",
      "source": [
        "from langchain_community.chat_message_histories import ChatMessageHistory\n",
        "from langchain_core.runnables.history import RunnableWithMessageHistory\n",
        "\n",
        "store ={}\n",
        "\n",
        "# session id를 기반으로 세션 기록을 가져오는 함수\n",
        "def get_session_history(session_ids):\n",
        "  if session_ids not in store:\n",
        "    store[session_ids] = ChatMessageHistory() # 객체를 생성하여 store에 저장\n",
        "  return store[session_ids] # 해당 세션 ID에 대한 세션 기록 반환\n",
        "\n",
        "agent_with_chat_history = RunnableWithMessageHistory(\n",
        "    agent_executor,\n",
        "    get_session_history,  # 대화 session id\n",
        "    input_messages_key = \"input\",  # 프롬프트의 질문이 입력되는 key\n",
        "    history_messages_key = \"chat_history\",  # 프롬프트의 메시지가 입력되는 key\n",
        ")\n",
        "\n"
      ],
      "metadata": {
        "id": "t56hKAVQndc9"
      },
      "execution_count": 75,
      "outputs": []
    },
    {
      "cell_type": "code",
      "source": [
        "response = agent_with_chat_history.stream(\n",
        "    {\"input\":\"안녕 내이름은 민디야\"},\n",
        "    config = {\"configurable\":{\"session_id\":\"abc123\"}},  # session_id 설정\n",
        ")\n",
        "\n",
        "for step in response:\n",
        "  agent_stream_parser.process_agent_steps(step)"
      ],
      "metadata": {
        "colab": {
          "base_uri": "https://localhost:8080/"
        },
        "id": "Q3wqERMapAT1",
        "outputId": "7aabad53-a217-4b0d-eed2-3972456fafde"
      },
      "execution_count": 76,
      "outputs": [
        {
          "output_type": "stream",
          "name": "stdout",
          "text": [
            "<<<<<<< 최종 답변 >>>>>>\n",
            "안녕하세요, 민디님! 어떻게 도와드릴까요?\n",
            "<<<<<<< 최종 답변 >>>>>>\n"
          ]
        }
      ]
    },
    {
      "cell_type": "code",
      "source": [
        "\n",
        "\n",
        "\n",
        "response = agent_with_chat_history.stream(\n",
        "    {\"input\": \"내 이름이 뭐라고?\"},\n",
        "    # session_id 설정\n",
        "    config={\"configurable\": {\"session_id\": \"abc123\"}},\n",
        "\n",
        ")\n",
        "\n",
        "# 출력 확인\n",
        "for step in response:\n",
        "    agent_stream_parser.process_agent_steps(step)\n"
      ],
      "metadata": {
        "colab": {
          "base_uri": "https://localhost:8080/"
        },
        "id": "3chqrcBHqkVt",
        "outputId": "169cedec-7a22-4c80-eebf-dd1eab304899"
      },
      "execution_count": 78,
      "outputs": [
        {
          "output_type": "stream",
          "name": "stdout",
          "text": [
            "<<<<<<< 최종 답변 >>>>>>\n",
            "민디님이라고 하셨습니다. 맞나요?\n",
            "<<<<<<< 최종 답변 >>>>>>\n"
          ]
        }
      ]
    },
    {
      "cell_type": "code",
      "source": [
        "response = agent_with_chat_history.stream(\n",
        "    {\n",
        "        \"input\": \"내 이메일 주소는 dsf@naber.com이야 회사이름은 테이노트 주식회사야.\"\n",
        "    },\n",
        "    config = {\"configurable\":{\"session_id\":\"abc123\"}},\n",
        ")\n",
        "\n",
        "\n",
        "for step in response:\n",
        "  agent_stream_parser.process_agent_steps(step)"
      ],
      "metadata": {
        "colab": {
          "base_uri": "https://localhost:8080/"
        },
        "id": "8EnZgkdxroqk",
        "outputId": "74c0b153-e188-4011-bcec-763668901578"
      },
      "execution_count": 81,
      "outputs": [
        {
          "output_type": "stream",
          "name": "stdout",
          "text": [
            "<<<<<<< 도구 호출 >>>>>>\n",
            "Tool: search_news\n",
            "<<<<<<< 도구 호출 >>>>>>\n",
            "<<<<<<< 관찰 내용 >>>>>>\n",
            "Observation: {'url': 'https://news.google.com/rss/articles/CBMiakFVX3lxTFB6b3FPREFINURLSy1pVUZDbXB4X3JwaW1fVGNCRks1RklJMDFNTWxCbURTbGMwU05kWVRRLU9xNnVFUkNPVFNLaUlTOThQaDRoQzlKQWtsQnVETnFqbEhGc2hIQnU2RERoS3c?oc=5', 'content': '인사이드 구글 - The Keyword'}\n",
            "<<<<<<< 관찰 내용 >>>>>>\n",
            "<<<<<<< 최종 답변 >>>>>>\n",
            "아래는 셜리 상무님께 보낼 이메일 본문입니다.\n",
            "\n",
            "---\n",
            "\n",
            "**수신인:** 셜리 상무님  \n",
            "**발신인:** 민디 (dsf@naber.com)  \n",
            "**회사:** 테이노트 주식회사  \n",
            "\n",
            "안녕하세요, 셜리 상무님.\n",
            "\n",
            "최근의 주요 뉴스들을 아래와 같이 정리하였습니다. 확인해 주시기 바랍니다.\n",
            "\n",
            "1. [인사이드 구글 - The Keyword](https://news.google.com/rss/articles/CBMiakFVX3lxTFB6b3FPREFINURLSy1pVUZDbXB4X3JwaW1fVGNCRks1RklJMDFNTWxCbURTbGMwU05kWVRRLU9xNnVFUkNPVFNLaUlTOThQaDRoQzlKQWtsQnVETnFqbEhGc2hIQnU2RERoS3c?oc=5)\n",
            "2. [쯔진산 아틀라스 혜성, 지구 접근으로 국내 각지에서 관측 - nhk.or.jp](https://news.google.com/rss/articles/CBMiZ0FVX3lxTFB2NGNyQkc5bURUVy1Mbm9xSVJOODNXRmhsYzE1dVQ3cDNhNUJwSGt1Z2l4dm9NWkliQnJXMFpxSDhDMGZoNlFMNkt3R2cyZVJ4azVFRC1aNWlmd1B1WWpEQllUUkRTS0U?oc=5)\n",
            "3. [그라피소프트, 2024년 최신 제품 라인업 발표 - 뉴스와이어](https://news.google.com/rss/articles/CBMiXkFVX3lxTE50dFJoNXBRaklHdVU2ZDc5eVp4ak1LUXhJanhuRkd4VHdDYXBpeWlRei0zRDV4UHhIVk9UZ0ZqYkw1TXdlc2h3YzB3ZWNjT3JxX0oxc0NreEVtSDZGOVE?oc=5)\n",
            "4. [최신 분만실 있지만 딴 곳으로 가는 산모들... 왜? - 오마이뉴스](https://news.google.com/rss/articles/CBMid0FVX3lxTE56WEhmenF2c1pMN1BwUmowZVBNUVJQUjhwSDhIQkt6aEIwN0RlcTZRZUV2REdPLW8wcmhNUVRFWUdpTlJsQ2ZLRGtySFAyMW9WWUkzNXZyVDd5Vm9VQlRhZ19PRk0xQnJRYkNhUjNwMXNuLS1Ga2N3?oc=5)\n",
            "5. [中 선장철도 중산구간, 야간 작업으로 분주 최신 뉴스 온라인 선전시 정부 - sz.gov.cn](https://news.google.com/rss/articles/CBMieEFVX3lxTFB1Y0JwSUd4MXVIbUNTUEpRMVJVcXZaT01WZWJaZTNVMFZxTGVWMldHT3l5X0hIRTdlX3hZTXgyQTA0UkxISjZWRDk3M3E4YzJqODZKN1lST0JBaC14cC1lZmNxdi1QeFZCeFBlTHRrWEhlS1REb2g2RQ?oc=5)\n",
            "\n",
            "이 정보가 도움이 되길 바랍니다. 추가로 궁금하신 사항이 있으시면 언제든지 말씀해 주세요.\n",
            "\n",
            "감사합니다.\n",
            "\n",
            "민디 드림\n",
            "\n",
            "---\n",
            "\n",
            "이메일을 보내실 준비가 되셨나요? 추가로 수정할 부분이 있으면 말씀해 주세요!\n",
            "<<<<<<< 최종 답변 >>>>>>\n"
          ]
        }
      ]
    },
    {
      "cell_type": "code",
      "source": [
        "# 질의에 대한 답변을 스트리밍으로 출력 요청\n",
        "response = agent_with_chat_history.stream(\n",
        "    {\n",
        "        \"input\": \"최신 뉴스 5개를 검색해서 이메일의 본문으로 작성해줘. \"\n",
        "        \"수신인에는 `셜리 상무님` 그리고, 발신인에는 내 인적정보를 적어줘.\"\n",
        "        \"정중한 어조로 작성하고, 메일의 시작과 끝에는 적절한 인사말과 맺음말을 적어줘.\"\n",
        "    },\n",
        "    # session_id 설정\n",
        "    config={\"configurable\": {\"session_id\": \"abc123\"}},\n",
        ")\n",
        "\n",
        "# 출력 확인\n",
        "for step in response:\n",
        "    agent_stream_parser.process_agent_steps(step)\n"
      ],
      "metadata": {
        "colab": {
          "base_uri": "https://localhost:8080/"
        },
        "id": "s-odN9xNs_tU",
        "outputId": "2e59e5d9-9145-45cc-82da-6328107a7e70"
      },
      "execution_count": 80,
      "outputs": [
        {
          "output_type": "stream",
          "name": "stdout",
          "text": [
            "<<<<<<< 도구 호출 >>>>>>\n",
            "Tool: search_news\n",
            "<<<<<<< 도구 호출 >>>>>>\n",
            "<<<<<<< 관찰 내용 >>>>>>\n",
            "Observation: {'url': 'https://news.google.com/rss/articles/CBMiakFVX3lxTFB6b3FPREFINURLSy1pVUZDbXB4X3JwaW1fVGNCRks1RklJMDFNTWxCbURTbGMwU05kWVRRLU9xNnVFUkNPVFNLaUlTOThQaDRoQzlKQWtsQnVETnFqbEhGc2hIQnU2RERoS3c?oc=5', 'content': '인사이드 구글 - The Keyword'}\n",
            "<<<<<<< 관찰 내용 >>>>>>\n",
            "<<<<<<< 최종 답변 >>>>>>\n",
            "아래는 셜리 상무님께 보낼 이메일 본문입니다.\n",
            "\n",
            "---\n",
            "\n",
            "**수신인:** 셜리 상무님  \n",
            "**발신인:** 민디 (dsf@naber.com)  \n",
            "\n",
            "안녕하세요, 셜리 상무님.\n",
            "\n",
            "최근의 주요 뉴스들을 아래와 같이 정리하였습니다. 확인해 주시기 바랍니다.\n",
            "\n",
            "1. [인사이드 구글 - The Keyword](https://news.google.com/rss/articles/CBMiakFVX3lxTFB6b3FPREFINURLSy1pVUZDbXB4X3JwaW1fVGNCRks1RklJMDFNTWxCbURTbGMwU05kWVRRLU9xNnVFUkNPVFNLaUlTOThQaDRoQzlKQWtsQnVETnFqbEhGc2hIQnU2RERoS3c?oc=5)\n",
            "2. [쯔진산 아틀라스 혜성, 지구 접근으로 국내 각지에서 관측 - nhk.or.jp](https://news.google.com/rss/articles/CBMiZ0FVX3lxTFB2NGNyQkc5bURUVy1Mbm9xSVJOODNXRmhsYzE1dVQ3cDNhNUJwSGt1Z2l4dm9NWkliQnJXMFpxSDhDMGZoNlFMNkt3R2cyZVJ4azVFRC1aNWlmd1B1WWpEQllUUkRTS0U?oc=5)\n",
            "3. [그라피소프트, 2024년 최신 제품 라인업 발표 - 뉴스와이어](https://news.google.com/rss/articles/CBMiXkFVX3lxTE50dFJoNXBRaklHdVU2ZDc5eVp4ak1LUXhJanhuRkd4VHdDYXBpeWlRei0zRDV4UHhIVk9UZ0ZqYkw1TXdlc2h3YzB3ZWNjT3JxX0oxc0NreEVtSDZGOVE?oc=5)\n",
            "4. [최신 분만실 있지만 딴 곳으로 가는 산모들... 왜? - 오마이뉴스](https://news.google.com/rss/articles/CBMid0FVX3lxTE56WEhmenF2c1pMN1BwUmowZVBNUVJQUjhwSDhIQkt6aEIwN0RlcTZRZUV2REdPLW8wcmhNUVRFWUdpTlJsQ2ZLRGtySFAyMW9WWUkzNXZyVDd5Vm9VQlRhZ19PRk0xQnJRYkNhUjNwMXNuLS1Ga2N3?oc=5)\n",
            "5. [中 선장철도 중산구간, 야간 작업으로 분주 최신 뉴스 온라인 선전시 정부 - sz.gov.cn](https://news.google.com/rss/articles/CBMieEFVX3lxTFB1Y0JwSUd4MXVIbUNTUEpRMVJVcXZaT01WZWJaZTNVMFZxTGVWMldHT3l5X0hIRTdlX3hZTXgyQTA0UkxISjZWRDk3M3E4YzJqODZKN1lST0JBaC14cC1lZmNxdi1QeFZCeFBlTHRrWEhlS1REb2g2RQ?oc=5)\n",
            "\n",
            "이 정보가 도움이 되길 바랍니다. 추가로 궁금하신 사항이 있으시면 언제든지 말씀해 주세요.\n",
            "\n",
            "감사합니다.\n",
            "\n",
            "민디 드림\n",
            "\n",
            "--- \n",
            "\n",
            "이메일을 보내실 준비가 되셨나요? 추가로 수정할 부분이 있으면 말씀해 주세요!\n",
            "<<<<<<< 최종 답변 >>>>>>\n"
          ]
        }
      ]
    },
    {
      "cell_type": "markdown",
      "source": [
        "# Agentic RAG\n",
        "\n",
        "RAG를 수행하되, Agent를 활용하여 RAG를 수행하면 이를 Agentic RAG라고 한다.\n",
        "\n",
        "문서 검색을 통해 최신 정보에 접근하여 검색 결괄르 가지고 답변을 생성하는 에이전트\n",
        "\n",
        "---\n",
        "**도구(Tools)**\n",
        "\n",
        "agent가 활용할 도구를 정의하여 agent가 추론을 수행할 때 활용할 수 있음\n",
        "\n",
        "여기에서는 tavily search 라는 웹 검색 도구 사용\n"
      ],
      "metadata": {
        "id": "7JFDHcOjIpR4"
      }
    },
    {
      "cell_type": "code",
      "source": [
        "from langchain_community.tools.tavily_search import TavilySearchResults\n",
        "\n",
        "search = TavilySearchResults(k=6)"
      ],
      "metadata": {
        "id": "jb4Ek-njtARw"
      },
      "execution_count": 84,
      "outputs": []
    },
    {
      "cell_type": "code",
      "source": [
        "search.invoke(\"판교 카카오 아지트점의 전화번호는 무엇인가요\")"
      ],
      "metadata": {
        "colab": {
          "base_uri": "https://localhost:8080/"
        },
        "id": "dB6E9LzTJzuQ",
        "outputId": "bbfe56ec-1421-4110-ba3a-e7b98f789f02"
      },
      "execution_count": 85,
      "outputs": [
        {
          "output_type": "execute_result",
          "data": {
            "text/plain": [
              "[{'url': 'https://www.instagram.com/dessert39_official/p/C8ltueRRRG0/',\n",
              "  'content': 'Jun 24, 2024 · ✓ 031-603-5581 ✓ 경기도 성남시, 분당구 판교역로 166, 1층 13번유닛 [백현동, 카카오판교아지트점] 판교역 테크노밸리 안에 디삼구가 쏘옥 판교에\\xa0...'},\n",
              " {'url': 'https://www.kakaocorp.com/ir/wayToCome',\n",
              "  'content': '고객센터. 주소: 경기도 성남시 분당구 판교역로 241번길 20 미래에셋 벤처타워 1층 (우)13494. 전화: 1577-3754(카카오 서비스) (유료) 1577-3321(다음 서비스) (유료).Missing:  점 무엇'},\n",
              " {'url': 'https://www.114.co.kr/search/detail?comp_id=8060179&comp_tp_cd=GOV&godata_tp_cd=LOCALDATA&upjong_cd=',\n",
              "  'content': '카카오메이커스, 15442431, 15442431 이며 주소는 경기도 성남시 분당구 백현동 *** 카카오 판교 아지트 *층 일부, 경기도 성남시 분당구 판교역로 ***, 카카오 판교\\xa0...'},\n",
              " {'url': 'https://m.blog.naver.com/hj961030/222923648353',\n",
              "  'content': '직접 보면 더 예쁜 카카오프렌즈 판교 아지트점\\n\\u200b\\n모두 모두 카카오프렌즈 판교 아지트점에서 만나요-!\\n경기도 성남시 분당구 판교역로 166\\n\\u200b\\n♥n2u1_늘이의 여행일기♥\\n이 블로그\\n경기도\\n카테고리 글\\n카테고리\\n이 블로그\\n경기도\\n카테고리 글 8. 21:39\\n카카오프렌즈 판교 아지트점\\n문구, 펜시\\n\\u200b\\n주소 : 경기 성남시 분당구 판교역로 166 1층\\n시간 : 월 - 금 10:00 - 21:00 / 토 - 일 찍는 재미가 쏠쏠해요*-*\\n카운터 뒤 쪽으로 가면\\n카카오 프렌즈 골프도 있더라구요~!\\n귀여운 친구들이 골프복을 입고 있기도 하고\\n골프를 할 때 사용하는 다양한 용품도 있어요~!\\n 다 사버릴뻔 했지 뭐에요 ㅇ0ㅇ\\n벽면에 있던 거울도 너무 귀여워서 찰칵!\\n거울 뒤 쪽에 우연히 발견한 커다란 어피치\\n여기에서 혼자 낮잠을 자고 있나봐요 키키\\n들켜버렸어~!\\n 블로그\\n카테고리 이동\\n♥n2u1_늘이의 여행일기♥\\n카카오프렌즈 판교 아지트점 판교의 카카오프렌즈를 소개합니다.\\n2022.'},\n",
              " {'url': 'https://www.youtube.com/watch?v=BpynjxkklPc',\n",
              "  'content': 'Nov 19, 2022 · ... 전화번호 : 031-601-7225 ✓영업시간 : 평일 10시 ~ 21시 / 주말 ... 는 인스타로 놀러오세요 http://www ...Duration: 11:45Posted: Nov 19, 2022Missing:  점 | Show results with:점'}]"
            ]
          },
          "metadata": {},
          "execution_count": 85
        }
      ]
    },
    {
      "cell_type": "markdown",
      "source": [
        "### 문서 기반 문서 검색 도구 : Retriever\n",
        "\n",
        "pdf 문서를 FAISS DB에 저장하고 조회하는 retriever 생성"
      ],
      "metadata": {
        "id": "Vb-joz9nKLe2"
      }
    },
    {
      "cell_type": "code",
      "source": [
        "!pip install pypdf"
      ],
      "metadata": {
        "colab": {
          "base_uri": "https://localhost:8080/"
        },
        "id": "2ovWAVDDLeDK",
        "outputId": "b523c584-3121-44f2-d647-88acf41afc52"
      },
      "execution_count": 109,
      "outputs": [
        {
          "output_type": "stream",
          "name": "stdout",
          "text": [
            "Requirement already satisfied: pypdf in /usr/local/lib/python3.10/dist-packages (5.0.1)\n",
            "Requirement already satisfied: typing_extensions>=4.0 in /usr/local/lib/python3.10/dist-packages (from pypdf) (4.12.2)\n"
          ]
        }
      ]
    },
    {
      "cell_type": "code",
      "source": [
        "!pip install faiss-gpu"
      ],
      "metadata": {
        "colab": {
          "base_uri": "https://localhost:8080/"
        },
        "id": "eko3KnzrLrC3",
        "outputId": "60bd7d18-fc9e-4424-d0d8-0e5faad28b66"
      },
      "execution_count": 89,
      "outputs": [
        {
          "output_type": "stream",
          "name": "stdout",
          "text": [
            "Collecting faiss-gpu\n",
            "  Downloading faiss_gpu-1.7.2-cp310-cp310-manylinux_2_17_x86_64.manylinux2014_x86_64.whl.metadata (1.4 kB)\n",
            "Downloading faiss_gpu-1.7.2-cp310-cp310-manylinux_2_17_x86_64.manylinux2014_x86_64.whl (85.5 MB)\n",
            "\u001b[2K   \u001b[90m━━━━━━━━━━━━━━━━━━━━━━━━━━━━━━━━━━━━━━━━\u001b[0m \u001b[32m85.5/85.5 MB\u001b[0m \u001b[31m9.8 MB/s\u001b[0m eta \u001b[36m0:00:00\u001b[0m\n",
            "\u001b[?25hInstalling collected packages: faiss-gpu\n",
            "Successfully installed faiss-gpu-1.7.2\n"
          ]
        }
      ]
    },
    {
      "cell_type": "code",
      "source": [
        "from langchain.text_splitter import RecursiveCharacterTextSplitter\n",
        "from langchain_community.vectorstores import FAISS\n",
        "from langchain_openai import OpenAIEmbeddings\n",
        "from langchain.document_loaders import PyPDFLoader\n",
        "\n",
        "loader = PyPDFLoader(\"/content/SPRI_AI_Brief_2023년12월호_F.pdf\")\n",
        "\n",
        "# chunck_overlap : 텍스트를 나눌때, 각 텍스트 청크 사이에 중복되는 부분의 크기를 지정 (청크들이 겹치는 구간을 설정하는 것)\n",
        "text_splitter = RecursiveCharacterTextSplitter(chunk_size=1000, chunk_overlap=100)\n",
        "\n",
        "split_docs = loader.load_and_split(text_splitter)\n",
        "\n",
        "vector = FAISS.from_documents(split_docs, OpenAIEmbeddings())\n",
        "\n",
        "retriever = vector.as_retriever()"
      ],
      "metadata": {
        "id": "SxXYpocBKeGU"
      },
      "execution_count": 90,
      "outputs": []
    },
    {
      "cell_type": "code",
      "source": [
        "retriever.invoke(\"삼성전자가 개발한 생성형 ai 관련 내용을 문서에서 찾아줘\")"
      ],
      "metadata": {
        "colab": {
          "base_uri": "https://localhost:8080/"
        },
        "id": "yNeE7G7pL5Br",
        "outputId": "2adf980d-6b59-4c02-d496-d81654edb5f4"
      },
      "execution_count": 91,
      "outputs": [
        {
          "output_type": "execute_result",
          "data": {
            "text/plain": [
              "[Document(metadata={'source': '/content/SPRI_AI_Brief_2023년12월호_F.pdf', 'page': 12}, page_content='SPRi AI Brief |  \\n2023-12 월호\\n10삼성전자 , 자체 개발 생성 AI ‘삼성 가우스 ’ 공개\\nn삼성전자가 온디바이스에서 작동 가능하며 언어, 코드, 이미지의 3개 모델로 구성된 자체 개발 생성 \\nAI 모델 ‘삼성 가우스 ’를 공개\\nn삼성전자는 삼성 가우스를 다양한 제품에 단계적으로 탑재할 계획으로 , 온디바이스 작동이 가능한 \\n삼성 가우스는 외부로 사용자 정보가 유출될 위험이 없다는 장점을 보유KEY Contents\\n£언어, 코드, 이미지의 3개 모델로 구성된 삼성 가우스 , 온디바이스 작동 지원\\nn삼성전자가 2023 년 11월 8일 열린 ‘삼성 AI 포럼 2023’ 행사에서 자체 개발한 생성 AI 모델 \\n‘삼성 가우스 ’를 최초 공개\\n∙정규분포 이론을 정립한 천재 수학자 가우스 (Gauss) 의 이름을 본뜬 삼성 가우스는 다양한 상황에 \\n최적화된 크기의 모델 선택이 가능\\n∙삼성 가우스는 라이선스나 개인정보를 침해하지 않는 안전한 데이터를 통해 학습되었으며 , \\n온디바이스에서 작동하도록 설계되어 외부로 사용자의 정보가 유출되지 않는 장점을 보유\\n∙삼성전자는 삼성 가우스를 활용한 온디바이스 AI 기술도 소개했으며 , 생성 AI 모델을 다양한 제품에 \\n단계적으로 탑재할 계획\\nn삼성 가우스는 △텍스트를 생성하는 언어모델 △코드를 생성하는 코드 모델 △이미지를 생성하는  \\n이미지 모델의 3개 모델로 구성\\n∙언어 모델은 클라우드와 온디바이스 대상 다양한 모델로 구성되며 , 메일 작성, 문서 요약, 번역 업무의 \\n처리를 지원\\n∙코드 모델 기반의 AI 코딩 어시스턴트 ‘코드아이 (code.i)’ 는 대화형 인터페이스로 서비스를 제공하며 \\n사내 소프트웨어 개발에 최적화\\n∙이미지 모델은 창의적인 이미지를 생성하고 기존 이미지를 원하는 대로 바꿀 수 있도록 지원하며 \\n저해상도 이미지의 고해상도 전환도 지원\\nnIT 전문지 테크리퍼블릭 (TechRepublic) 은 온디바이스 AI가 주요 기술 트렌드로 부상했다며 ,'),\n",
              " Document(metadata={'source': '/content/SPRI_AI_Brief_2023년12월호_F.pdf', 'page': 12}, page_content='저해상도 이미지의 고해상도 전환도 지원\\nnIT 전문지 테크리퍼블릭 (TechRepublic) 은 온디바이스 AI가 주요 기술 트렌드로 부상했다며 , \\n2024 년부터 가우스를 탑재한 삼성 스마트폰이 메타의 라마(Llama)2 를 탑재한 퀄컴 기기 및 구글 \\n어시스턴트를 적용한 구글 픽셀(Pixel) 과 경쟁할 것으로 예상\\n☞ 출처 : 삼성전자 , ‘삼성 AI 포럼’서 자체 개발 생성형 AI ‘삼성 가우스 ’ 공개, 2023.11.08.\\n삼성전자 , ‘삼성 개발자 콘퍼런스 코리아 2023’ 개최, 2023.11.14.\\nTechRepublic, Samsung Gauss: Samsung Research Reveals Generative AI, 2023.11.08.'),\n",
              " Document(metadata={'source': '/content/SPRI_AI_Brief_2023년12월호_F.pdf', 'page': 6}, page_content='SPRi AI Brief |  \\n2023-12 월호\\n4미국 법원, 예술가들이 생성 AI 기업에 제기한 저작권 소송 기각\\nn미국 캘리포니아 북부지방법원은 미드저니 , 스태빌리티 AI, 디비언트아트를 대상으로 예술가 \\n3인이 제기한 저작권 침해 소송을 기각\\nn법원은 기각 이유로 고소장에 제시된 상당수 작품이 저작권청에 등록되지 않았으며 , AI로 \\n생성된 이미지와 특정 작품 간 유사성을 입증하기 어렵다는 점을 제시 KEY Contents\\n£예술가들의 AI 저작권 침해 소송, 저작권 미등록과 증거불충분으로 기각\\nn미국 캘리포니아 북부지방법원의 윌리엄 오릭(W illiam  Orrick) 판사는 2023년 10월 30일 미드저니\\n(M id jou rn ey),  스태빌리티 AI(Stability AI), 디비언트아트 (DeviantArt) 에 제기된 저작권 침해 소송을 기각 \\n∙2023 년 1월 예술가 사라 앤더슨 (Sarah Anderson), 캘리 맥커넌 (Kelly McKernan), 칼라 \\n오르티즈 (Karla Ortiz) 는 이미지 생성 AI 서비스를 개발한 3개 기업을 상대로 저작권 침해 소송을 제기\\n∙예술가들은 3개 기업이 AI 모델을 학습시키기 위해 원작자 동의 없이 작품을 학습 데이터셋에 \\n포함하여 저작권을 침해했다고 주장했으며 , 법원은 지난 4월 피소 기업들이 제출한 기각 신청을 \\n수용해 소송을 기각 \\nn오릭 판사는 판결문에서 소송을 기각한 핵심 이유로 예술가들의 저작권 미등록을 제시\\n∙판결문은 소송을 제기한 캘리 맥커넌과 칼라 오르티즈가 미국 저작권청에 예술 작품에 대한 저작권을 \\n제출하지 않았다는 점을 지적했으며 , 사라 앤더슨은 고소장에 인용된 수백 개의 작품 중 16개 작품에 \\n대해서만 저작권을 보유\\nn판결문은 또한 생성 AI 모델 훈련에 사용된 모든 이미지에 저작권이 있다거나 , 생성 AI로 만든 \\n이미지가 저작물을 이용해 훈련되었으므로 저작물의 파생 이미지라는 주장은 개연성이  부족하다고  \\n지적'),\n",
              " Document(metadata={'source': '/content/SPRI_AI_Brief_2023년12월호_F.pdf', 'page': 4}, page_content='∙첨단 AI 시스템의 성능과 한계를 공개하고 적절하거나 부적절한 사용영역을 알리는 방법으로 투명성을 \\n보장하고 책임성을 강화\\n∙산업계 , 정부, 시민사회 , 학계를 포함해 첨단 AI 시스템을 개발하는 조직 간 정보공유와 사고 발생 시 \\n신고를 위해 협력하고 , 위험 기반 접근방식을 토대로 개인정보보호 정책과 위험 완화 조치를 포함하는 \\nAI 거버넌스와 위험 관리 정책을 마련\\n∙AI 수명주기 전반에 걸쳐 물리보안 , 사이버보안 , 내부자 위협 보안을 포함한 강력한 보안 통제 구현\\n∙사용자가 AI 생성 콘텐츠를 식별할 수 있도록 워터마크를 비롯하여 기술적으로 가능한 기법으로 \\n신뢰할 수 있는 콘텐츠 인증과 출처 확인 메커니즘을 개발 및 구축 \\n∙사회적 위험과 안전·보안 문제를 완화하는 연구와 효과적인 완화 대책에 우선 투자하고 , 기후 위기 \\n대응, 세계 보건과 교육 등 세계적 난제 해결을 위한 첨단 AI 시스템을 우선 개발\\n∙국제 기술 표준의 개발 및 채택을 가속화하고 , 개인정보와 지식재산권 보호를 위해 데이터 입력과 수집 \\n시 적절한 보호 장치 구현\\n☞ 출처: G7, Hiroshima Process International Code of Conduct for Advanced AI Systems, 2023.10.30.')]"
            ]
          },
          "metadata": {},
          "execution_count": 91
        }
      ]
    },
    {
      "cell_type": "code",
      "source": [
        "from langchain.tools.retriever import create_retriever_tool\n",
        "\n",
        "retriever_tool = create_retriever_tool(\n",
        "    retriever,\n",
        "    name=\"pdf_search\",\n",
        "    description=\"use this tool to search information from the PDF document\",\n",
        ")"
      ],
      "metadata": {
        "id": "oPfUK60QMAWT"
      },
      "execution_count": 92,
      "outputs": []
    },
    {
      "cell_type": "markdown",
      "source": [
        "**Agent가 사용할 도구 목록 정의**\n"
      ],
      "metadata": {
        "id": "x6kUvasCMYv4"
      }
    },
    {
      "cell_type": "code",
      "source": [
        "tools = [search, retriever_tool]"
      ],
      "metadata": {
        "id": "nUIVY-l-MVF7"
      },
      "execution_count": 93,
      "outputs": []
    },
    {
      "cell_type": "markdown",
      "source": [
        "**Agent 생성**\n",
        "\n",
        "agent가 활용할 LLM을 정의하고 Agent가 참고할 Prompt 정의"
      ],
      "metadata": {
        "id": "qFBtFlCfMfdb"
      }
    },
    {
      "cell_type": "code",
      "source": [
        "from langchain_openai import ChatOpenAI\n",
        "from langchain_core.prompts import ChatPromptTemplate\n",
        "\n",
        "llm = ChatOpenAI(model='gpt-4o-mini',temperature=0)\n",
        "\n",
        "prompt = ChatPromptTemplate.from_messages(\n",
        "    [\n",
        "        (\n",
        "            \"system\",\n",
        "            \"You are a helpful assistant. \"\n",
        "            \"Make sure to use the `pdf_search` tool for searching information from the PDF document. \"\n",
        "            \"If you can't find the information from the PDF document, use the `search` tool for searching information from the web.\",\n",
        "        ),\n",
        "        (\"placeholder\",\"{chat_history}\"),\n",
        "        (\"human\",\"{input}\"),\n",
        "        (\"placeholder\",\"{agent_scratchpad}\"),\n",
        "    ]\n",
        ")"
      ],
      "metadata": {
        "id": "63vU_nyLMdwj"
      },
      "execution_count": 94,
      "outputs": []
    },
    {
      "cell_type": "code",
      "source": [
        "from langchain.agents import create_tool_calling_agent\n",
        "\n",
        "agent = create_tool_calling_agent(llm, tools, prompt)"
      ],
      "metadata": {
        "id": "w27qtBqTNQ1_"
      },
      "execution_count": 95,
      "outputs": []
    },
    {
      "cell_type": "code",
      "source": [
        "from langchain.agents import AgentExecutor\n",
        "\n",
        "# AgentExecutor 생성\n",
        "agent_executor = AgentExecutor(agent=agent, tools=tools, verbose=False)"
      ],
      "metadata": {
        "id": "eYZcvkCPNgxf"
      },
      "execution_count": 96,
      "outputs": []
    },
    {
      "cell_type": "markdown",
      "source": [
        "**에이전트 실행하기**\n",
        "\n"
      ],
      "metadata": {
        "id": "kW3Fm0--NpuX"
      }
    },
    {
      "cell_type": "code",
      "source": [
        "from langchain_teddynote.messages import AgentStreamParser\n",
        "\n",
        "agent_stream_parser = AgentStreamParser()"
      ],
      "metadata": {
        "id": "vHojUVNCNwND"
      },
      "execution_count": 97,
      "outputs": []
    },
    {
      "cell_type": "code",
      "source": [
        "result = agent_executor.stream(\n",
        "    {\"input\":\"2024년 프로야구 타이브레이커를 진행한 2팀과 이긴 팀을 검색하여 알려주세요.\"}\n",
        ")\n",
        "\n",
        "for step in result:\n",
        "  agent_stream_parser.process_agent_steps(step)"
      ],
      "metadata": {
        "colab": {
          "base_uri": "https://localhost:8080/"
        },
        "id": "gQ7YZ8exN6CC",
        "outputId": "9722d014-acd4-486c-8e9c-e7170998d853"
      },
      "execution_count": 101,
      "outputs": [
        {
          "output_type": "stream",
          "name": "stdout",
          "text": [
            "[도구 호출]\n",
            "Tool: tavily_search_results_json\n",
            "query: 2024년 프로야구 타이브레이커 결과\n",
            "Log: \n",
            "Invoking: `tavily_search_results_json` with `{'query': '2024년 프로야구 타이브레이커 결과'}`\n",
            "\n",
            "\n",
            "\n",
            "[관찰 내용]\n",
            "Observation: [{'url': 'https://mksports.co.kr/view/2024/741698/', 'content': '이강철 감독이 이끄는 kt는 1일 수원 kt위즈파크에서 열린 2024 프로야구 kbo리그 5위 결정전(타이브레이커)에서 이숭용 감독의 ssg랜더스에 4-3으로 짜릿한 재역전승을 거뒀다. kt는 정규리그에서 ssg와 나란히 72승 2무 70패를 기록, 공동 5위를 마크했다.'}, {'url': 'https://www.chosun.com/sports/baseball/2024/09/27/YXTPFDPCNMMWSHPVCDXAARQH34/', 'content': \"OSEN. 업데이트 2024.09.27. 11:03. 0. 프로야구 역대 최초로 '5위 타이브레이커'가 성사될 가능성이 높아지고 있다. KT와 SSG는 나란히 2경기를 남겨두고 공동 5위가 됐다. SSG는 26일 창원 NC파크에서 열린 NC와 원정 경기에서 10-1로 승리하고 5강 희망을 이어갔다. 선발 ...\"}, {'url': 'https://m.sportsworldi.com/view/20241013514700', 'content': '프로야구 삼성은 13일 대구삼성라이온즈파크에서 열린 lg의 2024 신한 sol뱅크 kbo 포스트시즌(ps) 플레이오프(po·5전3선승제) 1차전에서 10-4 대승을 거뒀다. ... 에서 거둔 첫 ps 승리다. 2021년 kt와의 정규시즌 1위 타이브레이커 끝에 라팍 첫 가을야구를 po로 물들였던 ...'}, {'url': 'https://sports.news.nate.com/view/20241001n19848', 'content': '한눈에 보는 오늘 : 야구 - 뉴스 : SSG 랜더스의 2024시즌이 종료됐다. SSG는 1일 수원KT위즈파크에서 열린 2024 신한 SOL뱅크 KBO 정규시즌 5위 결정전(타이브레이커)에서 KT 위즈와 9회까지 한 점차의 접전을 벌였으나 3-4로 끝내 석패했다. SSG와 KT는 정규시즌'}, {'url': 'https://sports.news.nate.com/view/20240929n02483', 'content': '한눈에 보는 오늘 : 야구 - 뉴스 : [스타뉴스 | 수원=김우종 기자] kt 선수들이 28일 2024 정규시즌 최종전을 마친 뒤 홈 팬들에게 인사하고 있다. /사진=kt 위즈 제공kt 위즈가 키움 히어로즈와 정규시즌 최종전에서 승리하며 최소 5위 결정전(타이브레이커) 티켓을 확보했다.'}]\n",
            "[최종 답변]\n",
            "2024년 프로야구 타이브레이커에서는 kt 위즈와 ssg 랜더스가 맞붙었습니다. kt는 이 경기에서 4-3으로 승리하여 5위로 결정되었습니다.\n"
          ]
        }
      ]
    },
    {
      "cell_type": "code",
      "source": [
        "result = agent_executor.stream(\n",
        "    {\"input\":\"삼성전자가 자체 개발한 생성형 AI 관련된 정보를 문서에서 찾아주세요.\"}\n",
        ")\n",
        "for step in result:\n",
        "  agent_stream_parser.process_agent_steps(step)"
      ],
      "metadata": {
        "colab": {
          "base_uri": "https://localhost:8080/"
        },
        "id": "JFsxuf2FRD4r",
        "outputId": "19ea9359-25fd-4ef6-cce4-2dddfa0566b0"
      },
      "execution_count": 102,
      "outputs": [
        {
          "output_type": "stream",
          "name": "stdout",
          "text": [
            "[도구 호출]\n",
            "Tool: pdf_search\n",
            "query: 삼성전자 생성형 AI\n",
            "Log: \n",
            "Invoking: `pdf_search` with `{'query': '삼성전자 생성형 AI'}`\n",
            "\n",
            "\n",
            "\n",
            "[관찰 내용]\n",
            "Observation: SPRi AI Brief |  \n",
            "2023-12 월호\n",
            "10삼성전자 , 자체 개발 생성 AI ‘삼성 가우스 ’ 공개\n",
            "n삼성전자가 온디바이스에서 작동 가능하며 언어, 코드, 이미지의 3개 모델로 구성된 자체 개발 생성 \n",
            "AI 모델 ‘삼성 가우스 ’를 공개\n",
            "n삼성전자는 삼성 가우스를 다양한 제품에 단계적으로 탑재할 계획으로 , 온디바이스 작동이 가능한 \n",
            "삼성 가우스는 외부로 사용자 정보가 유출될 위험이 없다는 장점을 보유KEY Contents\n",
            "£언어, 코드, 이미지의 3개 모델로 구성된 삼성 가우스 , 온디바이스 작동 지원\n",
            "n삼성전자가 2023 년 11월 8일 열린 ‘삼성 AI 포럼 2023’ 행사에서 자체 개발한 생성 AI 모델 \n",
            "‘삼성 가우스 ’를 최초 공개\n",
            "∙정규분포 이론을 정립한 천재 수학자 가우스 (Gauss) 의 이름을 본뜬 삼성 가우스는 다양한 상황에 \n",
            "최적화된 크기의 모델 선택이 가능\n",
            "∙삼성 가우스는 라이선스나 개인정보를 침해하지 않는 안전한 데이터를 통해 학습되었으며 , \n",
            "온디바이스에서 작동하도록 설계되어 외부로 사용자의 정보가 유출되지 않는 장점을 보유\n",
            "∙삼성전자는 삼성 가우스를 활용한 온디바이스 AI 기술도 소개했으며 , 생성 AI 모델을 다양한 제품에 \n",
            "단계적으로 탑재할 계획\n",
            "n삼성 가우스는 △텍스트를 생성하는 언어모델 △코드를 생성하는 코드 모델 △이미지를 생성하는  \n",
            "이미지 모델의 3개 모델로 구성\n",
            "∙언어 모델은 클라우드와 온디바이스 대상 다양한 모델로 구성되며 , 메일 작성, 문서 요약, 번역 업무의 \n",
            "처리를 지원\n",
            "∙코드 모델 기반의 AI 코딩 어시스턴트 ‘코드아이 (code.i)’ 는 대화형 인터페이스로 서비스를 제공하며 \n",
            "사내 소프트웨어 개발에 최적화\n",
            "∙이미지 모델은 창의적인 이미지를 생성하고 기존 이미지를 원하는 대로 바꿀 수 있도록 지원하며 \n",
            "저해상도 이미지의 고해상도 전환도 지원\n",
            "nIT 전문지 테크리퍼블릭 (TechRepublic) 은 온디바이스 AI가 주요 기술 트렌드로 부상했다며 ,\n",
            "\n",
            "저해상도 이미지의 고해상도 전환도 지원\n",
            "nIT 전문지 테크리퍼블릭 (TechRepublic) 은 온디바이스 AI가 주요 기술 트렌드로 부상했다며 , \n",
            "2024 년부터 가우스를 탑재한 삼성 스마트폰이 메타의 라마(Llama)2 를 탑재한 퀄컴 기기 및 구글 \n",
            "어시스턴트를 적용한 구글 픽셀(Pixel) 과 경쟁할 것으로 예상\n",
            "☞ 출처 : 삼성전자 , ‘삼성 AI 포럼’서 자체 개발 생성형 AI ‘삼성 가우스 ’ 공개, 2023.11.08.\n",
            "삼성전자 , ‘삼성 개발자 콘퍼런스 코리아 2023’ 개최, 2023.11.14.\n",
            "TechRepublic, Samsung Gauss: Samsung Research Reveals Generative AI, 2023.11.08.\n",
            "\n",
            "SPRi AI Brief |  \n",
            "2023-12 월호\n",
            "4미국 법원, 예술가들이 생성 AI 기업에 제기한 저작권 소송 기각\n",
            "n미국 캘리포니아 북부지방법원은 미드저니 , 스태빌리티 AI, 디비언트아트를 대상으로 예술가 \n",
            "3인이 제기한 저작권 침해 소송을 기각\n",
            "n법원은 기각 이유로 고소장에 제시된 상당수 작품이 저작권청에 등록되지 않았으며 , AI로 \n",
            "생성된 이미지와 특정 작품 간 유사성을 입증하기 어렵다는 점을 제시 KEY Contents\n",
            "£예술가들의 AI 저작권 침해 소송, 저작권 미등록과 증거불충분으로 기각\n",
            "n미국 캘리포니아 북부지방법원의 윌리엄 오릭(W illiam  Orrick) 판사는 2023년 10월 30일 미드저니\n",
            "(M id jou rn ey),  스태빌리티 AI(Stability AI), 디비언트아트 (DeviantArt) 에 제기된 저작권 침해 소송을 기각 \n",
            "∙2023 년 1월 예술가 사라 앤더슨 (Sarah Anderson), 캘리 맥커넌 (Kelly McKernan), 칼라 \n",
            "오르티즈 (Karla Ortiz) 는 이미지 생성 AI 서비스를 개발한 3개 기업을 상대로 저작권 침해 소송을 제기\n",
            "∙예술가들은 3개 기업이 AI 모델을 학습시키기 위해 원작자 동의 없이 작품을 학습 데이터셋에 \n",
            "포함하여 저작권을 침해했다고 주장했으며 , 법원은 지난 4월 피소 기업들이 제출한 기각 신청을 \n",
            "수용해 소송을 기각 \n",
            "n오릭 판사는 판결문에서 소송을 기각한 핵심 이유로 예술가들의 저작권 미등록을 제시\n",
            "∙판결문은 소송을 제기한 캘리 맥커넌과 칼라 오르티즈가 미국 저작권청에 예술 작품에 대한 저작권을 \n",
            "제출하지 않았다는 점을 지적했으며 , 사라 앤더슨은 고소장에 인용된 수백 개의 작품 중 16개 작품에 \n",
            "대해서만 저작권을 보유\n",
            "n판결문은 또한 생성 AI 모델 훈련에 사용된 모든 이미지에 저작권이 있다거나 , 생성 AI로 만든 \n",
            "이미지가 저작물을 이용해 훈련되었으므로 저작물의 파생 이미지라는 주장은 개연성이  부족하다고  \n",
            "지적\n",
            "\n",
            "1. 정책/법제  2. 기업/산업 3. 기술/연구  4. 인력/교육\n",
            "빌 게이츠 , AI 에이전트로 인한 컴퓨터 사용의 패러다임 변화 전망\n",
            "n빌 게이츠가 5년 내 일상언어로 모든 작업을 처리할 수 있는 AI 에이전트가 보급되며 컴퓨터를 \n",
            "사용하는 방식이 완전히 바뀔 것으로 예상\n",
            "n에이전트의 보급은 컴퓨터 분야를 넘어 산업 전 영역에 영향을 미칠 전망으로 특히 의료와 \n",
            "교육, 생산성 , 엔터테인먼트 ·쇼핑 영역에서 고가로 제공되던 서비스가 대중화될 전망KEY Contents\n",
            "£5년 내 기기에 일상언어로 말하기만 하면 되는 AI 에이전트의 보급 예상\n",
            "n빌 게이츠 마이크로소프트 창업자가 2023 년 11월 9일 공식 블로그를 통해 AI 에이전트가 컴퓨터  \n",
            "사용방식과 소프트웨어 산업을 완전히 변화시킬 것이라는 전망을 제시\n",
            "∙자연어에 반응하고 사용자에 대한 지식을 바탕으로 다양한 작업을 수행하는 소프트웨어를 의미하는 \n",
            "에이전트는 컴퓨터 사용방식이 키보드 입력에서 아이콘 클릭으로 바뀐 이후 최대의 컴퓨팅 혁명을 \n",
            "가져올 전망\n",
            "∙현재는 컴퓨터 작업 시 작업 내용에 따라 각각 다른 앱을 사용해야 하지만 5년 내 에이전트의 발전으로 \n",
            "기기에 일상언어로 말하기만 하면 되는 미래가 도래할 것\n",
            "∙온라인에 접속하는 모든 사람이 AI 기반의 개인 비서를 사용할 수 있게 되며, 에이전트는 사용자에 대한 \n",
            "풍부한 지식을 바탕으로 맞춤화된 대응이 가능하며 시간이 지날수록 개선됨\n",
            "∙일례로 여행 계획 수립 시 AI 챗봇이 예산에 맞는 호텔을 제안하는데 머문다면 , 에이전트는 사용자의 여행 \n",
            "패턴을 분석해 여행지를 제안하고 관심사에 따른 활동을 추천하며 선호하는 스타일의 레스토랑 예약도 가능  \n",
            "£AI 에이전트가 의료와 교육, 생산성 , 엔터테인먼트 ·쇼핑 영역의 서비스 대중화를 주도할 것\n",
            "n에이전트로 인해 주목할 만한 변화는 고비용 서비스의 대중화로 특히 △의료 △교육 △생산성 △\n",
            "엔터테인먼트 ·쇼핑의 4개 영역에서 대규모 변화 예상\n",
            "[최종 답변]\n",
            "삼성전자가 자체 개발한 생성형 AI 모델 '삼성 가우스'에 대한 정보는 다음과 같습니다:\n",
            "\n",
            "1. **모델 구성**: 삼성 가우스는 언어, 코드, 이미지의 3개 모델로 구성되어 있습니다. \n",
            "   - **언어 모델**: 메일 작성, 문서 요약, 번역 업무 등을 지원하며, 클라우드와 온디바이스에서 작동할 수 있는 다양한 모델이 포함되어 있습니다.\n",
            "   - **코드 모델**: AI 코딩 어시스턴트 '코드아이(code.i)'를 통해 대화형 인터페이스로 서비스를 제공하며, 사내 소프트웨어 개발에 최적화되어 있습니다.\n",
            "   - **이미지 모델**: 창의적인 이미지를 생성하고 기존 이미지를 수정할 수 있으며, 저해상도 이미지를 고해상도로 변환하는 기능도 지원합니다.\n",
            "\n",
            "2. **온디바이스 작동**: 삼성 가우스는 온디바이스에서 작동하도록 설계되어 있어, 사용자 정보가 외부로 유출될 위험이 없다는 장점이 있습니다. 이는 안전한 데이터로 학습되었음을 의미합니다.\n",
            "\n",
            "3. **출시 및 계획**: 삼성전자는 2023년 11월 8일 '삼성 AI 포럼 2023'에서 삼성 가우스를 최초 공개하였으며, 다양한 제품에 단계적으로 탑재할 계획입니다.\n",
            "\n",
            "4. **경쟁 전망**: IT 전문지에 따르면, 2024년부터 삼성 가우스를 탑재한 삼성 스마트폰이 메타의 라마(Llama)2를 탑재한 퀄컴 기기 및 구글 어시스턴트를 적용한 구글 픽셀(Pixel)과 경쟁할 것으로 예상됩니다.\n",
            "\n",
            "이 정보는 삼성전자가 AI 기술을 통해 사용자 경험을 향상시키고, 데이터 보안을 강화하려는 노력을 보여줍니다.\n"
          ]
        }
      ]
    },
    {
      "cell_type": "markdown",
      "source": [
        "**이전 대화를 기억하는 Agent**\n",
        "\n",
        "RunnableWtihMessageHistory 사용"
      ],
      "metadata": {
        "id": "x2Ky4YSDRq9B"
      }
    },
    {
      "cell_type": "code",
      "source": [
        "from langchain_community.chat_message_histories import ChatMessageHistory\n",
        "from langchain_core.runnables.history import RunnableWithMessageHistory\n",
        "\n",
        "store={}\n",
        "\n",
        "def get_session_history(session_ids):\n",
        "  if session_ids not in store:\n",
        "    store[session_ids] = ChatMessageHistory()\n",
        "  return store[session_ids]\n",
        "\n",
        "\n",
        "agent_with_chat_history = RunnableWithMessageHistory(\n",
        "    agent_executor,\n",
        "    get_session_history,\n",
        "    input_messages_key = \"input\",\n",
        "    history_messages_key = \"chat_history\",\n",
        ")"
      ],
      "metadata": {
        "id": "Fs_plRZpRyVZ"
      },
      "execution_count": 105,
      "outputs": []
    },
    {
      "cell_type": "code",
      "source": [
        "response = agent_with_chat_history.stream(\n",
        "    {\"input\":\"삼성전자가 개발한 생성형 AI 관련된 정보를 문서에서 찾아주세요.\"},\n",
        "    config = {\"configurable\":{\"session_id\":\"abc123\"}},\n",
        ")\n",
        "\n",
        "for step in response:\n",
        "  agent_stream_parser.process_agent_steps(step)"
      ],
      "metadata": {
        "colab": {
          "base_uri": "https://localhost:8080/"
        },
        "id": "e7MJX-YlSYnv",
        "outputId": "150c719f-9e9a-4763-a339-18b3d7fea5ba"
      },
      "execution_count": 106,
      "outputs": [
        {
          "output_type": "stream",
          "name": "stdout",
          "text": [
            "[도구 호출]\n",
            "Tool: pdf_search\n",
            "query: 삼성전자 생성형 AI\n",
            "Log: \n",
            "Invoking: `pdf_search` with `{'query': '삼성전자 생성형 AI'}`\n",
            "\n",
            "\n",
            "\n",
            "[관찰 내용]\n",
            "Observation: SPRi AI Brief |  \n",
            "2023-12 월호\n",
            "10삼성전자 , 자체 개발 생성 AI ‘삼성 가우스 ’ 공개\n",
            "n삼성전자가 온디바이스에서 작동 가능하며 언어, 코드, 이미지의 3개 모델로 구성된 자체 개발 생성 \n",
            "AI 모델 ‘삼성 가우스 ’를 공개\n",
            "n삼성전자는 삼성 가우스를 다양한 제품에 단계적으로 탑재할 계획으로 , 온디바이스 작동이 가능한 \n",
            "삼성 가우스는 외부로 사용자 정보가 유출될 위험이 없다는 장점을 보유KEY Contents\n",
            "£언어, 코드, 이미지의 3개 모델로 구성된 삼성 가우스 , 온디바이스 작동 지원\n",
            "n삼성전자가 2023 년 11월 8일 열린 ‘삼성 AI 포럼 2023’ 행사에서 자체 개발한 생성 AI 모델 \n",
            "‘삼성 가우스 ’를 최초 공개\n",
            "∙정규분포 이론을 정립한 천재 수학자 가우스 (Gauss) 의 이름을 본뜬 삼성 가우스는 다양한 상황에 \n",
            "최적화된 크기의 모델 선택이 가능\n",
            "∙삼성 가우스는 라이선스나 개인정보를 침해하지 않는 안전한 데이터를 통해 학습되었으며 , \n",
            "온디바이스에서 작동하도록 설계되어 외부로 사용자의 정보가 유출되지 않는 장점을 보유\n",
            "∙삼성전자는 삼성 가우스를 활용한 온디바이스 AI 기술도 소개했으며 , 생성 AI 모델을 다양한 제품에 \n",
            "단계적으로 탑재할 계획\n",
            "n삼성 가우스는 △텍스트를 생성하는 언어모델 △코드를 생성하는 코드 모델 △이미지를 생성하는  \n",
            "이미지 모델의 3개 모델로 구성\n",
            "∙언어 모델은 클라우드와 온디바이스 대상 다양한 모델로 구성되며 , 메일 작성, 문서 요약, 번역 업무의 \n",
            "처리를 지원\n",
            "∙코드 모델 기반의 AI 코딩 어시스턴트 ‘코드아이 (code.i)’ 는 대화형 인터페이스로 서비스를 제공하며 \n",
            "사내 소프트웨어 개발에 최적화\n",
            "∙이미지 모델은 창의적인 이미지를 생성하고 기존 이미지를 원하는 대로 바꿀 수 있도록 지원하며 \n",
            "저해상도 이미지의 고해상도 전환도 지원\n",
            "nIT 전문지 테크리퍼블릭 (TechRepublic) 은 온디바이스 AI가 주요 기술 트렌드로 부상했다며 ,\n",
            "\n",
            "저해상도 이미지의 고해상도 전환도 지원\n",
            "nIT 전문지 테크리퍼블릭 (TechRepublic) 은 온디바이스 AI가 주요 기술 트렌드로 부상했다며 , \n",
            "2024 년부터 가우스를 탑재한 삼성 스마트폰이 메타의 라마(Llama)2 를 탑재한 퀄컴 기기 및 구글 \n",
            "어시스턴트를 적용한 구글 픽셀(Pixel) 과 경쟁할 것으로 예상\n",
            "☞ 출처 : 삼성전자 , ‘삼성 AI 포럼’서 자체 개발 생성형 AI ‘삼성 가우스 ’ 공개, 2023.11.08.\n",
            "삼성전자 , ‘삼성 개발자 콘퍼런스 코리아 2023’ 개최, 2023.11.14.\n",
            "TechRepublic, Samsung Gauss: Samsung Research Reveals Generative AI, 2023.11.08.\n",
            "\n",
            "SPRi AI Brief |  \n",
            "2023-12 월호\n",
            "4미국 법원, 예술가들이 생성 AI 기업에 제기한 저작권 소송 기각\n",
            "n미국 캘리포니아 북부지방법원은 미드저니 , 스태빌리티 AI, 디비언트아트를 대상으로 예술가 \n",
            "3인이 제기한 저작권 침해 소송을 기각\n",
            "n법원은 기각 이유로 고소장에 제시된 상당수 작품이 저작권청에 등록되지 않았으며 , AI로 \n",
            "생성된 이미지와 특정 작품 간 유사성을 입증하기 어렵다는 점을 제시 KEY Contents\n",
            "£예술가들의 AI 저작권 침해 소송, 저작권 미등록과 증거불충분으로 기각\n",
            "n미국 캘리포니아 북부지방법원의 윌리엄 오릭(W illiam  Orrick) 판사는 2023년 10월 30일 미드저니\n",
            "(M id jou rn ey),  스태빌리티 AI(Stability AI), 디비언트아트 (DeviantArt) 에 제기된 저작권 침해 소송을 기각 \n",
            "∙2023 년 1월 예술가 사라 앤더슨 (Sarah Anderson), 캘리 맥커넌 (Kelly McKernan), 칼라 \n",
            "오르티즈 (Karla Ortiz) 는 이미지 생성 AI 서비스를 개발한 3개 기업을 상대로 저작권 침해 소송을 제기\n",
            "∙예술가들은 3개 기업이 AI 모델을 학습시키기 위해 원작자 동의 없이 작품을 학습 데이터셋에 \n",
            "포함하여 저작권을 침해했다고 주장했으며 , 법원은 지난 4월 피소 기업들이 제출한 기각 신청을 \n",
            "수용해 소송을 기각 \n",
            "n오릭 판사는 판결문에서 소송을 기각한 핵심 이유로 예술가들의 저작권 미등록을 제시\n",
            "∙판결문은 소송을 제기한 캘리 맥커넌과 칼라 오르티즈가 미국 저작권청에 예술 작품에 대한 저작권을 \n",
            "제출하지 않았다는 점을 지적했으며 , 사라 앤더슨은 고소장에 인용된 수백 개의 작품 중 16개 작품에 \n",
            "대해서만 저작권을 보유\n",
            "n판결문은 또한 생성 AI 모델 훈련에 사용된 모든 이미지에 저작권이 있다거나 , 생성 AI로 만든 \n",
            "이미지가 저작물을 이용해 훈련되었으므로 저작물의 파생 이미지라는 주장은 개연성이  부족하다고  \n",
            "지적\n",
            "\n",
            "1. 정책/법제  2. 기업/산업 3. 기술/연구  4. 인력/교육\n",
            "빌 게이츠 , AI 에이전트로 인한 컴퓨터 사용의 패러다임 변화 전망\n",
            "n빌 게이츠가 5년 내 일상언어로 모든 작업을 처리할 수 있는 AI 에이전트가 보급되며 컴퓨터를 \n",
            "사용하는 방식이 완전히 바뀔 것으로 예상\n",
            "n에이전트의 보급은 컴퓨터 분야를 넘어 산업 전 영역에 영향을 미칠 전망으로 특히 의료와 \n",
            "교육, 생산성 , 엔터테인먼트 ·쇼핑 영역에서 고가로 제공되던 서비스가 대중화될 전망KEY Contents\n",
            "£5년 내 기기에 일상언어로 말하기만 하면 되는 AI 에이전트의 보급 예상\n",
            "n빌 게이츠 마이크로소프트 창업자가 2023 년 11월 9일 공식 블로그를 통해 AI 에이전트가 컴퓨터  \n",
            "사용방식과 소프트웨어 산업을 완전히 변화시킬 것이라는 전망을 제시\n",
            "∙자연어에 반응하고 사용자에 대한 지식을 바탕으로 다양한 작업을 수행하는 소프트웨어를 의미하는 \n",
            "에이전트는 컴퓨터 사용방식이 키보드 입력에서 아이콘 클릭으로 바뀐 이후 최대의 컴퓨팅 혁명을 \n",
            "가져올 전망\n",
            "∙현재는 컴퓨터 작업 시 작업 내용에 따라 각각 다른 앱을 사용해야 하지만 5년 내 에이전트의 발전으로 \n",
            "기기에 일상언어로 말하기만 하면 되는 미래가 도래할 것\n",
            "∙온라인에 접속하는 모든 사람이 AI 기반의 개인 비서를 사용할 수 있게 되며, 에이전트는 사용자에 대한 \n",
            "풍부한 지식을 바탕으로 맞춤화된 대응이 가능하며 시간이 지날수록 개선됨\n",
            "∙일례로 여행 계획 수립 시 AI 챗봇이 예산에 맞는 호텔을 제안하는데 머문다면 , 에이전트는 사용자의 여행 \n",
            "패턴을 분석해 여행지를 제안하고 관심사에 따른 활동을 추천하며 선호하는 스타일의 레스토랑 예약도 가능  \n",
            "£AI 에이전트가 의료와 교육, 생산성 , 엔터테인먼트 ·쇼핑 영역의 서비스 대중화를 주도할 것\n",
            "n에이전트로 인해 주목할 만한 변화는 고비용 서비스의 대중화로 특히 △의료 △교육 △생산성 △\n",
            "엔터테인먼트 ·쇼핑의 4개 영역에서 대규모 변화 예상\n",
            "[최종 답변]\n",
            "삼성전자가 개발한 생성형 AI에 대한 정보는 다음과 같습니다:\n",
            "\n",
            "1. **삼성 가우스**: 삼성전자는 2023년 11월 8일 '삼성 AI 포럼 2023'에서 자체 개발한 생성형 AI 모델인 '삼성 가우스'를 공개했습니다. 이 모델은 언어, 코드, 이미지의 3개 모델로 구성되어 있으며, 온디바이스에서 작동할 수 있도록 설계되었습니다.\n",
            "\n",
            "2. **온디바이스 작동**: 삼성 가우스는 외부로 사용자 정보가 유출될 위험이 없다는 장점을 가지고 있습니다. 이는 안전한 데이터로 학습되었으며, 라이선스나 개인정보를 침해하지 않는 방식으로 개발되었습니다.\n",
            "\n",
            "3. **모델 구성**:\n",
            "   - **언어 모델**: 클라우드와 온디바이스에서 다양한 모델로 구성되어 있으며, 메일 작성, 문서 요약, 번역 업무 등을 지원합니다.\n",
            "   - **코드 모델**: AI 코딩 어시스턴트 '코드아이 (code.i)'를 통해 대화형 인터페이스로 서비스를 제공하며, 사내 소프트웨어 개발에 최적화되어 있습니다.\n",
            "   - **이미지 모델**: 창의적인 이미지를 생성하고 기존 이미지를 원하는 대로 변경할 수 있으며, 저해상도 이미지를 고해상도로 전환하는 기능도 지원합니다.\n",
            "\n",
            "4. **미래 계획**: 삼성전자는 삼성 가우스를 다양한 제품에 단계적으로 탑재할 계획이며, 2024년부터 가우스를 탑재한 삼성 스마트폰이 메타의 라마(Llama)2를 탑재한 퀄컴 기기 및 구글 어시스턴트를 적용한 구글 픽셀(Pixel)과 경쟁할 것으로 예상하고 있습니다.\n",
            "\n",
            "이 정보는 삼성전자가 AI 기술을 통해 사용자 경험을 향상시키고, 데이터 보안을 강화하는 방향으로 나아가고 있음을 보여줍니다.\n"
          ]
        }
      ]
    },
    {
      "cell_type": "code",
      "source": [
        "response = agent_with_chat_history.stream(\n",
        "    {\"input\": \"이전의 답변을 영어로 번역해 주세요.\"},\n",
        "    # session_id 설정\n",
        "    config={\"configurable\": {\"session_id\": \"abc123\"}},\n",
        ")\n",
        "\n",
        "# 출력 확인\n",
        "for step in response:\n",
        "    agent_stream_parser.process_agent_steps(step)\n"
      ],
      "metadata": {
        "colab": {
          "base_uri": "https://localhost:8080/"
        },
        "id": "T-oHaFOcSyV7",
        "outputId": "e124071a-a9bb-4981-9687-f0bc057f696d"
      },
      "execution_count": 107,
      "outputs": [
        {
          "output_type": "stream",
          "name": "stdout",
          "text": [
            "[최종 답변]\n",
            "Here is the translation of the previous response into English:\n",
            "\n",
            "1. **Samsung Gauss**: On November 8, 2023, Samsung Electronics unveiled its generative AI model called 'Samsung Gauss' at the 'Samsung AI Forum 2023'. This model consists of three components: language, code, and image models, and is designed to operate on-device.\n",
            "\n",
            "2. **On-Device Operation**: Samsung Gauss has the advantage of not risking the leakage of user information externally. It is trained on secure data and developed in a way that does not infringe on licenses or personal information.\n",
            "\n",
            "3. **Model Composition**:\n",
            "   - **Language Model**: Composed of various models for cloud and on-device use, it supports tasks such as email writing, document summarization, and translation.\n",
            "   - **Code Model**: The AI coding assistant 'code.i' provides services through an interactive interface and is optimized for in-house software development.\n",
            "   - **Image Model**: It can generate creative images and modify existing images as desired, as well as upscale low-resolution images to high resolution.\n",
            "\n",
            "4. **Future Plans**: Samsung Electronics plans to gradually integrate Samsung Gauss into various products, with expectations that smartphones equipped with Gauss will compete with Qualcomm devices featuring Meta's Llama 2 and Google Pixel devices using Google Assistant starting in 2024.\n",
            "\n",
            "This information shows that Samsung Electronics is advancing towards enhancing user experience and strengthening data security through AI technology.\n"
          ]
        }
      ]
    },
    {
      "cell_type": "code",
      "source": [
        "!pip install pymupdf"
      ],
      "metadata": {
        "colab": {
          "base_uri": "https://localhost:8080/"
        },
        "id": "nogAW-kBTOIC",
        "outputId": "4a360b44-28fa-497c-db3c-3b9376f686ba"
      },
      "execution_count": 110,
      "outputs": [
        {
          "output_type": "stream",
          "name": "stdout",
          "text": [
            "Collecting pymupdf\n",
            "  Downloading PyMuPDF-1.24.11-cp38-abi3-manylinux2014_x86_64.manylinux_2_17_x86_64.whl.metadata (3.4 kB)\n",
            "Downloading PyMuPDF-1.24.11-cp38-abi3-manylinux2014_x86_64.manylinux_2_17_x86_64.whl (19.6 MB)\n",
            "\u001b[?25l   \u001b[90m━━━━━━━━━━━━━━━━━━━━━━━━━━━━━━━━━━━━━━━━\u001b[0m \u001b[32m0.0/19.6 MB\u001b[0m \u001b[31m?\u001b[0m eta \u001b[36m-:--:--\u001b[0m\r\u001b[2K   \u001b[91m━━━━━━━\u001b[0m\u001b[91m╸\u001b[0m\u001b[90m━━━━━━━━━━━━━━━━━━━━━━━━━━━━━━━━\u001b[0m \u001b[32m3.7/19.6 MB\u001b[0m \u001b[31m112.2 MB/s\u001b[0m eta \u001b[36m0:00:01\u001b[0m\r\u001b[2K   \u001b[91m━━━━━━━━━━━━━━━━━━━\u001b[0m\u001b[91m╸\u001b[0m\u001b[90m━━━━━━━━━━━━━━━━━━━━\u001b[0m \u001b[32m9.6/19.6 MB\u001b[0m \u001b[31m138.3 MB/s\u001b[0m eta \u001b[36m0:00:01\u001b[0m\r\u001b[2K   \u001b[91m━━━━━━━━━━━━━━━━━━━━━━━━━━━━━━━\u001b[0m\u001b[90m╺\u001b[0m\u001b[90m━━━━━━━━\u001b[0m \u001b[32m15.4/19.6 MB\u001b[0m \u001b[31m166.6 MB/s\u001b[0m eta \u001b[36m0:00:01\u001b[0m\r\u001b[2K   \u001b[91m━━━━━━━━━━━━━━━━━━━━━━━━━━━━━━━━━━━━━━━\u001b[0m\u001b[91m╸\u001b[0m \u001b[32m19.6/19.6 MB\u001b[0m \u001b[31m171.1 MB/s\u001b[0m eta \u001b[36m0:00:01\u001b[0m\r\u001b[2K   \u001b[91m━━━━━━━━━━━━━━━━━━━━━━━━━━━━━━━━━━━━━━━\u001b[0m\u001b[91m╸\u001b[0m \u001b[32m19.6/19.6 MB\u001b[0m \u001b[31m171.1 MB/s\u001b[0m eta \u001b[36m0:00:01\u001b[0m\r\u001b[2K   \u001b[90m━━━━━━━━━━━━━━━━━━━━━━━━━━━━━━━━━━━━━━━━\u001b[0m \u001b[32m19.6/19.6 MB\u001b[0m \u001b[31m80.1 MB/s\u001b[0m eta \u001b[36m0:00:00\u001b[0m\n",
            "\u001b[?25hInstalling collected packages: pymupdf\n",
            "Successfully installed pymupdf-1.24.11\n"
          ]
        }
      ]
    },
    {
      "cell_type": "code",
      "source": [
        "# 필요한 모듈 import\n",
        "from langchain_core.prompts import ChatPromptTemplate\n",
        "from langchain_community.tools.tavily_search import TavilySearchResults\n",
        "from langchain_community.vectorstores import FAISS\n",
        "from langchain_community.chat_message_histories import ChatMessageHistory\n",
        "from langchain.text_splitter import RecursiveCharacterTextSplitter\n",
        "from langchain_openai import OpenAIEmbeddings, ChatOpenAI\n",
        "from langchain.document_loaders import PyMuPDFLoader\n",
        "from langchain.tools.retriever import create_retriever_tool\n",
        "from langchain.agents import create_tool_calling_agent, AgentExecutor\n",
        "from langchain_core.runnables.history import RunnableWithMessageHistory\n",
        "from langchain_teddynote.messages import AgentStreamParser\n",
        "\n",
        "########## 1. 도구를 정의합니다 ##########\n",
        "\n",
        "### 1-1. Search 도구 ###\n",
        "# TavilySearchResults 클래스의 인스턴스를 생성합니다\n",
        "# k=6은 검색 결과를 6개까지 가져오겠다는 의미입니다\n",
        "search = TavilySearchResults(k=6)\n",
        "\n",
        "### 1-2. PDF 문서 검색 도구 (Retriever) ###\n",
        "# PDF 파일 로드. 파일의 경로 입력\n",
        "loader = PyMuPDFLoader(\"/content/SPRI_AI_Brief_2023년12월호_F.pdf\")\n",
        "\n",
        "# 텍스트 분할기를 사용하여 문서를 분할합니다.\n",
        "text_splitter = RecursiveCharacterTextSplitter(chunk_size=1000, chunk_overlap=100)\n",
        "\n",
        "# 문서를 로드하고 분할합니다.\n",
        "split_docs = loader.load_and_split(text_splitter)\n",
        "\n",
        "# VectorStore를 생성합니다.\n",
        "vector = FAISS.from_documents(split_docs, OpenAIEmbeddings())\n",
        "\n",
        "# Retriever를 생성합니다.\n",
        "retriever = vector.as_retriever()\n",
        "\n",
        "retriever_tool = create_retriever_tool(\n",
        "    retriever,\n",
        "    name=\"pdf_search\",  # 도구의 이름을 입력합니다.\n",
        "    description=\"use this tool to search information from the PDF document\",  # 도구에 대한 설명을 자세히 기입해야 합니다!!\n",
        ")\n",
        "\n",
        "### 1-3. tools 리스트에 도구 목록을 추가합니다 ###\n",
        "# tools 리스트에 search와 retriever_tool을 추가합니다.\n",
        "tools = [search, retriever_tool]\n",
        "\n",
        "########## 2. LLM 을 정의합니다 ##########\n",
        "# LLM 모델을 생성합니다.\n",
        "llm = ChatOpenAI(model=\"gpt-4o\", temperature=0)\n",
        "\n",
        "########## 3. Prompt 를 정의합니다 ##########\n",
        "\n",
        "# Prompt 를 정의합니다 - 이 부분을 수정할 수 있습니다!\n",
        "# Prompt 정의\n",
        "prompt = ChatPromptTemplate.from_messages(\n",
        "    [\n",
        "        (\n",
        "            \"system\",\n",
        "            \"You are a helpful assistant. \"\n",
        "            \"Make sure to use the `pdf_search` tool for searching information from the PDF document. \"\n",
        "            \"If you can't find the information from the PDF document, use the `search` tool for searching information from the web.\",\n",
        "        ),\n",
        "        (\"placeholder\", \"{chat_history}\"),\n",
        "        (\"human\", \"{input}\"),\n",
        "        (\"placeholder\", \"{agent_scratchpad}\"),\n",
        "    ]\n",
        ")\n",
        "\n",
        "########## 4. Agent 를 정의합니다 ##########\n",
        "\n",
        "# 에이전트를 생성합니다.\n",
        "# llm, tools, prompt를 인자로 사용합니다.\n",
        "agent = create_tool_calling_agent(llm, tools, prompt)\n",
        "\n",
        "########## 5. AgentExecutor 를 정의합니다 ##########\n",
        "\n",
        "# AgentExecutor 클래스를 사용하여 agent와 tools를 설정하고, 상세한 로그를 출력하도록 verbose를 True로 설정합니다.\n",
        "agent_executor = AgentExecutor(agent=agent, tools=tools, verbose=False)\n",
        "\n",
        "########## 6. 채팅 기록을 수행하는 메모리를 추가합니다. ##########\n",
        "\n",
        "# session_id 를 저장할 딕셔너리 생성\n",
        "store = {}\n",
        "\n",
        "\n",
        "# session_id 를 기반으로 세션 기록을 가져오는 함수\n",
        "def get_session_history(session_ids):\n",
        "    if session_ids not in store:  # session_id 가 store에 없는 경우\n",
        "        # 새로운 ChatMessageHistory 객체를 생성하여 store에 저장\n",
        "        store[session_ids] = ChatMessageHistory()\n",
        "    return store[session_ids]  # 해당 세션 ID에 대한 세션 기록 반환\n",
        "\n",
        "\n",
        "# 채팅 메시지 기록이 추가된 에이전트를 생성합니다.\n",
        "agent_with_chat_history = RunnableWithMessageHistory(\n",
        "    agent_executor,\n",
        "    # 대화 session_id\n",
        "    get_session_history,\n",
        "    # 프롬프트의 질문이 입력되는 key: \"input\"\n",
        "    input_messages_key=\"input\",\n",
        "    # 프롬프트의 메시지가 입력되는 key: \"chat_history\"\n",
        "    history_messages_key=\"chat_history\",\n",
        ")\n",
        "\n",
        "########## 7. Agent 파서를 정의합니다. ##########\n",
        "agent_stream_parser = AgentStreamParser()\n"
      ],
      "metadata": {
        "id": "49pKlZZJSz4I"
      },
      "execution_count": 113,
      "outputs": []
    },
    {
      "cell_type": "code",
      "source": [
        "# 질의에 대한 답변을 출력합니다.\n",
        "response = agent_with_chat_history.stream(\n",
        "    {\"input\": \"구글이 앤스로픽에 투자한 금액을 문서에서 찾아줘\"},\n",
        "    # 세션 ID를 설정합니다.\n",
        "    # 여기서는 간단한 메모리 내 ChatMessageHistory를 사용하기 때문에 실제로 사용되지 않습니다\n",
        "    config={\"configurable\": {\"session_id\": \"abc123\"}},\n",
        ")\n",
        "\n",
        "for step in response:\n",
        "    agent_stream_parser.process_agent_steps(step)"
      ],
      "metadata": {
        "colab": {
          "base_uri": "https://localhost:8080/"
        },
        "id": "UZIJFGlkTFh1",
        "outputId": "53c85a7e-b7e9-43e0-e690-9c49c6d2eddb"
      },
      "execution_count": 114,
      "outputs": [
        {
          "output_type": "stream",
          "name": "stdout",
          "text": [
            "[도구 호출]\n",
            "Tool: pdf_search\n",
            "query: 구글 앤스로픽 투자 금액\n",
            "Log: \n",
            "Invoking: `pdf_search` with `{'query': '구글 앤스로픽 투자 금액'}`\n",
            "\n",
            "\n",
            "\n",
            "[관찰 내용]\n",
            "Observation: 1. 정책/법제  \n",
            "2. 기업/산업 \n",
            "3. 기술/연구 \n",
            " 4. 인력/교육\n",
            "구글, 앤스로픽에 20억 달러 투자로 생성 AI 협력 강화 \n",
            "n 구글이 앤스로픽에 최대 20억 달러 투자에 합의하고 5억 달러를 우선 투자했으며, 앤스로픽은 \n",
            "구글과 클라우드 서비스 사용 계약도 체결\n",
            "n 3대 클라우드 사업자인 구글, 마이크로소프트, 아마존은 차세대 AI 모델의 대표 기업인 \n",
            "앤스로픽 및 오픈AI와 협력을 확대하는 추세\n",
            "KEY Contents\n",
            "£ 구글, 앤스로픽에 최대 20억 달러 투자 합의 및 클라우드 서비스 제공\n",
            "n 구글이 2023년 10월 27일 앤스로픽에 최대 20억 달러를 투자하기로 합의했으며, 이 중 5억 \n",
            "달러를 우선 투자하고 향후 15억 달러를 추가로 투자할 방침\n",
            "∙구글은 2023년 2월 앤스로픽에 이미 5억 5,000만 달러를 투자한 바 있으며, 아마존도 지난 9월 \n",
            "앤스로픽에 최대 40억 달러의 투자 계획을 공개\n",
            "∙한편, 2023년 11월 8일 블룸버그 보도에 따르면 앤스로픽은 구글의 클라우드 서비스 사용을 위해 \n",
            "4년간 30억 달러 규모의 계약을 체결\n",
            "∙오픈AI 창업자 그룹의 일원이었던 다리오(Dario Amodei)와 다니엘라 아모데이(Daniela Amodei) \n",
            "남매가 2021년 설립한 앤스로픽은 챗GPT의 대항마 ‘클로드(Claude)’ LLM을 개발\n",
            "n 아마존과 구글의 앤스로픽 투자에 앞서, 마이크로소프트는 차세대 AI 모델의 대표 주자인 오픈\n",
            "AI와 협력을 확대\n",
            "∙마이크로소프트는 오픈AI에 앞서 투자한 30억 달러에 더해 2023년 1월 추가로 100억 달러를 \n",
            "투자하기로 하면서 오픈AI의 지분 49%를 확보했으며, 오픈AI는 마이크로소프트의 애저(Azure) \n",
            "클라우드 플랫폼을 사용해 AI 모델을 훈련\n",
            "£ 구글, 클라우드 경쟁력 강화를 위해 생성 AI 투자 확대\n",
            "n 구글은 수익률이 높은 클라우드 컴퓨팅 시장에서 아마존과 마이크로소프트를 따라잡고자 생성 AI를 \n",
            "통한 기업 고객의 클라우드 지출 확대를 위해 AI 투자를 지속\n",
            "\n",
            "n 구글은 수익률이 높은 클라우드 컴퓨팅 시장에서 아마존과 마이크로소프트를 따라잡고자 생성 AI를 \n",
            "통한 기업 고객의 클라우드 지출 확대를 위해 AI 투자를 지속  \n",
            "∙구글은 앤스로픽 외에도 AI 동영상 제작 도구를 개발하는 런웨이(Runway)와 오픈소스 소프트웨어 \n",
            "기업 허깅 페이스(Hugging Face)에도 투자\n",
            "∙구글은 챗GPT의 기반 기술과 직접 경쟁할 수 있는 차세대 LLM ‘제미니(Gemini)’를 포함한 자체 AI \n",
            "시스템 개발에도 수십억 달러를 투자했으며, 2024년 제미니를 출시할 계획\n",
            "☞ 출처 : The Wall Street Journal, Google Commits $2 Billion in Funding to AI Startup Anthropic, 2023.10.27.\n",
            "Bloomberg, AI Startup Anthropic to Use Google Chips in Expanded Partnership, 2023.11.09.\n",
            "\n",
            "1. 정책/법제  \n",
            "2. 기업/산업 \n",
            "3. 기술/연구 \n",
            " 4. 인력/교육\n",
            "미국 프런티어 모델 포럼, 1,000만 달러 규모의 AI 안전 기금 조성\n",
            "n 구글, 앤스로픽, 마이크로소프트, 오픈AI가 참여하는 프런티어 모델 포럼이 자선단체와 함께 AI \n",
            "안전 연구를 위한 1,000만 달러 규모의 AI 안전 기금을 조성\n",
            "n 프런티어 모델 포럼은 AI 모델의 취약점을 발견하고 검증하는 레드팀 활동을 지원하기 위한 \n",
            "모델 평가 기법 개발에 자금을 중점 지원할 계획\n",
            "KEY Contents\n",
            "£ 프런티어 모델 포럼, 자선단체와 함께 AI 안전 연구를 위한 기금 조성\n",
            "n 구글, 앤스로픽, 마이크로소프트, 오픈AI가 출범한 프런티어 모델 포럼이 2023년 10월 25일 AI 안전 \n",
            "연구를 위한 기금을 조성한다고 발표\n",
            "∙참여사들은 맥거번 재단(Patrick J. McGovern Foundation), 데이비드 앤 루실 패커드 재단(The \n",
            "David and Lucile Packard Foundation) 등의 자선단체와 함께 AI 안전 연구를 위한 기금에 \n",
            "1,000만 달러 이상을 기부 \n",
            "∙또한 신기술의 거버넌스와 안전 분야에서 전문성을 갖춘 브루킹스 연구소 출신의 크리스 메서롤(Chris \n",
            "Meserole)을 포럼의 상무이사로 임명\n",
            "n 최근 AI 기술이 급속히 발전하면서 AI 안전에 관한 연구가 부족한 시점에, 포럼은 이러한 격차를 해소\n",
            "하기 위해 AI 안전 기금을 조성\n",
            "∙참여사들은 지난 7월 백악관 주재의 AI 안전 서약에서 외부자의 AI 시스템 취약점 발견과 신고를 \n",
            "촉진하기로 약속했으며, 약속을 이행하기 위해 기금을 활용해 외부 연구집단의 AI 시스템 평가에 \n",
            "자금을 지원할 계획\n",
            "£ AI 안전 기금으로 AI 레드팀을 위한 모델 평가 기법 개발을 중점 지원할 계획\n",
            "n 프런티어 모델 포럼은 AI 안전 기금을 통해 AI 레드팀 활동을 위한 새로운 모델 평가 기법의 개발을 \n",
            "중점 지원할 예정\n",
            "\n",
            "▹ 구글, 앤스로픽에 20억 달러 투자로 생성 AI 협력 강화 ················································ 11\n",
            "   ▹ IDC, 2027년 AI 소프트웨어 매출 2,500억 달러 돌파 전망··········································· 12\n",
            "   ▹ 빌 게이츠, AI 에이전트로 인한 컴퓨터 사용의 패러다임 변화 전망································ 13\n",
            "   ▹ 유튜브, 2024년부터 AI 생성 콘텐츠 표시 의무화···························································· 14\n",
            " 3. 기술/연구\n",
            "   ▹ 영국 과학혁신기술부, AI 안전 연구소 설립 발표······························································ 15\n",
            "   ▹ 구글 딥마인드, 범용 AI 모델의 기능과 동작에 대한 분류 체계 발표······························ 16\n",
            "   ▹ 갈릴레오의 LLM 환각 지수 평가에서 GPT-4가 가장 우수 ··········································· 17\n",
            "   \n",
            " 4. 인력/교육     \n",
            "   ▹ 영국 옥스퍼드 인터넷 연구소, AI 기술자의 임금이 평균 21% 높아······························· 18\n",
            "   \n",
            "   \n",
            " \n",
            "Ⅱ. 주요 행사\n",
            "   ▹CES 2024 ····························································································································· 19\n",
            "[최종 답변]\n",
            "구글은 앤스로픽에 최대 20억 달러를 투자하기로 합의했으며, 이 중 5억 달러를 우선 투자했습니다. 향후 15억 달러를 추가로 투자할 계획입니다.\n"
          ]
        }
      ]
    },
    {
      "cell_type": "code",
      "source": [
        "# 질의에 대한 답변을 출력합니다.\n",
        "response = agent_with_chat_history.stream(\n",
        "    {\"input\": \"이전의 답변을 영어로 번역해 주세요\"},\n",
        "    # 세션 ID를 설정합니다.\n",
        "    # 여기서는 간단한 메모리 내 ChatMessageHistory를 사용하기 때문에 실제로 사용되지 않습니다\n",
        "    config={\"configurable\": {\"session_id\": \"abc123\"}},\n",
        ")\n",
        "\n",
        "for step in response:\n",
        "    agent_stream_parser.process_agent_steps(step)"
      ],
      "metadata": {
        "colab": {
          "base_uri": "https://localhost:8080/"
        },
        "id": "70dhN7F6TbkJ",
        "outputId": "d4d27993-44ba-4561-82f2-7ac568ada809"
      },
      "execution_count": 115,
      "outputs": [
        {
          "output_type": "stream",
          "name": "stdout",
          "text": [
            "[최종 답변]\n",
            "Google has agreed to invest up to $2 billion in Anthropic, with an initial investment of $500 million. They plan to invest an additional $1.5 billion in the future.\n"
          ]
        }
      ]
    },
    {
      "cell_type": "code",
      "source": [
        "response = agent_with_chat_history.stream(\n",
        "    {\n",
        "        \"input\": \"2024년 프로야구 플레이오프 진출 5개팀을 검색해서 알려주세요. 한글로 답변하세요\"\n",
        "    },\n",
        "    # 세션 ID를 설정합니다.\n",
        "    # 여기서는 간단한 메모리 내 ChatMessageHistory를 사용하기 때문에 실제로 사용되지 않습니다\n",
        "    config={\"configurable\": {\"session_id\": \"abc456\"}},\n",
        ")\n",
        "\n",
        "for step in response:\n",
        "    agent_stream_parser.process_agent_steps(step)"
      ],
      "metadata": {
        "colab": {
          "base_uri": "https://localhost:8080/"
        },
        "id": "RihhK_T5ThRb",
        "outputId": "262627b5-7d98-4aed-d69e-6f8ae1632e43"
      },
      "execution_count": 118,
      "outputs": [
        {
          "output_type": "stream",
          "name": "stdout",
          "text": [
            "[도구 호출]\n",
            "Tool: tavily_search_results_json\n",
            "query: 2024년 프로야구 플레이오프 진출팀\n",
            "Log: \n",
            "Invoking: `tavily_search_results_json` with `{'query': '2024년 프로야구 플레이오프 진출팀'}`\n",
            "\n",
            "\n",
            "\n",
            "[관찰 내용]\n",
            "Observation: [{'url': 'https://m.blog.naver.com/baekhw1/223604883231?isInf=true', 'content': 'Oct 3, 2024 · 가을야구는 5위까지 참가할 수 있다. 진출팀은 5위 KT위즈, 4위 두산베어스. 3위 LG트윈스, 2위 삼성라이온즈.'}, {'url': 'https://www.hani.co.kr/arti/sports/baseball/1159732.html', 'content': '2024년 최강팀 가릴 가을야구, 10월2일 막 오른다 2024년 최강팀 가릴 가을야구, 10월2일 막 오른다 2024년 9월16일 서울 잠실야구장에서 열린 프로야구 KBO리그 키움 히어로즈와 두산 베어스의 경기에서 관중들이 응원전을 하고 있다. 2024 KBO리그 포스트시즌이 10월2일 와일드카드 1차전을 시작으로 막을 올린다. 와일드카드 결정전에서 5위 팀은 두 경기에서 모두 이겨야만 준플레이오프에 진출할 수 있다. 3위로 정규리그를 마감한 엘지(LG) 트윈스는 10월5일 홈구장인 잠실야구장에서 준플레이오프 첫 경기를 치른다. 5전3선승제로 진행되는 준플레이오프는 3위 팀 홈구장에서 1·2·5차전을, 와일드카드 결정전 승리 팀의 홈구장에서 3·4차전을 치른다. [단독] 의료 취약지 ‘건강격차 해소’ 예산 24억 전액 깎였다 대통령까지 나섰지만…10명 중 7명 “일과 삶, 균형 못 이뤘다”  [단독] 의료 취약지 ‘건강격차 해소’ 예산 24억 전액 삭감됐다  [단독] 김건희 결혼 후에도 ‘도이치 주식매수’ 정황…흔들리는 윤 해명  [단독] 군 딥페이크 성범죄 접수 한달새 36건…피해자 모두 여성 '}, {'url': 'https://www.youtube.com/watch?v=FhtIfyJL_A0', 'content': 'Sep 22, 2024 · [키움 vs 삼성] 2024 KBO 리그 플레이오프 직행을 확정 짓는 삼성 라이온즈 | 9.22 | KBO 모먼트 | 야구 하이라이트 ...Duration: 2:13Posted: Sep 22, 2024Missing:  팀 | Show results with:팀'}, {'url': 'https://www.youtube.com/watch?v=TH3VZ7nLXpQ', 'content': '2 days ago · [스포츠클래식 LIVE] 2024 KBO리그 포스트시즌 플레이오프 1차전 LG 트윈스 : 삼성 라이온즈 (대구 삼성 라이온즈 ...Duration: 3:26:41Posted: 2 days agoMissing:  진출 | Show results with:진출'}, {'url': 'https://sancho216.tistory.com/entry/2024-KBO-%ED%8F%AC%EC%8A%A4%ED%8A%B8%EC%8B%9C%EC%A6%8C-%EC%9D%BC%EC%A0%95%EC%9E%A5%EC%86%8C%ED%8C%80%EC%98%88%EB%A7%A4%EC%9D%BC%EC%A0%95-%EC%99%84%EB%B2%BD-%EC%B4%9D%EC%A0%95%EB%A6%AC', 'content': 'Oct 5, 2024 · 2024 한국 프로야구 포스트시즌의 열기가 점점 더 뜨거워지면서, 드디어 플레이오프 무대에서 LG 트윈스와 삼성 라이온즈가 맞붙게 되었습니다.'}]\n",
            "[최종 답변]\n",
            "2024년 프로야구 플레이오프에 진출한 5개 팀은 다음과 같습니다:\n",
            "\n",
            "1. KT 위즈 (5위)\n",
            "2. 두산 베어스 (4위)\n",
            "3. LG 트윈스 (3위)\n",
            "4. 삼성 라이온즈 (2위)\n",
            "\n",
            "이 팀들은 가을야구에 참가하여 포스트시즌을 치르게 됩니다.\n"
          ]
        }
      ]
    },
    {
      "cell_type": "code",
      "source": [
        "# 질의에 대한 답변을 출력합니다.\n",
        "response = agent_with_chat_history.stream(\n",
        "    {\"input\": \"이전의 답변을 SNS 게시글 형태로 100자 내외로 작성하세요.\"},\n",
        "    # 세션 ID를 설정합니다.\n",
        "    # 여기서는 간단한 메모리 내 ChatMessageHistory를 사용하기 때문에 실제로 사용되지 않습니다\n",
        "    config={\"configurable\": {\"session_id\": \"abc456\"}},\n",
        ")\n",
        "\n",
        "for step in response:\n",
        "    agent_stream_parser.process_agent_steps(step)"
      ],
      "metadata": {
        "colab": {
          "base_uri": "https://localhost:8080/"
        },
        "id": "u8bviD-MTkjX",
        "outputId": "fec40af6-a6c4-4cc2-e5ab-770112fd9e69"
      },
      "execution_count": 117,
      "outputs": [
        {
          "output_type": "stream",
          "name": "stdout",
          "text": [
            "[최종 답변]\n",
            "2024 프로야구 플레이오프 진출팀: KT 위즈, 두산 베어스, LG 트윈스, 삼성 라이온즈! 가을야구의 열기를 함께 느껴보세요! #프로야구 #플레이오프 #가을야구\n"
          ]
        }
      ]
    },
    {
      "cell_type": "code",
      "source": [
        "# 질의에 대한 답변을 출력합니다.\n",
        "response = agent_with_chat_history.stream(\n",
        "    {\"input\": \"이전의 답변에 한국 시리즈 일정을 추가하세요.\"},\n",
        "    # 세션 ID를 설정합니다.\n",
        "    # 여기서는 간단한 메모리 내 ChatMessageHistory를 사용하기 때문에 실제로 사용되지 않습니다\n",
        "    config={\"configurable\": {\"session_id\": \"abc456\"}},\n",
        ")\n",
        "\n",
        "for step in response:\n",
        "    agent_stream_parser.process_agent_steps(step)"
      ],
      "metadata": {
        "colab": {
          "base_uri": "https://localhost:8080/"
        },
        "id": "-m5RaNlETwng",
        "outputId": "764432ff-625d-4410-c918-9e861439f1d5"
      },
      "execution_count": 119,
      "outputs": [
        {
          "output_type": "stream",
          "name": "stdout",
          "text": [
            "[도구 호출]\n",
            "Tool: tavily_search_results_json\n",
            "query: 2024 한국 시리즈 일정\n",
            "Log: \n",
            "Invoking: `tavily_search_results_json` with `{'query': '2024 한국 시리즈 일정'}`\n",
            "\n",
            "\n",
            "\n",
            "[관찰 내용]\n",
            "Observation: [{'url': 'https://twitter.com/Kiatigers/status/1841374915137863757', 'content': 'Oct 2, 2024 · 2024 한국시리즈 일정 안내드립니다. 1️⃣차전 10/21(월) 18:30 광주 2️⃣차전 10/22(화) 18:30 광주 3️⃣차전 10/24(목) 18:30 PO 승리팀 홈 4️⃣차전 10/25(금)\\xa0...'}, {'url': 'https://www.instagram.com/always_kia_tigers/p/DAnN8V3BHvT/', 'content': 'Oct 2, 2024 · 2024 한국시리즈 일정 안내 1️⃣차전 10/21(월) 18:30 광주 2️⃣차전 10/22(화) 18:30 광주 3️⃣차전 10/24(목) 18:30 PO 승리팀 홈'}, {'url': 'https://ko.wikipedia.org/wiki/2024%EB%85%84_%ED%95%9C%EA%B5%AD%EC%8B%9C%EB%A6%AC%EC%A6%88', 'content': '2024 신한 SOL Bank KBO 한국시리즈는 2024년 10월 21일부터 10월 29일까지 펼쳐질 예정인 2024년 KBO 리그의 챔피언 결정전이다. 대진은 2024년 KBO 리그 정규 시즌 1\\xa0...'}, {'url': 'https://m.blog.naver.com/qhadldhaus98/223605904423', 'content': '2024 KBO 한국 프로야구 포스트시즌 일정 순위 예매 (와일드카드 준플레이오프 플레이오프 한국시리즈) : 네이버 블로그 2024 KBO 한국 프로야구 포스트시즌 일정 순위 예매 (와일드카드 준플레이오프 플레이오프 한국시리즈) 2024 KBO 한국 프로야구 포스트시즌 일정 순위 예매 (와일드카드 준플레이오프 플레이오프 한국시리즈) 2024 프로야구 일정 KBO 준플레이오프 2024 프로야구 일정 KBO 플레이오프 2024 KBO 프로야구 한국시리즈 일정 2024 KBO 준플레이오프 경기 일정 및 프로야구 예매 안내 4차전: 10월 9일 (수) 14:00, 수원케이티위즈파크 (예매 시작: 17:00) (필요 시) #보미블로그 #KBO #2024KBO #KBO리그 #포스트시즌 #가을야구 #와일드카드 #준플레이오프 #플레이오프 #한국시리즈 #KT위즈 #두산베어스 #LG트윈스 #삼성라이온즈 #기아타이거즈 #프로야구 #야구 #KBO포스트시즌 #가을야구 #프로야구와일드카드 #KBO준플레이오프 #KBO플레이오프 #프로야구한국시리즈 #프로야구포스트시즌 #야구랜선응원 #프로야구일정 #프로야구순위 #국내야구일정 #한국프로야구 #프로야구예매 #포스트시즌예매 {\"title\":\"2024 KBO 한국 프로야구 포스트시즌 일정 순위 예매 (와일드카드 준플레이오프 플레이오프 한국시리즈)\",\"source\":\"https://blog.naver.com/qhadldhaus98/223605904423\",\"blogName\":\"♬ 보미의 ..\",\"blogId\":\"qhadldhaus98\",\"domainIdOrBlogId\":\"qhadldhaus98\",\"nicknameOrBlogId\":\"보미\",\"logNo\":223605904423,\"smartEditorVersion\":4,\"meDisplay\":true,\"lineDisplay\":true,\"outsideDisplay\":true,\"cafeDisplay\":true,\"blogDisplay\":true}'}, {'url': 'https://ko.wikipedia.org/wiki/2024%EB%85%84_KBO_%ED%8F%AC%EC%8A%A4%ED%8A%B8%EC%8B%9C%EC%A6%8C', 'content': '2024 신한 SOL Bank KBO 포스트시즌은 2024년 10월 2일부터 10월 29일(예정)까지 실시된다. 이번 포스트시즌 역시 한국시리즈 5차전 장소는 정규시즌 우승팀의 홈구장\\xa0...'}]\n",
            "[최종 답변]\n",
            "2024년 프로야구 플레이오프에 진출한 5개 팀은 다음과 같습니다:\n",
            "\n",
            "1. KT 위즈 (5위)\n",
            "2. 두산 베어스 (4위)\n",
            "3. LG 트윈스 (3위)\n",
            "4. 삼성 라이온즈 (2위)\n",
            "\n",
            "한국 시리즈 일정은 다음과 같습니다:\n",
            "- 1차전: 10월 21일(월) 18:30, 광주\n",
            "- 2차전: 10월 22일(화) 18:30, 광주\n",
            "- 3차전: 10월 24일(목) 18:30, 플레이오프 승리팀 홈\n",
            "- 4차전: 10월 25일(금) (필요 시)\n"
          ]
        }
      ]
    },
    {
      "cell_type": "markdown",
      "source": [
        "참고 : https://wikidocs.net/233782\n"
      ],
      "metadata": {
        "id": "hn-TcMB8T9Ol"
      }
    }
  ]
}