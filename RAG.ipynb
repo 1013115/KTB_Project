{
  "nbformat": 4,
  "nbformat_minor": 0,
  "metadata": {
    "colab": {
      "provenance": [],
      "authorship_tag": "ABX9TyMFdez2CbzispkjEX2jbH4b",
      "include_colab_link": true
    },
    "kernelspec": {
      "name": "python3",
      "display_name": "Python 3"
    },
    "language_info": {
      "name": "python"
    }
  },
  "cells": [
    {
      "cell_type": "markdown",
      "metadata": {
        "id": "view-in-github",
        "colab_type": "text"
      },
      "source": [
        "<a href=\"https://colab.research.google.com/github/1013115/KTB_Project/blob/main/RAG.ipynb\" target=\"_parent\"><img src=\"https://colab.research.google.com/assets/colab-badge.svg\" alt=\"Open In Colab\"/></a>"
      ]
    },
    {
      "cell_type": "markdown",
      "source": [
        "# RAG (Retrieval-Augmented Generation)\n",
        "\n",
        "기존의 대규모 언어 모델을 확장하여, 주어진 컨텍스트나 질문에 대해 더욱 정확하고 풍부한 정보를 제공하는 방법\n",
        "- 모델이 학습 데이터에 포함되지 않은 외부 데이터를 실시간으로 검색(retrieval)하고, 이를 바탕으로 답변을 생성(generation)하는 과정을 포함한다.\n",
        "- 환각을 방지하고, 모델이 최신 정보를 반영하거나 더 넓은 지식을 활용할 수 있게 한다\n"
      ],
      "metadata": {
        "id": "EsppEEqi63p2"
      }
    },
    {
      "cell_type": "markdown",
      "source": [
        "1. 모델의 기본 구조\n",
        "- **검색 단계 (Retrieval Phase)**: 사용자의 질문이나 컨텍스트를 입력으로 받아서, 이와 관련된 외부 데이터를 검색하는 단계. 색 엔진이나 데이터베이스 등 다양한 소스에서 필요한 정보를 찾아냄. 검색된 데이터는 질문에 대한 답변을 생성하는데 적합하고 상세한 정보를 포함하는 것을 목표로 함\n",
        "- **생성 단계 (Generation Phase)**: 검색된 데이터를 기반으로 LLM 모델이 사용자의 질문에 답변을 생성하는 단계. 이 단계에서 모델은 검색된 정보와 기존의 지식을 결합하여, 주어진 질문에 대해 답변을 생성함.\n",
        "\n",
        "2. RAG 모델의 장점\n",
        "- 풍부한 정보 제공:\n",
        "RAG 모델은 검색을 통해 얻은 외부 데이터를 활용하여, 보다 구체적이고 풍부한 정보를 제공할 수 있다.\n",
        "- 실시간 정보 반영: 최신 데이터를 검색하여 반영함으로써, 모델이 실시간으로 변화하는 정보에 대응할 수 있다.\n",
        "- 환각 방지: 검색을 통해 실제 데이터에 기반한 답변을 생성함으로써, 환각 현상이 발생할 위험을 줄이고 정확도를 높일 수 있다.\n"
      ],
      "metadata": {
        "id": "RF1yCxxH7dV-"
      }
    },
    {
      "cell_type": "markdown",
      "source": [
        "## 1. 데이터 로드(Load Data)\n",
        "RAG에 사용할 데이터를 불러오는 단계\n",
        "\n",
        "외부 데이터 소스에서 정보를 수집하고, 필요한 형식으로 변환하여 시스템에 로드함.\n",
        "예를 들면, 공개 데이터셋, 웹크롤링을 통해 얻는 데이터, 또는 사전에 정의된 자료일 수 있다."
      ],
      "metadata": {
        "id": "_nVQm-yV8gNH"
      }
    },
    {
      "cell_type": "code",
      "source": [
        "!pip install langchain"
      ],
      "metadata": {
        "colab": {
          "base_uri": "https://localhost:8080/"
        },
        "id": "h1glRSuK9QKQ",
        "outputId": "649963b2-3238-4e11-d0a7-e96a4e968644"
      },
      "execution_count": 1,
      "outputs": [
        {
          "output_type": "stream",
          "name": "stdout",
          "text": [
            "Collecting langchain\n",
            "  Downloading langchain-0.3.3-py3-none-any.whl.metadata (7.1 kB)\n",
            "Requirement already satisfied: PyYAML>=5.3 in /usr/local/lib/python3.10/dist-packages (from langchain) (6.0.2)\n",
            "Requirement already satisfied: SQLAlchemy<3,>=1.4 in /usr/local/lib/python3.10/dist-packages (from langchain) (2.0.35)\n",
            "Requirement already satisfied: aiohttp<4.0.0,>=3.8.3 in /usr/local/lib/python3.10/dist-packages (from langchain) (3.10.10)\n",
            "Requirement already satisfied: async-timeout<5.0.0,>=4.0.0 in /usr/local/lib/python3.10/dist-packages (from langchain) (4.0.3)\n",
            "Collecting langchain-core<0.4.0,>=0.3.10 (from langchain)\n",
            "  Downloading langchain_core-0.3.10-py3-none-any.whl.metadata (6.3 kB)\n",
            "Collecting langchain-text-splitters<0.4.0,>=0.3.0 (from langchain)\n",
            "  Downloading langchain_text_splitters-0.3.0-py3-none-any.whl.metadata (2.3 kB)\n",
            "Collecting langsmith<0.2.0,>=0.1.17 (from langchain)\n",
            "  Downloading langsmith-0.1.135-py3-none-any.whl.metadata (13 kB)\n",
            "Requirement already satisfied: numpy<2,>=1 in /usr/local/lib/python3.10/dist-packages (from langchain) (1.26.4)\n",
            "Requirement already satisfied: pydantic<3.0.0,>=2.7.4 in /usr/local/lib/python3.10/dist-packages (from langchain) (2.9.2)\n",
            "Requirement already satisfied: requests<3,>=2 in /usr/local/lib/python3.10/dist-packages (from langchain) (2.32.3)\n",
            "Collecting tenacity!=8.4.0,<9.0.0,>=8.1.0 (from langchain)\n",
            "  Downloading tenacity-8.5.0-py3-none-any.whl.metadata (1.2 kB)\n",
            "Requirement already satisfied: aiohappyeyeballs>=2.3.0 in /usr/local/lib/python3.10/dist-packages (from aiohttp<4.0.0,>=3.8.3->langchain) (2.4.3)\n",
            "Requirement already satisfied: aiosignal>=1.1.2 in /usr/local/lib/python3.10/dist-packages (from aiohttp<4.0.0,>=3.8.3->langchain) (1.3.1)\n",
            "Requirement already satisfied: attrs>=17.3.0 in /usr/local/lib/python3.10/dist-packages (from aiohttp<4.0.0,>=3.8.3->langchain) (24.2.0)\n",
            "Requirement already satisfied: frozenlist>=1.1.1 in /usr/local/lib/python3.10/dist-packages (from aiohttp<4.0.0,>=3.8.3->langchain) (1.4.1)\n",
            "Requirement already satisfied: multidict<7.0,>=4.5 in /usr/local/lib/python3.10/dist-packages (from aiohttp<4.0.0,>=3.8.3->langchain) (6.1.0)\n",
            "Requirement already satisfied: yarl<2.0,>=1.12.0 in /usr/local/lib/python3.10/dist-packages (from aiohttp<4.0.0,>=3.8.3->langchain) (1.14.0)\n",
            "Collecting jsonpatch<2.0,>=1.33 (from langchain-core<0.4.0,>=0.3.10->langchain)\n",
            "  Downloading jsonpatch-1.33-py2.py3-none-any.whl.metadata (3.0 kB)\n",
            "Requirement already satisfied: packaging<25,>=23.2 in /usr/local/lib/python3.10/dist-packages (from langchain-core<0.4.0,>=0.3.10->langchain) (24.1)\n",
            "Requirement already satisfied: typing-extensions>=4.7 in /usr/local/lib/python3.10/dist-packages (from langchain-core<0.4.0,>=0.3.10->langchain) (4.12.2)\n",
            "Collecting httpx<1,>=0.23.0 (from langsmith<0.2.0,>=0.1.17->langchain)\n",
            "  Downloading httpx-0.27.2-py3-none-any.whl.metadata (7.1 kB)\n",
            "Collecting orjson<4.0.0,>=3.9.14 (from langsmith<0.2.0,>=0.1.17->langchain)\n",
            "  Downloading orjson-3.10.7-cp310-cp310-manylinux_2_17_x86_64.manylinux2014_x86_64.whl.metadata (50 kB)\n",
            "\u001b[2K     \u001b[90m━━━━━━━━━━━━━━━━━━━━━━━━━━━━━━━━━━━━━━━━\u001b[0m \u001b[32m50.4/50.4 kB\u001b[0m \u001b[31m700.9 kB/s\u001b[0m eta \u001b[36m0:00:00\u001b[0m\n",
            "\u001b[?25hCollecting requests-toolbelt<2.0.0,>=1.0.0 (from langsmith<0.2.0,>=0.1.17->langchain)\n",
            "  Downloading requests_toolbelt-1.0.0-py2.py3-none-any.whl.metadata (14 kB)\n",
            "Requirement already satisfied: annotated-types>=0.6.0 in /usr/local/lib/python3.10/dist-packages (from pydantic<3.0.0,>=2.7.4->langchain) (0.7.0)\n",
            "Requirement already satisfied: pydantic-core==2.23.4 in /usr/local/lib/python3.10/dist-packages (from pydantic<3.0.0,>=2.7.4->langchain) (2.23.4)\n",
            "Requirement already satisfied: charset-normalizer<4,>=2 in /usr/local/lib/python3.10/dist-packages (from requests<3,>=2->langchain) (3.4.0)\n",
            "Requirement already satisfied: idna<4,>=2.5 in /usr/local/lib/python3.10/dist-packages (from requests<3,>=2->langchain) (3.10)\n",
            "Requirement already satisfied: urllib3<3,>=1.21.1 in /usr/local/lib/python3.10/dist-packages (from requests<3,>=2->langchain) (2.2.3)\n",
            "Requirement already satisfied: certifi>=2017.4.17 in /usr/local/lib/python3.10/dist-packages (from requests<3,>=2->langchain) (2024.8.30)\n",
            "Requirement already satisfied: greenlet!=0.4.17 in /usr/local/lib/python3.10/dist-packages (from SQLAlchemy<3,>=1.4->langchain) (3.1.1)\n",
            "Requirement already satisfied: anyio in /usr/local/lib/python3.10/dist-packages (from httpx<1,>=0.23.0->langsmith<0.2.0,>=0.1.17->langchain) (3.7.1)\n",
            "Collecting httpcore==1.* (from httpx<1,>=0.23.0->langsmith<0.2.0,>=0.1.17->langchain)\n",
            "  Downloading httpcore-1.0.6-py3-none-any.whl.metadata (21 kB)\n",
            "Requirement already satisfied: sniffio in /usr/local/lib/python3.10/dist-packages (from httpx<1,>=0.23.0->langsmith<0.2.0,>=0.1.17->langchain) (1.3.1)\n",
            "Collecting h11<0.15,>=0.13 (from httpcore==1.*->httpx<1,>=0.23.0->langsmith<0.2.0,>=0.1.17->langchain)\n",
            "  Downloading h11-0.14.0-py3-none-any.whl.metadata (8.2 kB)\n",
            "Collecting jsonpointer>=1.9 (from jsonpatch<2.0,>=1.33->langchain-core<0.4.0,>=0.3.10->langchain)\n",
            "  Downloading jsonpointer-3.0.0-py2.py3-none-any.whl.metadata (2.3 kB)\n",
            "Requirement already satisfied: propcache>=0.2.0 in /usr/local/lib/python3.10/dist-packages (from yarl<2.0,>=1.12.0->aiohttp<4.0.0,>=3.8.3->langchain) (0.2.0)\n",
            "Requirement already satisfied: exceptiongroup in /usr/local/lib/python3.10/dist-packages (from anyio->httpx<1,>=0.23.0->langsmith<0.2.0,>=0.1.17->langchain) (1.2.2)\n",
            "Downloading langchain-0.3.3-py3-none-any.whl (1.0 MB)\n",
            "\u001b[2K   \u001b[90m━━━━━━━━━━━━━━━━━━━━━━━━━━━━━━━━━━━━━━━━\u001b[0m \u001b[32m1.0/1.0 MB\u001b[0m \u001b[31m14.1 MB/s\u001b[0m eta \u001b[36m0:00:00\u001b[0m\n",
            "\u001b[?25hDownloading langchain_core-0.3.10-py3-none-any.whl (404 kB)\n",
            "\u001b[2K   \u001b[90m━━━━━━━━━━━━━━━━━━━━━━━━━━━━━━━━━━━━━━━━\u001b[0m \u001b[32m404.4/404.4 kB\u001b[0m \u001b[31m17.0 MB/s\u001b[0m eta \u001b[36m0:00:00\u001b[0m\n",
            "\u001b[?25hDownloading langchain_text_splitters-0.3.0-py3-none-any.whl (25 kB)\n",
            "Downloading langsmith-0.1.135-py3-none-any.whl (295 kB)\n",
            "\u001b[2K   \u001b[90m━━━━━━━━━━━━━━━━━━━━━━━━━━━━━━━━━━━━━━━━\u001b[0m \u001b[32m295.8/295.8 kB\u001b[0m \u001b[31m10.2 MB/s\u001b[0m eta \u001b[36m0:00:00\u001b[0m\n",
            "\u001b[?25hDownloading tenacity-8.5.0-py3-none-any.whl (28 kB)\n",
            "Downloading httpx-0.27.2-py3-none-any.whl (76 kB)\n",
            "\u001b[2K   \u001b[90m━━━━━━━━━━━━━━━━━━━━━━━━━━━━━━━━━━━━━━━━\u001b[0m \u001b[32m76.4/76.4 kB\u001b[0m \u001b[31m4.8 MB/s\u001b[0m eta \u001b[36m0:00:00\u001b[0m\n",
            "\u001b[?25hDownloading httpcore-1.0.6-py3-none-any.whl (78 kB)\n",
            "\u001b[2K   \u001b[90m━━━━━━━━━━━━━━━━━━━━━━━━━━━━━━━━━━━━━━━━\u001b[0m \u001b[32m78.0/78.0 kB\u001b[0m \u001b[31m5.5 MB/s\u001b[0m eta \u001b[36m0:00:00\u001b[0m\n",
            "\u001b[?25hDownloading jsonpatch-1.33-py2.py3-none-any.whl (12 kB)\n",
            "Downloading orjson-3.10.7-cp310-cp310-manylinux_2_17_x86_64.manylinux2014_x86_64.whl (141 kB)\n",
            "\u001b[2K   \u001b[90m━━━━━━━━━━━━━━━━━━━━━━━━━━━━━━━━━━━━━━━━\u001b[0m \u001b[32m141.9/141.9 kB\u001b[0m \u001b[31m9.2 MB/s\u001b[0m eta \u001b[36m0:00:00\u001b[0m\n",
            "\u001b[?25hDownloading requests_toolbelt-1.0.0-py2.py3-none-any.whl (54 kB)\n",
            "\u001b[2K   \u001b[90m━━━━━━━━━━━━━━━━━━━━━━━━━━━━━━━━━━━━━━━━\u001b[0m \u001b[32m54.5/54.5 kB\u001b[0m \u001b[31m3.9 MB/s\u001b[0m eta \u001b[36m0:00:00\u001b[0m\n",
            "\u001b[?25hDownloading jsonpointer-3.0.0-py2.py3-none-any.whl (7.6 kB)\n",
            "Downloading h11-0.14.0-py3-none-any.whl (58 kB)\n",
            "\u001b[2K   \u001b[90m━━━━━━━━━━━━━━━━━━━━━━━━━━━━━━━━━━━━━━━━\u001b[0m \u001b[32m58.3/58.3 kB\u001b[0m \u001b[31m2.3 MB/s\u001b[0m eta \u001b[36m0:00:00\u001b[0m\n",
            "\u001b[?25hInstalling collected packages: tenacity, orjson, jsonpointer, h11, requests-toolbelt, jsonpatch, httpcore, httpx, langsmith, langchain-core, langchain-text-splitters, langchain\n",
            "  Attempting uninstall: tenacity\n",
            "    Found existing installation: tenacity 9.0.0\n",
            "    Uninstalling tenacity-9.0.0:\n",
            "      Successfully uninstalled tenacity-9.0.0\n",
            "Successfully installed h11-0.14.0 httpcore-1.0.6 httpx-0.27.2 jsonpatch-1.33 jsonpointer-3.0.0 langchain-0.3.3 langchain-core-0.3.10 langchain-text-splitters-0.3.0 langsmith-0.1.135 orjson-3.10.7 requests-toolbelt-1.0.0 tenacity-8.5.0\n"
          ]
        }
      ]
    },
    {
      "cell_type": "code",
      "source": [
        "!pip install -U langchain-openai"
      ],
      "metadata": {
        "colab": {
          "base_uri": "https://localhost:8080/"
        },
        "id": "jtTcstfh9ASt",
        "outputId": "effe83ff-6a22-4d12-9445-407ae54fd72a"
      },
      "execution_count": 2,
      "outputs": [
        {
          "output_type": "stream",
          "name": "stdout",
          "text": [
            "Collecting langchain-openai\n",
            "  Downloading langchain_openai-0.2.2-py3-none-any.whl.metadata (2.6 kB)\n",
            "Requirement already satisfied: langchain-core<0.4.0,>=0.3.9 in /usr/local/lib/python3.10/dist-packages (from langchain-openai) (0.3.10)\n",
            "Collecting openai<2.0.0,>=1.40.0 (from langchain-openai)\n",
            "  Downloading openai-1.51.2-py3-none-any.whl.metadata (24 kB)\n",
            "Collecting tiktoken<1,>=0.7 (from langchain-openai)\n",
            "  Downloading tiktoken-0.8.0-cp310-cp310-manylinux_2_17_x86_64.manylinux2014_x86_64.whl.metadata (6.6 kB)\n",
            "Requirement already satisfied: PyYAML>=5.3 in /usr/local/lib/python3.10/dist-packages (from langchain-core<0.4.0,>=0.3.9->langchain-openai) (6.0.2)\n",
            "Requirement already satisfied: jsonpatch<2.0,>=1.33 in /usr/local/lib/python3.10/dist-packages (from langchain-core<0.4.0,>=0.3.9->langchain-openai) (1.33)\n",
            "Requirement already satisfied: langsmith<0.2.0,>=0.1.125 in /usr/local/lib/python3.10/dist-packages (from langchain-core<0.4.0,>=0.3.9->langchain-openai) (0.1.135)\n",
            "Requirement already satisfied: packaging<25,>=23.2 in /usr/local/lib/python3.10/dist-packages (from langchain-core<0.4.0,>=0.3.9->langchain-openai) (24.1)\n",
            "Requirement already satisfied: pydantic<3.0.0,>=2.5.2 in /usr/local/lib/python3.10/dist-packages (from langchain-core<0.4.0,>=0.3.9->langchain-openai) (2.9.2)\n",
            "Requirement already satisfied: tenacity!=8.4.0,<9.0.0,>=8.1.0 in /usr/local/lib/python3.10/dist-packages (from langchain-core<0.4.0,>=0.3.9->langchain-openai) (8.5.0)\n",
            "Requirement already satisfied: typing-extensions>=4.7 in /usr/local/lib/python3.10/dist-packages (from langchain-core<0.4.0,>=0.3.9->langchain-openai) (4.12.2)\n",
            "Requirement already satisfied: anyio<5,>=3.5.0 in /usr/local/lib/python3.10/dist-packages (from openai<2.0.0,>=1.40.0->langchain-openai) (3.7.1)\n",
            "Requirement already satisfied: distro<2,>=1.7.0 in /usr/lib/python3/dist-packages (from openai<2.0.0,>=1.40.0->langchain-openai) (1.7.0)\n",
            "Requirement already satisfied: httpx<1,>=0.23.0 in /usr/local/lib/python3.10/dist-packages (from openai<2.0.0,>=1.40.0->langchain-openai) (0.27.2)\n",
            "Collecting jiter<1,>=0.4.0 (from openai<2.0.0,>=1.40.0->langchain-openai)\n",
            "  Downloading jiter-0.6.1-cp310-cp310-manylinux_2_17_x86_64.manylinux2014_x86_64.whl.metadata (5.2 kB)\n",
            "Requirement already satisfied: sniffio in /usr/local/lib/python3.10/dist-packages (from openai<2.0.0,>=1.40.0->langchain-openai) (1.3.1)\n",
            "Requirement already satisfied: tqdm>4 in /usr/local/lib/python3.10/dist-packages (from openai<2.0.0,>=1.40.0->langchain-openai) (4.66.5)\n",
            "Requirement already satisfied: regex>=2022.1.18 in /usr/local/lib/python3.10/dist-packages (from tiktoken<1,>=0.7->langchain-openai) (2024.9.11)\n",
            "Requirement already satisfied: requests>=2.26.0 in /usr/local/lib/python3.10/dist-packages (from tiktoken<1,>=0.7->langchain-openai) (2.32.3)\n",
            "Requirement already satisfied: idna>=2.8 in /usr/local/lib/python3.10/dist-packages (from anyio<5,>=3.5.0->openai<2.0.0,>=1.40.0->langchain-openai) (3.10)\n",
            "Requirement already satisfied: exceptiongroup in /usr/local/lib/python3.10/dist-packages (from anyio<5,>=3.5.0->openai<2.0.0,>=1.40.0->langchain-openai) (1.2.2)\n",
            "Requirement already satisfied: certifi in /usr/local/lib/python3.10/dist-packages (from httpx<1,>=0.23.0->openai<2.0.0,>=1.40.0->langchain-openai) (2024.8.30)\n",
            "Requirement already satisfied: httpcore==1.* in /usr/local/lib/python3.10/dist-packages (from httpx<1,>=0.23.0->openai<2.0.0,>=1.40.0->langchain-openai) (1.0.6)\n",
            "Requirement already satisfied: h11<0.15,>=0.13 in /usr/local/lib/python3.10/dist-packages (from httpcore==1.*->httpx<1,>=0.23.0->openai<2.0.0,>=1.40.0->langchain-openai) (0.14.0)\n",
            "Requirement already satisfied: jsonpointer>=1.9 in /usr/local/lib/python3.10/dist-packages (from jsonpatch<2.0,>=1.33->langchain-core<0.4.0,>=0.3.9->langchain-openai) (3.0.0)\n",
            "Requirement already satisfied: orjson<4.0.0,>=3.9.14 in /usr/local/lib/python3.10/dist-packages (from langsmith<0.2.0,>=0.1.125->langchain-core<0.4.0,>=0.3.9->langchain-openai) (3.10.7)\n",
            "Requirement already satisfied: requests-toolbelt<2.0.0,>=1.0.0 in /usr/local/lib/python3.10/dist-packages (from langsmith<0.2.0,>=0.1.125->langchain-core<0.4.0,>=0.3.9->langchain-openai) (1.0.0)\n",
            "Requirement already satisfied: annotated-types>=0.6.0 in /usr/local/lib/python3.10/dist-packages (from pydantic<3.0.0,>=2.5.2->langchain-core<0.4.0,>=0.3.9->langchain-openai) (0.7.0)\n",
            "Requirement already satisfied: pydantic-core==2.23.4 in /usr/local/lib/python3.10/dist-packages (from pydantic<3.0.0,>=2.5.2->langchain-core<0.4.0,>=0.3.9->langchain-openai) (2.23.4)\n",
            "Requirement already satisfied: charset-normalizer<4,>=2 in /usr/local/lib/python3.10/dist-packages (from requests>=2.26.0->tiktoken<1,>=0.7->langchain-openai) (3.4.0)\n",
            "Requirement already satisfied: urllib3<3,>=1.21.1 in /usr/local/lib/python3.10/dist-packages (from requests>=2.26.0->tiktoken<1,>=0.7->langchain-openai) (2.2.3)\n",
            "Downloading langchain_openai-0.2.2-py3-none-any.whl (49 kB)\n",
            "\u001b[2K   \u001b[90m━━━━━━━━━━━━━━━━━━━━━━━━━━━━━━━━━━━━━━━━\u001b[0m \u001b[32m49.7/49.7 kB\u001b[0m \u001b[31m2.3 MB/s\u001b[0m eta \u001b[36m0:00:00\u001b[0m\n",
            "\u001b[?25hDownloading openai-1.51.2-py3-none-any.whl (383 kB)\n",
            "\u001b[2K   \u001b[90m━━━━━━━━━━━━━━━━━━━━━━━━━━━━━━━━━━━━━━━━\u001b[0m \u001b[32m383.7/383.7 kB\u001b[0m \u001b[31m9.0 MB/s\u001b[0m eta \u001b[36m0:00:00\u001b[0m\n",
            "\u001b[?25hDownloading tiktoken-0.8.0-cp310-cp310-manylinux_2_17_x86_64.manylinux2014_x86_64.whl (1.2 MB)\n",
            "\u001b[2K   \u001b[90m━━━━━━━━━━━━━━━━━━━━━━━━━━━━━━━━━━━━━━━━\u001b[0m \u001b[32m1.2/1.2 MB\u001b[0m \u001b[31m36.2 MB/s\u001b[0m eta \u001b[36m0:00:00\u001b[0m\n",
            "\u001b[?25hDownloading jiter-0.6.1-cp310-cp310-manylinux_2_17_x86_64.manylinux2014_x86_64.whl (325 kB)\n",
            "\u001b[2K   \u001b[90m━━━━━━━━━━━━━━━━━━━━━━━━━━━━━━━━━━━━━━━━\u001b[0m \u001b[32m325.2/325.2 kB\u001b[0m \u001b[31m28.0 MB/s\u001b[0m eta \u001b[36m0:00:00\u001b[0m\n",
            "\u001b[?25hInstalling collected packages: jiter, tiktoken, openai, langchain-openai\n",
            "Successfully installed jiter-0.6.1 langchain-openai-0.2.2 openai-1.51.2 tiktoken-0.8.0\n"
          ]
        }
      ]
    },
    {
      "cell_type": "code",
      "source": [
        "!pip install -qU langchain_community beautifulsoup4"
      ],
      "metadata": {
        "colab": {
          "base_uri": "https://localhost:8080/"
        },
        "id": "i2qOEyFX9pWz",
        "outputId": "0493d3a3-da8c-42fb-db44-bae1fbe3d605"
      },
      "execution_count": 3,
      "outputs": [
        {
          "output_type": "stream",
          "name": "stdout",
          "text": [
            "\u001b[2K   \u001b[90m━━━━━━━━━━━━━━━━━━━━━━━━━━━━━━━━━━━━━━━━\u001b[0m \u001b[32m2.4/2.4 MB\u001b[0m \u001b[31m21.2 MB/s\u001b[0m eta \u001b[36m0:00:00\u001b[0m\n",
            "\u001b[2K   \u001b[90m━━━━━━━━━━━━━━━━━━━━━━━━━━━━━━━━━━━━━━━━\u001b[0m \u001b[32m49.3/49.3 kB\u001b[0m \u001b[31m2.2 MB/s\u001b[0m eta \u001b[36m0:00:00\u001b[0m\n",
            "\u001b[?25h"
          ]
        }
      ]
    },
    {
      "cell_type": "code",
      "source": [
        "# Data Loader - 웹페이지 데이터 가져오기\n",
        "from langchain_community.document_loaders import WebBaseLoader\n",
        "\n",
        "# 위키피디아 정책과 지침\n",
        "url = 'https://ko.wikipedia.org/wiki/%EC%9C%84%ED%82%A4%EB%B0%B1%EA%B3%BC:%EC%A0%95%EC%B1%85%EA%B3%BC_%EC%A7%80%EC%B9%A8'\n",
        "loader = WebBaseLoader(url)\n",
        "\n",
        "# 웹페이지 텍스트 -> Documents\n",
        "docs = loader.load()\n",
        "\n",
        "print(len(docs))\n",
        "print(len(docs[0].page_content))\n",
        "print(docs[0].page_content[5000:6000])\n"
      ],
      "metadata": {
        "colab": {
          "base_uri": "https://localhost:8080/"
        },
        "id": "sfTSIFpc83X-",
        "outputId": "ddca8dba-eba5-4f06-8fe7-bc40eaa7a12f"
      },
      "execution_count": 4,
      "outputs": [
        {
          "output_type": "stream",
          "name": "stderr",
          "text": [
            "WARNING:langchain_community.utils.user_agent:USER_AGENT environment variable not set, consider setting it to identify your requests.\n"
          ]
        },
        {
          "output_type": "stream",
          "name": "stdout",
          "text": [
            "1\n",
            "13151\n",
            "해 좀 더 빠르게 강력한 수단을 이용해야 합니다. 특히 정책 문서에 명시된 원칙을 지키지 않는 것은 대부분의 경우 다른 사용자에게 받아들여지지 않습니다 (다른 분들에게 예외 상황임을 설득할 수 있다면 가능하기는 하지만요). 이는 당신을 포함해서 편집자 개개인이 정책과 지침을 직접 집행 및 적용한다는 것을 의미합니다.\n",
            "특정 사용자가 명백히 정책에 반하는 행동을 하거나 정책과 상충되는 방식으로 지침을 어기는 경우, 특히 의도적이고 지속적으로 그런 행위를 하는 경우 해당 사용자는 관리자의 제재 조치로 일시적, 혹은 영구적으로 편집이 차단될 수 있습니다. 영어판을 비롯한 타 언어판에서는 일반적인 분쟁 해결 절차로 끝낼 수 없는 사안은 중재위원회가 개입하기도 합니다.\n",
            "\n",
            "문서 내용\n",
            "정책과 지침의 문서 내용은 처음 읽는 사용자라도 원칙과 규범을 잘 이해할 수 있도록 다음 원칙을 지켜야 합니다.\n",
            "\n",
            "명확하게 작성하세요. 소수만 알아듣거나 준법률적인 단어, 혹은 지나치게 단순한 표현은 피해야 합니다. 명확하고, 직접적이고, 모호하지 않고, 구체적으로 작성하세요. 지나치게 상투적인 표현이나 일반론은 피하세요. 지침, 도움말 문서 및 기타 정보문 문서에서도 \"해야 합니다\" 혹은 \"하지 말아야 합니다\" 같이 직접적인 표현을 굳이 꺼릴 필요는 없습니다.\n",
            "가능한 간결하게, 너무 단순하지는 않게. 정책이 중언부언하면 오해를 부릅니다. 불필요한 말은 생략하세요. 직접적이고 간결한 설명이 마구잡이식 예시 나열보다 더 이해하기 쉽습니다. 각주나 관련 문서 링크를 이용하여 더 상세히 설명할 수도 있습니다.\n",
            "규칙을 만든 의도를 강조하세요. 사용자들이 상식대로 행동하리라 기대하세요. 정책의 의도가 명료하다면, 추가 설명은 필요 없죠. 즉 규칙을 '어떻게' 지키는지와 더불어 '왜' 지켜야 하는지 확실하게 밝혀야 합니다.\n",
            "범위는 분명히, 중복은 피하기. 되도록 앞부분에서 정책 및 지침의 목적과 범위를 분명하게 밝혀야 합니다. 독자 대부분은 도입부 초반만 읽고 나가버리니까요. 각 정책 문서의 내용은 해당\n"
          ]
        }
      ]
    },
    {
      "cell_type": "markdown",
      "source": [
        "## 2. 텍스트 분할 (Text Split)\n",
        "\n",
        "불러온 데이터를 작은 크기의 단위(chunk)로 분할하는 과정. 자연어처리 기술을 활용하여 큰 문서를 처리가 쉽도록 문단, 문장 또는 구 단위로 나누는 작업"
      ],
      "metadata": {
        "id": "qTeZbt70-Dra"
      }
    },
    {
      "cell_type": "markdown",
      "source": [
        "LLM 모델이나 API의 입력 크기에 대한 제한이 있기 때문에, 제한에 걸리지 않도록 적정한 크기로 텍스트의 길이를 줄일 필요가 있다. 그리고, 프롬프트가 지나치게 길어질 경우 중요한 정보가 상대적으로 희석되는 문제가 있을 수도 있다. 따라서, 적정한 크기로 텍스트를 분할하는 과정이 필요하다."
      ],
      "metadata": {
        "id": "pyzXebU7-V5I"
      }
    },
    {
      "cell_type": "code",
      "source": [
        "# Text Split (Documents -> small chunks: Documents)\n",
        "from langchain.text_splitter import RecursiveCharacterTextSplitter\n",
        "# 텍스트 분할 도구 - 12552 개의 문자로 이루어진 긴 문장을 최대 1000글자 단위로 분할\n",
        "\n",
        "text_splitter = RecursiveCharacterTextSplitter(chunk_size=1000, chunk_overlap=200)\n",
        "splits = text_splitter.split_documents(docs)\n",
        "\n",
        "print(len(splits))\n",
        "print(splits[10])\n"
      ],
      "metadata": {
        "colab": {
          "base_uri": "https://localhost:8080/"
        },
        "id": "eaJYYIXx-SuQ",
        "outputId": "2709f91e-ee55-4026-e5a5-4d97ebe5a55f"
      },
      "execution_count": 5,
      "outputs": [
        {
          "output_type": "stream",
          "name": "stdout",
          "text": [
            "18\n",
            "page_content='제안과 채택\n",
            " 백:아님 § 관료주의  문서를 참고하십시오. 단축백:제안\n",
            "제안 문서란 정책과 지침으로 채택하자고 의견을 묻는 문서이나 아직 위키백과 내에 받아들여지는 원칙으로 확립되지는 않은 문서입니다. {{제안}} 틀을 붙여 공동체 내에서 정책이나 지침으로 채택할 지 의견을 물을 수 있습니다. 제안 문서는 정책과 지침이 아니므로 아무리 실제 있는 정책이나 지침을 요약하거나 인용해서 다른 문서에 쓴다고 해도 함부로 정책이나 지침 틀을 붙여서는 안 됩니다.\n",
            "'제안'은 완전 새로운 원칙이라기보다, 기존의 불문율이나 토론 총의의 문서를 통한 구체화에 가깝습니다. 많은 사람들이 쉽게 제안을 받아들이도록 하기 위해서는, 기초적인 원칙을 우선 정하고 기본 틀을 짜야 합니다. 정책과 지침의 기본 원칙은 \"왜 지켜야 하는가?\", \"어떻게 지켜야 하는가?\" 두 가지입니다. 특정 원칙을 정책이나 지침으로 확립하기 위해서는 우선 저 두 가지 물음에 성실하게 답하는 제안 문서를 작성해야 합니다.\n",
            "좋은 아이디어를 싣기 위해 사랑방이나 관련 위키프로젝트에 도움을 구해 피드백을 요청할 수 있습니다. 이 과정에서 공동체가 어느 정도 받아들일 수 있는 원칙이 구체화됩니다. 많은 이와의 토론을 통해 공감대가 형성되고 제안을 개선할 수 있습니다.\n",
            "정책이나 지침은 위키백과 내의 모든 편집자들에게 적용되는 원칙이므로 높은 수준의 총의가 요구됩니다. 제안 문서가 잘 짜여졌고 충분히 논의되었다면, 더 많은 공동체의 편집자와 논의를 하기 위해 승격 제안을 올려야 합니다. 제안 문서 맨 위에 {{제안}}을 붙여 제안 안건임을 알려주고, 토론 문서에 {{의견 요청}}을 붙인 뒤 채택 제안에 관한 토론 문단을 새로 만들면 됩니다. 많은 편집자들에게 알리기 위해 관련 내용을 {{위키백과 소식}}에 올리고 사랑방에 이를 공지해야 하며, 합의가 있을 경우 미디어위키의 sitenotice(위키백과 최상단에 노출되는 구역)에 공지할 수도 있습니다.' metadata={'source': 'https://ko.wikipedia.org/wiki/%EC%9C%84%ED%82%A4%EB%B0%B1%EA%B3%BC:%EC%A0%95%EC%B1%85%EA%B3%BC_%EC%A7%80%EC%B9%A8', 'title': '위키백과:정책과 지침 - 위키백과, 우리 모두의 백과사전', 'language': 'ko'}\n"
          ]
        }
      ]
    },
    {
      "cell_type": "code",
      "source": [
        "# page_content 속성 - 분할된 텍스트 조각이 들어있음\n",
        "splits[10].page_content"
      ],
      "metadata": {
        "colab": {
          "base_uri": "https://localhost:8080/",
          "height": 252
        },
        "id": "CIug804K-rEP",
        "outputId": "d7015223-ad63-484e-e64e-24e32bb79264"
      },
      "execution_count": 6,
      "outputs": [
        {
          "output_type": "execute_result",
          "data": {
            "text/plain": [
              "'제안과 채택\\n\\xa0백:아님 §\\xa0관료주의  문서를 참고하십시오. 단축백:제안\\n제안 문서란 정책과 지침으로 채택하자고 의견을 묻는 문서이나 아직 위키백과 내에 받아들여지는 원칙으로 확립되지는 않은 문서입니다. {{제안}} 틀을 붙여 공동체 내에서 정책이나 지침으로 채택할 지 의견을 물을 수 있습니다. 제안 문서는 정책과 지침이 아니므로 아무리 실제 있는 정책이나 지침을 요약하거나 인용해서 다른 문서에 쓴다고 해도 함부로 정책이나 지침 틀을 붙여서는 안 됩니다.\\n\\'제안\\'은 완전 새로운 원칙이라기보다, 기존의 불문율이나 토론 총의의 문서를 통한 구체화에 가깝습니다. 많은 사람들이 쉽게 제안을 받아들이도록 하기 위해서는, 기초적인 원칙을 우선 정하고 기본 틀을 짜야 합니다. 정책과 지침의 기본 원칙은 \"왜 지켜야 하는가?\", \"어떻게 지켜야 하는가?\" 두 가지입니다. 특정 원칙을 정책이나 지침으로 확립하기 위해서는 우선 저 두 가지 물음에 성실하게 답하는 제안 문서를 작성해야 합니다.\\n좋은 아이디어를 싣기 위해 사랑방이나 관련 위키프로젝트에 도움을 구해 피드백을 요청할 수 있습니다. 이 과정에서 공동체가 어느 정도 받아들일 수 있는 원칙이 구체화됩니다. 많은 이와의 토론을 통해 공감대가 형성되고 제안을 개선할 수 있습니다.\\n정책이나 지침은 위키백과 내의 모든 편집자들에게 적용되는 원칙이므로 높은 수준의 총의가 요구됩니다. 제안 문서가 잘 짜여졌고 충분히 논의되었다면, 더 많은 공동체의 편집자와 논의를 하기 위해 승격 제안을 올려야 합니다. 제안 문서 맨 위에 {{제안}}을 붙여 제안 안건임을 알려주고, 토론 문서에 {{의견 요청}}을 붙인 뒤 채택 제안에 관한 토론 문단을 새로 만들면 됩니다. 많은 편집자들에게 알리기 위해 관련 내용을 {{위키백과 소식}}에 올리고 사랑방에 이를 공지해야 하며, 합의가 있을 경우 미디어위키의 sitenotice(위키백과 최상단에 노출되는 구역)에 공지할 수도 있습니다.'"
            ],
            "application/vnd.google.colaboratory.intrinsic+json": {
              "type": "string"
            }
          },
          "metadata": {},
          "execution_count": 6
        }
      ]
    },
    {
      "cell_type": "code",
      "source": [
        "# metadata 속성 - 원본 문서의 정보 포함\n",
        "splits[10].metadata"
      ],
      "metadata": {
        "colab": {
          "base_uri": "https://localhost:8080/"
        },
        "id": "nFcN8kZ1-yQn",
        "outputId": "d5cd003f-e216-486e-8e3d-85155bce3f80"
      },
      "execution_count": 7,
      "outputs": [
        {
          "output_type": "execute_result",
          "data": {
            "text/plain": [
              "{'source': 'https://ko.wikipedia.org/wiki/%EC%9C%84%ED%82%A4%EB%B0%B1%EA%B3%BC:%EC%A0%95%EC%B1%85%EA%B3%BC_%EC%A7%80%EC%B9%A8',\n",
              " 'title': '위키백과:정책과 지침 - 위키백과, 우리 모두의 백과사전',\n",
              " 'language': 'ko'}"
            ]
          },
          "metadata": {},
          "execution_count": 7
        }
      ]
    },
    {
      "cell_type": "markdown",
      "source": [
        "## 3. 인덱싱(Indexing)\n",
        "\n",
        "분할된 텍스트를 검색 가능한 형태로 만드는 단계\n",
        "\n",
        "인덱싱은 검색 시간을 단축시키고, 검색의 정확도를 높이는데 중요한 역할을 한다.\n",
        "\n",
        "LangChain 라이브러리를 사용하여 텍스트를 임베딩으로 변환하고, 이를 저장한 후, 저장된 임베딩을 기반으로 유사성 검색을 수행하는 과정을 보여준다.\n",
        "\n",
        "openai의 임베딩 모델을 사용하여 텍스트를 벡터로 변환하고, 이를 Chroma 벡터 저정소에 저장한다.\n",
        " vectorstore.similarity_search 메소드는 주어진 쿼리 문자열(\"격하 과정에 대해서 설명해주세요.\")에 대해 저장된 문서들 중에서 가장 유사한 문서들을 찾아낸다. 이때, 유사성은 임베딩 간의 거리 (또는 유사도)로 계산된다.\n",
        "\n"
      ],
      "metadata": {
        "id": "N39PYvkD-4xj"
      }
    },
    {
      "cell_type": "code",
      "source": [
        "import os\n",
        "from google.colab import userdata\n",
        "#os.environ['OPENAI_API_KEY'] = 'OPEN_API_KEY'\n",
        "os.environ['OPENAI_API_KEY'] = userdata.get('OPENAI_API_KEY')"
      ],
      "metadata": {
        "id": "XhPAcZYf_yFI"
      },
      "execution_count": 8,
      "outputs": []
    },
    {
      "cell_type": "code",
      "source": [
        "!pip install -U langchain-chroma"
      ],
      "metadata": {
        "colab": {
          "base_uri": "https://localhost:8080/"
        },
        "id": "KkMuB4e8_0_m",
        "outputId": "08d4462a-0f95-412b-f9f7-65d421c5dfd0"
      },
      "execution_count": 9,
      "outputs": [
        {
          "output_type": "stream",
          "name": "stdout",
          "text": [
            "Collecting langchain-chroma\n",
            "  Downloading langchain_chroma-0.1.4-py3-none-any.whl.metadata (1.6 kB)\n",
            "Collecting chromadb!=0.5.4,!=0.5.5,<0.6.0,>=0.4.0 (from langchain-chroma)\n",
            "  Downloading chromadb-0.5.13-py3-none-any.whl.metadata (6.8 kB)\n",
            "Collecting fastapi<1,>=0.95.2 (from langchain-chroma)\n",
            "  Downloading fastapi-0.115.2-py3-none-any.whl.metadata (27 kB)\n",
            "Requirement already satisfied: langchain-core<0.4,>=0.1.40 in /usr/local/lib/python3.10/dist-packages (from langchain-chroma) (0.3.10)\n",
            "Requirement already satisfied: numpy<2,>=1 in /usr/local/lib/python3.10/dist-packages (from langchain-chroma) (1.26.4)\n",
            "Requirement already satisfied: build>=1.0.3 in /usr/local/lib/python3.10/dist-packages (from chromadb!=0.5.4,!=0.5.5,<0.6.0,>=0.4.0->langchain-chroma) (1.2.2.post1)\n",
            "Requirement already satisfied: pydantic>=1.9 in /usr/local/lib/python3.10/dist-packages (from chromadb!=0.5.4,!=0.5.5,<0.6.0,>=0.4.0->langchain-chroma) (2.9.2)\n",
            "Collecting chroma-hnswlib==0.7.6 (from chromadb!=0.5.4,!=0.5.5,<0.6.0,>=0.4.0->langchain-chroma)\n",
            "  Downloading chroma_hnswlib-0.7.6-cp310-cp310-manylinux_2_17_x86_64.manylinux2014_x86_64.whl.metadata (252 bytes)\n",
            "Collecting uvicorn>=0.18.3 (from uvicorn[standard]>=0.18.3->chromadb!=0.5.4,!=0.5.5,<0.6.0,>=0.4.0->langchain-chroma)\n",
            "  Downloading uvicorn-0.31.1-py3-none-any.whl.metadata (6.6 kB)\n",
            "Collecting posthog>=2.4.0 (from chromadb!=0.5.4,!=0.5.5,<0.6.0,>=0.4.0->langchain-chroma)\n",
            "  Downloading posthog-3.7.0-py2.py3-none-any.whl.metadata (2.0 kB)\n",
            "Requirement already satisfied: typing-extensions>=4.5.0 in /usr/local/lib/python3.10/dist-packages (from chromadb!=0.5.4,!=0.5.5,<0.6.0,>=0.4.0->langchain-chroma) (4.12.2)\n",
            "Collecting onnxruntime>=1.14.1 (from chromadb!=0.5.4,!=0.5.5,<0.6.0,>=0.4.0->langchain-chroma)\n",
            "  Downloading onnxruntime-1.19.2-cp310-cp310-manylinux_2_27_x86_64.manylinux_2_28_x86_64.whl.metadata (4.5 kB)\n",
            "Requirement already satisfied: opentelemetry-api>=1.2.0 in /usr/local/lib/python3.10/dist-packages (from chromadb!=0.5.4,!=0.5.5,<0.6.0,>=0.4.0->langchain-chroma) (1.16.0)\n",
            "Collecting opentelemetry-exporter-otlp-proto-grpc>=1.2.0 (from chromadb!=0.5.4,!=0.5.5,<0.6.0,>=0.4.0->langchain-chroma)\n",
            "  Downloading opentelemetry_exporter_otlp_proto_grpc-1.27.0-py3-none-any.whl.metadata (2.3 kB)\n",
            "Collecting opentelemetry-instrumentation-fastapi>=0.41b0 (from chromadb!=0.5.4,!=0.5.5,<0.6.0,>=0.4.0->langchain-chroma)\n",
            "  Downloading opentelemetry_instrumentation_fastapi-0.48b0-py3-none-any.whl.metadata (2.1 kB)\n",
            "Requirement already satisfied: opentelemetry-sdk>=1.2.0 in /usr/local/lib/python3.10/dist-packages (from chromadb!=0.5.4,!=0.5.5,<0.6.0,>=0.4.0->langchain-chroma) (1.16.0)\n",
            "Requirement already satisfied: tokenizers>=0.13.2 in /usr/local/lib/python3.10/dist-packages (from chromadb!=0.5.4,!=0.5.5,<0.6.0,>=0.4.0->langchain-chroma) (0.19.1)\n",
            "Collecting pypika>=0.48.9 (from chromadb!=0.5.4,!=0.5.5,<0.6.0,>=0.4.0->langchain-chroma)\n",
            "  Downloading PyPika-0.48.9.tar.gz (67 kB)\n",
            "\u001b[2K     \u001b[90m━━━━━━━━━━━━━━━━━━━━━━━━━━━━━━━━━━━━━━━━\u001b[0m \u001b[32m67.3/67.3 kB\u001b[0m \u001b[31m3.2 MB/s\u001b[0m eta \u001b[36m0:00:00\u001b[0m\n",
            "\u001b[?25h  Installing build dependencies ... \u001b[?25l\u001b[?25hdone\n",
            "  Getting requirements to build wheel ... \u001b[?25l\u001b[?25hdone\n",
            "  Preparing metadata (pyproject.toml) ... \u001b[?25l\u001b[?25hdone\n",
            "Requirement already satisfied: tqdm>=4.65.0 in /usr/local/lib/python3.10/dist-packages (from chromadb!=0.5.4,!=0.5.5,<0.6.0,>=0.4.0->langchain-chroma) (4.66.5)\n",
            "Collecting overrides>=7.3.1 (from chromadb!=0.5.4,!=0.5.5,<0.6.0,>=0.4.0->langchain-chroma)\n",
            "  Downloading overrides-7.7.0-py3-none-any.whl.metadata (5.8 kB)\n",
            "Requirement already satisfied: importlib-resources in /usr/local/lib/python3.10/dist-packages (from chromadb!=0.5.4,!=0.5.5,<0.6.0,>=0.4.0->langchain-chroma) (6.4.5)\n",
            "Requirement already satisfied: grpcio>=1.58.0 in /usr/local/lib/python3.10/dist-packages (from chromadb!=0.5.4,!=0.5.5,<0.6.0,>=0.4.0->langchain-chroma) (1.64.1)\n",
            "Collecting bcrypt>=4.0.1 (from chromadb!=0.5.4,!=0.5.5,<0.6.0,>=0.4.0->langchain-chroma)\n",
            "  Downloading bcrypt-4.2.0-cp39-abi3-manylinux_2_28_x86_64.whl.metadata (9.6 kB)\n",
            "Requirement already satisfied: typer>=0.9.0 in /usr/local/lib/python3.10/dist-packages (from chromadb!=0.5.4,!=0.5.5,<0.6.0,>=0.4.0->langchain-chroma) (0.12.5)\n",
            "Collecting kubernetes>=28.1.0 (from chromadb!=0.5.4,!=0.5.5,<0.6.0,>=0.4.0->langchain-chroma)\n",
            "  Downloading kubernetes-31.0.0-py2.py3-none-any.whl.metadata (1.5 kB)\n",
            "Requirement already satisfied: tenacity>=8.2.3 in /usr/local/lib/python3.10/dist-packages (from chromadb!=0.5.4,!=0.5.5,<0.6.0,>=0.4.0->langchain-chroma) (8.5.0)\n",
            "Requirement already satisfied: PyYAML>=6.0.0 in /usr/local/lib/python3.10/dist-packages (from chromadb!=0.5.4,!=0.5.5,<0.6.0,>=0.4.0->langchain-chroma) (6.0.2)\n",
            "Collecting mmh3>=4.0.1 (from chromadb!=0.5.4,!=0.5.5,<0.6.0,>=0.4.0->langchain-chroma)\n",
            "  Downloading mmh3-5.0.1-cp310-cp310-manylinux_2_5_x86_64.manylinux1_x86_64.manylinux_2_17_x86_64.manylinux2014_x86_64.whl.metadata (14 kB)\n",
            "Requirement already satisfied: orjson>=3.9.12 in /usr/local/lib/python3.10/dist-packages (from chromadb!=0.5.4,!=0.5.5,<0.6.0,>=0.4.0->langchain-chroma) (3.10.7)\n",
            "Requirement already satisfied: httpx>=0.27.0 in /usr/local/lib/python3.10/dist-packages (from chromadb!=0.5.4,!=0.5.5,<0.6.0,>=0.4.0->langchain-chroma) (0.27.2)\n",
            "Requirement already satisfied: rich>=10.11.0 in /usr/local/lib/python3.10/dist-packages (from chromadb!=0.5.4,!=0.5.5,<0.6.0,>=0.4.0->langchain-chroma) (13.9.2)\n",
            "Collecting starlette<0.41.0,>=0.37.2 (from fastapi<1,>=0.95.2->langchain-chroma)\n",
            "  Downloading starlette-0.39.2-py3-none-any.whl.metadata (6.0 kB)\n",
            "Requirement already satisfied: jsonpatch<2.0,>=1.33 in /usr/local/lib/python3.10/dist-packages (from langchain-core<0.4,>=0.1.40->langchain-chroma) (1.33)\n",
            "Requirement already satisfied: langsmith<0.2.0,>=0.1.125 in /usr/local/lib/python3.10/dist-packages (from langchain-core<0.4,>=0.1.40->langchain-chroma) (0.1.135)\n",
            "Requirement already satisfied: packaging<25,>=23.2 in /usr/local/lib/python3.10/dist-packages (from langchain-core<0.4,>=0.1.40->langchain-chroma) (24.1)\n",
            "Requirement already satisfied: pyproject_hooks in /usr/local/lib/python3.10/dist-packages (from build>=1.0.3->chromadb!=0.5.4,!=0.5.5,<0.6.0,>=0.4.0->langchain-chroma) (1.2.0)\n",
            "Requirement already satisfied: tomli>=1.1.0 in /usr/local/lib/python3.10/dist-packages (from build>=1.0.3->chromadb!=0.5.4,!=0.5.5,<0.6.0,>=0.4.0->langchain-chroma) (2.0.2)\n",
            "Requirement already satisfied: anyio in /usr/local/lib/python3.10/dist-packages (from httpx>=0.27.0->chromadb!=0.5.4,!=0.5.5,<0.6.0,>=0.4.0->langchain-chroma) (3.7.1)\n",
            "Requirement already satisfied: certifi in /usr/local/lib/python3.10/dist-packages (from httpx>=0.27.0->chromadb!=0.5.4,!=0.5.5,<0.6.0,>=0.4.0->langchain-chroma) (2024.8.30)\n",
            "Requirement already satisfied: httpcore==1.* in /usr/local/lib/python3.10/dist-packages (from httpx>=0.27.0->chromadb!=0.5.4,!=0.5.5,<0.6.0,>=0.4.0->langchain-chroma) (1.0.6)\n",
            "Requirement already satisfied: idna in /usr/local/lib/python3.10/dist-packages (from httpx>=0.27.0->chromadb!=0.5.4,!=0.5.5,<0.6.0,>=0.4.0->langchain-chroma) (3.10)\n",
            "Requirement already satisfied: sniffio in /usr/local/lib/python3.10/dist-packages (from httpx>=0.27.0->chromadb!=0.5.4,!=0.5.5,<0.6.0,>=0.4.0->langchain-chroma) (1.3.1)\n",
            "Requirement already satisfied: h11<0.15,>=0.13 in /usr/local/lib/python3.10/dist-packages (from httpcore==1.*->httpx>=0.27.0->chromadb!=0.5.4,!=0.5.5,<0.6.0,>=0.4.0->langchain-chroma) (0.14.0)\n",
            "Requirement already satisfied: jsonpointer>=1.9 in /usr/local/lib/python3.10/dist-packages (from jsonpatch<2.0,>=1.33->langchain-core<0.4,>=0.1.40->langchain-chroma) (3.0.0)\n",
            "Requirement already satisfied: six>=1.9.0 in /usr/local/lib/python3.10/dist-packages (from kubernetes>=28.1.0->chromadb!=0.5.4,!=0.5.5,<0.6.0,>=0.4.0->langchain-chroma) (1.16.0)\n",
            "Requirement already satisfied: python-dateutil>=2.5.3 in /usr/local/lib/python3.10/dist-packages (from kubernetes>=28.1.0->chromadb!=0.5.4,!=0.5.5,<0.6.0,>=0.4.0->langchain-chroma) (2.8.2)\n",
            "Requirement already satisfied: google-auth>=1.0.1 in /usr/local/lib/python3.10/dist-packages (from kubernetes>=28.1.0->chromadb!=0.5.4,!=0.5.5,<0.6.0,>=0.4.0->langchain-chroma) (2.27.0)\n",
            "Requirement already satisfied: websocket-client!=0.40.0,!=0.41.*,!=0.42.*,>=0.32.0 in /usr/local/lib/python3.10/dist-packages (from kubernetes>=28.1.0->chromadb!=0.5.4,!=0.5.5,<0.6.0,>=0.4.0->langchain-chroma) (1.8.0)\n",
            "Requirement already satisfied: requests in /usr/local/lib/python3.10/dist-packages (from kubernetes>=28.1.0->chromadb!=0.5.4,!=0.5.5,<0.6.0,>=0.4.0->langchain-chroma) (2.32.3)\n",
            "Requirement already satisfied: requests-oauthlib in /usr/local/lib/python3.10/dist-packages (from kubernetes>=28.1.0->chromadb!=0.5.4,!=0.5.5,<0.6.0,>=0.4.0->langchain-chroma) (1.3.1)\n",
            "Requirement already satisfied: oauthlib>=3.2.2 in /usr/local/lib/python3.10/dist-packages (from kubernetes>=28.1.0->chromadb!=0.5.4,!=0.5.5,<0.6.0,>=0.4.0->langchain-chroma) (3.2.2)\n",
            "Requirement already satisfied: urllib3>=1.24.2 in /usr/local/lib/python3.10/dist-packages (from kubernetes>=28.1.0->chromadb!=0.5.4,!=0.5.5,<0.6.0,>=0.4.0->langchain-chroma) (2.2.3)\n",
            "Collecting durationpy>=0.7 (from kubernetes>=28.1.0->chromadb!=0.5.4,!=0.5.5,<0.6.0,>=0.4.0->langchain-chroma)\n",
            "  Downloading durationpy-0.9-py3-none-any.whl.metadata (338 bytes)\n",
            "Requirement already satisfied: requests-toolbelt<2.0.0,>=1.0.0 in /usr/local/lib/python3.10/dist-packages (from langsmith<0.2.0,>=0.1.125->langchain-core<0.4,>=0.1.40->langchain-chroma) (1.0.0)\n",
            "Collecting coloredlogs (from onnxruntime>=1.14.1->chromadb!=0.5.4,!=0.5.5,<0.6.0,>=0.4.0->langchain-chroma)\n",
            "  Downloading coloredlogs-15.0.1-py2.py3-none-any.whl.metadata (12 kB)\n",
            "Requirement already satisfied: flatbuffers in /usr/local/lib/python3.10/dist-packages (from onnxruntime>=1.14.1->chromadb!=0.5.4,!=0.5.5,<0.6.0,>=0.4.0->langchain-chroma) (24.3.25)\n",
            "Requirement already satisfied: protobuf in /usr/local/lib/python3.10/dist-packages (from onnxruntime>=1.14.1->chromadb!=0.5.4,!=0.5.5,<0.6.0,>=0.4.0->langchain-chroma) (3.20.3)\n",
            "Requirement already satisfied: sympy in /usr/local/lib/python3.10/dist-packages (from onnxruntime>=1.14.1->chromadb!=0.5.4,!=0.5.5,<0.6.0,>=0.4.0->langchain-chroma) (1.13.3)\n",
            "Requirement already satisfied: deprecated>=1.2.6 in /usr/local/lib/python3.10/dist-packages (from opentelemetry-api>=1.2.0->chromadb!=0.5.4,!=0.5.5,<0.6.0,>=0.4.0->langchain-chroma) (1.2.14)\n",
            "Requirement already satisfied: setuptools>=16.0 in /usr/local/lib/python3.10/dist-packages (from opentelemetry-api>=1.2.0->chromadb!=0.5.4,!=0.5.5,<0.6.0,>=0.4.0->langchain-chroma) (71.0.4)\n",
            "Requirement already satisfied: googleapis-common-protos~=1.52 in /usr/local/lib/python3.10/dist-packages (from opentelemetry-exporter-otlp-proto-grpc>=1.2.0->chromadb!=0.5.4,!=0.5.5,<0.6.0,>=0.4.0->langchain-chroma) (1.65.0)\n",
            "Collecting opentelemetry-exporter-otlp-proto-common==1.27.0 (from opentelemetry-exporter-otlp-proto-grpc>=1.2.0->chromadb!=0.5.4,!=0.5.5,<0.6.0,>=0.4.0->langchain-chroma)\n",
            "  Downloading opentelemetry_exporter_otlp_proto_common-1.27.0-py3-none-any.whl.metadata (1.8 kB)\n",
            "Collecting opentelemetry-proto==1.27.0 (from opentelemetry-exporter-otlp-proto-grpc>=1.2.0->chromadb!=0.5.4,!=0.5.5,<0.6.0,>=0.4.0->langchain-chroma)\n",
            "  Downloading opentelemetry_proto-1.27.0-py3-none-any.whl.metadata (2.3 kB)\n",
            "Collecting opentelemetry-sdk>=1.2.0 (from chromadb!=0.5.4,!=0.5.5,<0.6.0,>=0.4.0->langchain-chroma)\n",
            "  Downloading opentelemetry_sdk-1.27.0-py3-none-any.whl.metadata (1.5 kB)\n",
            "Collecting opentelemetry-instrumentation-asgi==0.48b0 (from opentelemetry-instrumentation-fastapi>=0.41b0->chromadb!=0.5.4,!=0.5.5,<0.6.0,>=0.4.0->langchain-chroma)\n",
            "  Downloading opentelemetry_instrumentation_asgi-0.48b0-py3-none-any.whl.metadata (2.0 kB)\n",
            "Collecting opentelemetry-instrumentation==0.48b0 (from opentelemetry-instrumentation-fastapi>=0.41b0->chromadb!=0.5.4,!=0.5.5,<0.6.0,>=0.4.0->langchain-chroma)\n",
            "  Downloading opentelemetry_instrumentation-0.48b0-py3-none-any.whl.metadata (6.1 kB)\n",
            "Collecting opentelemetry-semantic-conventions==0.48b0 (from opentelemetry-instrumentation-fastapi>=0.41b0->chromadb!=0.5.4,!=0.5.5,<0.6.0,>=0.4.0->langchain-chroma)\n",
            "  Downloading opentelemetry_semantic_conventions-0.48b0-py3-none-any.whl.metadata (2.4 kB)\n",
            "Collecting opentelemetry-util-http==0.48b0 (from opentelemetry-instrumentation-fastapi>=0.41b0->chromadb!=0.5.4,!=0.5.5,<0.6.0,>=0.4.0->langchain-chroma)\n",
            "  Downloading opentelemetry_util_http-0.48b0-py3-none-any.whl.metadata (2.5 kB)\n",
            "Requirement already satisfied: wrapt<2.0.0,>=1.0.0 in /usr/local/lib/python3.10/dist-packages (from opentelemetry-instrumentation==0.48b0->opentelemetry-instrumentation-fastapi>=0.41b0->chromadb!=0.5.4,!=0.5.5,<0.6.0,>=0.4.0->langchain-chroma) (1.16.0)\n",
            "Collecting asgiref~=3.0 (from opentelemetry-instrumentation-asgi==0.48b0->opentelemetry-instrumentation-fastapi>=0.41b0->chromadb!=0.5.4,!=0.5.5,<0.6.0,>=0.4.0->langchain-chroma)\n",
            "  Downloading asgiref-3.8.1-py3-none-any.whl.metadata (9.3 kB)\n",
            "Collecting opentelemetry-api>=1.2.0 (from chromadb!=0.5.4,!=0.5.5,<0.6.0,>=0.4.0->langchain-chroma)\n",
            "  Downloading opentelemetry_api-1.27.0-py3-none-any.whl.metadata (1.4 kB)\n",
            "Collecting importlib-metadata<=8.4.0,>=6.0 (from opentelemetry-api>=1.2.0->chromadb!=0.5.4,!=0.5.5,<0.6.0,>=0.4.0->langchain-chroma)\n",
            "  Downloading importlib_metadata-8.4.0-py3-none-any.whl.metadata (4.7 kB)\n",
            "Collecting monotonic>=1.5 (from posthog>=2.4.0->chromadb!=0.5.4,!=0.5.5,<0.6.0,>=0.4.0->langchain-chroma)\n",
            "  Downloading monotonic-1.6-py2.py3-none-any.whl.metadata (1.5 kB)\n",
            "Collecting backoff>=1.10.0 (from posthog>=2.4.0->chromadb!=0.5.4,!=0.5.5,<0.6.0,>=0.4.0->langchain-chroma)\n",
            "  Downloading backoff-2.2.1-py3-none-any.whl.metadata (14 kB)\n",
            "Requirement already satisfied: annotated-types>=0.6.0 in /usr/local/lib/python3.10/dist-packages (from pydantic>=1.9->chromadb!=0.5.4,!=0.5.5,<0.6.0,>=0.4.0->langchain-chroma) (0.7.0)\n",
            "Requirement already satisfied: pydantic-core==2.23.4 in /usr/local/lib/python3.10/dist-packages (from pydantic>=1.9->chromadb!=0.5.4,!=0.5.5,<0.6.0,>=0.4.0->langchain-chroma) (2.23.4)\n",
            "Requirement already satisfied: markdown-it-py>=2.2.0 in /usr/local/lib/python3.10/dist-packages (from rich>=10.11.0->chromadb!=0.5.4,!=0.5.5,<0.6.0,>=0.4.0->langchain-chroma) (3.0.0)\n",
            "Requirement already satisfied: pygments<3.0.0,>=2.13.0 in /usr/local/lib/python3.10/dist-packages (from rich>=10.11.0->chromadb!=0.5.4,!=0.5.5,<0.6.0,>=0.4.0->langchain-chroma) (2.18.0)\n",
            "Requirement already satisfied: huggingface-hub<1.0,>=0.16.4 in /usr/local/lib/python3.10/dist-packages (from tokenizers>=0.13.2->chromadb!=0.5.4,!=0.5.5,<0.6.0,>=0.4.0->langchain-chroma) (0.24.7)\n",
            "Requirement already satisfied: click>=8.0.0 in /usr/local/lib/python3.10/dist-packages (from typer>=0.9.0->chromadb!=0.5.4,!=0.5.5,<0.6.0,>=0.4.0->langchain-chroma) (8.1.7)\n",
            "Requirement already satisfied: shellingham>=1.3.0 in /usr/local/lib/python3.10/dist-packages (from typer>=0.9.0->chromadb!=0.5.4,!=0.5.5,<0.6.0,>=0.4.0->langchain-chroma) (1.5.4)\n",
            "Collecting httptools>=0.5.0 (from uvicorn[standard]>=0.18.3->chromadb!=0.5.4,!=0.5.5,<0.6.0,>=0.4.0->langchain-chroma)\n",
            "  Downloading httptools-0.6.2-cp310-cp310-manylinux_2_5_x86_64.manylinux1_x86_64.manylinux_2_17_x86_64.manylinux2014_x86_64.whl.metadata (3.6 kB)\n",
            "Requirement already satisfied: python-dotenv>=0.13 in /usr/local/lib/python3.10/dist-packages (from uvicorn[standard]>=0.18.3->chromadb!=0.5.4,!=0.5.5,<0.6.0,>=0.4.0->langchain-chroma) (1.0.1)\n",
            "Collecting uvloop!=0.15.0,!=0.15.1,>=0.14.0 (from uvicorn[standard]>=0.18.3->chromadb!=0.5.4,!=0.5.5,<0.6.0,>=0.4.0->langchain-chroma)\n",
            "  Downloading uvloop-0.21.0-cp310-cp310-manylinux_2_17_x86_64.manylinux2014_x86_64.whl.metadata (4.9 kB)\n",
            "Collecting watchfiles>=0.13 (from uvicorn[standard]>=0.18.3->chromadb!=0.5.4,!=0.5.5,<0.6.0,>=0.4.0->langchain-chroma)\n",
            "  Downloading watchfiles-0.24.0-cp310-cp310-manylinux_2_17_x86_64.manylinux2014_x86_64.whl.metadata (4.9 kB)\n",
            "Collecting websockets>=10.4 (from uvicorn[standard]>=0.18.3->chromadb!=0.5.4,!=0.5.5,<0.6.0,>=0.4.0->langchain-chroma)\n",
            "  Downloading websockets-13.1-cp310-cp310-manylinux_2_5_x86_64.manylinux1_x86_64.manylinux_2_17_x86_64.manylinux2014_x86_64.whl.metadata (6.8 kB)\n",
            "Requirement already satisfied: exceptiongroup in /usr/local/lib/python3.10/dist-packages (from anyio->httpx>=0.27.0->chromadb!=0.5.4,!=0.5.5,<0.6.0,>=0.4.0->langchain-chroma) (1.2.2)\n",
            "Requirement already satisfied: cachetools<6.0,>=2.0.0 in /usr/local/lib/python3.10/dist-packages (from google-auth>=1.0.1->kubernetes>=28.1.0->chromadb!=0.5.4,!=0.5.5,<0.6.0,>=0.4.0->langchain-chroma) (5.5.0)\n",
            "Requirement already satisfied: pyasn1-modules>=0.2.1 in /usr/local/lib/python3.10/dist-packages (from google-auth>=1.0.1->kubernetes>=28.1.0->chromadb!=0.5.4,!=0.5.5,<0.6.0,>=0.4.0->langchain-chroma) (0.4.1)\n",
            "Requirement already satisfied: rsa<5,>=3.1.4 in /usr/local/lib/python3.10/dist-packages (from google-auth>=1.0.1->kubernetes>=28.1.0->chromadb!=0.5.4,!=0.5.5,<0.6.0,>=0.4.0->langchain-chroma) (4.9)\n",
            "Requirement already satisfied: filelock in /usr/local/lib/python3.10/dist-packages (from huggingface-hub<1.0,>=0.16.4->tokenizers>=0.13.2->chromadb!=0.5.4,!=0.5.5,<0.6.0,>=0.4.0->langchain-chroma) (3.16.1)\n",
            "Requirement already satisfied: fsspec>=2023.5.0 in /usr/local/lib/python3.10/dist-packages (from huggingface-hub<1.0,>=0.16.4->tokenizers>=0.13.2->chromadb!=0.5.4,!=0.5.5,<0.6.0,>=0.4.0->langchain-chroma) (2024.6.1)\n",
            "Requirement already satisfied: zipp>=0.5 in /usr/local/lib/python3.10/dist-packages (from importlib-metadata<=8.4.0,>=6.0->opentelemetry-api>=1.2.0->chromadb!=0.5.4,!=0.5.5,<0.6.0,>=0.4.0->langchain-chroma) (3.20.2)\n",
            "Requirement already satisfied: mdurl~=0.1 in /usr/local/lib/python3.10/dist-packages (from markdown-it-py>=2.2.0->rich>=10.11.0->chromadb!=0.5.4,!=0.5.5,<0.6.0,>=0.4.0->langchain-chroma) (0.1.2)\n",
            "Requirement already satisfied: charset-normalizer<4,>=2 in /usr/local/lib/python3.10/dist-packages (from requests->kubernetes>=28.1.0->chromadb!=0.5.4,!=0.5.5,<0.6.0,>=0.4.0->langchain-chroma) (3.4.0)\n",
            "Collecting humanfriendly>=9.1 (from coloredlogs->onnxruntime>=1.14.1->chromadb!=0.5.4,!=0.5.5,<0.6.0,>=0.4.0->langchain-chroma)\n",
            "  Downloading humanfriendly-10.0-py2.py3-none-any.whl.metadata (9.2 kB)\n",
            "Requirement already satisfied: mpmath<1.4,>=1.1.0 in /usr/local/lib/python3.10/dist-packages (from sympy->onnxruntime>=1.14.1->chromadb!=0.5.4,!=0.5.5,<0.6.0,>=0.4.0->langchain-chroma) (1.3.0)\n",
            "Requirement already satisfied: pyasn1<0.7.0,>=0.4.6 in /usr/local/lib/python3.10/dist-packages (from pyasn1-modules>=0.2.1->google-auth>=1.0.1->kubernetes>=28.1.0->chromadb!=0.5.4,!=0.5.5,<0.6.0,>=0.4.0->langchain-chroma) (0.6.1)\n",
            "Downloading langchain_chroma-0.1.4-py3-none-any.whl (10 kB)\n",
            "Downloading chromadb-0.5.13-py3-none-any.whl (602 kB)\n",
            "\u001b[2K   \u001b[90m━━━━━━━━━━━━━━━━━━━━━━━━━━━━━━━━━━━━━━━━\u001b[0m \u001b[32m603.0/603.0 kB\u001b[0m \u001b[31m12.7 MB/s\u001b[0m eta \u001b[36m0:00:00\u001b[0m\n",
            "\u001b[?25hDownloading chroma_hnswlib-0.7.6-cp310-cp310-manylinux_2_17_x86_64.manylinux2014_x86_64.whl (2.4 MB)\n",
            "\u001b[2K   \u001b[90m━━━━━━━━━━━━━━━━━━━━━━━━━━━━━━━━━━━━━━━━\u001b[0m \u001b[32m2.4/2.4 MB\u001b[0m \u001b[31m52.2 MB/s\u001b[0m eta \u001b[36m0:00:00\u001b[0m\n",
            "\u001b[?25hDownloading fastapi-0.115.2-py3-none-any.whl (94 kB)\n",
            "\u001b[2K   \u001b[90m━━━━━━━━━━━━━━━━━━━━━━━━━━━━━━━━━━━━━━━━\u001b[0m \u001b[32m94.7/94.7 kB\u001b[0m \u001b[31m9.5 MB/s\u001b[0m eta \u001b[36m0:00:00\u001b[0m\n",
            "\u001b[?25hDownloading bcrypt-4.2.0-cp39-abi3-manylinux_2_28_x86_64.whl (273 kB)\n",
            "\u001b[2K   \u001b[90m━━━━━━━━━━━━━━━━━━━━━━━━━━━━━━━━━━━━━━━━\u001b[0m \u001b[32m273.8/273.8 kB\u001b[0m \u001b[31m21.9 MB/s\u001b[0m eta \u001b[36m0:00:00\u001b[0m\n",
            "\u001b[?25hDownloading kubernetes-31.0.0-py2.py3-none-any.whl (1.9 MB)\n",
            "\u001b[2K   \u001b[90m━━━━━━━━━━━━━━━━━━━━━━━━━━━━━━━━━━━━━━━━\u001b[0m \u001b[32m1.9/1.9 MB\u001b[0m \u001b[31m76.6 MB/s\u001b[0m eta \u001b[36m0:00:00\u001b[0m\n",
            "\u001b[?25hDownloading mmh3-5.0.1-cp310-cp310-manylinux_2_5_x86_64.manylinux1_x86_64.manylinux_2_17_x86_64.manylinux2014_x86_64.whl (93 kB)\n",
            "\u001b[2K   \u001b[90m━━━━━━━━━━━━━━━━━━━━━━━━━━━━━━━━━━━━━━━━\u001b[0m \u001b[32m93.2/93.2 kB\u001b[0m \u001b[31m8.6 MB/s\u001b[0m eta \u001b[36m0:00:00\u001b[0m\n",
            "\u001b[?25hDownloading onnxruntime-1.19.2-cp310-cp310-manylinux_2_27_x86_64.manylinux_2_28_x86_64.whl (13.2 MB)\n",
            "\u001b[2K   \u001b[90m━━━━━━━━━━━━━━━━━━━━━━━━━━━━━━━━━━━━━━━━\u001b[0m \u001b[32m13.2/13.2 MB\u001b[0m \u001b[31m92.3 MB/s\u001b[0m eta \u001b[36m0:00:00\u001b[0m\n",
            "\u001b[?25hDownloading opentelemetry_exporter_otlp_proto_grpc-1.27.0-py3-none-any.whl (18 kB)\n",
            "Downloading opentelemetry_exporter_otlp_proto_common-1.27.0-py3-none-any.whl (17 kB)\n",
            "Downloading opentelemetry_proto-1.27.0-py3-none-any.whl (52 kB)\n",
            "\u001b[2K   \u001b[90m━━━━━━━━━━━━━━━━━━━━━━━━━━━━━━━━━━━━━━━━\u001b[0m \u001b[32m52.5/52.5 kB\u001b[0m \u001b[31m4.6 MB/s\u001b[0m eta \u001b[36m0:00:00\u001b[0m\n",
            "\u001b[?25hDownloading opentelemetry_instrumentation_fastapi-0.48b0-py3-none-any.whl (11 kB)\n",
            "Downloading opentelemetry_instrumentation-0.48b0-py3-none-any.whl (29 kB)\n",
            "Downloading opentelemetry_instrumentation_asgi-0.48b0-py3-none-any.whl (15 kB)\n",
            "Downloading opentelemetry_semantic_conventions-0.48b0-py3-none-any.whl (149 kB)\n",
            "\u001b[2K   \u001b[90m━━━━━━━━━━━━━━━━━━━━━━━━━━━━━━━━━━━━━━━━\u001b[0m \u001b[32m149.7/149.7 kB\u001b[0m \u001b[31m12.2 MB/s\u001b[0m eta \u001b[36m0:00:00\u001b[0m\n",
            "\u001b[?25hDownloading opentelemetry_api-1.27.0-py3-none-any.whl (63 kB)\n",
            "\u001b[2K   \u001b[90m━━━━━━━━━━━━━━━━━━━━━━━━━━━━━━━━━━━━━━━━\u001b[0m \u001b[32m64.0/64.0 kB\u001b[0m \u001b[31m6.0 MB/s\u001b[0m eta \u001b[36m0:00:00\u001b[0m\n",
            "\u001b[?25hDownloading opentelemetry_util_http-0.48b0-py3-none-any.whl (6.9 kB)\n",
            "Downloading opentelemetry_sdk-1.27.0-py3-none-any.whl (110 kB)\n",
            "\u001b[2K   \u001b[90m━━━━━━━━━━━━━━━━━━━━━━━━━━━━━━━━━━━━━━━━\u001b[0m \u001b[32m110.5/110.5 kB\u001b[0m \u001b[31m11.2 MB/s\u001b[0m eta \u001b[36m0:00:00\u001b[0m\n",
            "\u001b[?25hDownloading overrides-7.7.0-py3-none-any.whl (17 kB)\n",
            "Downloading posthog-3.7.0-py2.py3-none-any.whl (54 kB)\n",
            "\u001b[2K   \u001b[90m━━━━━━━━━━━━━━━━━━━━━━━━━━━━━━━━━━━━━━━━\u001b[0m \u001b[32m54.4/54.4 kB\u001b[0m \u001b[31m5.0 MB/s\u001b[0m eta \u001b[36m0:00:00\u001b[0m\n",
            "\u001b[?25hDownloading starlette-0.39.2-py3-none-any.whl (73 kB)\n",
            "\u001b[2K   \u001b[90m━━━━━━━━━━━━━━━━━━━━━━━━━━━━━━━━━━━━━━━━\u001b[0m \u001b[32m73.2/73.2 kB\u001b[0m \u001b[31m7.5 MB/s\u001b[0m eta \u001b[36m0:00:00\u001b[0m\n",
            "\u001b[?25hDownloading uvicorn-0.31.1-py3-none-any.whl (63 kB)\n",
            "\u001b[2K   \u001b[90m━━━━━━━━━━━━━━━━━━━━━━━━━━━━━━━━━━━━━━━━\u001b[0m \u001b[32m63.7/63.7 kB\u001b[0m \u001b[31m5.8 MB/s\u001b[0m eta \u001b[36m0:00:00\u001b[0m\n",
            "\u001b[?25hDownloading backoff-2.2.1-py3-none-any.whl (15 kB)\n",
            "Downloading durationpy-0.9-py3-none-any.whl (3.5 kB)\n",
            "Downloading httptools-0.6.2-cp310-cp310-manylinux_2_5_x86_64.manylinux1_x86_64.manylinux_2_17_x86_64.manylinux2014_x86_64.whl (420 kB)\n",
            "\u001b[2K   \u001b[90m━━━━━━━━━━━━━━━━━━━━━━━━━━━━━━━━━━━━━━━━\u001b[0m \u001b[32m420.0/420.0 kB\u001b[0m \u001b[31m34.2 MB/s\u001b[0m eta \u001b[36m0:00:00\u001b[0m\n",
            "\u001b[?25hDownloading importlib_metadata-8.4.0-py3-none-any.whl (26 kB)\n",
            "Downloading monotonic-1.6-py2.py3-none-any.whl (8.2 kB)\n",
            "Downloading uvloop-0.21.0-cp310-cp310-manylinux_2_17_x86_64.manylinux2014_x86_64.whl (3.8 MB)\n",
            "\u001b[2K   \u001b[90m━━━━━━━━━━━━━━━━━━━━━━━━━━━━━━━━━━━━━━━━\u001b[0m \u001b[32m3.8/3.8 MB\u001b[0m \u001b[31m90.6 MB/s\u001b[0m eta \u001b[36m0:00:00\u001b[0m\n",
            "\u001b[?25hDownloading watchfiles-0.24.0-cp310-cp310-manylinux_2_17_x86_64.manylinux2014_x86_64.whl (425 kB)\n",
            "\u001b[2K   \u001b[90m━━━━━━━━━━━━━━━━━━━━━━━━━━━━━━━━━━━━━━━━\u001b[0m \u001b[32m425.7/425.7 kB\u001b[0m \u001b[31m34.9 MB/s\u001b[0m eta \u001b[36m0:00:00\u001b[0m\n",
            "\u001b[?25hDownloading websockets-13.1-cp310-cp310-manylinux_2_5_x86_64.manylinux1_x86_64.manylinux_2_17_x86_64.manylinux2014_x86_64.whl (164 kB)\n",
            "\u001b[2K   \u001b[90m━━━━━━━━━━━━━━━━━━━━━━━━━━━━━━━━━━━━━━━━\u001b[0m \u001b[32m164.1/164.1 kB\u001b[0m \u001b[31m15.6 MB/s\u001b[0m eta \u001b[36m0:00:00\u001b[0m\n",
            "\u001b[?25hDownloading coloredlogs-15.0.1-py2.py3-none-any.whl (46 kB)\n",
            "\u001b[2K   \u001b[90m━━━━━━━━━━━━━━━━━━━━━━━━━━━━━━━━━━━━━━━━\u001b[0m \u001b[32m46.0/46.0 kB\u001b[0m \u001b[31m4.5 MB/s\u001b[0m eta \u001b[36m0:00:00\u001b[0m\n",
            "\u001b[?25hDownloading asgiref-3.8.1-py3-none-any.whl (23 kB)\n",
            "Downloading humanfriendly-10.0-py2.py3-none-any.whl (86 kB)\n",
            "\u001b[2K   \u001b[90m━━━━━━━━━━━━━━━━━━━━━━━━━━━━━━━━━━━━━━━━\u001b[0m \u001b[32m86.8/86.8 kB\u001b[0m \u001b[31m8.4 MB/s\u001b[0m eta \u001b[36m0:00:00\u001b[0m\n",
            "\u001b[?25hBuilding wheels for collected packages: pypika\n",
            "  Building wheel for pypika (pyproject.toml) ... \u001b[?25l\u001b[?25hdone\n",
            "  Created wheel for pypika: filename=PyPika-0.48.9-py2.py3-none-any.whl size=53723 sha256=c0a6372e185a0579824d8196c23f71f431c9fbdc8a7f674203d03acb58e56491\n",
            "  Stored in directory: /root/.cache/pip/wheels/e1/26/51/d0bffb3d2fd82256676d7ad3003faea3bd6dddc9577af665f4\n",
            "Successfully built pypika\n",
            "Installing collected packages: pypika, monotonic, durationpy, websockets, uvloop, uvicorn, overrides, opentelemetry-util-http, opentelemetry-proto, mmh3, importlib-metadata, humanfriendly, httptools, chroma-hnswlib, bcrypt, backoff, asgiref, watchfiles, starlette, posthog, opentelemetry-exporter-otlp-proto-common, opentelemetry-api, coloredlogs, opentelemetry-semantic-conventions, opentelemetry-instrumentation, onnxruntime, kubernetes, fastapi, opentelemetry-sdk, opentelemetry-instrumentation-asgi, opentelemetry-instrumentation-fastapi, opentelemetry-exporter-otlp-proto-grpc, chromadb, langchain-chroma\n",
            "  Attempting uninstall: importlib-metadata\n",
            "    Found existing installation: importlib_metadata 8.5.0\n",
            "    Uninstalling importlib_metadata-8.5.0:\n",
            "      Successfully uninstalled importlib_metadata-8.5.0\n",
            "  Attempting uninstall: opentelemetry-api\n",
            "    Found existing installation: opentelemetry-api 1.16.0\n",
            "    Uninstalling opentelemetry-api-1.16.0:\n",
            "      Successfully uninstalled opentelemetry-api-1.16.0\n",
            "  Attempting uninstall: opentelemetry-semantic-conventions\n",
            "    Found existing installation: opentelemetry-semantic-conventions 0.37b0\n",
            "    Uninstalling opentelemetry-semantic-conventions-0.37b0:\n",
            "      Successfully uninstalled opentelemetry-semantic-conventions-0.37b0\n",
            "  Attempting uninstall: opentelemetry-sdk\n",
            "    Found existing installation: opentelemetry-sdk 1.16.0\n",
            "    Uninstalling opentelemetry-sdk-1.16.0:\n",
            "      Successfully uninstalled opentelemetry-sdk-1.16.0\n",
            "Successfully installed asgiref-3.8.1 backoff-2.2.1 bcrypt-4.2.0 chroma-hnswlib-0.7.6 chromadb-0.5.13 coloredlogs-15.0.1 durationpy-0.9 fastapi-0.115.2 httptools-0.6.2 humanfriendly-10.0 importlib-metadata-8.4.0 kubernetes-31.0.0 langchain-chroma-0.1.4 mmh3-5.0.1 monotonic-1.6 onnxruntime-1.19.2 opentelemetry-api-1.27.0 opentelemetry-exporter-otlp-proto-common-1.27.0 opentelemetry-exporter-otlp-proto-grpc-1.27.0 opentelemetry-instrumentation-0.48b0 opentelemetry-instrumentation-asgi-0.48b0 opentelemetry-instrumentation-fastapi-0.48b0 opentelemetry-proto-1.27.0 opentelemetry-sdk-1.27.0 opentelemetry-semantic-conventions-0.48b0 opentelemetry-util-http-0.48b0 overrides-7.7.0 posthog-3.7.0 pypika-0.48.9 starlette-0.39.2 uvicorn-0.31.1 uvloop-0.21.0 watchfiles-0.24.0 websockets-13.1\n"
          ]
        }
      ]
    },
    {
      "cell_type": "code",
      "source": [
        "# Indexing (Texts -> Embedding -> Store)\n",
        "from langchain_community.vectorstores import Chroma\n",
        "from langchain_openai import OpenAIEmbeddings\n",
        "\n",
        "vectorstore = Chroma.from_documents(documents=splits,\n",
        "                                    embedding=OpenAIEmbeddings())\n",
        "\n",
        "docs = vectorstore.similarity_search(\"격하 과정에 대해서 설명해주세요.\")\n",
        "print(len(docs))\n",
        "print(docs[0].page_content)\n"
      ],
      "metadata": {
        "colab": {
          "base_uri": "https://localhost:8080/"
        },
        "id": "fHSpZ3Hq_kkT",
        "outputId": "1cc27818-05af-4133-b273-9feb8b1069e3"
      },
      "execution_count": 10,
      "outputs": [
        {
          "output_type": "stream",
          "name": "stdout",
          "text": [
            "4\n",
            "격하\n",
            "특정 정책이나 지침이 편집 관행이나 공동체 규범이 바뀌며 쓸모없어질 수 있고, 다른 문서가 개선되어 내용이 중복될 수 있으며, 불필요한 내용이 증식할 수도 있습니다. 이 경우 편집자들은 정책을 지침으로 격하하거나, 정책 또는 지침을 보충 설명, 정보문, 수필 또는 중단 문서로 격하할 것을 제안할 수 있습니다. \n",
            "격하 과정은 채택 과정과 비슷합니다. 일반적으로 토론 문서 내 논의가 시작되고 프로젝트 문서 상단에 {{새로운 토론|문단=진행 중인 토론 문단}} 틀을 붙여 공동체의 참여를 요청합니다. 논의가 충분히 이루어진 후, 제3의 편집자가 토론을 종료하고 평가한 후 상태 변경 총의가 형성되었는지 판단해야 합니다. 폐지된 정책이나 지침은 최상단에 {{중단}} 틀을 붙여 더 이상 사용하지 않는 정책/지침임을 알립니다.\n",
            "소수의 공동체 인원만 지지하는 수필, 정보문 및 기타 비공식 문서는 일반적으로 주된 작성자의 사용자 이름공간으로 이동합니다. 이러한 논의는 일반적으로 해당 문서의 토론란에서 이루어지며, 간혹 위키백과:의견 요청을 통해 처리되기도 합니다.\n",
            "\n",
            "같이 보기\n",
            "위키백과:위키백과의 정책과 지침 목록\n",
            "위키백과:의견 요청\n",
            "수필\n",
            "\n",
            "위키백과:제품, 절차, 정책\n",
            "위키백과:위키백과 공동체의 기대와 규범\n",
            "기타 링크\n"
          ]
        }
      ]
    },
    {
      "cell_type": "markdown",
      "source": [
        "## 4. 검색(Retrieval)\n",
        "\n",
        "사용자의 질문이나 주어진 컨텍스트에 가장 관련된 정보를 찾아내는 과정. 사용자의 입력을 바탕으로 쿼리를 생성하고, 인덱싱된 데이터에서 가장 관련성 높은 정보를 검색함. LangChain의 retriever 메소드를 사용."
      ],
      "metadata": {
        "id": "CpaEK3HHACWf"
      }
    },
    {
      "cell_type": "markdown",
      "source": [
        "## 5. 생성(Generation)\n",
        "\n",
        "검색된 정보를 바탕으로 사용자의 질문에 답변을 생성하는 최종 단계. LLM 모델에 검색 결과와 함께 사용자의 입력을 전달. 모델은 사전 학습된 지식과 검색 결과를 결합하여 주어진 질문에 가장 적절한 답변을 생성함\n",
        "\n",
        "\n",
        "`format_docs` 함수는 검색된 문서들을 하나의 문자열로 반환"
      ],
      "metadata": {
        "id": "nID-m14nAOGp"
      }
    },
    {
      "cell_type": "code",
      "source": [
        "from langchain_openai import ChatOpenAI\n",
        "from langchain_core.prompts import ChatPromptTemplate\n",
        "from langchain_core.runnables import RunnablePassthrough\n",
        "from langchain_core.output_parsers import StrOutputParser\n",
        "\n",
        "# Prompt\n",
        "template = '''Answer the question based only on the following context:\n",
        "{context}\n",
        "\n",
        "Question: {question}\n",
        "'''\n",
        "\n",
        "prompt = ChatPromptTemplate.from_template(template)\n",
        "\n",
        "# LLM\n",
        "model = ChatOpenAI(model='gpt-4o-mini', temperature=0)\n",
        "\n",
        "# Rretriever\n",
        "retriever = vectorstore.as_retriever()\n",
        "\n",
        "# Combine Documents\n",
        "def format_docs(docs):\n",
        "    return '\\n\\n'.join(doc.page_content for doc in docs)\n",
        "\n",
        "# RAG Chain 연결\n",
        "rag_chain = (\n",
        "    {'context': retriever | format_docs, 'question': RunnablePassthrough()}\n",
        "    | prompt\n",
        "    | model\n",
        "    | StrOutputParser()\n",
        ")\n",
        "\n",
        "# Chain 실행\n",
        "rag_chain.invoke(\"격하 과정에 대해서 설명해주세요.\")\n"
      ],
      "metadata": {
        "colab": {
          "base_uri": "https://localhost:8080/",
          "height": 144
        },
        "id": "669QRPQOAg-z",
        "outputId": "04815a6e-ff73-42fa-c984-5a7dacb913dc"
      },
      "execution_count": 11,
      "outputs": [
        {
          "output_type": "execute_result",
          "data": {
            "text/plain": [
              "'격하 과정은 특정 정책이나 지침이 더 이상 유효하지 않거나 필요하지 않다고 판단될 때 진행됩니다. 이 과정은 채택 과정과 유사하게 진행되며, 일반적으로 토론 문서 내에서 논의가 시작됩니다. 편집자들은 정책을 지침으로 격하하거나, 정책 또는 지침을 보충 설명, 정보문, 수필 또는 중단 문서로 격하할 것을 제안할 수 있습니다.\\n\\n토론이 시작되면, 프로젝트 문서 상단에 {{새로운 토론|문단=진행 중인 토론 문단}} 틀을 붙여 공동체의 참여를 요청합니다. 충분한 논의가 이루어진 후, 제3의 편집자가 토론을 종료하고 평가하여 상태 변경에 대한 총의가 형성되었는지 판단합니다. 격하된 정책이나 지침은 최상단에 {{중단}} 틀을 붙여 더 이상 사용되지 않음을 알립니다.\\n\\n소수의 공동체 인원만 지지하는 문서는 일반적으로 주된 작성자의 사용자 이름공간으로 이동되며, 이러한 논의는 해당 문서의 토론란에서 이루어지거나 위키백과:의견 요청을 통해 처리될 수 있습니다.'"
            ],
            "application/vnd.google.colaboratory.intrinsic+json": {
              "type": "string"
            }
          },
          "metadata": {},
          "execution_count": 11
        }
      ]
    },
    {
      "cell_type": "markdown",
      "source": [
        "# Document Loader\n",
        "\n",
        "## 웹 문서\n",
        "\n",
        "- `WebBaseLoader`는 특정 웹페이지의 내용을 로드하고 파싱하기 위해 설계된 클래스이다.\n",
        "\n",
        "- `web_paths`매개변수는 로드할 웹 페이지의 URL을 단일 문자열 또는 여러 개의 URL을 시퀀스 배열로 지정할 수 있다. 여기서 파이썬 튜블 형태로 2개의 url을 사용하고 있다.\n",
        "\n",
        "- `bs_kwargs`매개변수는 BeautifulSoup을 사용하여 HTML을 파싱할 때 사용되는 인자들을 딕셔너리 형태로 제공한다. `bs4.SoupStrainer`를 사용하여 특정 클래스 이름을 가진 HTML 요소만 파싱하도록 지정하고 있다.\n",
        "\n",
        "- docs 변수에는 로드된 문서들의 배열리 할당된다. 각 페이지 별로 별도의 Document 객체로 변환되어 2개의 문서가 생성된다."
      ],
      "metadata": {
        "id": "kJKRuuLqBdRk"
      }
    },
    {
      "cell_type": "code",
      "source": [
        "import bs4\n",
        "from langchain_community.document_loaders import WebBaseLoader\n",
        "\n",
        "url1 = \"https://blog.langchain.dev/customers-replit/\"\n",
        "url2 = \"https://blog.langchain.dev/langgraph-v0-2/\"\n",
        "\n",
        "loader = WebBaseLoader(\n",
        "    web_paths=(url1, url2),\n",
        "    bs_kwargs=dict(\n",
        "        parse_only=bs4.SoupStrainer(\n",
        "            class_=(\"article-header\",\"article-content\")\n",
        "        )\n",
        "    ),\n",
        ")\n",
        "\n",
        "docs = loader.load()\n",
        "\n",
        "len(docs)"
      ],
      "metadata": {
        "colab": {
          "base_uri": "https://localhost:8080/"
        },
        "id": "8afqEnudCv-s",
        "outputId": "f6b4318d-99bd-4610-a63b-89b79b863ef7"
      },
      "execution_count": 12,
      "outputs": [
        {
          "output_type": "execute_result",
          "data": {
            "text/plain": [
              "2"
            ]
          },
          "metadata": {},
          "execution_count": 12
        }
      ]
    },
    {
      "cell_type": "code",
      "source": [
        "docs[0]"
      ],
      "metadata": {
        "colab": {
          "base_uri": "https://localhost:8080/"
        },
        "id": "5adXzmAGCv_5",
        "outputId": "67ce8a16-9798-49df-e90e-9cfdb0c3ccc8"
      },
      "execution_count": 112,
      "outputs": [
        {
          "output_type": "execute_result",
          "data": {
            "text/plain": [
              "Document(metadata={'source': 'https://blog.langchain.dev/customers-replit/'}, page_content='\\nReplit is at the forefront of AI innovation with its platform that simplifies writing, running, and collaborating on code for over 30+ million developers. They recently released Replit Agent, which immediately went viral due to the incredible applications people could easily create with this tool.Behind the scenes, Replit Agent has a complex workflow built on LangGraph, which enables a highly custom agentic workflow with a high-degree of control and parallel execution. A major benefit of using LangGraph was the seamless integration with LangSmith, which gave Replit deep visibility into their agent interactions to debug tricky issues.\\xa0The level of complexity required for Replit Agent also pushed the boundaries of LangSmith. The LangChain and Replit teams worked closely together to add functionality to LangSmith that would satisfy their LLM observability needs. Specifically, there were three main areas that we innovated on:Improved performance and scale on large tracesAbility to search and filter within tracesThread view to enable human-in-the loop workflowsImproved performance and scale on large tracesMost other LLMOps solutions monitor individual API requests to LLM providers, offering a limited view of single LLM calls. In contrast, LangSmith from day one has focused on tracing the entire execution flow of an LLM application to provide a more holistic context.\\xa0Tracing is important for agents due to their complex nature. It captures multiple LLM calls as well as other steps (retrieval, running code, etc). This gives you granular visibility into what’s happening, including at the inputs and outputs of each step, in order to understand the agent’s decision-making.\\xa0Replit Agent was a ripe example for advanced tracing needs. Their agentic tool goes beyond simply reviewing and writing code, but also performs a wider range of functions – including planning, creating dev environments, installing dependencies, and deploying applications for users.\\xa0As a result, Replit’s traces were very large - involving hundreds of steps. This posed significant challenges for ingesting data and displaying it in a visually meaningful way.To address this, the LangChain team improved their ingestion to efficiently process and store large volumes of trace data. They also improved LangSmith’s frontend rendering to display long-running agent traces seamlessly.Search and filter within traces to pinpoint issuesLangSmith has always supported search between traces, which allows users to find a single trace among hundreds of thousands based on events or full text search. But as Replit Agent’s traces got longer and longer, the Replit team needed to search within traces for specific events (oftentimes issues reported by alpha testers). This required augmenting existing search capabilities.In response, a new search pattern – searching within traces – was added to LangSmith. Instead of sifting and scrolling call-by-call within a large trace, users could now filter directly on a criteria they cared about (e.g. keywords in the inputs or outputs of a run). This greatly reduced Replit’s time needed to debug agent steps within a trace.Thread view to enable human-in-the-loop workflowsA key differentiator of Replit Agent was its emphasis on human-in-the-loop workflows. Replit Agent intends to be a tool where AI agents can collaborate effectively with human developers, who can come in and edit and correct agent trajectories as needed.With separate agents to perform roles like managing, editing, and verifying generated code,\\xa0 Replit’s agents interacted with users continuously - often over long periods with multiple turns of conversation. However, monitoring these conversational flows was often difficult, as each user session would generate disjoint traces.\\xa0To solve this, LangSmith’s thread view helped collate traces from multiple threads together that were related (i.e. from one conversation). This provided a logical view of all agent-user interactions across a multi-turn conversation, helping Replit better 1) find bottlenecks where users got stuck and 2) pinpoint areas where human intervention could be beneficial.\\xa0ConclusionReplit is pushing the frontier of AI agent monitoring using LangSmith’s powerful observability features. By reducing the effort of loading long, heavy traces, the Replit team has greatly sped up the process of building and scaling complex agents. With faster debugging, improved trace visibility, and better handling of parallel tasks, Replit is setting the standard for AI-driven development.\\t\\n')"
            ]
          },
          "metadata": {},
          "execution_count": 112
        }
      ]
    },
    {
      "cell_type": "markdown",
      "source": [
        "## 텍스트 문서\n",
        "\n",
        "`TextLoader`를 사용하여 텍스트 파일을 불러올 수 있다. 텍스트 파일의 내용을 랭체인의 Document 객체로 변환하고 이를 리스트 형태로 반환한다.\n",
        "\n",
        " TextLoader는 파일 경로를 인자로 받아 해당 파일의 내용을 불러온 후, load 메소드를 통해 파일의 내용을 담고 있는 Document 객체로 변환\n",
        ""
      ],
      "metadata": {
        "id": "xhHNJAv4DsH6"
      }
    },
    {
      "cell_type": "code",
      "source": [
        "from langchain_community.document_loaders import TextLoader\n",
        "\n",
        "loader = TextLoader('history.txt')\n",
        "data = loader.load()\n",
        "\n",
        "print(type(data))\n",
        "print(len(data))"
      ],
      "metadata": {
        "colab": {
          "base_uri": "https://localhost:8080/"
        },
        "id": "WgJ6lssMEEt_",
        "outputId": "a50563b2-c1ec-4a43-9b62-babe0f4db7b9"
      },
      "execution_count": 13,
      "outputs": [
        {
          "output_type": "stream",
          "name": "stdout",
          "text": [
            "<class 'list'>\n",
            "1\n"
          ]
        }
      ]
    },
    {
      "cell_type": "code",
      "source": [
        "data"
      ],
      "metadata": {
        "colab": {
          "base_uri": "https://localhost:8080/"
        },
        "id": "XIKl9JUCEVnw",
        "outputId": "07c6b5e5-f946-4b0b-949e-48fc016e670e"
      },
      "execution_count": 14,
      "outputs": [
        {
          "output_type": "execute_result",
          "data": {
            "text/plain": [
              "[Document(metadata={'source': 'history.txt'}, page_content='한국의 역사는 수천 년에 걸쳐 이어져 온 긴 여정 속에서 다양한 문화와 전통이 형성되고 발전해 왔습니다. 고조선에서 시작해 삼국 시대의 경쟁, 그리고 통일 신라와 고려를 거쳐 조선까지, 한반도는 많은 변화를 겪었습니다.\\n\\n고조선은 기원전 2333년 단군왕검에 의해 세워졌다고 전해집니다. 이는 한국 역사상 최초의 국가로, 한민족의 시원이라 할 수 있습니다. 이후 기원전 1세기경에는 한반도와 만주 일대에서 여러 소국이 성장하며 삼한 시대로 접어듭니다.\\n\\n4세기경, 고구려, 백제, 신라의 삼국이 한반도의 주요 세력으로 부상했습니다. 이 시기는 삼국이 각각 문화와 기술, 무력을 발전시키며 경쟁적으로 성장한 시기로, 한국 역사에서 중요한 전환점을 마련했습니다. 특히 고구려는 북방의 강대국으로 성장하여 중국과도 여러 차례 전쟁을 벌였습니다.\\n\\n7세기 말, 신라는 당나라와 연합하여 백제와 고구려를 차례로 정복하고, 한반도 최초의 통일 국가인 통일 신라를 건립합니다. 이 시기에 신라는 불교를 국교로 채택하며 문화와 예술이 크게 발전했습니다.\\n\\n그러나 10세기에 이르러 신라는 내부의 분열과 외부의 압력으로 쇠퇴하고, 이를 대체하여 고려가 성립됩니다. 고려 시대에는 과거제도의 도입과 더불어 청자 등 고려 고유의 문화가 꽃피었습니다.\\n\\n조선은 1392년 이성계에 의해 건국되어, 1910년까지 이어졌습니다. 조선 초기에는 세종대왕이 한글을 창제하여 백성들의 문해율을 높이는 등 문화적, 과학적 성취가 이루어졌습니다. 그러나 조선 후기에는 내부적으로 실학의 발전과 함께 사회적 변화가 모색되었으나, 외부로부터의 압력은 점차 커져만 갔습니다.\\n\\n19세기 말부터 20세기 초에 걸쳐 한국은 제국주의 열강의 침략을 받으며 많은 시련을 겪었습니다. 1910년, 한국은 일본에 의해 강제로 병합되어 35년간의 식민 지배를 받게 됩니다. 이 기간 동안 한국인들은 독립을 위한 다양한 운동을 전개했으며, 이는 1945년 일본의 패망으로 이어지는 독립으로 결실을 맺었습니다.\\n\\n해방 후 한반도는 남북으로 분단되어 각각 다른 정부가 수립되었고, 1950년에는 한국전쟁이 발발하여 큰 피해를 입었습니다. 전쟁 후 남한은 빠른 경제 발전을 이루며 오늘날에 이르렀습니다.\\n\\n한국의 역사는 오랜 시간 동안 수많은 시련과 도전을 겪으며 형성된 깊은 유산을 지니고 있습니다. 오늘날 한국은 그 역사적 배경 위에서 세계적으로 중요한 역할을 하고 있으며, 과거의 역사가 현재와 미래에 어떻게 영향을 미치는지를 이해하는 것은 매우 중요합니다.')]"
            ]
          },
          "metadata": {},
          "execution_count": 14
        }
      ]
    },
    {
      "cell_type": "code",
      "source": [
        "len(data[0].page_content)"
      ],
      "metadata": {
        "colab": {
          "base_uri": "https://localhost:8080/"
        },
        "id": "NglvMFKFEZOi",
        "outputId": "b5cedf0f-9549-488b-ea74-1942046a35fa"
      },
      "execution_count": 15,
      "outputs": [
        {
          "output_type": "execute_result",
          "data": {
            "text/plain": [
              "1234"
            ]
          },
          "metadata": {},
          "execution_count": 15
        }
      ]
    },
    {
      "cell_type": "code",
      "source": [
        "data[0].metadata"
      ],
      "metadata": {
        "colab": {
          "base_uri": "https://localhost:8080/"
        },
        "id": "CvALYIFlEdMB",
        "outputId": "e464e67c-3032-4a77-b930-e4b9dc9d3ac4"
      },
      "execution_count": 16,
      "outputs": [
        {
          "output_type": "execute_result",
          "data": {
            "text/plain": [
              "{'source': 'history.txt'}"
            ]
          },
          "metadata": {},
          "execution_count": 16
        }
      ]
    },
    {
      "cell_type": "markdown",
      "source": [
        "## 디렉토리 폴더\n",
        "\n",
        "- DirectoryLoader를 사용하여 디렉토리 내의 모든 문서를 로드할 수 있다.\n",
        "\n",
        "- DirectoryLoader 인스턴스를 생성할 때 문서가 있는 디렉토리의 경로와 해당 문서를 식별할 수 있는 glob 패턴 지정\n",
        "\n",
        "  이때 문서를 읽고 처리하기 위해서는 `UnstructuredLoader`가 내부적으로 사용됨.\n",
        "\n",
        "- DirectoryLoader가 지정된 패턴에 맞는 모든 파일을 로드하고, 각 파일의 내용을 리스트의 각 항목으로 저장"
      ],
      "metadata": {
        "id": "MOBPzhKDEnVQ"
      }
    },
    {
      "cell_type": "code",
      "source": [
        "!pip install unstructured"
      ],
      "metadata": {
        "colab": {
          "base_uri": "https://localhost:8080/"
        },
        "id": "QLipiaIwE60u",
        "outputId": "938cd61b-ab49-40cc-8a28-e95e1e04ae26"
      },
      "execution_count": 17,
      "outputs": [
        {
          "output_type": "stream",
          "name": "stdout",
          "text": [
            "Collecting unstructured\n",
            "  Downloading unstructured-0.15.14-py3-none-any.whl.metadata (29 kB)\n",
            "Requirement already satisfied: chardet in /usr/local/lib/python3.10/dist-packages (from unstructured) (5.2.0)\n",
            "Collecting filetype (from unstructured)\n",
            "  Downloading filetype-1.2.0-py2.py3-none-any.whl.metadata (6.5 kB)\n",
            "Collecting python-magic (from unstructured)\n",
            "  Downloading python_magic-0.4.27-py2.py3-none-any.whl.metadata (5.8 kB)\n",
            "Requirement already satisfied: lxml in /usr/local/lib/python3.10/dist-packages (from unstructured) (4.9.4)\n",
            "Requirement already satisfied: nltk in /usr/local/lib/python3.10/dist-packages (from unstructured) (3.8.1)\n",
            "Requirement already satisfied: tabulate in /usr/local/lib/python3.10/dist-packages (from unstructured) (0.9.0)\n",
            "Requirement already satisfied: requests in /usr/local/lib/python3.10/dist-packages (from unstructured) (2.32.3)\n",
            "Requirement already satisfied: beautifulsoup4 in /usr/local/lib/python3.10/dist-packages (from unstructured) (4.12.3)\n",
            "Collecting emoji (from unstructured)\n",
            "  Downloading emoji-2.14.0-py3-none-any.whl.metadata (5.7 kB)\n",
            "Requirement already satisfied: dataclasses-json in /usr/local/lib/python3.10/dist-packages (from unstructured) (0.6.7)\n",
            "Collecting python-iso639 (from unstructured)\n",
            "  Downloading python_iso639-2024.4.27-py3-none-any.whl.metadata (13 kB)\n",
            "Collecting langdetect (from unstructured)\n",
            "  Downloading langdetect-1.0.9.tar.gz (981 kB)\n",
            "\u001b[2K     \u001b[90m━━━━━━━━━━━━━━━━━━━━━━━━━━━━━━━━━━━━━━━━\u001b[0m \u001b[32m981.5/981.5 kB\u001b[0m \u001b[31m14.2 MB/s\u001b[0m eta \u001b[36m0:00:00\u001b[0m\n",
            "\u001b[?25h  Preparing metadata (setup.py) ... \u001b[?25l\u001b[?25hdone\n",
            "Requirement already satisfied: numpy<2 in /usr/local/lib/python3.10/dist-packages (from unstructured) (1.26.4)\n",
            "Collecting rapidfuzz (from unstructured)\n",
            "  Downloading rapidfuzz-3.10.0-cp310-cp310-manylinux_2_17_x86_64.manylinux2014_x86_64.whl.metadata (11 kB)\n",
            "Requirement already satisfied: backoff in /usr/local/lib/python3.10/dist-packages (from unstructured) (2.2.1)\n",
            "Requirement already satisfied: typing-extensions in /usr/local/lib/python3.10/dist-packages (from unstructured) (4.12.2)\n",
            "Collecting unstructured-client (from unstructured)\n",
            "  Downloading unstructured_client-0.26.1-py3-none-any.whl.metadata (20 kB)\n",
            "Requirement already satisfied: wrapt in /usr/local/lib/python3.10/dist-packages (from unstructured) (1.16.0)\n",
            "Requirement already satisfied: tqdm in /usr/local/lib/python3.10/dist-packages (from unstructured) (4.66.5)\n",
            "Requirement already satisfied: psutil in /usr/local/lib/python3.10/dist-packages (from unstructured) (5.9.5)\n",
            "Collecting python-oxmsg (from unstructured)\n",
            "  Downloading python_oxmsg-0.0.1-py3-none-any.whl.metadata (5.0 kB)\n",
            "Requirement already satisfied: soupsieve>1.2 in /usr/local/lib/python3.10/dist-packages (from beautifulsoup4->unstructured) (2.6)\n",
            "Requirement already satisfied: marshmallow<4.0.0,>=3.18.0 in /usr/local/lib/python3.10/dist-packages (from dataclasses-json->unstructured) (3.22.0)\n",
            "Requirement already satisfied: typing-inspect<1,>=0.4.0 in /usr/local/lib/python3.10/dist-packages (from dataclasses-json->unstructured) (0.9.0)\n",
            "Requirement already satisfied: six in /usr/local/lib/python3.10/dist-packages (from langdetect->unstructured) (1.16.0)\n",
            "Requirement already satisfied: click in /usr/local/lib/python3.10/dist-packages (from nltk->unstructured) (8.1.7)\n",
            "Requirement already satisfied: joblib in /usr/local/lib/python3.10/dist-packages (from nltk->unstructured) (1.4.2)\n",
            "Requirement already satisfied: regex>=2021.8.3 in /usr/local/lib/python3.10/dist-packages (from nltk->unstructured) (2024.9.11)\n",
            "Collecting olefile (from python-oxmsg->unstructured)\n",
            "  Downloading olefile-0.47-py2.py3-none-any.whl.metadata (9.7 kB)\n",
            "Requirement already satisfied: charset-normalizer<4,>=2 in /usr/local/lib/python3.10/dist-packages (from requests->unstructured) (3.4.0)\n",
            "Requirement already satisfied: idna<4,>=2.5 in /usr/local/lib/python3.10/dist-packages (from requests->unstructured) (3.10)\n",
            "Requirement already satisfied: urllib3<3,>=1.21.1 in /usr/local/lib/python3.10/dist-packages (from requests->unstructured) (2.2.3)\n",
            "Requirement already satisfied: certifi>=2017.4.17 in /usr/local/lib/python3.10/dist-packages (from requests->unstructured) (2024.8.30)\n",
            "Requirement already satisfied: cryptography>=3.1 in /usr/local/lib/python3.10/dist-packages (from unstructured-client->unstructured) (43.0.1)\n",
            "Requirement already satisfied: eval-type-backport<0.3.0,>=0.2.0 in /usr/local/lib/python3.10/dist-packages (from unstructured-client->unstructured) (0.2.0)\n",
            "Requirement already satisfied: httpx>=0.27.0 in /usr/local/lib/python3.10/dist-packages (from unstructured-client->unstructured) (0.27.2)\n",
            "Collecting jsonpath-python<2.0.0,>=1.0.6 (from unstructured-client->unstructured)\n",
            "  Downloading jsonpath_python-1.0.6-py3-none-any.whl.metadata (12 kB)\n",
            "Requirement already satisfied: nest-asyncio>=1.6.0 in /usr/local/lib/python3.10/dist-packages (from unstructured-client->unstructured) (1.6.0)\n",
            "Requirement already satisfied: pydantic<2.10.0,>=2.9.0 in /usr/local/lib/python3.10/dist-packages (from unstructured-client->unstructured) (2.9.2)\n",
            "Collecting pypdf>=4.0 (from unstructured-client->unstructured)\n",
            "  Downloading pypdf-5.0.1-py3-none-any.whl.metadata (7.4 kB)\n",
            "Requirement already satisfied: python-dateutil==2.8.2 in /usr/local/lib/python3.10/dist-packages (from unstructured-client->unstructured) (2.8.2)\n",
            "Requirement already satisfied: requests-toolbelt>=1.0.0 in /usr/local/lib/python3.10/dist-packages (from unstructured-client->unstructured) (1.0.0)\n",
            "Requirement already satisfied: cffi>=1.12 in /usr/local/lib/python3.10/dist-packages (from cryptography>=3.1->unstructured-client->unstructured) (1.17.1)\n",
            "Requirement already satisfied: anyio in /usr/local/lib/python3.10/dist-packages (from httpx>=0.27.0->unstructured-client->unstructured) (3.7.1)\n",
            "Requirement already satisfied: httpcore==1.* in /usr/local/lib/python3.10/dist-packages (from httpx>=0.27.0->unstructured-client->unstructured) (1.0.6)\n",
            "Requirement already satisfied: sniffio in /usr/local/lib/python3.10/dist-packages (from httpx>=0.27.0->unstructured-client->unstructured) (1.3.1)\n",
            "Requirement already satisfied: h11<0.15,>=0.13 in /usr/local/lib/python3.10/dist-packages (from httpcore==1.*->httpx>=0.27.0->unstructured-client->unstructured) (0.14.0)\n",
            "Requirement already satisfied: packaging>=17.0 in /usr/local/lib/python3.10/dist-packages (from marshmallow<4.0.0,>=3.18.0->dataclasses-json->unstructured) (24.1)\n",
            "Requirement already satisfied: annotated-types>=0.6.0 in /usr/local/lib/python3.10/dist-packages (from pydantic<2.10.0,>=2.9.0->unstructured-client->unstructured) (0.7.0)\n",
            "Requirement already satisfied: pydantic-core==2.23.4 in /usr/local/lib/python3.10/dist-packages (from pydantic<2.10.0,>=2.9.0->unstructured-client->unstructured) (2.23.4)\n",
            "Requirement already satisfied: mypy-extensions>=0.3.0 in /usr/local/lib/python3.10/dist-packages (from typing-inspect<1,>=0.4.0->dataclasses-json->unstructured) (1.0.0)\n",
            "Requirement already satisfied: pycparser in /usr/local/lib/python3.10/dist-packages (from cffi>=1.12->cryptography>=3.1->unstructured-client->unstructured) (2.22)\n",
            "Requirement already satisfied: exceptiongroup in /usr/local/lib/python3.10/dist-packages (from anyio->httpx>=0.27.0->unstructured-client->unstructured) (1.2.2)\n",
            "Downloading unstructured-0.15.14-py3-none-any.whl (2.1 MB)\n",
            "\u001b[2K   \u001b[90m━━━━━━━━━━━━━━━━━━━━━━━━━━━━━━━━━━━━━━━━\u001b[0m \u001b[32m2.1/2.1 MB\u001b[0m \u001b[31m39.0 MB/s\u001b[0m eta \u001b[36m0:00:00\u001b[0m\n",
            "\u001b[?25hDownloading emoji-2.14.0-py3-none-any.whl (586 kB)\n",
            "\u001b[2K   \u001b[90m━━━━━━━━━━━━━━━━━━━━━━━━━━━━━━━━━━━━━━━━\u001b[0m \u001b[32m586.9/586.9 kB\u001b[0m \u001b[31m36.4 MB/s\u001b[0m eta \u001b[36m0:00:00\u001b[0m\n",
            "\u001b[?25hDownloading filetype-1.2.0-py2.py3-none-any.whl (19 kB)\n",
            "Downloading python_iso639-2024.4.27-py3-none-any.whl (274 kB)\n",
            "\u001b[2K   \u001b[90m━━━━━━━━━━━━━━━━━━━━━━━━━━━━━━━━━━━━━━━━\u001b[0m \u001b[32m274.7/274.7 kB\u001b[0m \u001b[31m21.1 MB/s\u001b[0m eta \u001b[36m0:00:00\u001b[0m\n",
            "\u001b[?25hDownloading python_magic-0.4.27-py2.py3-none-any.whl (13 kB)\n",
            "Downloading python_oxmsg-0.0.1-py3-none-any.whl (31 kB)\n",
            "Downloading rapidfuzz-3.10.0-cp310-cp310-manylinux_2_17_x86_64.manylinux2014_x86_64.whl (3.1 MB)\n",
            "\u001b[2K   \u001b[90m━━━━━━━━━━━━━━━━━━━━━━━━━━━━━━━━━━━━━━━━\u001b[0m \u001b[32m3.1/3.1 MB\u001b[0m \u001b[31m56.9 MB/s\u001b[0m eta \u001b[36m0:00:00\u001b[0m\n",
            "\u001b[?25hDownloading unstructured_client-0.26.1-py3-none-any.whl (60 kB)\n",
            "\u001b[2K   \u001b[90m━━━━━━━━━━━━━━━━━━━━━━━━━━━━━━━━━━━━━━━━\u001b[0m \u001b[32m60.2/60.2 kB\u001b[0m \u001b[31m5.1 MB/s\u001b[0m eta \u001b[36m0:00:00\u001b[0m\n",
            "\u001b[?25hDownloading jsonpath_python-1.0.6-py3-none-any.whl (7.6 kB)\n",
            "Downloading pypdf-5.0.1-py3-none-any.whl (294 kB)\n",
            "\u001b[2K   \u001b[90m━━━━━━━━━━━━━━━━━━━━━━━━━━━━━━━━━━━━━━━━\u001b[0m \u001b[32m294.5/294.5 kB\u001b[0m \u001b[31m20.7 MB/s\u001b[0m eta \u001b[36m0:00:00\u001b[0m\n",
            "\u001b[?25hDownloading olefile-0.47-py2.py3-none-any.whl (114 kB)\n",
            "\u001b[2K   \u001b[90m━━━━━━━━━━━━━━━━━━━━━━━━━━━━━━━━━━━━━━━━\u001b[0m \u001b[32m114.6/114.6 kB\u001b[0m \u001b[31m9.5 MB/s\u001b[0m eta \u001b[36m0:00:00\u001b[0m\n",
            "\u001b[?25hBuilding wheels for collected packages: langdetect\n",
            "  Building wheel for langdetect (setup.py) ... \u001b[?25l\u001b[?25hdone\n",
            "  Created wheel for langdetect: filename=langdetect-1.0.9-py3-none-any.whl size=993221 sha256=4b738275207aa394c4d4faa67cf6bd7ef4868a4505c4e46212f2534ce8abdef6\n",
            "  Stored in directory: /root/.cache/pip/wheels/95/03/7d/59ea870c70ce4e5a370638b5462a7711ab78fba2f655d05106\n",
            "Successfully built langdetect\n",
            "Installing collected packages: filetype, rapidfuzz, python-magic, python-iso639, pypdf, olefile, langdetect, jsonpath-python, emoji, python-oxmsg, unstructured-client, unstructured\n",
            "Successfully installed emoji-2.14.0 filetype-1.2.0 jsonpath-python-1.0.6 langdetect-1.0.9 olefile-0.47 pypdf-5.0.1 python-iso639-2024.4.27 python-magic-0.4.27 python-oxmsg-0.0.1 rapidfuzz-3.10.0 unstructured-0.15.14 unstructured-client-0.26.1\n"
          ]
        }
      ]
    },
    {
      "cell_type": "code",
      "source": [
        "import os\n",
        "from glob import glob\n",
        "\n",
        "files = glob(os.path.join('./','*.txt'))\n",
        "files"
      ],
      "metadata": {
        "colab": {
          "base_uri": "https://localhost:8080/"
        },
        "id": "EcCw85qwFFqQ",
        "outputId": "7df7d688-1d35-4f45-aca9-ab3e1ae0b3b9"
      },
      "execution_count": 18,
      "outputs": [
        {
          "output_type": "execute_result",
          "data": {
            "text/plain": [
              "['./history.txt', './places.txt']"
            ]
          },
          "metadata": {},
          "execution_count": 18
        }
      ]
    },
    {
      "cell_type": "code",
      "source": [
        "from langchain_community.document_loaders import DirectoryLoader\n",
        "\n",
        "loader = DirectoryLoader(path='./', glob='*.txt', loader_cls=TextLoader)\n",
        "\n",
        "data = loader.load()\n",
        "\n",
        "len(data)\n"
      ],
      "metadata": {
        "colab": {
          "base_uri": "https://localhost:8080/"
        },
        "id": "LCiEFlRxFZxL",
        "outputId": "f6c77e56-f548-4d40-bd12-2699d76c8408"
      },
      "execution_count": 19,
      "outputs": [
        {
          "output_type": "execute_result",
          "data": {
            "text/plain": [
              "2"
            ]
          },
          "metadata": {},
          "execution_count": 19
        }
      ]
    },
    {
      "cell_type": "code",
      "source": [
        "data[0]"
      ],
      "metadata": {
        "colab": {
          "base_uri": "https://localhost:8080/"
        },
        "id": "XR1nLj4XFlMT",
        "outputId": "7a6b6a4b-328a-4f78-ea40-4ad5b05f8a52"
      },
      "execution_count": 20,
      "outputs": [
        {
          "output_type": "execute_result",
          "data": {
            "text/plain": [
              "Document(metadata={'source': 'history.txt'}, page_content='한국의 역사는 수천 년에 걸쳐 이어져 온 긴 여정 속에서 다양한 문화와 전통이 형성되고 발전해 왔습니다. 고조선에서 시작해 삼국 시대의 경쟁, 그리고 통일 신라와 고려를 거쳐 조선까지, 한반도는 많은 변화를 겪었습니다.\\n\\n고조선은 기원전 2333년 단군왕검에 의해 세워졌다고 전해집니다. 이는 한국 역사상 최초의 국가로, 한민족의 시원이라 할 수 있습니다. 이후 기원전 1세기경에는 한반도와 만주 일대에서 여러 소국이 성장하며 삼한 시대로 접어듭니다.\\n\\n4세기경, 고구려, 백제, 신라의 삼국이 한반도의 주요 세력으로 부상했습니다. 이 시기는 삼국이 각각 문화와 기술, 무력을 발전시키며 경쟁적으로 성장한 시기로, 한국 역사에서 중요한 전환점을 마련했습니다. 특히 고구려는 북방의 강대국으로 성장하여 중국과도 여러 차례 전쟁을 벌였습니다.\\n\\n7세기 말, 신라는 당나라와 연합하여 백제와 고구려를 차례로 정복하고, 한반도 최초의 통일 국가인 통일 신라를 건립합니다. 이 시기에 신라는 불교를 국교로 채택하며 문화와 예술이 크게 발전했습니다.\\n\\n그러나 10세기에 이르러 신라는 내부의 분열과 외부의 압력으로 쇠퇴하고, 이를 대체하여 고려가 성립됩니다. 고려 시대에는 과거제도의 도입과 더불어 청자 등 고려 고유의 문화가 꽃피었습니다.\\n\\n조선은 1392년 이성계에 의해 건국되어, 1910년까지 이어졌습니다. 조선 초기에는 세종대왕이 한글을 창제하여 백성들의 문해율을 높이는 등 문화적, 과학적 성취가 이루어졌습니다. 그러나 조선 후기에는 내부적으로 실학의 발전과 함께 사회적 변화가 모색되었으나, 외부로부터의 압력은 점차 커져만 갔습니다.\\n\\n19세기 말부터 20세기 초에 걸쳐 한국은 제국주의 열강의 침략을 받으며 많은 시련을 겪었습니다. 1910년, 한국은 일본에 의해 강제로 병합되어 35년간의 식민 지배를 받게 됩니다. 이 기간 동안 한국인들은 독립을 위한 다양한 운동을 전개했으며, 이는 1945년 일본의 패망으로 이어지는 독립으로 결실을 맺었습니다.\\n\\n해방 후 한반도는 남북으로 분단되어 각각 다른 정부가 수립되었고, 1950년에는 한국전쟁이 발발하여 큰 피해를 입었습니다. 전쟁 후 남한은 빠른 경제 발전을 이루며 오늘날에 이르렀습니다.\\n\\n한국의 역사는 오랜 시간 동안 수많은 시련과 도전을 겪으며 형성된 깊은 유산을 지니고 있습니다. 오늘날 한국은 그 역사적 배경 위에서 세계적으로 중요한 역할을 하고 있으며, 과거의 역사가 현재와 미래에 어떻게 영향을 미치는지를 이해하는 것은 매우 중요합니다.')"
            ]
          },
          "metadata": {},
          "execution_count": 20
        }
      ]
    },
    {
      "cell_type": "markdown",
      "source": [
        "## CSV 문서\n",
        "\n",
        "CSV 파일의 각 행을 추출하여 서로 다른 Document 객체로 변환. 이를 문서 객체로 이루어진 리스트 형태로 반환."
      ],
      "metadata": {
        "id": "qvxMJjEOFoeS"
      }
    },
    {
      "cell_type": "code",
      "source": [
        "from langchain_community.document_loaders.csv_loader import CSVLoader\n",
        "\n",
        "loader = CSVLoader(file_path='한국주택금융공사_주택금융관련_지수_20160101.csv', encoding='cp949')\n",
        "data = loader.load()\n",
        "\n",
        "len(data)"
      ],
      "metadata": {
        "colab": {
          "base_uri": "https://localhost:8080/"
        },
        "id": "uZsJPAaPGf2o",
        "outputId": "ab9eb186-d9ac-48c4-a47e-2245ff076237"
      },
      "execution_count": 21,
      "outputs": [
        {
          "output_type": "execute_result",
          "data": {
            "text/plain": [
              "143"
            ]
          },
          "metadata": {},
          "execution_count": 21
        }
      ]
    },
    {
      "cell_type": "code",
      "source": [
        "data[0]"
      ],
      "metadata": {
        "colab": {
          "base_uri": "https://localhost:8080/"
        },
        "id": "gN0O1cyuGkyX",
        "outputId": "14362550-d2e0-4a6e-df1e-925f9582ad39"
      },
      "execution_count": 23,
      "outputs": [
        {
          "output_type": "execute_result",
          "data": {
            "text/plain": [
              "Document(metadata={'source': '2004-01-01', 'row': 0}, page_content='연도: 2004-01-01\\n전국소득대비 주택가격 비율: 4.21\\n서울소득대비 주택가격 비율: 4.89\\n부산소득대비 주택가격 비율: 3.95\\n대구소득대비 주택가격 비율: 3.73\\n인천소득대비 주택가격 비율: 4.65\\n광주소득대비 주택가격 비율: 2.81\\n대전소득대비 주택가격 비율: 4.68\\n울산소득대비 주택가격 비율: 2.66\\n세종소득대비 주택가격 비율: 0\\n경기소득대비 주택가격 비율: 4.17\\n강원소득대비 주택가격 비율: 2.49\\n충북소득대비 주택가격 비율: 2.62\\n충남소득대비 주택가격 비율: 2.17\\n전북소득대비 주택가격 비율: 3.12\\n전남소득대비 주택가격 비율: 2.12\\n경북소득대비 주택가격 비율: 2.12\\n경남소득대비 주택가격 비율: 3.81\\n제주소득대비 주택가격 비율: 2.99\\n전국평균 대출금액  평균 연소득: 2.36\\n서울평균 대출금액  평균 연소득: 2.61\\n부산평균 대출금액  평균 연소득: 2.35\\n대구평균 대출금액  평균 연소득: 2.24\\n인천평균 대출금액  평균 연소득: 2.7\\n광주평균 대출금액  평균 연소득: 1.6\\n대전평균 대출금액  평균 연소득: 2.26\\n울산평균 대출금액  평균 연소득: 1.67\\n세종평균 대출금액  평균 연소득: 0\\n경기평균 대출금액  평균 연소득: 2.42\\n강원평균 대출금액  평균 연소득: 1.44\\n충북평균 대출금액  평균 연소득: 1.53\\n충남평균 대출금액  평균 연소득: 1.21\\n전북평균 대출금액  평균 연소득: 1.9\\n전남평균 대출금액  평균 연소득: 1.42\\n경북평균 대출금액  평균 연소득: 1.31\\n경남평균 대출금액  평균 연소득: 2.06\\n제주평균 대출금액  평균 연소득: 1.28')"
            ]
          },
          "metadata": {},
          "execution_count": 23
        }
      ]
    },
    {
      "cell_type": "markdown",
      "source": [
        "**특정 출처 정보를 특정 필드로 지정**"
      ],
      "metadata": {
        "id": "ZP_cyP0_G2Go"
      }
    },
    {
      "cell_type": "code",
      "source": [
        "loader = CSVLoader(file_path='한국주택금융공사_주택금융관련_지수_20160101.csv', encoding='cp949',\n",
        "                   source_column='연도')\n",
        "\n",
        "data = loader.load()\n",
        "\n",
        "data[0]"
      ],
      "metadata": {
        "colab": {
          "base_uri": "https://localhost:8080/"
        },
        "id": "iWlC5am4HfFP",
        "outputId": "e8f8f637-7f1e-474e-db8c-393750068ff2"
      },
      "execution_count": 22,
      "outputs": [
        {
          "output_type": "execute_result",
          "data": {
            "text/plain": [
              "Document(metadata={'source': '2004-01-01', 'row': 0}, page_content='연도: 2004-01-01\\n전국소득대비 주택가격 비율: 4.21\\n서울소득대비 주택가격 비율: 4.89\\n부산소득대비 주택가격 비율: 3.95\\n대구소득대비 주택가격 비율: 3.73\\n인천소득대비 주택가격 비율: 4.65\\n광주소득대비 주택가격 비율: 2.81\\n대전소득대비 주택가격 비율: 4.68\\n울산소득대비 주택가격 비율: 2.66\\n세종소득대비 주택가격 비율: 0\\n경기소득대비 주택가격 비율: 4.17\\n강원소득대비 주택가격 비율: 2.49\\n충북소득대비 주택가격 비율: 2.62\\n충남소득대비 주택가격 비율: 2.17\\n전북소득대비 주택가격 비율: 3.12\\n전남소득대비 주택가격 비율: 2.12\\n경북소득대비 주택가격 비율: 2.12\\n경남소득대비 주택가격 비율: 3.81\\n제주소득대비 주택가격 비율: 2.99\\n전국평균 대출금액  평균 연소득: 2.36\\n서울평균 대출금액  평균 연소득: 2.61\\n부산평균 대출금액  평균 연소득: 2.35\\n대구평균 대출금액  평균 연소득: 2.24\\n인천평균 대출금액  평균 연소득: 2.7\\n광주평균 대출금액  평균 연소득: 1.6\\n대전평균 대출금액  평균 연소득: 2.26\\n울산평균 대출금액  평균 연소득: 1.67\\n세종평균 대출금액  평균 연소득: 0\\n경기평균 대출금액  평균 연소득: 2.42\\n강원평균 대출금액  평균 연소득: 1.44\\n충북평균 대출금액  평균 연소득: 1.53\\n충남평균 대출금액  평균 연소득: 1.21\\n전북평균 대출금액  평균 연소득: 1.9\\n전남평균 대출금액  평균 연소득: 1.42\\n경북평균 대출금액  평균 연소득: 1.31\\n경남평균 대출금액  평균 연소득: 2.06\\n제주평균 대출금액  평균 연소득: 1.28')"
            ]
          },
          "metadata": {},
          "execution_count": 22
        }
      ]
    },
    {
      "cell_type": "markdown",
      "source": [
        "**CSV 파싱 옵션 지정**\n",
        "\n",
        "csv_args 매개변수를 통해 지정. csv_args는 파이썬 표준 라이브러리인 csv모듈에 전달될 인자를 담는 딕셔너리\n",
        "\n",
        "구분자로 줄바꿈, 콤마 비교"
      ],
      "metadata": {
        "id": "Y_FCWrPnHk1P"
      }
    },
    {
      "cell_type": "code",
      "source": [
        "loader = CSVLoader(file_path='한국주택금융공사_주택금융관련_지수_20160101.csv', encoding='cp949',\n",
        "                   csv_args={\n",
        "                       'delimiter': '\\n',\n",
        "                   })\n",
        "\n",
        "data = loader.load()\n",
        "\n",
        "data[0]"
      ],
      "metadata": {
        "colab": {
          "base_uri": "https://localhost:8080/"
        },
        "id": "HcyB6RzcH1qU",
        "outputId": "2d380b08-32da-4205-ecac-3c973253cb3f"
      },
      "execution_count": 24,
      "outputs": [
        {
          "output_type": "execute_result",
          "data": {
            "text/plain": [
              "Document(metadata={'source': '한국주택금융공사_주택금융관련_지수_20160101.csv', 'row': 0}, page_content='연도,전국소득대비 주택가격 비율,서울소득대비 주택가격 비율,부산소득대비 주택가격 비율,대구소득대비 주택가격 비율,인천소득대비 주택가격 비율,광주소득대비 주택가격 비율,대전소득대비 주택가격 비율,울산소득대비 주택가격 비율,세종소득대비 주택가격 비율,경기소득대비 주택가격 비율,강원소득대비 주택가격 비율,충북소득대비 주택가격 비율,충남소득대비 주택가격 비율,전북소득대비 주택가격 비율,전남소득대비 주택가격 비율,경북소득대비 주택가격 비율,경남소득대비 주택가격 비율,제주소득대비 주택가격 비율,전국평균 대출금액  평균 연소득,서울평균 대출금액  평균 연소득,부산평균 대출금액  평균 연소득,대구평균 대출금액  평균 연소득,인천평균 대출금액  평균 연소득,광주평균 대출금액  평균 연소득,대전평균 대출금액  평균 연소득,울산평균 대출금액  평균 연소득,세종평균 대출금액  평균 연소득,경기평균 대출금액  평균 연소득,강원평균 대출금액  평균 연소득,충북평균 대출금액  평균 연소득,충남평균 대출금액  평균 연소득,전북평균 대출금액  평균 연소득,전남평균 대출금액  평균 연소득,경북평균 대출금액  평균 연소득,경남평균 대출금액  평균 연소득,제주평균 대출금액  평균 연소득: 2004-01-01,4.21,4.89,3.95,3.73,4.65,2.81,4.68,2.66,0,4.17,2.49,2.62,2.17,3.12,2.12,2.12,3.81,2.99,2.36,2.61,2.35,2.24,2.7,1.6,2.26,1.67,0,2.42,1.44,1.53,1.21,1.9,1.42,1.31,2.06,1.28')"
            ]
          },
          "metadata": {},
          "execution_count": 24
        }
      ]
    },
    {
      "cell_type": "markdown",
      "source": [
        "# Text Splitter\n",
        "\n",
        "LangChain에서 지원하는 긴 문서를 작은 단위인 청크(chunk)로 나누는 텍스트 분리 도구\n",
        "\n",
        "이렇게 문서를 작은 조각으로 나누는 이유는 LLM 모델의 입력 토근의 개수가 정해져 있기 때문. 허용 한도를 넘는 텍스트는 모델에서 입력으로 처리할 수 없게 된다.\n",
        "\n",
        "LangChain이 지원하는 텍스트 분리기는 분할하려는 텍스트 유형과 사용 사례에 맞춰 선택할 수 있는 다양항 옵션이 제공된다.\n",
        "1. 텍스트가 어떻게 분리되는지 - 텍스트를 나눌 때 각 청크가 독립적으로 의미를 갖도록 나눠야 하낟. 이를 위해, 문장, 구절, 단락 등 문서 구조를 기준으로 나눌 수 있다.\n",
        "2. 청크 크기가 어떻게 측정되는지 - 각 chunk의 크기를 직접 조정할 수 있다. LLM 모델의 입력 크기와 비용 등을 종합적으로 고려하여 애플리케이션에 적합한 최적 크기를 결정하는 기준이다. 예를들면, 단어 수, 문자 수 등을 기준으로 나눌 수 있다."
      ],
      "metadata": {
        "id": "8jg4Ez50A7K9"
      }
    },
    {
      "cell_type": "markdown",
      "source": [
        "## CharacterTextSplitter\n",
        "\n",
        "TextLoader 클래스는 특정 파일에서 텍스트를 로드해서 Document 객체로 변환한다."
      ],
      "metadata": {
        "id": "stIac2AeDNAF"
      }
    },
    {
      "cell_type": "code",
      "source": [
        "from langchain_community.document_loaders import TextLoader\n",
        "\n",
        "loader = TextLoader('history.txt')\n",
        "data = loader.load()\n",
        "\n",
        "print(len(data[0].page_content))\n",
        "data[0].page_content\n"
      ],
      "metadata": {
        "colab": {
          "base_uri": "https://localhost:8080/",
          "height": 270
        },
        "id": "BNOViOXGCwNP",
        "outputId": "06569451-9d0c-4093-fee2-61e3aca64e18"
      },
      "execution_count": 25,
      "outputs": [
        {
          "output_type": "stream",
          "name": "stdout",
          "text": [
            "1234\n"
          ]
        },
        {
          "output_type": "execute_result",
          "data": {
            "text/plain": [
              "'한국의 역사는 수천 년에 걸쳐 이어져 온 긴 여정 속에서 다양한 문화와 전통이 형성되고 발전해 왔습니다. 고조선에서 시작해 삼국 시대의 경쟁, 그리고 통일 신라와 고려를 거쳐 조선까지, 한반도는 많은 변화를 겪었습니다.\\n\\n고조선은 기원전 2333년 단군왕검에 의해 세워졌다고 전해집니다. 이는 한국 역사상 최초의 국가로, 한민족의 시원이라 할 수 있습니다. 이후 기원전 1세기경에는 한반도와 만주 일대에서 여러 소국이 성장하며 삼한 시대로 접어듭니다.\\n\\n4세기경, 고구려, 백제, 신라의 삼국이 한반도의 주요 세력으로 부상했습니다. 이 시기는 삼국이 각각 문화와 기술, 무력을 발전시키며 경쟁적으로 성장한 시기로, 한국 역사에서 중요한 전환점을 마련했습니다. 특히 고구려는 북방의 강대국으로 성장하여 중국과도 여러 차례 전쟁을 벌였습니다.\\n\\n7세기 말, 신라는 당나라와 연합하여 백제와 고구려를 차례로 정복하고, 한반도 최초의 통일 국가인 통일 신라를 건립합니다. 이 시기에 신라는 불교를 국교로 채택하며 문화와 예술이 크게 발전했습니다.\\n\\n그러나 10세기에 이르러 신라는 내부의 분열과 외부의 압력으로 쇠퇴하고, 이를 대체하여 고려가 성립됩니다. 고려 시대에는 과거제도의 도입과 더불어 청자 등 고려 고유의 문화가 꽃피었습니다.\\n\\n조선은 1392년 이성계에 의해 건국되어, 1910년까지 이어졌습니다. 조선 초기에는 세종대왕이 한글을 창제하여 백성들의 문해율을 높이는 등 문화적, 과학적 성취가 이루어졌습니다. 그러나 조선 후기에는 내부적으로 실학의 발전과 함께 사회적 변화가 모색되었으나, 외부로부터의 압력은 점차 커져만 갔습니다.\\n\\n19세기 말부터 20세기 초에 걸쳐 한국은 제국주의 열강의 침략을 받으며 많은 시련을 겪었습니다. 1910년, 한국은 일본에 의해 강제로 병합되어 35년간의 식민 지배를 받게 됩니다. 이 기간 동안 한국인들은 독립을 위한 다양한 운동을 전개했으며, 이는 1945년 일본의 패망으로 이어지는 독립으로 결실을 맺었습니다.\\n\\n해방 후 한반도는 남북으로 분단되어 각각 다른 정부가 수립되었고, 1950년에는 한국전쟁이 발발하여 큰 피해를 입었습니다. 전쟁 후 남한은 빠른 경제 발전을 이루며 오늘날에 이르렀습니다.\\n\\n한국의 역사는 오랜 시간 동안 수많은 시련과 도전을 겪으며 형성된 깊은 유산을 지니고 있습니다. 오늘날 한국은 그 역사적 배경 위에서 세계적으로 중요한 역할을 하고 있으며, 과거의 역사가 현재와 미래에 어떻게 영향을 미치는지를 이해하는 것은 매우 중요합니다.'"
            ],
            "application/vnd.google.colaboratory.intrinsic+json": {
              "type": "string"
            }
          },
          "metadata": {},
          "execution_count": 25
        }
      ]
    },
    {
      "cell_type": "markdown",
      "source": [
        "### 1. 문서를 개별 문자 단위로 나누기 (separator =\"\")\n",
        "\n",
        "CharacterTextSplitter 클래스는 주어진 텍스트를 문자 단위로 분할하는 데 사용 (파이썬의 split함수와 유사)\n",
        "- separator: 분할된 각 청크를 구분할 때 기준이 되는 문자열. 여기서는 빈 문자열('')을 사용하므로, 각 글자를 기준으로 분할.\n",
        "- chunk_size: 각 청크의 최대 길이. 여기서는 500으로 설정되어 있으므로, 최대 500자까지의 텍스트가 하나의 청크에 포함.\n",
        "- chunk_overlap: 인접한 청크 사이에 중복으로 포함될 문자의 수. 여기서는 100으로 설정되어 있으므로, 각 청크들은 연결 부분에서 100자가 중복.\n",
        "- length_function: 청크의 길이를 계산하는 함수. 여기서는 len 함수가 사용되었으므로, 문자열의 길이를 기반으로 청크의 길이를 계산.\n",
        "\n",
        "각 청크의 크기가 chunk_size를 초과하지 않으며, 인접한 청크 사이에는 chunk_overlap만큼의 문자가 중복되어 있음. 텍스트의 의미적 연속성을 유지하면서도 큰 데이터를 더 작은 단위로 분할할 수 있다."
      ],
      "metadata": {
        "id": "qEae3E89DnEw"
      }
    },
    {
      "cell_type": "code",
      "source": [
        "# 각 문자를 구분하여 분할\n",
        "from langchain_text_splitters import CharacterTextSplitter\n",
        "text_splitter = CharacterTextSplitter(\n",
        "    separator = '',\n",
        "    chunk_size = 500,\n",
        "    chunk_overlap  = 100,\n",
        "    length_function = len,\n",
        ")\n",
        "\n",
        "texts = text_splitter.split_text(data[0].page_content)\n",
        "\n",
        "len(texts)\n"
      ],
      "metadata": {
        "colab": {
          "base_uri": "https://localhost:8080/"
        },
        "id": "x0VpsTbWEILd",
        "outputId": "127ea25d-0cdb-4c39-8fee-4708376833ca"
      },
      "execution_count": 26,
      "outputs": [
        {
          "output_type": "execute_result",
          "data": {
            "text/plain": [
              "3"
            ]
          },
          "metadata": {},
          "execution_count": 26
        }
      ]
    },
    {
      "cell_type": "code",
      "source": [
        "len(texts[0])"
      ],
      "metadata": {
        "colab": {
          "base_uri": "https://localhost:8080/"
        },
        "id": "EFEaVV8wEK9P",
        "outputId": "fbc9c4ab-d80b-44e9-e876-67c66427f100"
      },
      "execution_count": 27,
      "outputs": [
        {
          "output_type": "execute_result",
          "data": {
            "text/plain": [
              "500"
            ]
          },
          "metadata": {},
          "execution_count": 27
        }
      ]
    },
    {
      "cell_type": "code",
      "source": [
        "texts[0]"
      ],
      "metadata": {
        "colab": {
          "base_uri": "https://localhost:8080/",
          "height": 144
        },
        "id": "Z319v2McEOQ1",
        "outputId": "305e1e2e-fdd6-4bfd-c5d1-172ee6a89595"
      },
      "execution_count": 28,
      "outputs": [
        {
          "output_type": "execute_result",
          "data": {
            "text/plain": [
              "'한국의 역사는 수천 년에 걸쳐 이어져 온 긴 여정 속에서 다양한 문화와 전통이 형성되고 발전해 왔습니다. 고조선에서 시작해 삼국 시대의 경쟁, 그리고 통일 신라와 고려를 거쳐 조선까지, 한반도는 많은 변화를 겪었습니다.\\n\\n고조선은 기원전 2333년 단군왕검에 의해 세워졌다고 전해집니다. 이는 한국 역사상 최초의 국가로, 한민족의 시원이라 할 수 있습니다. 이후 기원전 1세기경에는 한반도와 만주 일대에서 여러 소국이 성장하며 삼한 시대로 접어듭니다.\\n\\n4세기경, 고구려, 백제, 신라의 삼국이 한반도의 주요 세력으로 부상했습니다. 이 시기는 삼국이 각각 문화와 기술, 무력을 발전시키며 경쟁적으로 성장한 시기로, 한국 역사에서 중요한 전환점을 마련했습니다. 특히 고구려는 북방의 강대국으로 성장하여 중국과도 여러 차례 전쟁을 벌였습니다.\\n\\n7세기 말, 신라는 당나라와 연합하여 백제와 고구려를 차례로 정복하고, 한반도 최초의 통일 국가인 통일 신라를 건립합니다. 이 시기에 신라는 불교를 국교'"
            ],
            "application/vnd.google.colaboratory.intrinsic+json": {
              "type": "string"
            }
          },
          "metadata": {},
          "execution_count": 28
        }
      ]
    },
    {
      "cell_type": "markdown",
      "source": [
        "### 2. 문서를 특정 문자열 기준으로 나누기 (separator=\"문자열\")\n",
        "\n"
      ],
      "metadata": {
        "id": "2HUSXiJUERoy"
      }
    },
    {
      "cell_type": "code",
      "source": [
        "# 줄바꿈 문자를 기준으로 분할\n",
        "\n",
        "text_splitter = CharacterTextSplitter(\n",
        "    separator = '\\n',\n",
        "    chunk_size = 500,\n",
        "    chunk_overlap  = 100,\n",
        "    length_function = len,\n",
        ")\n",
        "\n",
        "texts = text_splitter.split_text(data[0].page_content)\n",
        "\n",
        "len(texts)\n"
      ],
      "metadata": {
        "colab": {
          "base_uri": "https://localhost:8080/"
        },
        "id": "i0ndBztYEbQO",
        "outputId": "af4fa1e7-4c5e-4e66-b6b1-936c8732d0c1"
      },
      "execution_count": 29,
      "outputs": [
        {
          "output_type": "execute_result",
          "data": {
            "text/plain": [
              "3"
            ]
          },
          "metadata": {},
          "execution_count": 29
        }
      ]
    },
    {
      "cell_type": "markdown",
      "source": [
        "정확하게 500글자씩 잘리지 않고 '\\n'을 기준으로 최대 500자를 맞출 수 있는 위치를 찾아 분할"
      ],
      "metadata": {
        "id": "0vql2FHGEgJK"
      }
    },
    {
      "cell_type": "code",
      "source": [
        "len(texts[0]), len(texts[1]), len(texts[2])\n"
      ],
      "metadata": {
        "colab": {
          "base_uri": "https://localhost:8080/"
        },
        "id": "0mY8KHghEdl0",
        "outputId": "5da193a3-b7cf-4e32-b9cb-9c8b1f640674"
      },
      "execution_count": 30,
      "outputs": [
        {
          "output_type": "execute_result",
          "data": {
            "text/plain": [
              "(411, 386, 427)"
            ]
          },
          "metadata": {},
          "execution_count": 30
        }
      ]
    },
    {
      "cell_type": "code",
      "source": [
        "texts[0]"
      ],
      "metadata": {
        "colab": {
          "base_uri": "https://localhost:8080/",
          "height": 126
        },
        "id": "yt-_uYbJEqti",
        "outputId": "f5b485c3-8e51-4d3f-c40f-224b730b819b"
      },
      "execution_count": 31,
      "outputs": [
        {
          "output_type": "execute_result",
          "data": {
            "text/plain": [
              "'한국의 역사는 수천 년에 걸쳐 이어져 온 긴 여정 속에서 다양한 문화와 전통이 형성되고 발전해 왔습니다. 고조선에서 시작해 삼국 시대의 경쟁, 그리고 통일 신라와 고려를 거쳐 조선까지, 한반도는 많은 변화를 겪었습니다.\\n고조선은 기원전 2333년 단군왕검에 의해 세워졌다고 전해집니다. 이는 한국 역사상 최초의 국가로, 한민족의 시원이라 할 수 있습니다. 이후 기원전 1세기경에는 한반도와 만주 일대에서 여러 소국이 성장하며 삼한 시대로 접어듭니다.\\n4세기경, 고구려, 백제, 신라의 삼국이 한반도의 주요 세력으로 부상했습니다. 이 시기는 삼국이 각각 문화와 기술, 무력을 발전시키며 경쟁적으로 성장한 시기로, 한국 역사에서 중요한 전환점을 마련했습니다. 특히 고구려는 북방의 강대국으로 성장하여 중국과도 여러 차례 전쟁을 벌였습니다.'"
            ],
            "application/vnd.google.colaboratory.intrinsic+json": {
              "type": "string"
            }
          },
          "metadata": {},
          "execution_count": 31
        }
      ]
    },
    {
      "cell_type": "markdown",
      "source": [
        "## RecursiceCharacterTextSplitter\n",
        "\n",
        "RecursiveCharacterTextSplitter 클래스는 텍스트를 재귀적으로 분할하여 의미적으로 관련 있는 텍스트 조각들이 같이 있도록 하는 목적으로 설계되었다.\n",
        "\n",
        "이 과정에서 문자 리스트(['\\n\\n', '\\n', ' ', ''])의 문자를 순서대로 사용하여 텍스트를 분할하며, 분할된 청크들이 설정된 chunk_size보다 작아질 때까지 이 과정을 반복한다.\n",
        "\n",
        "여기서 chunk_overlap은 분할된 텍스트 조각들 사이에서 중복으로 포함될 문자 수를 정의한다.\n",
        "\n",
        "length_function = len 코드는 분할의 기준이 되는 길이를 측정하는 함수로 문자열의 길이를 반환하는 len 함수를 사용한다는 의미이다."
      ],
      "metadata": {
        "id": "IcBTdBYjE3AK"
      }
    },
    {
      "cell_type": "code",
      "source": [
        "from langchain.text_splitter import RecursiveCharacterTextSplitter\n",
        "\n",
        "text_splitter = RecursiveCharacterTextSplitter(\n",
        "    chunk_size = 500,\n",
        "    chunk_overlap  = 100,\n",
        "    length_function = len,\n",
        ")\n",
        "\n",
        "texts = text_splitter.split_text(data[0].page_content)\n",
        "\n",
        "len(texts)\n"
      ],
      "metadata": {
        "colab": {
          "base_uri": "https://localhost:8080/"
        },
        "id": "TDDFQ0K_FK9f",
        "outputId": "e46a3fb0-3437-4640-c349-8ac447be9ac1"
      },
      "execution_count": 32,
      "outputs": [
        {
          "output_type": "execute_result",
          "data": {
            "text/plain": [
              "3"
            ]
          },
          "metadata": {},
          "execution_count": 32
        }
      ]
    },
    {
      "cell_type": "markdown",
      "source": [
        "CharacterTextSplitter 클래스와 다르게 문장이 온전하게 유지된 채로 나누어지는 것을 볼 수 있다."
      ],
      "metadata": {
        "id": "Pbw4oY5bFVkE"
      }
    },
    {
      "cell_type": "code",
      "source": [
        "len(texts[0]), len(texts[1]), len(texts[2])\n"
      ],
      "metadata": {
        "colab": {
          "base_uri": "https://localhost:8080/"
        },
        "id": "XSG_2uw6FO61",
        "outputId": "d17bfaab-c9fa-4ca7-8e0b-759b3e4acb26"
      },
      "execution_count": 33,
      "outputs": [
        {
          "output_type": "execute_result",
          "data": {
            "text/plain": [
              "(413, 388, 429)"
            ]
          },
          "metadata": {},
          "execution_count": 33
        }
      ]
    },
    {
      "cell_type": "code",
      "source": [
        "texts[0]"
      ],
      "metadata": {
        "colab": {
          "base_uri": "https://localhost:8080/",
          "height": 126
        },
        "id": "QJu77yw7FXmD",
        "outputId": "02112a65-12b2-4c1e-a1d8-1ce7b66d0746"
      },
      "execution_count": 34,
      "outputs": [
        {
          "output_type": "execute_result",
          "data": {
            "text/plain": [
              "'한국의 역사는 수천 년에 걸쳐 이어져 온 긴 여정 속에서 다양한 문화와 전통이 형성되고 발전해 왔습니다. 고조선에서 시작해 삼국 시대의 경쟁, 그리고 통일 신라와 고려를 거쳐 조선까지, 한반도는 많은 변화를 겪었습니다.\\n\\n고조선은 기원전 2333년 단군왕검에 의해 세워졌다고 전해집니다. 이는 한국 역사상 최초의 국가로, 한민족의 시원이라 할 수 있습니다. 이후 기원전 1세기경에는 한반도와 만주 일대에서 여러 소국이 성장하며 삼한 시대로 접어듭니다.\\n\\n4세기경, 고구려, 백제, 신라의 삼국이 한반도의 주요 세력으로 부상했습니다. 이 시기는 삼국이 각각 문화와 기술, 무력을 발전시키며 경쟁적으로 성장한 시기로, 한국 역사에서 중요한 전환점을 마련했습니다. 특히 고구려는 북방의 강대국으로 성장하여 중국과도 여러 차례 전쟁을 벌였습니다.'"
            ],
            "application/vnd.google.colaboratory.intrinsic+json": {
              "type": "string"
            }
          },
          "metadata": {},
          "execution_count": 34
        }
      ]
    },
    {
      "cell_type": "markdown",
      "source": [
        "## 토큰 수를 기준으로 텍스트 분할 (Tokenizer 활용)\n",
        "\n",
        "입력 데이터가 모델의 제한을 초과하지 않도록 적절히 분할하는 것이 중요하다.  이때 LLM 모델에 적용되는 토크나이저를 기준으로 텍스트를 토큰으로 분할하고, 이 토큰들의 수를 기준으로 텍스트를 청크로 나누면 모델 입력 토큰 수를 조절할 수 있다.\n",
        "\n",
        "OpenAI API의 경우 tiktoken 라이브러리를 통해 해당 모델에서 사용하는 토크나이저를 기준으로 분할할 수 있다.\n",
        "CharacterTextSplitter.from_tiktoken_encoder 메서드는 글자 수 기준으로 분할할 때 tiktoken 토크나이저를 기준으로 글자 수를 계산하여 분할한다.\n",
        "encoding_name='cl100k_base'는 텍스트를 토큰으로 변환하는 인코딩 방식이다."
      ],
      "metadata": {
        "id": "Hd1ZTsbdFrZ3"
      }
    },
    {
      "cell_type": "code",
      "source": [
        "text_splitter = CharacterTextSplitter.from_tiktoken_encoder(\n",
        "    chunk_size=600,\n",
        "    chunk_overlap=200,\n",
        "    encoding_name='cl100k_base'\n",
        ")\n",
        "\n",
        "docs = text_splitter.split_documents(data)\n",
        "len(docs)"
      ],
      "metadata": {
        "colab": {
          "base_uri": "https://localhost:8080/"
        },
        "id": "rVhd2tmpGNU_",
        "outputId": "a9443ee2-0636-4a0c-8c2f-772dabc66db2"
      },
      "execution_count": 35,
      "outputs": [
        {
          "output_type": "execute_result",
          "data": {
            "text/plain": [
              "3"
            ]
          },
          "metadata": {},
          "execution_count": 35
        }
      ]
    },
    {
      "cell_type": "code",
      "source": [
        "print(len(docs[0].page_content))\n",
        "docs[0]"
      ],
      "metadata": {
        "colab": {
          "base_uri": "https://localhost:8080/"
        },
        "id": "3fBOKWx_GO6R",
        "outputId": "8e83d962-f5b1-4026-f640-aa77103354d3"
      },
      "execution_count": 36,
      "outputs": [
        {
          "output_type": "stream",
          "name": "stdout",
          "text": [
            "525\n"
          ]
        },
        {
          "output_type": "execute_result",
          "data": {
            "text/plain": [
              "Document(metadata={'source': 'history.txt'}, page_content='한국의 역사는 수천 년에 걸쳐 이어져 온 긴 여정 속에서 다양한 문화와 전통이 형성되고 발전해 왔습니다. 고조선에서 시작해 삼국 시대의 경쟁, 그리고 통일 신라와 고려를 거쳐 조선까지, 한반도는 많은 변화를 겪었습니다.\\n\\n고조선은 기원전 2333년 단군왕검에 의해 세워졌다고 전해집니다. 이는 한국 역사상 최초의 국가로, 한민족의 시원이라 할 수 있습니다. 이후 기원전 1세기경에는 한반도와 만주 일대에서 여러 소국이 성장하며 삼한 시대로 접어듭니다.\\n\\n4세기경, 고구려, 백제, 신라의 삼국이 한반도의 주요 세력으로 부상했습니다. 이 시기는 삼국이 각각 문화와 기술, 무력을 발전시키며 경쟁적으로 성장한 시기로, 한국 역사에서 중요한 전환점을 마련했습니다. 특히 고구려는 북방의 강대국으로 성장하여 중국과도 여러 차례 전쟁을 벌였습니다.\\n\\n7세기 말, 신라는 당나라와 연합하여 백제와 고구려를 차례로 정복하고, 한반도 최초의 통일 국가인 통일 신라를 건립합니다. 이 시기에 신라는 불교를 국교로 채택하며 문화와 예술이 크게 발전했습니다.')"
            ]
          },
          "metadata": {},
          "execution_count": 36
        }
      ]
    },
    {
      "cell_type": "code",
      "source": [
        "print(len(docs[1].page_content))\n",
        "docs[1]"
      ],
      "metadata": {
        "colab": {
          "base_uri": "https://localhost:8080/"
        },
        "id": "31EyiXSrGSrI",
        "outputId": "fec6e1d9-0b73-4169-d175-1a1ffe9686de"
      },
      "execution_count": 37,
      "outputs": [
        {
          "output_type": "stream",
          "name": "stdout",
          "text": [
            "567\n"
          ]
        },
        {
          "output_type": "execute_result",
          "data": {
            "text/plain": [
              "Document(metadata={'source': 'history.txt'}, page_content='7세기 말, 신라는 당나라와 연합하여 백제와 고구려를 차례로 정복하고, 한반도 최초의 통일 국가인 통일 신라를 건립합니다. 이 시기에 신라는 불교를 국교로 채택하며 문화와 예술이 크게 발전했습니다.\\n\\n그러나 10세기에 이르러 신라는 내부의 분열과 외부의 압력으로 쇠퇴하고, 이를 대체하여 고려가 성립됩니다. 고려 시대에는 과거제도의 도입과 더불어 청자 등 고려 고유의 문화가 꽃피었습니다.\\n\\n조선은 1392년 이성계에 의해 건국되어, 1910년까지 이어졌습니다. 조선 초기에는 세종대왕이 한글을 창제하여 백성들의 문해율을 높이는 등 문화적, 과학적 성취가 이루어졌습니다. 그러나 조선 후기에는 내부적으로 실학의 발전과 함께 사회적 변화가 모색되었으나, 외부로부터의 압력은 점차 커져만 갔습니다.\\n\\n19세기 말부터 20세기 초에 걸쳐 한국은 제국주의 열강의 침략을 받으며 많은 시련을 겪었습니다. 1910년, 한국은 일본에 의해 강제로 병합되어 35년간의 식민 지배를 받게 됩니다. 이 기간 동안 한국인들은 독립을 위한 다양한 운동을 전개했으며, 이는 1945년 일본의 패망으로 이어지는 독립으로 결실을 맺었습니다.')"
            ]
          },
          "metadata": {},
          "execution_count": 37
        }
      ]
    },
    {
      "cell_type": "markdown",
      "source": [
        "# Embedding\n",
        "\n",
        "임베딩은 텍스트 데이터를 숫자로 이루어진 벡터로 변환하는 과정을 말한다. 이러한 벡터 표현을 사용하면, 텍스트 데이터를 벡터 공간 내에서 수학적으로 다룰 수 있게 되며, 이를 통해 텍스트 간의 유사서을 계산하거나, 텍스트 데이터를 기반으로 하는 다양한 머신러닝 및 자연어 처리 작업을 수행할 수 있다. 임베딩 과정은 텍스트의 의미적인 정보를 보존하도록 설계되어 있어, 벡터 공간에서 가까이 위치한 텍스트 조각들은 의미적으로도 유사한 것으로 간주된다.\n",
        "\n",
        "<주요 활용 사례>\n",
        "- 의미 검색(Semantic Search): 벡터 표현을 활용하여 의미적으로 유사한 텍스트를 검색하는 과정으로, 사용자가 입력한 쿼리에 대해 가장 관련성 높은 문서나 정보를 찾아내는 데 사용됨.\n",
        "- 문서 분류(Document Classification): 임베딩된 텍스트 벡터를 사용하여 문서를 특정 카테고리나 주제에 할당하는 분류 작업에 사용됨.\n",
        "- 텍스트 유사도 계산(Text Similarity Calculation): 두 텍스트 벡터 사이의 거리를 계산하여, 텍스트 간의 유사성 정도를 정량적으로 평가.\n",
        "\n",
        "<임베딩 메소드>\n",
        "- embed_documents: 이 메소드는 문서 객체의 집합을 입력으로 받아, 각 문서를 벡터 공간에 임베딩. 주로 대량의 텍스트 데이터를 배치 단위로 처리할 때 사용.\n",
        "- embed_query: 이 메소드는 단일 텍스트 쿼리를 입력으로 받아, 쿼리를 벡터 공간에 임베딩. 주로 사용자의 검색 쿼리를 임베딩하여, 문서 집합 내에서 해당 쿼리와 유사한 내용을 찾아내는 데 사용.\n"
      ],
      "metadata": {
        "id": "omVyoFtkGbA1"
      }
    },
    {
      "cell_type": "markdown",
      "source": [
        "### OpenAIEmbeddings\n",
        "\n",
        "\n",
        "OpenAIEmbeddings 클래스는 OpenAI의 API를 활용하여, 각 문서를 대응하는 임베딩 벡터로 변환\n",
        "\n"
      ],
      "metadata": {
        "id": "_3hwrM7aHLsI"
      }
    },
    {
      "cell_type": "code",
      "source": [
        "from langchain_openai import OpenAIEmbeddings\n",
        "\n",
        "embeddings_model = OpenAIEmbeddings()"
      ],
      "metadata": {
        "id": "KZ2tCDxeGTuL"
      },
      "execution_count": 38,
      "outputs": []
    },
    {
      "cell_type": "markdown",
      "source": [
        "- embed_documents 메소드는 입력 받은 5개의 문서 객체를 각각 별도의 벡터로 임베딩\n",
        "- embeddings 변수에는 각 텍스트에 대한 벡터 표현을 담고 있는 리스트가 할당\n",
        "- len(embeddings)는 입력된 텍스트 리스트의 개수와 동일하며, 이는 임베딩 과정을 거친 문서의 총 수\n",
        "\n",
        "\n",
        "벡터의 차원은 1536이다."
      ],
      "metadata": {
        "id": "_4opMBkaHXhg"
      }
    },
    {
      "cell_type": "code",
      "source": [
        "embeddings = embeddings_model.embed_documents(\n",
        "    [\n",
        "        '안녕하세요!',\n",
        "        '어! 오랜만이에요',\n",
        "        '이름이 어떻게 되세요?',\n",
        "        '날씨가 추워요',\n",
        "        'Hello LLM!'\n",
        "    ]\n",
        ")\n",
        "len(embeddings), len(embeddings[0])"
      ],
      "metadata": {
        "colab": {
          "base_uri": "https://localhost:8080/"
        },
        "id": "1QtZ7xFWHUdX",
        "outputId": "e19e151a-9a01-47e8-a657-33312e35efe6"
      },
      "execution_count": 39,
      "outputs": [
        {
          "output_type": "execute_result",
          "data": {
            "text/plain": [
              "(5, 1536)"
            ]
          },
          "metadata": {},
          "execution_count": 39
        }
      ]
    },
    {
      "cell_type": "code",
      "source": [
        "print(embeddings[0][:20])"
      ],
      "metadata": {
        "colab": {
          "base_uri": "https://localhost:8080/"
        },
        "id": "0VldRnYEHVVL",
        "outputId": "0c43ea88-48bb-4ce7-e1fd-16698f546e38"
      },
      "execution_count": 40,
      "outputs": [
        {
          "output_type": "stream",
          "name": "stdout",
          "text": [
            "[-0.010418616235256195, -0.013604369014501572, -0.006517176982015371, -0.018658505752682686, -0.018316496163606644, 0.016682453453540802, -0.009189915843307972, 0.00390460598282516, -0.00739120040088892, 0.010082940571010113, 0.011799320578575134, -0.006669180933386087, -0.02537202090024948, -0.02248394303023815, -0.004822964314371347, -0.021723922342061996, 0.02527068555355072, -0.01764514483511448, 0.007929548621177673, -0.01789848506450653]\n"
          ]
        }
      ]
    },
    {
      "cell_type": "markdown",
      "source": [
        "embed_query 메소드는 단일 쿼리 문자열을 받아 이를 벡터 공간에 임베딩해줌.  주로 검색 쿼리나 질문 같은 단일 텍스트를 임베딩할 때 유용하며, 생성된 임베딩을 사용해 유사한 문서나 답변을 찾을 수 있다."
      ],
      "metadata": {
        "id": "hbP1vhL1NQrN"
      }
    },
    {
      "cell_type": "code",
      "source": [
        "embedded_query = embeddings_model.embed_query('첫인사를 하고 이름을 물어봤나요?')\n",
        "embedded_query[:5]"
      ],
      "metadata": {
        "colab": {
          "base_uri": "https://localhost:8080/"
        },
        "id": "4PjqIfOlNXxI",
        "outputId": "57656ba2-69c4-46a4-b7ae-1acb759d2a81"
      },
      "execution_count": 41,
      "outputs": [
        {
          "output_type": "execute_result",
          "data": {
            "text/plain": [
              "[0.0036683890502899885,\n",
              " -0.024262964725494385,\n",
              " 0.010891906917095184,\n",
              " -0.041101060807704926,\n",
              " -0.004495821427553892]"
            ]
          },
          "metadata": {},
          "execution_count": 41
        }
      ]
    },
    {
      "cell_type": "markdown",
      "source": [
        "코사인 유사도는 두 벡터 간의 코사인 각을 이용하여 유사성을 측정하는 방법\n",
        "\n",
        "두 벡터의 방향이 완전히 동일하면 코사인 유사도는 1이 됩니다. 90도로 수직이면 0, 반대 방향이면 -1이 된다. 텍스트 임베딩과 같이 고차원 공간에서 벡터 간 유사도를 측정하는 데 유용하게 사용.\n",
        "\n"
      ],
      "metadata": {
        "id": "pskmznK-NeEU"
      }
    },
    {
      "cell_type": "markdown",
      "source": [
        "각 문서 임베딩에 대해 cos_sim 함수를 호출하여, 해당 문서가 쿼리와 얼마나 유사한지를 숫자로 나타냄. 유사도가 높은 문서일수록 쿼리와 더 관련이 깊다고 볼 수 있다.\n",
        "\n",
        "\n",
        "5개의 문서와 \"인사\", \"이름\"이라는 두 가지 토픽에 대해 유사도 측정\n"
      ],
      "metadata": {
        "id": "WG1MtTZkNroa"
      }
    },
    {
      "cell_type": "code",
      "source": [
        "# 코사인 유사도\n",
        "import numpy as np\n",
        "from numpy import dot\n",
        "from numpy.linalg import norm\n",
        "\n",
        "def cos_sim(A, B):\n",
        "  return dot(A, B)/(norm(A)*norm(B))\n",
        "\n",
        "for embedding in embeddings:\n",
        "    print(cos_sim(embedding, embedded_query))"
      ],
      "metadata": {
        "colab": {
          "base_uri": "https://localhost:8080/"
        },
        "id": "kfRUOtByNuuO",
        "outputId": "568f7b22-8f08-4e16-c7c1-2ad0a09379c3"
      },
      "execution_count": 42,
      "outputs": [
        {
          "output_type": "stream",
          "name": "stdout",
          "text": [
            "0.8347854639803092\n",
            "0.8153765172846918\n",
            "0.8844643429259835\n",
            "0.7897891025655244\n",
            "0.7468770113081356\n"
          ]
        }
      ]
    },
    {
      "cell_type": "markdown",
      "source": [
        "### HuggingFaceEmbedding\n",
        "\n",
        "sentence-transformers 라이브러리를 사용하면 Huggingface모델에서 사용된 사전 훈련된 임베딩 모델을 다운 받아서 적용할 수 있다. 오픈소스 기반의 임베딩 모델로 요금이 부과되지 않는다.\n"
      ],
      "metadata": {
        "id": "rxGepnvfm72O"
      }
    },
    {
      "cell_type": "code",
      "source": [
        "!pip install -U sentence-transformers"
      ],
      "metadata": {
        "colab": {
          "base_uri": "https://localhost:8080/"
        },
        "id": "l6ZKdV9qnUPq",
        "outputId": "236e1b08-caee-4f14-aae5-bf95fbd297f1"
      },
      "execution_count": 43,
      "outputs": [
        {
          "output_type": "stream",
          "name": "stdout",
          "text": [
            "Collecting sentence-transformers\n",
            "  Downloading sentence_transformers-3.2.0-py3-none-any.whl.metadata (10 kB)\n",
            "Requirement already satisfied: transformers<5.0.0,>=4.41.0 in /usr/local/lib/python3.10/dist-packages (from sentence-transformers) (4.44.2)\n",
            "Requirement already satisfied: tqdm in /usr/local/lib/python3.10/dist-packages (from sentence-transformers) (4.66.5)\n",
            "Requirement already satisfied: torch>=1.11.0 in /usr/local/lib/python3.10/dist-packages (from sentence-transformers) (2.4.1+cu121)\n",
            "Requirement already satisfied: scikit-learn in /usr/local/lib/python3.10/dist-packages (from sentence-transformers) (1.5.2)\n",
            "Requirement already satisfied: scipy in /usr/local/lib/python3.10/dist-packages (from sentence-transformers) (1.13.1)\n",
            "Requirement already satisfied: huggingface-hub>=0.20.0 in /usr/local/lib/python3.10/dist-packages (from sentence-transformers) (0.24.7)\n",
            "Requirement already satisfied: Pillow in /usr/local/lib/python3.10/dist-packages (from sentence-transformers) (10.4.0)\n",
            "Requirement already satisfied: filelock in /usr/local/lib/python3.10/dist-packages (from huggingface-hub>=0.20.0->sentence-transformers) (3.16.1)\n",
            "Requirement already satisfied: fsspec>=2023.5.0 in /usr/local/lib/python3.10/dist-packages (from huggingface-hub>=0.20.0->sentence-transformers) (2024.6.1)\n",
            "Requirement already satisfied: packaging>=20.9 in /usr/local/lib/python3.10/dist-packages (from huggingface-hub>=0.20.0->sentence-transformers) (24.1)\n",
            "Requirement already satisfied: pyyaml>=5.1 in /usr/local/lib/python3.10/dist-packages (from huggingface-hub>=0.20.0->sentence-transformers) (6.0.2)\n",
            "Requirement already satisfied: requests in /usr/local/lib/python3.10/dist-packages (from huggingface-hub>=0.20.0->sentence-transformers) (2.32.3)\n",
            "Requirement already satisfied: typing-extensions>=3.7.4.3 in /usr/local/lib/python3.10/dist-packages (from huggingface-hub>=0.20.0->sentence-transformers) (4.12.2)\n",
            "Requirement already satisfied: sympy in /usr/local/lib/python3.10/dist-packages (from torch>=1.11.0->sentence-transformers) (1.13.3)\n",
            "Requirement already satisfied: networkx in /usr/local/lib/python3.10/dist-packages (from torch>=1.11.0->sentence-transformers) (3.4)\n",
            "Requirement already satisfied: jinja2 in /usr/local/lib/python3.10/dist-packages (from torch>=1.11.0->sentence-transformers) (3.1.4)\n",
            "Requirement already satisfied: numpy>=1.17 in /usr/local/lib/python3.10/dist-packages (from transformers<5.0.0,>=4.41.0->sentence-transformers) (1.26.4)\n",
            "Requirement already satisfied: regex!=2019.12.17 in /usr/local/lib/python3.10/dist-packages (from transformers<5.0.0,>=4.41.0->sentence-transformers) (2024.9.11)\n",
            "Requirement already satisfied: safetensors>=0.4.1 in /usr/local/lib/python3.10/dist-packages (from transformers<5.0.0,>=4.41.0->sentence-transformers) (0.4.5)\n",
            "Requirement already satisfied: tokenizers<0.20,>=0.19 in /usr/local/lib/python3.10/dist-packages (from transformers<5.0.0,>=4.41.0->sentence-transformers) (0.19.1)\n",
            "Requirement already satisfied: joblib>=1.2.0 in /usr/local/lib/python3.10/dist-packages (from scikit-learn->sentence-transformers) (1.4.2)\n",
            "Requirement already satisfied: threadpoolctl>=3.1.0 in /usr/local/lib/python3.10/dist-packages (from scikit-learn->sentence-transformers) (3.5.0)\n",
            "Requirement already satisfied: MarkupSafe>=2.0 in /usr/local/lib/python3.10/dist-packages (from jinja2->torch>=1.11.0->sentence-transformers) (3.0.1)\n",
            "Requirement already satisfied: charset-normalizer<4,>=2 in /usr/local/lib/python3.10/dist-packages (from requests->huggingface-hub>=0.20.0->sentence-transformers) (3.4.0)\n",
            "Requirement already satisfied: idna<4,>=2.5 in /usr/local/lib/python3.10/dist-packages (from requests->huggingface-hub>=0.20.0->sentence-transformers) (3.10)\n",
            "Requirement already satisfied: urllib3<3,>=1.21.1 in /usr/local/lib/python3.10/dist-packages (from requests->huggingface-hub>=0.20.0->sentence-transformers) (2.2.3)\n",
            "Requirement already satisfied: certifi>=2017.4.17 in /usr/local/lib/python3.10/dist-packages (from requests->huggingface-hub>=0.20.0->sentence-transformers) (2024.8.30)\n",
            "Requirement already satisfied: mpmath<1.4,>=1.1.0 in /usr/local/lib/python3.10/dist-packages (from sympy->torch>=1.11.0->sentence-transformers) (1.3.0)\n",
            "Downloading sentence_transformers-3.2.0-py3-none-any.whl (255 kB)\n",
            "\u001b[2K   \u001b[90m━━━━━━━━━━━━━━━━━━━━━━━━━━━━━━━━━━━━━━━━\u001b[0m \u001b[32m255.2/255.2 kB\u001b[0m \u001b[31m3.2 MB/s\u001b[0m eta \u001b[36m0:00:00\u001b[0m\n",
            "\u001b[?25hInstalling collected packages: sentence-transformers\n",
            "Successfully installed sentence-transformers-3.2.0\n"
          ]
        }
      ]
    },
    {
      "cell_type": "markdown",
      "source": [
        "- model = '' : 사용할 모델 지정.\n",
        "- model_kwargs={'device':'cpu'} : 모델이 CPU에서 실행되도록 설정. GPU를 사용할 수 있는 환경이라면 'cuda'로 설정할 수 있음"
      ],
      "metadata": {
        "id": "uDSUpFvZnbET"
      }
    },
    {
      "cell_type": "markdown",
      "source": [
        "# Vector Store\n",
        "\n",
        "벡터 저장소는 벡터 형태로 표현된 데이터, 즉 임베딩 벡터들을 효율적으로 저장하고 검색할 수 있는 시스템이나 데이터베이스를 의미함. 자연어 처리(NLP), 이미지 처리, 그리고 기타 다양한 머신러닝 응용 분야에서 생성된 고차원 벡터 데이터를 관리하기 위해 설계되었다. 벡터 저장소의 핵심 기능은 대규모 벡터 데이터셋에서 빠른 속도로 가장 유사한 항목을 찾아내는 것.\n",
        "\n",
        "\n",
        "1. 벡터 저장\n",
        "- 임베딩 벡터는 텍스트, 이미지, 소리 등 다양한 형태의 데이터를 벡터 공간에 매핑한 것으로, 데이터의 의미적, 시각적, 오디오적 특성을 수치적으로 표현. 이러한 벡터를 효율적으로 저장하기 위해서는 고차원 벡터를 처리할 수 있도록 최적화된 데이터 저장구조가 필요하다.\n",
        "\n",
        "2. 벡터 검색\n",
        "- 저장된 벡터들 중에서 사용자의 쿼리에 가장 유사한 벡터를 빠르게 찾아내는 과정. 이를 위해 코사인 유사도, 유클리드 거리, 맨해튼 거리 등 다양한 유사도 측정 방법을 사용할 수 있다. 코사인 유사도는 방향성을 기반으로 유사도를 측정하기 때문에 텍스트 임베딩 검색에 특히 자주 사용.\n",
        "\n",
        "3. 결과 반환\n",
        "- 사용자의 쿼리에 대해 계산된 유사도 점수를 기반으로 가장 유사한 항목들을 순서대로 사용자에게 반환. 유사도 점수뿐만 아니라, 검색 결과의 관련성, 다양성, 신뢰도 등 다른 요소들을 고려할 수 있음.\n",
        "\n",
        "\n",
        "벡터 저장소는 Faiss(Facebook AI Similarity Search), Chroma, Elasticsearch, Pinecone 등 다양한 오픈 소스 및 상용 솔루션이 있으며, 각각의 특성과 성능이 다르기 때문에 사용 목적에 따라 적합한 도구를 선택해야 함."
      ],
      "metadata": {
        "id": "lNTSJ1JXOU4p"
      }
    },
    {
      "cell_type": "markdown",
      "source": [
        "## Chroma\n",
        "\n",
        "Chroma는 임베딩 벡터를 저장하기 위한 오픈소스 소프트웨어로, LLM(대규모 언어 모델) 앱 구축을 용이하게 하는 핵심 기능을 수행\n",
        "\n",
        "- 임베딩 및 메타데이터 저장: 대규모의 임베딩 데이터와 이와 관련된 메타데이터를 효율적으로 저장.\n",
        "- 문서 및 쿼리 임베딩: 텍스트 데이터를 벡터 공간에 매핑하여 임베딩을 생성할 수 있으며, 검색 작업 가능.\n",
        "- 임베딩 검색: 사용자 쿼리에 기반하여 가장 관련성 높은 임베딩을 찾아내는 검색 기능 제공."
      ],
      "metadata": {
        "id": "9BjKUXonPTnl"
      }
    },
    {
      "cell_type": "markdown",
      "source": [
        "### 유사도 기반 검색\n",
        "\n",
        "Chroma 벡터 저장소를 사용하여 대규모 텍스트 데이터셋에서 빠르고 효율적으로 유사도 기반 검색(Similarity search)을 수행.\n",
        "\n",
        "1. 텍스트 데이터 로드\n",
        "- TextLoader 클래스를 사용해 history.txt 파일에서 텍스트 데이터를 로드\n",
        "- 로드된 데이터는 data 변수에 저장\n",
        "\n",
        "2. 텍스트 분할\n",
        "- RecursiveCharacterTextSplitter를 사용하여 로드된 텍스트를 여러 개의 작은 조각으로 분할\n",
        "- 분할된 텍스트 조각들은 texts 변수에 저장"
      ],
      "metadata": {
        "id": "_uhvC-WAPn4k"
      }
    },
    {
      "cell_type": "code",
      "source": [
        "from langchain_community.document_loaders import TextLoader\n",
        "from langchain_text_splitters import RecursiveCharacterTextSplitter\n",
        "from langchain_openai import OpenAIEmbeddings\n",
        "from langchain_community.vectorstores import Chroma\n",
        "\n",
        "loader = TextLoader('history.txt')\n",
        "data = loader.load()\n",
        "\n",
        "text_splitter = RecursiveCharacterTextSplitter.from_tiktoken_encoder(\n",
        "    chunk_size=250,\n",
        "    chunk_overlap=50,\n",
        "    encoding_name='cl100k_base'\n",
        ")\n",
        "\n",
        "texts = text_splitter.split_text(data[0].page_content)\n",
        "texts[0]\n"
      ],
      "metadata": {
        "colab": {
          "base_uri": "https://localhost:8080/",
          "height": 90
        },
        "id": "ThYADGBWQUI0",
        "outputId": "134d570c-6337-45e9-9a4d-475313044422"
      },
      "execution_count": 44,
      "outputs": [
        {
          "output_type": "execute_result",
          "data": {
            "text/plain": [
              "'한국의 역사는 수천 년에 걸쳐 이어져 온 긴 여정 속에서 다양한 문화와 전통이 형성되고 발전해 왔습니다. 고조선에서 시작해 삼국 시대의 경쟁, 그리고 통일 신라와 고려를 거쳐 조선까지, 한반도는 많은 변화를 겪었습니다.\\n\\n고조선은 기원전 2333년 단군왕검에 의해 세워졌다고 전해집니다. 이는 한국 역사상 최초의 국가로, 한민족의 시원이라 할 수 있습니다. 이후 기원전 1세기경에는 한반도와 만주 일대에서 여러 소국이 성장하며 삼한 시대로 접어듭니다.'"
            ],
            "application/vnd.google.colaboratory.intrinsic+json": {
              "type": "string"
            }
          },
          "metadata": {},
          "execution_count": 44
        }
      ]
    },
    {
      "cell_type": "markdown",
      "source": [
        "3. 임베딩 모델 초기화\n",
        "- OpenAIEmbeddings를 사용하여 OpenAI 임베딩 모델의 인스턴스 생성. 이 단계에서 Huggingface 또는 다른 임베딩 모델을 사용가능.\n",
        "\n",
        "4. Chroma 벡터 저장소 생성\n",
        "- Chroma.from_texts 메소드를 사용하여 분할된 텍스트들을 임베딩하고, 이 임베딩을 Chroma 벡터 저장소에 저장\n",
        "- 저장소는 collection_name으로 구분되며, 여기서는 'history'라는 이름사용\n",
        "- 저장된 데이터는 ./db/chromadb 디렉토리에 저장\n",
        "- collection_metadata에서 'hnsw:space': 'cosine'을 설정하여 유사도 계산에 코사인 유사도를 사용\n"
      ],
      "metadata": {
        "id": "qp98xmmzQXCf"
      }
    },
    {
      "cell_type": "code",
      "source": [
        "embeddings_model = OpenAIEmbeddings()\n",
        "db = Chroma.from_texts(\n",
        "    texts,\n",
        "    embeddings_model,\n",
        "    collection_name = 'history',\n",
        "    persist_directory = './db/chromadb',\n",
        "    collection_metadata = {'hnsw:space': 'cosine'}, # l2 is the default\n",
        ")\n",
        "\n",
        "db"
      ],
      "metadata": {
        "colab": {
          "base_uri": "https://localhost:8080/"
        },
        "id": "d6WGgsRDQ46L",
        "outputId": "d47ce08f-0bb0-481a-c3b8-2974c406bc28"
      },
      "execution_count": 45,
      "outputs": [
        {
          "output_type": "execute_result",
          "data": {
            "text/plain": [
              "<langchain_community.vectorstores.chroma.Chroma at 0x7822ee69b730>"
            ]
          },
          "metadata": {},
          "execution_count": 45
        }
      ]
    },
    {
      "cell_type": "markdown",
      "source": [
        "5. 유사도 기반 검색 수행\n",
        "- query 변수에 검색 쿼리 정의\n",
        "- db.similarity_search 메소드를 사용하여 저장된 데이터 중에서 쿼리와 가장 유사한 문서 찾기\n",
        "- 검색 결과를 docs 변수에 저장하고, 가장 유사한 문서의 내용은 docs[0].page_content를 통해 확인"
      ],
      "metadata": {
        "id": "JQAO8MqfQ79K"
      }
    },
    {
      "cell_type": "code",
      "source": [
        "query = '누가 한글을 창제했나요?'\n",
        "docs = db.similarity_search(query)\n",
        "print(docs[0].page_content)"
      ],
      "metadata": {
        "colab": {
          "base_uri": "https://localhost:8080/"
        },
        "id": "vEUc3foKRHZs",
        "outputId": "3f7fcf43-7026-423e-e97c-81f206b69ee1"
      },
      "execution_count": 46,
      "outputs": [
        {
          "output_type": "stream",
          "name": "stdout",
          "text": [
            "조선은 1392년 이성계에 의해 건국되어, 1910년까지 이어졌습니다. 조선 초기에는 세종대왕이 한글을 창제하여 백성들의 문해율을 높이는 등 문화적, 과학적 성취가 이루어졌습니다. 그러나 조선 후기에는 내부적으로 실학의 발전과 함께 사회적 변화가 모색되었으나, 외부로부터의 압력은 점차 커져만 갔습니다.\n"
          ]
        }
      ]
    },
    {
      "cell_type": "markdown",
      "source": [
        "### MMR(Maximum marginal relevance search)\n",
        "\n",
        "유사성과 다양성의 균형을 맞추어 검색 결과의 품질을 향상시키는 알고리즘\n",
        "\n",
        "검색 쿼리에 대한 문서들의 관련성을 최대화하는 동시에, 검색된 문서들 사이의 중복성을 최소화하여, 사용자에게 다양하고 풍부한 정보를 제공하는 것을 목표로 함.\n",
        "\n",
        "<작동원리>\n",
        "\n",
        "MMR은 쿼리에 대한 각 문서의 유사성 점수와 이미 선택된 문서들과의 다양성(또는 차별성) 점수를 조합하여, 각 문서의 최종 점수를 계산. 이 최종 점수에 기반하여 문서를 선택. MMR은 다음과 같이 정의될 수 있다:\n",
        "![image.png](data:image/png;base64,iVBORw0KGgoAAAANSUhEUgAAAzoAAAB+CAYAAADskGRTAAAKvGlDQ1BJQ0MgUHJvZmlsZQAASImVlwdUU0kXx+e99AaEhAhICb0J0gkgJfQASq+iEpIQAiHGhNDEzqKCa0FFBMuKroooWGl2LFhYFBv2BVkUlHWxYENlH3AIu/u1891z5szv3XfnP3fmzLxzHwAUc65UKobVAMiUZMkiA32Y8QmJTFwfIAIKoAJ3oMHlyaXs8PBQgNhE/3f7cA9Ao/1t61Gtf33/X43KF8h5AEDhCKfw5bxMhI8DAMM8qSwLAFQj4jfKyZKO8mOE6TIkQYQHR1k4xmj0KKeMs+ZYTHSkL8LTAMCTuVyZEAAyC/Ezs3lCRIccj7CthC+SILwKYc/MzPl8hK8gbI7ESBEe1Wel/EVH+DfNFKUmlytU8vhaxgzvJ5JLxdy8/3M7/rdlihUTc5ghjZwmC4pEej1k337LmB+iZEnKrLAJFvHH4sc4TREUM8E8uW/iBMvFUZwJ5nP9QpQ64lmhE5wqClDGiLI40RMskPtHTbBsfqRy3lSZL3uCubLJHBQZMUp/moCj1M9Pi46b4GxR7CxlbhlRIZMxvkq/TBGpXItAEugzOW+Ach8y5X9Zu4ijHJuVFh2k3AfuZP4CCXtSUx6vzI0v8POfjIlRxkuzfJRzScXhyniBOFDpl2dHKcdmIYdzcmy4cg/TucHhEwyigAjwgQDwABfIABP4Ic9yIAVi5Bk5UlmC3KzRRfnOl+bJRMK0LCYbuXkCJkfCs5nGtLe1dwRg9B6PH5N3EWP3E2K0TfpW/AqAx9mRkZGTk77gswAccQGA2DTpM0fONZUEwJUmnkKWPe4bvW4Ag3whVAEdaCEZGwFzYA3sgTPyvfAG/iAYhIFokADmIvmngUxkBTmgACwDRaAErAebQQXYCXaD/eAQOAoawClwHlwG18FNcBc8Al2gF7wCg+ADGIYgCAdRIBqkBelDJpAVZA+xIE/IHwqFIqEEKBkSQhJIARVAK6ASqBSqgHZB1dARqAk6D12FOqAHUDfUD72FvsAomAzTYV3YFJ4Os2A2HAJHw3NgIbwAzocL4bVwOVwFH4Tr4fPwdfgu3AW/godQAEVCMVAGKGsUC+WLCkMlolJRMtRiVDGqDFWFqkU1o1pRt1FdqAHUZzQWTUMz0dZod3QQOgbNQy9AL0avQVeg96Pr0RfRt9Hd6EH0dwwFo4OxwrhhOJh4jBCTgynClGH2Yk5gLmHuYnoxH7BYLANrhnXBBmETsOnYhdg12O3YOuw5bAe2BzuEw+G0cFY4D1wYjovLwhXhtuIO4s7ibuF6cZ/wJLw+3h4fgE/ES/DL8WX4A/gz+Fv4F/hhghrBhOBGCCPwCXmEdYQ9hGbCDUIvYZhIJZoRPYjRxHTiMmI5sZZ4ifiY+I5EIhmSXEkRJBFpKamcdJh0hdRN+kxWJ1uSfclJZAV5LXkf+Rz5AfkdhUIxpXhTEilZlLWUasoFylPKJxWaio0KR4WvskSlUqVe5ZbKa1WCqokqW3Wuar5qmeox1RuqA2oENVM1XzWu2mK1SrUmtU61ISqNakcNo2ZS11APUK9S+9Rx6qbq/up89UL13eoX1HtoKJoRzZfGo62g7aFdovXSsXQzOoeeTi+hH6K30wc11DUcNWI1cjUqNU5rdDFQDFMGhyFmrGMcZdxjfJmiO4U9RTBl9ZTaKbemfNScqumtKdAs1qzTvKv5RYup5a+VobVBq0HriTZa21I7QjtHe4f2Je2BqfSp7lN5U4unHp36UAfWsdSJ1Fmos1unTWdIV083UFequ1X3gu6AHkPPWy9db5PeGb1+fZq+p75If5P+Wf2XTA0mmylmljMvMgcNdAyCDBQGuwzaDYYNzQxjDJcb1hk+MSIasYxSjTYZtRgNGusbzzQuMK4xfmhCMGGZpJlsMWk1+WhqZhpnutK0wbTPTNOMY5ZvVmP22Jxi7mW+wLzK/I4F1oJlkWGx3eKmJWzpZJlmWWl5wwq2crYSWW236piGmeY6TTKtalqnNdmabZ1tXWPdbcOwCbVZbtNg83q68fTE6Rumt07/butkK7bdY/vITt0u2G65XbPdW3tLe559pf0dB4pDgMMSh0aHN45WjgLHHY73nWhOM51WOrU4fXN2cZY51zr3uxi7JLtsc+lk0VnhrDWsK64YVx/XJa6nXD+7ObtluR11+8Pd2j3D/YB73wyzGYIZe2b0eBh6cD12eXR5Mj2TPX/y7PIy8OJ6VXk98zby5nvv9X7BtmCnsw+yX/vY+sh8Tvh89HXzXeR7zg/lF+hX7Nfur+4f41/h/zTAMEAYUBMwGOgUuDDwXBAmKCRoQ1AnR5fD41RzBoNdghcFXwwhh0SFVIQ8C7UMlYU2z4RnBs/cOPPxLJNZklkNYSCME7Yx7Em4WfiC8JMR2IjwiMqI55F2kQWRrVG0qHlRB6I+RPtEr4t+FGMeo4hpiVWNTYqtjv0Y5xdXGtcVPz1+Ufz1BO0EUUJjIi4xNnFv4tBs/9mbZ/cmOSUVJd2bYzYnd87VudpzxXNPz1Odx513LBmTHJd8IPkrN4xbxR1K4aRsSxnk+fK28F7xvfmb+P0CD0Gp4EWqR2ppap/QQ7hR2J/mlVaWNiDyFVWI3qQHpe9M/5gRlrEvY0QcJ67LxGcmZzZJ1CUZkovz9ebnzu+QWkmLpF0L3BZsXjAoC5HtlUPyOfLGLDpSMLUpzBU/KLqzPbMrsz/lxOYcy6XmSnLb8izzVue9yA/I/3kheiFvYUuBQcGygu5F7EW7FkOLUxa3LDFaUrikd2ng0v3LiMsylv2y3HZ56fL3K+JWNBfqFi4t7Pkh8IeaIpUiWVHnSveVO1ehV4lWta92WL119fdifvG1EtuSspKva3hrrv1o92P5jyNrU9e2r3Net2M9dr1k/b0NXhv2l1JL80t7Ns7cWL+Jual40/vN8zZfLXMs27mFuEWxpas8tLxxq/HW9Vu/VqRV3K30qazbprNt9baP2/nbb+3w3lG7U3dnyc4vP4l+ur8rcFd9lWlV2W7s7uzdz/fE7mn9mfVz9V7tvSV7v+2T7OvaH7n/YrVLdfUBnQPrauAaRU3/waSDNw/5HWqsta7dVceoKzkMDisOvzySfOTe0ZCjLcdYx2qPmxzfdoJ2orgeqs+rH2xIa+hqTGjsaApuaml2bz5x0ubkvlMGpypPa5xed4Z4pvDMyNn8s0PnpOcGzgvP97TMa3l0If7CnYsRF9svhVy6cjng8oVWduvZKx5XTl11u9p0jXWt4brz9fo2p7YTvzj9cqLdub3+hsuNxpuuN5s7ZnScueV16/xtv9uX73DuXL87627HvZh79zuTOrvu8+/3PRA/ePMw++Hwo6WPMY+Ln6g9KXuq87TqV4tf67qcu053+3W3PYt69qiH1/PqN/lvX3sLn1Oel73Qf1HdZ993qj+g/+bL2S97X0lfDQ8U/U79fdtr89fH//D+o20wfrD3jezNyNs177Te7Xvv+L5lKHzo6YfMD8Mfiz9pfdr/mfW59UvclxfDOV9xX8u/WXxr/h7y/fFI5siIlCvjjpUCKKTBqakAvN0HACUBANpNpH6YPV5njxk0/m8wRuA/8XgtPmbOANTSAYgYQKqbTgAO7wHAFNFXTQIgnAJAtCuAHRyUbaImHqvfAeBypWJROJdfMrJ7C/g3Nl7b/yXvf/ZgVNUR/LP/E0bDE0RwVTzwAAAAimVYSWZNTQAqAAAACAAEARoABQAAAAEAAAA+ARsABQAAAAEAAABGASgAAwAAAAEAAgAAh2kABAAAAAEAAABOAAAAAAAAAJAAAAABAAAAkAAAAAEAA5KGAAcAAAASAAAAeKACAAQAAAABAAADOqADAAQAAAABAAAAfgAAAABBU0NJSQAAAFNjcmVlbnNob3QMpkX9AAAACXBIWXMAABYlAAAWJQFJUiTwAAAB1mlUWHRYTUw6Y29tLmFkb2JlLnhtcAAAAAAAPHg6eG1wbWV0YSB4bWxuczp4PSJhZG9iZTpuczptZXRhLyIgeDp4bXB0az0iWE1QIENvcmUgNi4wLjAiPgogICA8cmRmOlJERiB4bWxuczpyZGY9Imh0dHA6Ly93d3cudzMub3JnLzE5OTkvMDIvMjItcmRmLXN5bnRheC1ucyMiPgogICAgICA8cmRmOkRlc2NyaXB0aW9uIHJkZjphYm91dD0iIgogICAgICAgICAgICB4bWxuczpleGlmPSJodHRwOi8vbnMuYWRvYmUuY29tL2V4aWYvMS4wLyI+CiAgICAgICAgIDxleGlmOlBpeGVsWURpbWVuc2lvbj4xMjY8L2V4aWY6UGl4ZWxZRGltZW5zaW9uPgogICAgICAgICA8ZXhpZjpQaXhlbFhEaW1lbnNpb24+ODI2PC9leGlmOlBpeGVsWERpbWVuc2lvbj4KICAgICAgICAgPGV4aWY6VXNlckNvbW1lbnQ+U2NyZWVuc2hvdDwvZXhpZjpVc2VyQ29tbWVudD4KICAgICAgPC9yZGY6RGVzY3JpcHRpb24+CiAgIDwvcmRmOlJERj4KPC94OnhtcG1ldGE+Co4pOxQAAAAcaURPVAAAAAIAAAAAAAAAPwAAACgAAAA/AAAAPwAALSeTpOCXAAAs80lEQVR4AexdB7wURdIvE6J4hlPP/BnOiATJUXIOkrNkQaIkQUBAJIMkFQQkSM5BBMkZA6iYT089RUHBiGAADLhf/fvR/XqXmdmZ3X2yb6n6/d6bmZ6enu7/9HZ3ha46K8REQoKAICAICAKCgCAgCAgCgoAgIAikEAJnCaOTQl9TmiIICAKCgCAgCAgCgoAgIAgIAgoBYXSkIwgCgoAgIAgIAoKAICAICAKCQMohIIxOyn1SaZAgIAgIAoKAICAICAKCgCAgCAijI31AEBAEBAFBQBAQBAQBQUAQEARSDgFhdFLuk0qDBAFBQBAQBAQBQUAQEAQEAUFAGB3pA4KAICAICAKCgCAgCAgCgoAgkHIICKOTcp9UGiQICAKCgCAgCAgCgoAgIAgIAsLoSB8QBAQBQUAQEAQEAUFAEBAEBIGUQ0AYnZT7pNIgQUAQEAQEAUFAEBAEBAFBQBAQRkf6gCAgCAgCgoAgIAgIAoKAICAIpBwCwuik3CeVBgkCgoAgIAgIAoKAICAICAKCgDA60gcEAUFAEBAEBAFBQBAQBAQBQSDlEBBGJ+U+qTRIEBAEBAFBQBAQBAQBQUAQEASE0ZE+IAgIAoKAICAICAKCgCAgCAgCKYeAMDop90mlQYKAICAICAKCgCAgCAgCgoAgIIyO9AFBQBAQBAQBQUAQEAQEAUFAEEg5BITRSblPKg0SBAQBQUAQEAQEAUFAEBAEBAFhdKQPCAKCgCAgCAgCgoAgIAgIAoJAyiEgjE7KfVJpkCAgCAgCgoAgIAgIAoKAICAICKMjfUAQEAQEAUFAEBAEBAFBQBAQBFIOAWF0Uu6TSoMEAUFAEBAEBAFBQBAQBAQBQUAYHekDgoAgIAgIAoKAICAICAKCgCCQcggIo5Nyn1QaJAgIAoKAICAICAKCgCAgCAgCwuhIHxAEBAFBQBAQBAQBQUAQEAQEgZRDQBidlPuk0iBBQBAQBAQBQUAQEAQEAUFAEBBGR/qAICAICAKCgCAgCAgCgoAgIAikHALC6KTcJ5UGCQKCgCAgCAgCgoAgIAgIAoKAMDrSBwQBQUAQEAQEAUFAEBAEBAFBIOUQEEYn5T6pNEgQEAQEAUFAEBAEBAFBQBAQBITRkT4gCAgCgoAgIAgIAoKAICAICAIph4AwOin3SaVBgoAgIAgIAoKAICAICAKCgCAgjI70AUFAEBAEBAFBQBAQBAQBQUAQSDkEhNFJuU8qDRIEBAFBQBAQBAQBQUAQEAQEAWF0pA8IAoKAICAICAKCgCAgCAgCgkDKISCMTsp9UmmQICAICAKCgCAgCAgCgoAgIAgIoyN9QBAQBAQBQUAQEAQEAUFAEBAEMgyBEydO0LwFiyhbtmxUrUolOv/88zPsXXbBwujYaMi5ICAICAKCgCAgCAgCgoAgIAgkFIEpU2fQmHFPqTIfbNOKenR7KKHluxUmjI4bMpIuCAgCGYrAO+++R9t3vETtH3yAzjvvvAx9V2Yv/MDBr2nJ0uXUqEE9+te/rszszcmQ+r+4Zh398suv1KB+nQwpXwr1RuCvv/6iSVOmUZHChShvntzemeWuIHAGISBjU9rHrt+oGb39zrvqokzpkjR54pPq/PU39nD6e9SiWZMMWQsIo3MG/dikqYJAsiCw86VXqEPnblS5UgUaNXxwslQraevx66+/Ur2GTdVCft7s6XTDDdcnbV1PR8UmPDOFnpowiYYNGUh1a9c8HVWQdzICvXr3ozXrNtBT454gLGSEBIEzHQEZm9J6AIRQBYqUIJivgcaNHkFV2XwN9PHHn6j5LXfunDR18oSEm7QJo6Ngln/JhMAff/xBWAhfeeUVdPtttya80//dbf3ss7304tr19MUX++jPP/9UEvmrrvoXlS1Tmm668f9MdX788TD17TeQxo4eThdccIFJT7WTzxmHuvWb0NVXX0VLF82jrFkTY6eLAfTIkZ/o0I8/0qFDP3K/yUK5c+U8rfB9+eVX9Oru13gg/x/t27+fIPWG9uqe3LmoYoVydOP/3eC7fp9yP6pdr7HCbfGC2XTJxRf7fjaVM65dv5G6dOupGBwwOkLBEPj+hx8I2tWbbrxR/Z1zztnBCrByHzt+nOo1uJ/27/+S5s2eQTlyZLfuymkqIxAKhWj3a2/Qth076eCBg5QlSxbCPHfddddSlcoVw8arPW++RatZA/tYvz6pDAll1NiUjHMdPuTvv/9Ohw8fMXMwvr2e47Zt30lt23dW3/vSSy+hl7ZtVH1Ed4DnX1itBCXoK2CCzjrrLH0r7qMro7Nx0xYaMmxU2AvwXrz8rLPPVpN1vz696N7iRcPyBLnA4PpI3wEKnBAvAPBDAZ08qPNuXTtRzfuqUbLV53+ffkat23RQdXT6p7BinBRefHH2Sdzw4//nZZcRONdq/EHvuON2p8fP6DTd4QECJt1bb72Vhjze/7QvWoN+lCM//URDho6klateNI+ec845RqJxNvePShXLU88eXem6a6+hDp260qYt22j3y9vosssuNc/YJ5Dsf8SL5jz35EroQGC/IyPPtWbiK54Ily+ZT/++5ea4X/dwr760eet2Qtk2FS1SiGZOn2In/W3n+OYLFi6mN996R70T4wBMzsDofPfd96Ye+P03b9rYtxbihdVrCO0tVDA/zZg6KUPU/KZymeDko48+pvqNm9MN118XM9N89OhR+pa/iS10yARNT1gVIVxZuvx5Vd4FWbNS/vx5aSRrWa+4/PKY3rF37+dUixnybBdeSEsWzaVrr7k6pnLkocyDAIQw0Oa99/5/TKUxd5848Ze6xubzxg3rUeeO7QmCzOo166oN6S++sMzkjzzJ7HNdIsamSEySca777bffqEadhvTVVwcI5zZ169JJmaYjbeQT42j6c7PU7ZbN76c+jzxsZ1Xnjw4YpEy027V9gLrz2j9R5MrogBMdMHCIkkAfP37MdFj7xSWKF6Npz060kwKd9+jVh1atXnvKM1gAQqJ97rnnUu9e3alOrRqKM06m+nz8yf+oSbPWvHA5QUePAp80dZzdGCxqs/LEcS4ff/v9Nzp+PLwTIO9tt/6bmjRuwINAffvRM/pcS4ZGj32S3n3vfYUFJuApk56iwoUKZgpssJit37iZ+vFfcskl9DBvuiterAhdw5P+559/wRLU92n7zpdoDWt6sKCoWaMaTZuRNgi4MTpgAAcMHKz6EaQki+bPpn/+87JMgQcqie/a8aHutGnzVho1YogSYCSi8tVq1qP9+/YTpMk2de7YjifWdnZShp/j2/bnbwTJJqhcmVJUp05NurdYUSO9ggof3/3Jp5+h775PY3qaNKpP/fo+woz9Oeo5r38of9HiZdxnqp/RZn+QHNau35h++OEQrWCm+ZYYmGYszHryAu3or0dpx9b1XrCn7D0sTtZv3EzDR4ymHw4dUu2EaeSCOc/FvB9s9YtrqXvPPkojv3DeLLroomwpi9+Z3rBdrLFu066zWuRiPQPBXa6cOegf/7iIPvzvR/Quz3UQ0GBvBjTsYHyxvkReN0Yns891iRibnPpVMs11un5gcGrWbcTr4KOKidXpOM6dNZ0KFsinkjBWv//+B+p87eoVjkJOjEUw0f4vC7ASaobMi4+oxOY2ofFPTQzddlfuUL6CxdUR53fcnSf09dffRH3eKQNLu0M57ikYqli1pikPZT72+NAQ3udFyVYfltKGVq1eE9aO/IXuDR0+ciSsGcwMqTRe4IZGPjE2dHfuAuaZTl16hH755Zew/Gf6BUv9Q/fkL2owatrigUwByfHjx0M16zRU9S5SvEzo22+/c6335i3bQrnyFDJtxG+Aza4c81etUTcs34yZcxzzJWvi0xMnq/o3ur9lhlSRmeIwfF7d9VqGvMepUJZShiZOetb8ptkWObRl63anrCbtm2++DaF/4Jvjr1nLtqFjx46b+24nLOk04zCbA7hlS+l0jKXNW7VVuGFuCkIYZ9et3xhq0qyVwf7eUhWCFJGSedlqwuCB/ojfazykvw/mOqHURIC1d2Yswvdm0yXHhuL3ynvowvpXleq1HfMiMTPPdfGMTa6ARNw4nXNdRFXCLqdOn2m+cfZc+UNYC4F+/vmX0J058qh7DZu0CHsm8mLPnrdUvlx5C4fYrDbydkzXkLL6IizIMPg9PmS4aQiuJ0+Z5uv5yExz5y8K5cxTUA2mKEf/saQyMqvjdbLVZ9++/aYNaEuZClUd620nsjQxVLREWfNc+cr3hTBwCKUjYPe327PfEzpw8GD6zSQ9mztvofmm7G0lai1Z+mnyo++4MToFi5YMy5eZFhAsdTdMABZUGUHsucXgc1fOfL6YhkTU48uvDoSq3lfHvPv+5q19C4BY82MmAHz7yc9O91WlUaPHqfeBoYag5UwjPf5DWMRasajNBzOECdZmLPWcg6MwOmkQ2v24fKXqUXH1yrB9x07VRzHPf/udu7DHqwy5l9wIdO7ysPrGEFrzfsSolWWrHDNOejE6mXmuCzo2RQXNIcPpmuscqhKWxI4XzPdt0KS5uafHAoy1K1auMuluJ3XqN1HlDB0+yi1LoPTAjA4YkVr1GpnGxDoYoowePfuEZs2ZZ8oCCEEZnWSpTySj4xeXZ6c9F9b++2rVj6rRCvSFM3lmVneH4cN+2JO6RVh0lipXWdUZGk8/Eno0iDfpmXa6MTpaI4LfCTSGbAOc1FjYlXtm8lTVvrIVqoUg8coIgkYF2OCvQeNmGfGKU8rE775E6YrmvV269wrcPlvSmbdgsRA7pTjlPZEJB7/+mhmkvOq90E6caaS1Bb37DvDVdJ0f2tNadRuFRo97KtS0RRvz3YTRSYMR46v+DeGI8TdWwlhY6aTFBgRWQqmFAMY+zHHoJ/UbNfXVOMyHhYqVUs94MTqZea7TY43fsckXcBGZTsdcF1EFx0tYJejxY8y4p00e3oag0rFu0Voec9PhBAJilAMGOlarMbvYwIzO4iXLQrbEGpWBqikIYYGG515+ZVdoztwFBhikBWV0kqU+kYxOhSo1fEECaaQeLNB+/MEMTigdATCNGhtIHJOZ8KPUdS1dvorvqu7a/bp5zo3RQWGf/O/TEDQihw9HXwz7fnkGZ4RZV7GS5VT78HvPKNITDPDHQjajCVJqzdTineinsZifRo4dw0Y84avq3Xv2VphWrlYrMHPl6wVJmon3R5rfil9mHxpFmEvb1OfRx0w5YFaFQiEw0PZ8FC+Dgvkcvw2YscAUWSh1EGCHK+b3E2RRrwU7XowOUMqMc10sY1MsPeLvnuv81BHzvG2Gz55zzWNghDEOsIMzk+Z1gu0pJcukCRChBYyXYmJ0sMiy95f07f94oHoMGzlaNQKS3UQwOslQn8jFCvYe+SVwuegE+g9SYaF0BGzpDjDiDY7pN5PsDPtC9HeExB22qX4I0k+9/82L0fFTVrLl0aZ5wCMWRsBPe7wGWT/Px5Knfaeu5ltD8vTBh/+NpRj1TPFS5U1Z5SpW81WO3dew7+9Mof6PDVZYwbwhHrIZHdHopCOJvZB6DIMJUbQ9s+lPnnoGCb5eKzwxZvypGSQl0yLAzlRMP2G3977bgXES/Ssao+O7wCTKmKixyatJp2Ou86qPvqf31uDbYq5n5wTqFsYAmJIjnb0V6+xRj7p/4Vm/6yi3QoMzOkuXq7Ie6ppmm4nKY8P40WPH3N4Rlo6PVLhY6dC4Jyeo9LgZnSSpTzyMTp4C6RvugeeDHR4Kw+xMv/hi3z4zoAKf4aPGJC0kr+7aHVbXIPtR2F25ejbVGB32oqLahf0kGUV73nzb4I5BFhv2M5LWrt9g3oc+CS13PKSdV6AsbNp029RrvwNjLtqKZxJly2yXn4zncPCipYYQmMVDwug4o7dk2Yqwvh3NqYZzKempMCNFH4VZtlDqIKAdVOHbQgvox+QWrf/zzxMhbDRPNUYnkWOTVy/5u+c6r7rY9yZNSTNPR3/AnK9JC+QaN22lk3wdX3r5VTMObdy81dczbpliZnTg7QcN0n9+NhihEqgwNpVj8QqKNIMLbLp2ktE53fWJldEB46cx1EfsZxAKR0CrPoERzKAyap9H+FuDX8HDmv6OOGJyh9mMH8JAgd9GpLc+P88max5blR+vGYxXG/UeIGBet8H9XlnjvofvU/TedCciULFj8o6HbFMEtAFmG34I+02QH+ZrZwLZ80W8e5OE0XHuMZCeQkOJfoW/eC0MIJhCORjbEuVFybnmkvp3IhDpaZbdtPseB1u0fjDlGN9Ejk1e3/HvnOu86hF5z57DbO2tdlDwwqpgWzIwDmkz2oGDhka+LtC1axwd5eza+sdSHWrXsQsNHfwY1atTS8XVKVGmggl+h/gms5971nrC+bRD524qevm82dNVhnnzFxEvgEzmIY8PoPr1aptrt5Nkqw8iQZetWM1UFzEd1rGv8GgEH+S8l8NkQwyhZYvn0d3Z7zJpckI0b8FienzwMAMFAkEiIGQyUrES5Ux8FNTv5ptvoulTJtL1HNQwGiEWDGIGRRJiMP3EAUgRhJQlZ/z3IwcZvdYx8jgCrf3088/00xHOe/gwRyk+TNnvupPsgIifcoA39Fk2JePgo7lV9OrId+prZt7o/f98wLGgfleBTW+77VbHOur89nHxkuXU77FBKmnMqOFUvVpl+3bgc0RxZ9MHOsaxq1BvBOEE8cRJr7y6W523faAlPdy9izrPiH99rQCLKB9xI9q0boHTmKnlA+2I9yya5yc+NZbKlytjrt1OBg0dQTzBqts7t25Qkcjd8qZCuh17DZG19fePpW32d7z6qqvO2Dg6Tth16dZTxTrBvaxZz6dXd25RAR6d8kZLW79hE3XumhYccPSoYXRftfT5LtqzGXkfMTt++onHSR4rMZ5iXEWg5vz58prXYuxDcHDEu0Lcl7vuvMM1UDMvzNTY9M2339I1V1/FcUJuCRTn7PMv9hFi0rD3Mh63j6g4NNfzGH/33dlVgGhTqSQ5+YznkErVaoXVplzZ0jSGvzHiIHoRm2qrmCvnn3/+Kdn8znUo42eev37mb8jCp7R5kec7xC67kIPVghCw9IMPP6SDB78mrK0KcEyXSy6+WN2L/McrZxXj7kOO4ZKV64Ug3pjr8JwfSuTYhPclw1zn1G7EimMBJmW9ICvly3OPGhfYvJXY9N7EskN8TcTZBK3bsJGWr3iBJjw5xsSScyrXKa1ajbrqXYgbuHHdKqcsvtJiZnRQOnNtxH6z1YsQ+XvLxjWqc6gEh39skkNsi06DOco9goCCEsXooKzTWZ9YGR0s3rGI19T+wQcI0WSFwhFAAC52xa0C2OJOrZrVaeSwweGZkuRq5ux5xBvKw2qDwRJB1AoVKkCFCuSnfHnviToZ6AJGPDGWZjw3W1+ao9OCvlnLNjxZvm7y6BNgBcx2vPQyjeIIxRiobPq/G26galUr0UOd2puBHcKEwcNGqqCndl4sBtq1aU0tWzS1kx3PH+3/OLEpjLq3FePDddc65ouWiMXGtBkziaVCpg/gmapVKtHggf2pGPcNHTDUHmSjlRv0/jvvvqcCmunnwJTu2LbBdfLU+aIda9RuoILr6XyYFCqUL6svXY8IuIwJFjRi6CCqXes+17ypcKNcxeq0b/9+Nc9s3XRqsOkgbRRGxx2tzVu3UfuOXU2GePoWmAXM+6BkGbdZyky8Kd60T5/g94O2Yj5HYF6MpVhQa8LYhwXco3160aWXXqKSMTbx3gx68623YSGjs9J5552nhMI9e3TxZBLZAQQ/P4R2cABpBAy+8oorOP+FxM5OCMwTCAxWl84dqEzpkqZ8+wQBOTkGIZ1/fhZVBuabs89KW6D/FfpLBfMcOugxJTz5+ptviJ36ULYLs9F5Wc6jczjvWfz3Fwc9//33P6h48aI0dNAAu3jX8w6dutKmLdvC7mNMLJA/X9pcVzA/C22zc538MQt+5zp8k7tz53cMZI9xAUwK5szp/KeDMqOSwCV79jupVfOmPN+lCd3ADE1/bhZNfnYaC/5+DWsLmNtHOGi9XrSH3Yy4SNTYlCxzXUTziE3JiL0EK2Zc38N37dm9K+XOnZM4Pp5KRh/es3unYTZ13liOEJJCWAqKZ/0QF6MDqTCbTJj6R4tE/tysucR2nSwd2mxASCSjczrrEwujs3DxUqWlwA8NBOZvCA8wfqKjG9DPoBNoFLH4BmXLlo1e4X7kpP043ZDw/gqqXL22mizd6nLuuecy43M3FStahBrUq+MpmZ40ZRrNnb+QDnHUct1XUK4To4No5K+9/obStNqTLibvLDyp9X70Mbq/SUMqeW8xuvzyy2knMz6z5ywgTLagpk0a8STek/oNGETsVYfatW1NhQoWUNJFNg+lmbPnKskZ8g54tLcqC+duhEjOH3/8iXp+z+6X3LK5pqMNI0ePo+dmzlGLCNS9WpXKXPd/0vMrVxGr8elantSgGQVh4H1j107PhYXry3zcsBfHyN6wfl0aNLCfjyfds6C/8D7HMAZu4dyZlJeZ4WiESZFt3VU2aMKhEU9VgrCDN8er5kFq+8yE8XE11f6WotEJhxISWgiWgDmoSOFCNGvGlPBMAa4KFy/N49ePSqu8Ye0LAZ7MmKwc1oJm8nrkG2bC0FZNYMRat2hGLdu0p1w5clCd2jXolptvonfefZ8WLFpC7G5bZQXjsWLpAlqydIUSBlWpVIGqVK5IN9xwPXGMEx6vF6lxD5krVShPT40PF3ypQvgfxjcIORAJHgShTYP6ddQ5/qEsjNlYX0CY3OvhrtS6ZXNzX59s2ryVRrHg+dixY/T99z/wPHFC31JHrCkmT3ySSpYorhb+5SpUM4IhO+M//nER1atbm3r37G4nu55DYMbms0o745YJc3X+fHmoVMkSao0DDaEb+Z3rMA9Wrl5LzUVHWJtj05YNLxLWmitfWE2dO7Wje3LnUjgDIwghMd6Cnh4/mgoWyE8PPNiRwPxh/ZqDtWdH2Vpgw8bNNGfeAvVclixZaOG8meqeetDhXyLGpmSb63QzwfzBEgvaRmjqurAwtAT3I952QewoioArBJh6DoZAd+miufrxuI62JU88FiFxMTpoAW864kHgPdUYmOZsXr/aVbWLRU+Ou+9SEhPd+kQyOqezPpGMDrCY8sxTqpnowBh48AODOvLTT/cS1PkcMFTdhwQHUp+aNaprWBJ25D1PxJuWE1aeU0GQehQvVsTpVkLT1qzbQF279zJljn1iuJHKmMQkOYH5AXsvInapGrVGGDzAtOAPUkA3gmkDR3M35qJOjI5+NnICKsSSNd7ESJN4cYjJzib2ikZgkEBgwGpUr0ovrl1Hc2ZOo9y5ctpZFcPBNvcqDeYBb+zaoZ4Jy3TyAv09d77CijnD7wETUBDCZNafJTpLlz+vHhs1YgjVvC/dPBSJ6A/oF5oSOcjqMvURi4gi95blifCoTmJz3alUmLV08RBHuSbeVxRWhF/pFaSVMJUElS1diiZNjG/xH1aJJLuAaSJMFEEQCg0f+nhcNRRGxxu+gYOG0fyFadYGkIRv37wuZtNI9kJKe/d+ThddlI3efO1l7xf/jXdh5lurXmNlsoTXgoE5wGN2w4b1qEfXzmE1OcDmT+wR0TBGMOFftmKlEgxBQGTTfz74UDEAOm3R/NmO5mcYp2Geo+nfbPK+NsLk/c233qHGTVsazVI0IQg0aL0fHaAk8CgX324Tm/1gDNZk/5auYIFXxw4Psga5jNIm6Tx+j9t3vEQdH+puGAiv56695mrqxUwUGEMvCjLXYY0D7ZsmbKP4bO9eAk52m3Ef+ZAfdPPNN3F7LyfeQ0tzZk0j4GCTLVjF+mbG1FM1gDq/jWcsY1OyzXW6XTDnbN22gzJdBxO8YM5zdPvtt+nb6rdQpnxVxSjqxDatWyhzbn0dz5Hj6VC3h3urIvo88jC1bB4+T/oumxfhvkhHe118cvO/fogHQrNpERsO4WHBiXhRr/KxtDnstr2BC8/H6oxAF3q66hPpjABtifYH70HAkxeEuvoJPep4RdHqEe/9jPSmZQMCN4Xw8Kfry5IY+3bSnX/51YGwQKC63m5HniyibuZs16GLab+94c+p8XZARLwTXnKcCBvp4QnRrte8BYucsiqXkYiJofN6xdBC+3U+llo6lueVqOPEoAy024neey9tXNHvGTV6nFO2hKRtPxnpXb8LGyUT4d0tcgyEq2m/hOBruj5+g/b5LTvZ8rGdt2mr31hDXm0QZwRe6IRUfDzdt3BkM3XvBzzuwkGILiuj5juP13ve0puldf1YmOTq7KZTlx6mHcjPe5lcy9be5pDPzcEQYjvZjh/cxrmBg4eZ9/rxXgUPaLbL+kFDRoTVE+sw1AsBXRPhIGL3a2+Eqtaoa+qosXQ7zpg5J6w+Thd+5zo2Y1OeKvW74PQCMRqd6KOPPwmrI+Yyt7AAttcvrNW8+m28Y1OyzXXAjvevmYC/wNbtm02fMSsMU8yTiSKETdDfNZ7YeME1OmxaBdWmJmzkg0QRG/tAkLhC8hpJcDiwY+fLSrIAFaymuDU6SVKfSI0OTCGGDOqvm8mc7wml1dH2l9r2FrasT44bdYo0wTwY58l3331vvo3fotT3OfmNcI5T/c34Sp3ra75kKd1Ff4sJGVTUNVlNrlWkUMe/vH1ToA2fXhjAhIEDfio1rGmf1wM+70HjuWz5SmWGAPNKL2rcsD4NHNDXNctDXXuqzX3I4KXRwX1IYjhoF06V1gXaF71JUyVa/2CCqusGO/RdL20139zKpk457pPawIsL2HLb44Gd19ZUQOsB7Ydf0s5GkB+mA2tWLSPsI4okfLM8BYqZPj5tygQqcW+4xirymVivoabHn6bbb7uVVq9cqi9jPvbq3Y+eZzMLTdDsjhqeLqHU6W5HXigpaWq8Gzbdyk+WdOwHxT5MEPaSdWIpdDxka3SuuupfBGcOQukIwAEJxypS5jtIveOO22nVivT9pOk5o5/ZY1EinGYkcqyeMnUGjRmXZn2BlkBy72ahYGu5kHf180vCJNxI0wRzH5j1gOCAAY4YnAhaIdQB41svtuywJeY6P8yG27ZP0zBhbvrg3Teimri/9voewp5N7GfBM1MxNvL+Iq3FOsSajOVL5zuOq/q9QY68uOW5aZOyVoHJHdYeXjR+zEhl7ueWJ8hcp8dAlJXnnlwEDZoT/cDm30WKlzG3sA8S+yGdCOaE7DXV3MJmeIyxThTP2JSMcx3aCMsNmIyD4FwLfR0WH5H0xp43WePYSiUn2nQcpqL1GzVTZWOd4XfvWGQdMYj5Iq3RcdK4sGrJcF3gfCODAjITFEJQTEhOIilSmulUfuQzuE62+kRqdLwChkKCAqmM5lQheYGkQcgdAbhoZtNHg5nGbvbc+e4PBbiz4vkXjMtg3lTHmpU/AzztPyvagRgsCCxWvvJ9p7QHWoJPPYJqQYKo2x5No9O6bUeTF23yIt6cavJ6SSlRBoII6jpAg+pG2n8+8kJb5Zf+YJfrNjaDh450fTQ8pkCeU8Ye1wdjuNGmXSfTbrSJF8oxlBL+CGLh5C1YLKzcoBIxnrjV8wg4m8qkA8gB+0T87m2NDlzWC6UjwAsME8BY/9ZxhJVALAQX1bqceAM+J3qs5g3Wpm4IbgrLATdiga3Ji9+dF3Xukh5rMF4X3cw4mPcCx8g1lls97N8MtPbffPNtSK/XeB+K22MJSUcIEazn0PZIiwG0oVTZSiGM9W4UZK7LmSfdHbqb5QLeA02X7oc4ulkuIC+bFYbl9ZqXbZyDjE3JOtft/fwLE+QTOHn1FTt+TrxBnIG7TcBcfy8E6I6VAmt0IjfLgXOy7RNxHSnlXbN2vdoDAK9ssNG0KV6NTrLUJ1KjE829NPZwwPOJ9hQFl5bz58ywoZHzkwhAMgTJFDQOTRrVZ4nRZrXXCbcTsScD+6dKlq1EsG3WhI2KFSuk7X3QaRlxhH0zPIvwBGSK95Lod+3xCOH3BIqm0YEEEJJAkJdEUd1nyZXeEIvNro/07Kaec/rHEzxBMgaC9glaKCeCh7cH2nZUt+rWrknDhgx0ynZKWqTXusULZqsNpadk5IQpz06nMeOfVrdy5rhbuWZ3ypeINDZFobfeftcU5dcVvnnA4QQOFXr1Sdf8wgEBbMuDEFy8fnZSUwhJr5PUzU95PInQ6LFPmt+Wn2eC5ClapLDa/xXkGTsv6gavPyCn/Vp2Xj/ntkbnyiuvUNphP8/5yZPsWHq1ARLaNu06q71o0JrZWsxY7e/hEQyb+UHxhAbIiLEaHrdGsidKUDTN3tDhTxAcGYBy5MhOyxfPV+dO/+z9g9iTMn7sKKdsjmnYGwHvgtjjCQsGZg4Jeyk1vc7aeTc3yToPjtj70bxVG3ZQs0clo32Ya5rd35j69U3f72o/kxHn0MAxU6Fwxrkm7LPTHnh1mj4Gmety5yuiHDHg2cj1py4PR1ggwSJB07OTnmYnCenXOh1HrDdsZ1vYO4U9VE4U69iUrHOd7U0P++p2v7zNdf9wK3bcAY9soAdaNWeHGe5rByfsvNKwp51j1qksscyNuuzAjA48DMHTkE1QjZbhWDDYrAfKmyc3e6mYZbJAbY0BCgNcJMXL6CRLfYIyOsDBjoGBa3hFcXMfiftnIqFPNWcm54t9+9Vm64lPj6URrFLFAKFpw5qVdNNNN+rLwMdI80sUEM2DYOCXeDzw8cefUP3Gzc0m92uuvpq2b1nn+ESQwf/BDg/R1m07VDlezBMy8D4rFQMC59EYKDtO0GP9+yrmE89FEuLCID4MKIh3MggAOGCmeg4uXGFGhw21TpSRg2zk+xre34LeZIcOmrwmSZ0n2rFJs9bKpFHnmztrOnsCyqcvfR11rAFkhmc7bBqNheBkAR6gvmeTlowgLPYQhy1WGjt+gnIBi+fHjR6hXIvHWhaeC2N02CHMyzs2xVNc2LPJjmVYZa0LCC3bs3dLCODgeatVy2aqT2ChDcJCGU4J3H6PVlFhp/ZcB2955cqUCrvv9yIjxmq4IYZbYxAEsdu4fW40fORo5dEL9+GoZcnCNNMep/zYRI3N1KDKFcuzibqz5zX9LISf2vQLZr9glkEwB7qYY7+A+dH0+qvb6ZJL0txb6zS3IwR41WvVM89jrnyRTW69HN+4lRVvOsz0WJNqinHb6oAMQeY6eK3UTmK8mCd4EGMNunm/VyiCvXs/JzjR0LRm1XK69d+36MuwY6xjUzLOdWAuipcsb5xflOd4bojr5kRgWvMx4whHPaCpkyec4uzI6Tm/abY3OzgKWbl8kd9Hw/Pxj8kXbd6yTamQ3ExVbNUdVE2ffbZXlctua1V0U7eoqPGariVLfYKYrilg+B/UplothyNL4PUtOTICUH1DvQ1satVrFIKZD0g7ttDYeamq1QM+/vGix3wLmBKx1xcfT52a5ZVXd4XyFy4Rwib5IDRi1FjzfmymdDOfsE1AopmuMaNjynykb3/P6rCLUJM32qY/mPlo7NmNqmu52OSp8/k13cA318/gCPMPN4J5Ya68hU1+1l65ZU1Iur05FnVjJjKucpmZM3VHecwUxlReidIVTTlu/SamgpPsIXYZa9rpNu4HqbJtusZSwyCPpmRe9GeYbqEvsgbGtDFys/Gru3abe35Pej7yqPl2QU0zI9+RqLFal8uMjqlbqXKVdbLjkfctmLzRnH/YG8wf6uo+jsEhQa8+/UwUeODfrGXbEGvAQrzYVpvgtfMA3MPf4cOHHevnlsieKU2978yRJwRTuHgJWxHuLVUhqgOdyPfUrtfY1AVOKtwoyFxnOymCYwA3gvMYjSGOvIfVLWsI5lt2XozXbhTL2JSscx0cZNntxhrdjdgjoMmLfsV7z92yxpRur6vjMYsLvEfHzaaRNRohLNA0QHoRBvs9LBzdJuB4GZ1kqY/9QYCB1x4d/cXB/Gm8cCxdvoq+dcYfYZupvcaULFMxxMHTwjABvhq7MhWqht2L5QKLZt4QHlq8ZFlcnrSw/wb18mIAnOoX6SHPjdEKMvjbjA4WdV4ERlLjOXb8015ZzXeJ1k4IOXSZrHnxLFPf1AIV/ZyXvfNbb2fsIKvrpI/2Agv1cxt7dH6vIzwFYd+UbifGzqDMsS5fT/IogzXnOjnljvh9arwmPzs97vbhN6HLi7bfIu6XJXkBHO7A2ORjbx88MWrCvg7sHdRY9e47QN/yfbTHIjfPrH4LS9RYrd9nMzrR5hJbINWgSXNdhOOxR88+BjM3RufwkSNqraCxBaPlxEiyOaEpC3mDMDoYa1hLF/Y8hCN4dzykPcF5MQBO5WNM1+318jAZZK7TYyDKXbFyldNrVRprfcy7kdfNOxsyYw7W9cTRq52xjE3JOtcNGzk6rN1e+/IwDmuMsIZINLFDFFN+Y97XHisFZnS8FnAcN8RUClJfDEjlK1VXG6/dKhgvo5Ms9YlkdLCZOhrpRbHuKFioaK1FtGf93Id7X45zFGLPIRn6Z0v//NQrWh44ZsDCA7iAScamwEiCu06NG47YlJ4MpCVnjw54PFB14CZYCwqwqIADDycKMvhDQ6gxwiLdi2xGZ9yTE7yy+mZ00Ab9fr/SmEgtp9fi32uQxeSeaIIWQbcHRy8Xx/ieGP/cKLKd02bMdMvqmY4Fqa5TgSIlPPNm9pvstdO0NRFuxG1GB5ulz1RatXoNu+fNq7DFXOHkMr15q7YG+zwFiroKLt0wtJn6ZHO8Y2usylao5tYElW4zOg2btPDM64fRYc9sBlfMddAiOFGkM4IgjA7cgmOMGDJsVIiDC5v34d3x0MBBQ1VZbtY6bmXbv2O44HajIHMd79Ex7QLT4UaRjA4sMNwoCKNjt8nv2BQ5ByTLXGc7gcBv3Ut4BgGmnn/w27ApEXMwmH5dPly7x0rBGR0PNZbN1aJyvEFLVRIeXNwobkYnSeoTyehwYDG3Jpt0SNH0R9TH/3zwobkf7wnUiK3bdAhhQM7IP6jzE0VoPxZswOOunPlcJS5sz2wYA+QdMHBIoqoQVzma0cGCIQjBfEH3AS+pYpDB3/YSFk0KazM6Y8YlRqOD9mtJmx/GH/nteARYfLkxfMhrD7J2H4TqHcwiB9NEtoQRtNb6G+EIKXUkQcsESS/6LuJjYDEdKbw4cPCgwQXlaO13ZFl+rm0vQljEpDLZ0j124BF3U21Gp1CxUnGXlxkLYLf3RlsDMyR2r+/YDHg6s/s+7z1xzOeWaHt1PHToR7dspyUdQgbdtmhWFTaj47VIR0OiMTrAWr832jhgL/iQF797EDyowWucG4FBwjia5kn0hNJKwDOufq+XWZJbmTpdMzpDh4/SSb6OGzdtMe/Hb9CNgsx1tgkz+qobRTI6iJXjRkEYnVjGpmSd62DmrvuHFzMPQZ7NYLKbbAMlTFURoyleWrd+o6kLNIix0v8DAAD//xV3kzoAACIhSURBVO2dBZwWxf/HvxwpoEiJgt3S3d3d3d3dKSXdndKd0iV5pFKK/lREpVEOEBCkef7zmfvvus/x1F7Ac3ef4XU8uzvfmZ157+7MfL9T4vDR7dy1x/HRZxkcCxctdRvi3r37jkzZcms5yH6cOqOjVNlKbuXhsWjxMlMeYZavWO1R3vD0t/ScP3/BKR+Fi5cxkur2d/eefU5hkP+v1m98Rv7mrVuOhw8fPnM9ql34/tQPjqw58plMVq35ymMWa9drbMpmzZnfLxht3rrdTNPK1Ws9pt/qefTYcTNch07drF5Oxx06dzflRo0Z7+QX8qRJ8zambI/e/UJ6O51XqlrLlB09bqKTX8iTPAWKmrL4fj05fAd4r3PmKeRJzPQ7dPiIGbenMChrMmTJZcqiPDBcg8bNHcVKlTdOzd+LFy85wAEM9+wNNK/bOejZ+3PznnhXr1+/YQbf8fUuxydpMjkqVauly7GJk6c50mXK7ug/cIgpc+nyFUfx0hXMOHr3HWD6hebg3PnzZlye3pvQxO1vYS5fuRKuee3Vp78ZX/bcBfwtuxGenmXLV+k6Gt9nxqy5HT///Ivbe969e9eRPlMOk1fzVu3cyrryyFewuA6bK29hV94v9NrM2XPNfBUsWspjWoaNHGPKVq9Vz6Ns5249Tdl2Hbo+I2utK/AM0B5w5zZt2WbGBdkbN/7WonhvO3bp4TLYtevXHSirs+XK77jy55+mzIpVa8y40mTI5vjJw3M3A7k4GDBoiI4HZdzpX8+4kHB9acq0meb9Fy9d7lpIXbVT1yEN4IK/NWvXu40T77Ehh9/A/Qfdyv5x9pyTrKc8hqZsisi6DnG3btfJ0a//YFvPBjDGT5xi5ttTnfLt0WOmHOq927f/0Szv3w+um/v2H+SWra8e1nfV07viLT7xJmD4b9i4WWcKlbcnh8xZX6TZc+Z5Eg+1ouNv6Qmp6HgrMAEFH46VFY6HDh/lxAsKTtqM2R2Tp85wuh7VTo6f+M5JSR43YbLXLK5YudqJ346du72GiWgBa+WVPnNOxx9/nPXplihQ8PxRYHhqcLTv2NXMszdFp1HTlqZstx59PKajYpWapuzI0eM8yubOX8SU9WT4QCQtW3fQsjB63Lp922O88ITigMoXLBDm779vPhPm0aNHuhC3fjswBsDh99O0mXVhHTJgvYZNzXR/mjaT49Dhb0KKeD3/5587jgKFS5jxoDEDh7xlyZ7Xgef4+PETM55t27/WzxTpOvPb7w6jwYe041laZc1ANg72Bu430zJn7gIbISOf6JMnT0xDSIXKNcKcgeis6MBAge8L7yG+l32BB7zy7NKtl/muIYzR2PYW8N9//1X3yKTDtmjd3pv4c/efPmO2ma/8hUp4vP/QEaNN2SrV63iU7dT1P0WnbYcuz8gePHTYjAvPYeOmLc/IGBdatQkuR40y72pQkPaCscVV2Y5yqk79YEPgug2bjGjMXyheRlwwCkEBsOsMRQfxlKlQ1YEGrjf34MEDBxgjDMpCT2Hs1HWp02c18+PJwHjnzh1TDmnYu8+9wQt1t8EIv7+c/tVt9kJTNkVUXYfvzWoEzJ2viJNBzm0m/t/D6ERAnstWrOZS/K+/rmpjosHHKrdr917NDcpWWB3aOMY9fvjxf6GOzquigxdz67YdjszZ8+gbooBbvWad499791ze9OR335sJg2zQtWsu5YyLw0eONeWRobHjJxleLn/9LT1GIq3aOfIBK4qrRpohb/zCKmQ8SPyWLlfZ8NK/eLi4jgZNVHVQcmBRNDgYjUdv+YUFAUqgEa5N+87egkS4v1XRQbryFizmWLtug+Pp06du771+w2az0dGtZ1+3cojDqLwQt6deGigDaAwabNDLgcLYlUNjG4q5IYsGjTuHnhTrs/L2vVp7bH1pTOG+vfsNNNOCssfqoPiHrPShHBo9nnPnL9IsoVRYHRplRsPOyGerth2tIj4fo4FijWv7jp0Oo3D/7vtTTvGgAYFyEAU2ygTcG72PnqyOThF4OZkwaarJ6tixE16kI7+30UBDwxkVemjd48ePHU2atTbZwSiB3rHo4GCcML4B/KJnxxcH67c13IJFS3wJpg0KRrip02f5FOZ5Cg38YpiZLygOhmXaVRq6du9tyhYtUdaB8tCdQ5lr5LtW3UbP1AF4f6294yjbXdUTGOWB8sbaa4HRDzdv3tRGFKvB6+rVIF22WI1Rrnqv0Wg30oZfWP+tvdPu8mS9blV0EEfVGnUdx46ftIo4HSNvnw/4wryvpxEbduo69FyhDjDy48kobO0BhzyMpe4cylMjTvweOHjYnai+HpqyKSLqOtSZ1nTjeN6CRR7TbvVEOwHKL8LhvQtp0EDvYLGS5ZzuUbNOQzMK1M94r8NqxEOExqgdvPsos0PrYiCguHB79+2XIcNHyYULF+TJk6fPSAQEBMibqVJJ+3atpHzZ0k7+qrEuqqEhRQoVlGlTxjv5qZdbVEErqiEmt27dFqUIOfnj5PUUKeTllxNKrFixpGWLplKqRDHxt/ScPXtOVNeqPHn6VFSBJVeuXHmG00svvSSvv55C4saJI0mTJpG5s6c/k9fjx09K4+atdRyG59AvBkjVyhX1qSpYZcu2HXL0SKC8FC+eIRJlfvFu5StYTFRhpfOUPVsWzSl27Ng+5bFzt16iLGFaFmH279khiRO/6lPYiBDCs1JWfYkZM0DKlysj69ZvElVoS5rUn0mtGtXkvffekXfffUeSJ0sm59W3tXjJcpm3YDEMDpI/bx6ZMG6kJEiQwClpAwYNlW++Perye0mVKqW8nDChDOjXWzJnzig9+3wuP/z4k1xT35UqoJziwT2TqPcwd64c0qt7F1HWVVE9kUr2uqgeCSdZfIOvvppIypQqIS2aN5HqteprmaCgILlz564pi3LgDfWOI80N6tWWalUrm344wHdSvHQFfa1t6xbSvm0rJ39XJ8paJPUbNxdlUZMPP3hfhg0ZKG++mUpOnPhOJkyeJufPnZeB/fvI3sADsmnzVh3FkMH95YP335cm6luqWKGs9O/b65moy1WqLr/8ctq8nixpUjkYuNM8t3OgrKQyZNhIuXnzln7WH374oY574bzZkiN7Vh2VUr5k3/6D0rNXP7n9zz/6WmnFs1+fHpI0SRI7t3Mrq3rtRFXAuqw8/s0BiRcvrlvZqOChhjZLvwGDdVYWzJ0lOXNk8ylb8xcuFmWg09/i/fsPdL1z7949p7D4Zt944w39LgfEiCHvv/+ejBs93Ekmsp+oUQRSrmI1Xd4gLy2aNZYundr7lC2UYwWLlJI///pLy6f+7FP5avUyr2Gnz5wtY8dP1nLz58yQXDlzeA0T0QIod5evXC3/qO9SDSd1uh3aHsHl36uyeMGXMmnKdFE9s/L3zZsSFOTcXkmUKJGkeC25KtfflUnjR8ugIcPlyJFvddl7/cYNp3hR3qBMzZolswwa0Ff77dt/QNq06yzKgKvPC+TPKygnUUdcOH9RVO+ErFi1Wlq3bC5JVJkxcPBQLYe4EiV6Re7cvSsb162SlavWiurRNetR643Rjtq8YY28+87b+jLy0kW1K1A+WV0c1U5BWR5PtVv69upulmNWGesx0rJ46Qp5TeX/s08/0W00+JcsXkyKFS0s76k8IB8JEyYQtHOmz/pSlNKlo2il2nWdOrS1RqePfa3rMmRIL5Wr1dLtyMtX/nRqPyGit956UxLEjy/NmzaSnDmzizJqCL53vLv4/g2H+ustVbfEV7Ldu3bSeVGGPhXfPVENeh2/IWvlM3LYYJ1nww+/oSmbIqKuQ1tK9ZqJUgzM5KHeGT9mhHnu7eCweodbtumguZYoXlS6du4gaF+p4ZXqe5gmaNuOGDpY1NBr3Y7BM54/Z6ac+uFHwTOcOH6Ufg+83ceTv1K4JHO2PHLv/n3JkjmTLF0015O4Rz+3is76jZtFje+T+CpDsWLHkoAYAaLKflVAijx1PJXHjx7rBHRo11oaNajrdBO8/KPHTpCJ40ZJvry5nfxmzPxSpkyfqUHhA4wZEFPFG8OMGw2+J0+f6IeEl61Xjy5Su2Z18bf0/KwaTJWr1daVYhz1AgSoStJghAxbOT189FB9dAlk3+5tTiyMkxMnv9cNVDTsDIcCT1lYVKP1f9KyeVPp3PHZQsGQjcy/yuItufIV1oUPGrVLF8+TRK+84nOWfj3zm1SrWc8s6BrWryO9e3bzOXx4CxqKTptWzQXfxjffHtPfgurpdLoVCk2jookZM6bUrFFVVy44DunQeFe9XhI3bhzdoMU3A4fv8MnjJ3JXKdqTVMGSP19eqVO/iZw+/avEUbKQCwiIod9F/V2pggMVai6l6KBShgKieh0lTpzYLmXvP7ivlTUoDapHV98b6Q7+Zv97x5EGFEbNmjRUFXIznTbrf4WKltKNiTy5c7pU9q2yxjHS1aV7L1HDy5QB4YlxWaAIf67S8/FHH2p+7Tt1E9WbYvpny5pFZs+YrMsX8+L/H+AZTJsxW7N85ZWX5fLly/LTqeMhxXw+hyKphprqsskIhDItfbo0qgHyr2qoXNBc4IfGwJBB/QXftSv34/9+0sqwKz9319DwzJozn1Y80bhA5RLV3aVLl6VQsWDDGspElI2+OGX1loWLlypFMJ7EjvVfeY2wRr1m1D143x48eKgbhmtXLfUl+kgjc/DQEWnYpIVOb7mypWT0iKG6/vU1A2u/2iCqJ9kUnzp5vBQtXNA8d3UAgwoaSMmTJ5O9O7fqcsSV3PO8puYhiOqRknhx40nMWKqctLRv0P5A2Yxy7tD+XdKn30DZun1HsKwqn432iuqg0G2Vhw8fSYoUr8nGr1aKmrukDTJG+fuMrHqv0qZN7VQOorxWQ+IEjUt801YHA1nf3t11Qw9+agicfL1ztxaB8Wf08CHawIVyaO26jdrQgbzAPX7yWDfU0Y5atXyRfPrJx/o6lKfBSiEzvgXUOagndH7Uu69G68ioEUO8PlcoOkuWrdR5gfEMDX0oM/hGrS5u3LimIgclsqcyslWrUskqYh77WtflyZ1L0mXKoQ3iaIC7qpOQD5QRULqKlSyvFa7/2pz/1V9oy0J2+NBBynifUlQvgmrXxdcNe+t7gfr20aNHuq0BozUa31YX2rIpIuo6tJfnzV+kDTrI30eqvlwwd6Y1uV6P0fbs3rOv7rQwhMG6TOmS0qdXN91Og5GgkSpPzp47b4hofaBXj67meWgPcH+0seHQBqlTu0ZooxK3ik6oY2TAUBFAJRuorDv7Ag/ql+bSpUvaylC5YnmpXau6rcooVAl4gYFUN7ycO3dBihYtFKpeKyiIgQcO6hwkU70WpUsWf2G5QWU1Z94CmaYaAFalRU34lH379stF1bi+rAqHq8oymCD+S1KkcCGpVLGcwEIXVV2fzwcpi+MaXdEcPRyoKtXgitiX/MIKB0MALF8Z0qfVVvaQ4WDBUsMMVIMllupFLuDTtwJDDHrSfjj5TcjobJ/D6HFKvcO/nD6j/k7LTdVT/WbKlMqqmEpbNEeMGievKsvv3l3BvU8hb6CGO8oW9Qfl046Ddb5shao6CCzPUPKig1PDJuScUiILFsgnM6dNig5ZDrc8op7ZqQwDGGUAw4Odb9FIxOEj3wjePbi0qVPrhrbh5+o3R56C2qCC3lz0VtC5JoAyDmUJfpMlS6qNOeixh7JkdRgJAOPS22+/rXuTrX7P83jGrDnKQHlfG/SM+0IZ23/wkJxUZfZFpfDAmITyEL1e5cqW1lb+qNzrHJayKaLqOhiCYdj7cuZU4zHZ+kXPJOpXGH/y5snlcsQMRm6c/P6UNg5lVL1t4eHUsHfdQ4reIozUQa9baB0VndCSYzgSIAGfCBw7fkLUGHUtO3vmFD1Ez6eAEShUs04DXXA/D4u9WlxBWwJh8f3444+ccgUlrUbtBqrnuqtXC6pTQHWiFoYRNR5dW2rXr10R0jvKnqt5HgKLPIbyopccw4fo/JMADD/1GzXT1nEo+lHZoOOfT4Cpep4E/K1s0sO+sueVenVr6eHqz5NFWO+F0SlqZTc1JL6O7kEKS3xUdMJCj2FJgAR8IoAhCWoys7Yiu5qr5lMk4SSE4XuZVeHfUs09atemZTjF6joaDIP6LF1wTwvmYE2aOMbstQSPwUNHCIa+blBKUEjLresYg68iDwWKlNRzAYZ+8d+cPk9hooof5kRi+BqGfNgZvhZV8h+Z8mEMW6tYvqyMHP5FZEo600oCtgn4W9lkGBqsc0dtZ+oFBDCGraFO3L5lvbzz9lthSgUVnTDhY2ASIAFfCPzwgxpvWz14vK2rng1f4ggvGYy3b9+xm6xZuUTSpkkdXtG6jAcTQtXSp6bfKy+/LBiOgvHcxgIFY0YOU8M6SpkyvhysWLlG1FL+enJz4O7tav5WXF+CRRkZTLwePmqsnvex5+stuscgymQuimQEQ4pLlq2kFz5YvWKxpEubJorkjNkgAfcE/KlsUisKyoYNm+XIwT1OQ+ndp94/fDA/d8PGLXpO66zpwQuZhCVlVHTCQo9hSYAEfCagljDVE2mrVKqgV1LzOWA4Ct66dUtKl6uiG8gYtmanFyW0yciSI69a3emOy+BYlWjLhrW2xtpjngVWtvzt9z+ibY8GVk4qUqKMXgULKyBVrFDOJV9efHEE1Ea5snT5Sr/oxX1xFHjn6EbAX8omDBnH8K/6atjai1ygye7zx8p4hYuV0QtzLJo/W69SaDeOkPJUdEIS4TkJkECEEPhdNcwrV6+jV1TEsrRYZe95O7WJn+z4epfuzcHKbc/DNWvZ1lx61Xo/TK5csXSBnnRsve7t+Kt1G6R7r37a2jVj6sRQTSj3do/I4I8lvtVmiXppX7xPUXH5/cjwHFylEb05FarUkMSvJhYYFJIkSexKjNdIIEoSeNFlExY2KFexul5Nb52avxmZyka1kbOsXrtOL3uP5e/Dw1HRCQ+KjIMESMAnAtgPq2Wb9vLeu+/KajV07HkWwNjDAcu/duvSUS+F7VOCw0EIS4xjjpKxVwaiTPnG6zJ29AjJnCmDrTugFwdLbmIVo9UrlujlVW1FEMWEx4yfJNiyACsXYl8HuhdPABOgq9Woq1fGw94XET08NCJzjH3ebqs9xrDPGJaTx1L81vzA+vxa8uSR0tgQmdMekc88vOJ+kWUTVvqct2ChLFk4TzJlDJ9V0MKLi6d41Oa4eklrrJw7fuxIT6K2/Kjo2MJFYRIggbASwD5b2IPheTdOsbnnhk2bpU6tGs+9YYLlxXfu2qMbTRnSp9N7HmFPCTsODciqqkcMG+RhX4wP1IaW0d1hGF+nLj0ES3QPHzJIKlcqH92RvPD8Y9PiNWvX671YKpQr88LTE5YEYK8xLJ1rOOt+VdgbCIst5MyR3fYeJUZ8vv7WbdBE78nmSh7Db4P/RJVrMbXxCJtH11X7juRTC6C4Gp77PNPuKs3R4dqLLJuwLxvmgRYvViTSoD7z2+9SRdVvb6uFBzDSITyNoFR0Is1rwISSQNQhMGzkGJk7byEbpzYeKTZvw5CIKZPG2V6K2sZtIp0oesoaNG4uP/30i6xSk94/+vCDSJeHqJLgVWu+0rulN2pYL9ItZ+vqGWDPoCtX/tIbeqPhio0SsdwtHDZOxQaqWBFqx9YNroKH2zXsOI8epX2BB/TGt4gYG2FWrVxRb3iK86eq9yno2jU5opb0xsbV2NwSe01hf66Qi5U8z7QjbdHVsWzy7cljqB1GKmDPnjVqpAI2ww1PR0UnPGkyLhIgAZ8IoNGAPWAwnGzZ4nlcNcsLtV/P/CaYX9ReLYcdmax0XrIVbt5Y1hVjuxOqVe2GDPo83OJlRL4TwDCv2vUa6h6Oju3buOxJ8D02/5HEBp75CgVvQo25YKk/+1QnrkDhknLlzz+lU4e20qpF0+eS4FlfzpNRY8bre3naJBgW/VZtOgqGp7naWPdFpP25APLDm7Bs8v5QYDBYsmyFDB86KEJGKlDR8f4MKEECJEACJEACJBANCWCZWyx3i6Gm3x7ap4e9XrhwUa36V1Yv2btv1za9iqOvaJ4+faqX3Iaxx3CxYsUyDj3+QnnZuXuPxIsXV44d2e/RQIRFV9q076zjWzB3plZAcRKWtHtMHD1JwE8JUNHx0wfDZJEACZAACZAACbxYAtivCvtWFSqYX7DKIZwxRK9okUIyVQ0l9eSOn/hO91wfOHhI0NMCRSekmz1jsp63F/K69RyKUY48BQVzDX2dF5QzbyE95C20abfen8ckEFkJUNGJrE+O6SYBEiABEiABEohQAsVLlZez585Lj26dpEmjBvpeWN4dy7xjM8MC+fO6vD82BP5iyAjdA1O6VAkpo/5SpUypVm6Lo3uFAmIGSEAM9ad+X06Y0OsCKad/PSNlK1TV98LQwNYtm7m8r/VirbqNBPupYJXHPTu3ai9f0m6Ng8ckENkJUNGJ7E+Q6ScBEiABEiABEggzAUwe//mX03ryPvbZunbtuuQtWEzHi0nSadOm1seFipbSw8927djsUkHBMvCNmrSUjBnSy+CBfSVRokRhTtviJcsFO93DYdnuLJkzeY2zQeMWcujwEZ3G748f1kqWt7R7jZQCJBDJCFDRiWQPjMklARIgARIgARIIPwKYML5g0RJZsHCpJEyYQA/3el31gpQrXVKwHwqufXsoUM3JCdDLuxcsUlLc9ao8fvxYqtWsp4eXoRcovFyHTt30ampYdvfokUCP83OMe5YpX0WwkAkcwty5c1c8pd0Ix18SiEoEqOhEpafJvJAACZAACZAACfhM4NatW9K4WWulEJyR8WNGSuFCBeTu3buCIV6Y0A+H4WkYpga3fuNm6aH89qqhYK+pjXtDuomTp6nhYidl7uxpLnt7Qsr7ep4rb2G9/G7uXDlk3pczvAa7f/+BZMqWW548eaKVolMnjsjGzVs9pt1rpBQggUhIgIpOJHxoTDIJkAAJkAAJkEDYCGAT3mo16grmv4TsocHws9LlKushat27dpKmjYPn5wwfNVYuXrwkkyeMcXnzPPmLyrgxIyR7tiwu/UNzEZspIi1wvi5nffTYcbXcd2MdBkPuMPTOW9q1MP8jgShGgIpOFHugzA4JkAAJkAAJkIB3Auh9wX5eqVKllK0b1zptrBkUdE3yFCiqI1mtNqJNlzaNPsaqafeVghQ/fvxnboA9d2rXbyw7t218xi8sF6zzc5YtmieZM2f0Gt34iVNk6vRZWq5Xj67SqEFdveKbu7R7jZACJBBJCVDRiaQPjskmARIgARIgARIIHYGrV4OkaMmySml5IO3btpK2rVs4RbRx0xbp3K2XJEiQQI4eDp6f4yTg4gR73AwdPlrKly3twtf9papVKqkV2d5wK9CuY1fZtv1rwfycY9/sF1/23Slfqbq5sML+PdvDZUEEtwmkBwn4MQEqOn78cJg0EiABEiABEiCB8Cdg7IWDmK09NsadPh/whSxbsUrvb4N9bnxxkJ86bZYUKOB6yWl3cTSoV0c+/OB9l97W/XN8nZ+D/XoqVa2l46tcqbwMHzLIZdy8SALRgQAVnejwlJlHEiABEiABEiABk4ChyFhXVDM91UGJMhXljz/OSrcuHaVZk4ZWL7fH+wL3y9ARY/QwOLdCNj2w3DV6Z+B8mZ8DxahpizYSuP+gvJ4ihaxbs1wSJ37V5l0pTgJRhwAVnajzLJkTEiABEiABEiABHwhgCejvvj8lrnpJgq6p+TlqUQG4VcsXSfp0aeV3tTgB5vLEjRvXbeyPHj3S83qwQluG9OncytnxmDt/kQwbMVoH8WV+zqLFy2TQkOFqKeyYsnjBHMmcKYOd21GWBKIcASo6Ue6RMkMkQAIkQAIkQAKeCDRs0kIOHjoi9evWlr69uzuJbt6yTTp26aEXHDim9p+JESOG5CtYXGZMmyhp0wRvGuoUwHIydPgoOX/hokyfMsFyNfSHLVq3l9179vk0P+fAwcPSsk0HvaT0wP59pJqa+0NHAtGdABWd6P4GMP8kQAIkQAIkEM0IYKnlOXMXSNkypWTsqGFm7q/fuCF16zcRLC+dK2cOmT9nhhxX++J07dlHdm3fZMq5O8C+PFWq15VqVStJi2bByzu7k/V2HXvgZM2ZX+/rY6TFVZgHDx7IhElT5UuVH+ztM2HsKPbkuALFa9GSABWdaPnYmWkSIAESIAESiL4ELl26LKXKVZKECRLKmlVL9HyWs2fPSet2nTQU7F2TJ3dOtfHndGnboYukUz05LZo38QkYwtas3UAqlC8r3bt29DjcLWSEUG6+PXpM7ty5q38xdA0OG5lWrVxRYgTE0OdqKo7cvnVbMC9oz779esnrQgXyy5DB/SVJksRahv+RAAmIUNHhW0ACJEACJEACJBDtCKCnpkOX7nLjxt/yyccfydWgID3hv6JSUDB0DUs6v/feu5IsaVLds+PLss4GxEuXr0jvvgPk/PnzWuEpVaKYvPXWm1rpwVC4gIAAQ9TpFxt91mvYVA0/e+p0HScIZ/3DPJzPPv1EypQuIaVKFNe9Oc8E4gUSiOYEqOhE8xeA2ScBEiABEiCB6EwAPTlXg65JpozpJXbs2CYKbAB67vwFyZI5k5rc71oxMYVdHGAFtF179sq2bV/reTa3bt92ISUyc9okKVggn0s/XiQBEggbASo6YePH0CRAAiRAAiRAAiTgkQCUnltqqBnm0zjUP6t7LXlytz08VjkekwAJ2CdARcc+M4YgARIgARIgARIgARIgARLwcwJUdPz8ATF5JEACJEACJEACJEACJEAC9glQ0bHPjCFIgARIgARIgARIgARIgAT8nAAVHT9/QEweCZAACZAACZAACZAACZCAfQJUdOwzYwgSIAESIAESIAESIAESIAE/J0BFx88fEJNHAiRAAiRAAiRAAiRAAiRgnwAVHfvMGIIESIAESIAESIAESIAESMDPCVDR8fMHxOSRAAmQAAmQAAmQAAmQAAnYJ0BFxz4zhiABEiABEiABEiABEiABEvBzAlR0/PwBMXkkQAIkQAIkQAIkQAIkQAL2CVDRsc+MIUiABEiABEiABEiABEiABPycABUdP39ATB4JkAAJkAAJkAAJkAAJkIB9AlR07DNjCBIgARIgARIgARIgARIgAT8nQEXHzx8Qk0cCJEACJEACJEACJEACJGCfABUd+8wYggRIgARIgARIgARIgARIwM8JUNHx8wfE5JEACZAACZAACZAACZAACdgnQEXHPjOGIAESIAESIAESIAESIAES8HMCVHT8/AExeSRAAiRAAiRAAiRAAiRAAvYJUNGxz4whSIAESIAESIAESIAESIAE/JwAFR0/f0BMHgmQAAmQAAmQAAmQAAmQgH0CVHTsM2MIEiABEiABEiABEiABEiABPydARcfPHxCTRwIkQAIkQAIkQAIkQAIkYJ8AFR37zBiCBEiABEiABEiABEiABEjAzwlQ0fHzB8TkkQAJkAAJkAAJkAAJkAAJ2CdARcc+M4YgARIgARIgARIgARIgARLwcwJUdPz8ATF5JEACJEACJEACJEACJEAC9glQ0bHPjCFIgARIgARIgARIgARIgAT8nAAVHT9/QEweCZAACZAACZAACZAACZCAfQJUdOwzYwgSIAESIAESIAESIAESIAE/J0BFx88fEJNHAiRAAiRAAiRAAiRAAiRgn8D/AUbxwsFFYNbLAAAAAElFTkSuQmCC)\n",
        "\n",
        "여기서 -\n",
        "![image.png](data:image/png;base64,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)\n",
        "\n"
      ],
      "metadata": {
        "id": "Ib4NdyO7RONO"
      }
    },
    {
      "cell_type": "markdown",
      "source": [
        "<주요 매개변수>\n",
        "- query: 사용자로부터 입력받은 검색 쿼리.\n",
        "- k: 최종적으로 선택할 문서의 수. 이 매개변수는 반환할 문서의 총 개수를 결정.\n",
        "- fetch_k: MMR 알고리즘을 수행할 때 고려할 상위 문서의 수. 이는 초기 후보 문서 집합의 크기를 의미하며, 이 중에서 MMR에 의해 최종 문서가 k개 만큼 선택됨.\n",
        "- lambda_mult: 쿼리와의 유사성과 선택된 문서 간의 다양성 사이의 균형을 조절. ![image.png](data:image/png;base64,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)\n",
        "은 유사성만 고려하며, ![image.png](data:image/png;base64,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)\n",
        "은 다양성만을 최대화한다."
      ],
      "metadata": {
        "id": "hsvQLHVVR0n9"
      }
    },
    {
      "cell_type": "code",
      "source": [
        "!pip install pymupdf"
      ],
      "metadata": {
        "colab": {
          "base_uri": "https://localhost:8080/"
        },
        "id": "0WRGUFEISUvB",
        "outputId": "327a894e-b4ef-4811-f351-e8fdeb95ff84"
      },
      "execution_count": 47,
      "outputs": [
        {
          "output_type": "stream",
          "name": "stdout",
          "text": [
            "Collecting pymupdf\n",
            "  Downloading PyMuPDF-1.24.11-cp38-abi3-manylinux2014_x86_64.manylinux_2_17_x86_64.whl.metadata (3.4 kB)\n",
            "Downloading PyMuPDF-1.24.11-cp38-abi3-manylinux2014_x86_64.manylinux_2_17_x86_64.whl (19.6 MB)\n",
            "\u001b[2K   \u001b[90m━━━━━━━━━━━━━━━━━━━━━━━━━━━━━━━━━━━━━━━━\u001b[0m \u001b[32m19.6/19.6 MB\u001b[0m \u001b[31m79.1 MB/s\u001b[0m eta \u001b[36m0:00:00\u001b[0m\n",
            "\u001b[?25hInstalling collected packages: pymupdf\n",
            "Successfully installed pymupdf-1.24.11\n"
          ]
        }
      ]
    },
    {
      "cell_type": "code",
      "source": [
        "# Load data -> Text split\n",
        "\n",
        "from langchain_community.document_loaders import PyMuPDFLoader\n",
        "from langchain_text_splitters import RecursiveCharacterTextSplitter\n",
        "from langchain_openai import OpenAIEmbeddings\n",
        "from langchain_community.vectorstores import Chroma\n",
        "\n",
        "loader = PyMuPDFLoader('/content/SPRI_AI_Brief_2023년12월호_F.pdf')\n",
        "data = loader.load()\n",
        "text_splitter = RecursiveCharacterTextSplitter.from_tiktoken_encoder(\n",
        "    chunk_size=1000,\n",
        "    chunk_overlap=200,\n",
        "    encoding_name='cl100k_base'\n",
        ")\n",
        "\n",
        "documents = text_splitter.split_documents(data)\n",
        "len(documents)"
      ],
      "metadata": {
        "colab": {
          "base_uri": "https://localhost:8080/"
        },
        "id": "hKixH7ezUJt1",
        "outputId": "2930c346-4f43-44c2-e4d5-210a017fecb2"
      },
      "execution_count": 48,
      "outputs": [
        {
          "output_type": "execute_result",
          "data": {
            "text/plain": [
              "40"
            ]
          },
          "metadata": {},
          "execution_count": 48
        }
      ]
    },
    {
      "cell_type": "markdown",
      "source": [
        "- OpenAIEmbeddings 클래스를 사용하여 임베딩 모델의 인스턴스를 생성\n",
        "- Chroma.from_documents 메소드를 사용하여 분할된 문서들을 임베딩\n",
        "- Chroma 벡터 저장소에 저장. esg라는 컬렉션 이름을 사용하며, 데이터는 ./db/chromadb 디렉토리에 저장\n",
        "- collection_metadata를 통해 유사도 검색에 사용될 공간('hnsw:space')을 'cosine'으로 지정하여, 코사인 유사도를 사용"
      ],
      "metadata": {
        "id": "mSxFe-b6ImWo"
      }
    },
    {
      "cell_type": "code",
      "source": [
        "# Embedding -> Upload to Vectorstore\n",
        "from langchain_community.vectorstores import Chroma\n",
        "from langchain_openai import OpenAIEmbeddings\n",
        "\n",
        "embeddings_model = OpenAIEmbeddings()\n",
        "db2 = Chroma.from_documents(\n",
        "    documents,\n",
        "    embeddings_model,\n",
        "    collection_name = 'esg',\n",
        "    persist_directory = './db/chromadb',\n",
        "    collection_metadata = {'hnsw:space': 'cosine'}, # l2 is the default\n",
        ")\n",
        "\n",
        "db2"
      ],
      "metadata": {
        "colab": {
          "base_uri": "https://localhost:8080/"
        },
        "id": "6nWPgxojUKSR",
        "outputId": "bd1d3f45-6b94-4ad2-f83a-101d900569e7"
      },
      "execution_count": 49,
      "outputs": [
        {
          "output_type": "execute_result",
          "data": {
            "text/plain": [
              "<langchain_community.vectorstores.chroma.Chroma at 0x7822e4a3aef0>"
            ]
          },
          "metadata": {},
          "execution_count": 49
        }
      ]
    },
    {
      "cell_type": "markdown",
      "source": [
        "이 과정을 통해, pdf 문서의 텍스트를 추출하고, 이를 의미적으로 응집력 있는 조각으로 분할 한 뒤, 각 조각을 백테로 변환하여 Chroma 벡터 저장소에 저장한다."
      ],
      "metadata": {
        "id": "3lvHMrjVI2Lq"
      }
    },
    {
      "cell_type": "markdown",
      "source": [
        "1. 일반적인 유사도 기반 검색\n",
        "\n"
      ],
      "metadata": {
        "id": "Fp9i0U4KJAqc"
      }
    },
    {
      "cell_type": "code",
      "source": [
        "query = '삼성 가우스에 대해 설명해주세요'\n",
        "docs = db2.similarity_search(query)\n",
        "print(len(docs))\n",
        "print(docs[0].page_content)"
      ],
      "metadata": {
        "colab": {
          "base_uri": "https://localhost:8080/"
        },
        "id": "EeGfQxwRURt_",
        "outputId": "847ccae4-9b0d-4a14-bb56-16e24c057ac4"
      },
      "execution_count": 50,
      "outputs": [
        {
          "output_type": "stream",
          "name": "stdout",
          "text": [
            "4\n",
            "SPRi AI Brief |  \n",
            "2023-12월호\n",
            "10\n",
            "삼성전자, 자체 개발 생성 AI ‘삼성 가우스’ 공개\n",
            "n 삼성전자가 온디바이스에서 작동 가능하며 언어, 코드, 이미지의 3개 모델로 구성된 자체 개발 생성 \n",
            "AI 모델 ‘삼성 가우스’를 공개\n",
            "n 삼성전자는 삼성 가우스를 다양한 제품에 단계적으로 탑재할 계획으로, 온디바이스 작동이 가능한 \n",
            "삼성 가우스는 외부로 사용자 정보가 유출될 위험이 없다는 장점을 보유\n",
            "KEY Contents\n",
            "£ 언어, 코드, 이미지의 3개 모델로 구성된 삼성 가우스, 온디바이스 작동 지원\n",
            "n 삼성전자가 2023년 11월 8일 열린 ‘삼성 AI 포럼 2023’ 행사에서 자체 개발한 생성 AI 모델 \n",
            "‘삼성 가우스’를 최초 공개\n",
            "∙정규분포 이론을 정립한 천재 수학자 가우스(Gauss)의 이름을 본뜬 삼성 가우스는 다양한 상황에 \n",
            "최적화된 크기의 모델 선택이 가능\n",
            "∙삼성 가우스는 라이선스나 개인정보를 침해하지 않는 안전한 데이터를 통해 학습되었으며, \n",
            "온디바이스에서 작동하도록 설계되어 외부로 사용자의 정보가 유출되지 않는 장점을 보유\n",
            "∙삼성전자는 삼성 가우스를 활용한 온디바이스 AI 기술도 소개했으며, 생성 AI 모델을 다양한 제품에 \n",
            "단계적으로 탑재할 계획\n",
            "n 삼성 가우스는 △텍스트를 생성하는 언어모델 △코드를 생성하는 코드 모델 △이미지를 생성하는 \n",
            "이미지 모델의 3개 모델로 구성\n",
            "∙언어 모델은 클라우드와 온디바이스 대상 다양한 모델로 구성되며, 메일 작성, 문서 요약, 번역 업무의 \n",
            "처리를 지원\n",
            "∙코드 모델 기반의 AI 코딩 어시스턴트 ‘코드아이(code.i)’는 대화형 인터페이스로 서비스를 제공하며 \n",
            "사내 소프트웨어 개발에 최적화\n",
            "∙이미지 모델은 창의적인 이미지를 생성하고 기존 이미지를 원하는 대로 바꿀 수 있도록 지원하며 \n",
            "저해상도 이미지의 고해상도 전환도 지원\n",
            "n IT 전문지 테크리퍼블릭(TechRepublic)은 온디바이스 AI가 주요 기술 트렌드로 부상했다며, \n",
            "2024년부터 가우스를 탑재한 삼성 스마트폰이 메타의 라마(Llama)2를 탑재한 퀄컴 기기 및 구글 \n",
            "어시스턴트를 적용한 구글 픽셀(Pixel)과 경쟁할 것으로 예상\n"
          ]
        }
      ]
    },
    {
      "cell_type": "code",
      "source": [
        "print(docs[-1].page_content)"
      ],
      "metadata": {
        "colab": {
          "base_uri": "https://localhost:8080/"
        },
        "id": "6zeI0ggeJMvh",
        "outputId": "6f9ac4da-fe78-4346-a51a-7e00f919521c"
      },
      "execution_count": 51,
      "outputs": [
        {
          "output_type": "stream",
          "name": "stdout",
          "text": [
            "£ AI 에이전트가 의료와 교육, 생산성, 엔터테인먼트·쇼핑 영역의 서비스 대중화를 주도할 것\n",
            "n 에이전트로 인해 주목할 만한 변화는 고비용 서비스의 대중화로 특히 △의료 △교육 △생산성 △\n",
            "엔터테인먼트·쇼핑의 4개 영역에서 대규모 변화 예상\n",
            "∙(의료) 에이전트가 환자 분류를 지원하고 건강 문제에 대한 조언을 제공하며 치료의 필요 여부를 결정하면서 \n",
            "의료진의 의사결정과 생산성 향상에 기여\n",
            "∙(교육) 에이전트가 1대 1 가정교사의 역할을 맡아 모든 학생에게 평등한 교육 기회를 제공할 수 있으며, \n",
            "아이가 좋아하는 게임이나 노래 등을 활용해 시청각 기반의 풍부한 맞춤형 교육 경험을 제공\n",
            "∙(생산성) 사용자의 아이디어를 기반으로 에이전트가 사업계획과 발표 자료 작성, 제품 이미지 생성을 \n",
            "지원하며, 임원의 개인 비서와 같은 역할도 수행 \n",
            "∙(엔터테인먼트·쇼핑) 쇼핑 시 에이전트가 모든 리뷰를 읽고 요약해 최적의 제품을 추천하고 사용자 대신 \n",
            "주문할 수 있으며 사용자의 관심사에 맞춤화된 뉴스와 엔터테인먼트를 구독 가능\n",
            "☞ 출처 : GatesNotes, AI is about to completely change how you use computers, 2023.11.09.\n"
          ]
        }
      ]
    },
    {
      "cell_type": "markdown",
      "source": [
        "2. MMR 검색\n",
        "\n",
        "  하나의 주제에 대해 다루는 문서가 여러 개 있는 경우, 이러한 문서들 중에서 서로 다른 내용을 담고 있는 문서들을 선별하여 반환"
      ],
      "metadata": {
        "id": "40tApQpFJUo7"
      }
    },
    {
      "cell_type": "code",
      "source": [
        "mmr_docs = db2.max_marginal_relevance_search(query, k=4, fetch_k=10)\n",
        "print(len(mmr_docs))\n",
        "print(mmr_docs[0].page_content)"
      ],
      "metadata": {
        "colab": {
          "base_uri": "https://localhost:8080/"
        },
        "id": "WwgccfpPJX25",
        "outputId": "fec618e1-6988-4f94-ace2-485fac03ef42"
      },
      "execution_count": 52,
      "outputs": [
        {
          "output_type": "stream",
          "name": "stdout",
          "text": [
            "4\n",
            "SPRi AI Brief |  \n",
            "2023-12월호\n",
            "10\n",
            "삼성전자, 자체 개발 생성 AI ‘삼성 가우스’ 공개\n",
            "n 삼성전자가 온디바이스에서 작동 가능하며 언어, 코드, 이미지의 3개 모델로 구성된 자체 개발 생성 \n",
            "AI 모델 ‘삼성 가우스’를 공개\n",
            "n 삼성전자는 삼성 가우스를 다양한 제품에 단계적으로 탑재할 계획으로, 온디바이스 작동이 가능한 \n",
            "삼성 가우스는 외부로 사용자 정보가 유출될 위험이 없다는 장점을 보유\n",
            "KEY Contents\n",
            "£ 언어, 코드, 이미지의 3개 모델로 구성된 삼성 가우스, 온디바이스 작동 지원\n",
            "n 삼성전자가 2023년 11월 8일 열린 ‘삼성 AI 포럼 2023’ 행사에서 자체 개발한 생성 AI 모델 \n",
            "‘삼성 가우스’를 최초 공개\n",
            "∙정규분포 이론을 정립한 천재 수학자 가우스(Gauss)의 이름을 본뜬 삼성 가우스는 다양한 상황에 \n",
            "최적화된 크기의 모델 선택이 가능\n",
            "∙삼성 가우스는 라이선스나 개인정보를 침해하지 않는 안전한 데이터를 통해 학습되었으며, \n",
            "온디바이스에서 작동하도록 설계되어 외부로 사용자의 정보가 유출되지 않는 장점을 보유\n",
            "∙삼성전자는 삼성 가우스를 활용한 온디바이스 AI 기술도 소개했으며, 생성 AI 모델을 다양한 제품에 \n",
            "단계적으로 탑재할 계획\n",
            "n 삼성 가우스는 △텍스트를 생성하는 언어모델 △코드를 생성하는 코드 모델 △이미지를 생성하는 \n",
            "이미지 모델의 3개 모델로 구성\n",
            "∙언어 모델은 클라우드와 온디바이스 대상 다양한 모델로 구성되며, 메일 작성, 문서 요약, 번역 업무의 \n",
            "처리를 지원\n",
            "∙코드 모델 기반의 AI 코딩 어시스턴트 ‘코드아이(code.i)’는 대화형 인터페이스로 서비스를 제공하며 \n",
            "사내 소프트웨어 개발에 최적화\n",
            "∙이미지 모델은 창의적인 이미지를 생성하고 기존 이미지를 원하는 대로 바꿀 수 있도록 지원하며 \n",
            "저해상도 이미지의 고해상도 전환도 지원\n",
            "n IT 전문지 테크리퍼블릭(TechRepublic)은 온디바이스 AI가 주요 기술 트렌드로 부상했다며, \n",
            "2024년부터 가우스를 탑재한 삼성 스마트폰이 메타의 라마(Llama)2를 탑재한 퀄컴 기기 및 구글 \n",
            "어시스턴트를 적용한 구글 픽셀(Pixel)과 경쟁할 것으로 예상\n"
          ]
        }
      ]
    },
    {
      "cell_type": "code",
      "source": [
        "print(mmr_docs[-1].page_content)"
      ],
      "metadata": {
        "colab": {
          "base_uri": "https://localhost:8080/"
        },
        "id": "zkIELN3mJeR9",
        "outputId": "dc2d2332-212f-4824-e94b-92288d0fe97d"
      },
      "execution_count": 53,
      "outputs": [
        {
          "output_type": "stream",
          "name": "stdout",
          "text": [
            "1. 정책/법제  \n",
            "2. 기업/산업 \n",
            "3. 기술/연구 \n",
            " 4. 인력/교육\n",
            "갈릴레오의 LLM 환각 지수 평가에서 GPT-4가 가장 우수\n",
            "n 주요 LLM의 환각 현상을 평가한 ‘LLM 환각 지수’에 따르면 GPT-4는 작업 유형과 관계없이 \n",
            "가장 우수한 성능을 보였으며 GPT-3.5도 거의 동등한 성능을 발휘\n",
            "n 오픈소스 모델 중에서는 메타의 라마2가 RAG 없는 질문과 답변 및 긴 형식의 텍스트 \n",
            "생성에서 가장 우수한 성능을 발휘\n",
            "KEY Contents\n",
            "£ 주요 LLM 중 GPT-4가 가장 환각 현상 적고 GPT-3.5 터보도 비슷한 성능 기록\n",
            "n 머신러닝 데이터 관리 기업 갈릴레오(Galileo)가 2023년 11월 15일 주요 LLM의 환각 현상을 평가한 \n",
            "‘LLM 환각 지수(LLM Hallucination Index)’를 발표\n",
            "∙생성 AI의 환각 현상은 AI 시스템이 잘못된 정보를 생성하거나, 현실과 다른 부정확한 결과를 내놓는 \n",
            "현상으로, 기업의 AI 도입을 가로막는 주요 장애물이며, 환각 지수는 신뢰할 수 있는 생성 AI 구축을 위해 \n",
            "환각을 평가하고 측정하는 구조화된 접근방식을 제공\n",
            "∙환각 지수는 △검색 증강 생성(Retrieval-Augmented Generation, RAG)*을 포함한 질문과 답변 △RAG \n",
            "없는 질문과 답변 △긴 형식의 텍스트(보고서나 기사, 에세이) 생성의 3개 작업 유형에 대하여 환각을 \n",
            "기준으로 LLM의 순위를 평가\n",
            "* 기존에 학습된 데이터가 아닌 외부 소스(데이터셋, 데이터베이스, 문서 등)에서 가져온 정보를 검색해 활용하는 기술\n",
            "n 3개의 작업 유형 평가 전체에서 오픈AI의 GPT-4가 최고의 성능을 기록했으며, GPT-3.5 터보도 \n",
            "GPT-4와 거의 동등한 성능을 발휘\n",
            "∙메타의 라마2(Llama-2-70b)는 RAG 없는 질문과 답변 유형에서 오픈소스 모델 가운데 가장 우수했고 긴 \n",
            "형식의 텍스트 생성에서도 GPT-4에 준하는 성능을 기록했으나, RAG 포함 질문과 답변에서는 허깅 \n",
            "페이스의  제퍼(Zephyr-7b)가 라마2를 능가\n",
            "<갈릴레오의 LLM 환각 지수(RAG 포함 질문과 답변 기준)>\n",
            "☞ 출처: Galileo, LLM Hallucination Index, 2023.11.15.\n"
          ]
        }
      ]
    },
    {
      "cell_type": "markdown",
      "source": [
        "### 벡터스토어에 메타데이터 추가\n",
        "\n",
        "1.  메타데이터를 포함하여 문서 준비\n",
        "\n",
        "\n"
      ],
      "metadata": {
        "id": "3EZmgLn2J2en"
      }
    },
    {
      "cell_type": "code",
      "source": [
        "from langchain_core.documents import Document\n",
        "\n",
        "documents = [\n",
        "    Document(\n",
        "        page_content=\"LangChain은 대규모 언어 모델(LLM)을 사용하는 애플리케이션을 개발하기 위한 프레임워크입니다.\",\n",
        "        metadata={\n",
        "            \"title\": \"LangChain 소개\",\n",
        "            \"author\": \"AI 개발자\",\n",
        "            \"url\": \"http://example.com/langchain-intro\"\n",
        "        }\n",
        "    ),\n",
        "    Document(\n",
        "        page_content=\"벡터 데이터베이스는 고차원 벡터를 효율적으로 저장하고 검색하는 데 특화된 데이터베이스 시스템입니다.\",\n",
        "        metadata={\n",
        "            \"title\": \"벡터 데이터베이스 개요\",\n",
        "            \"author\": \"데이터 과학자\",\n",
        "            \"url\": \"http://example.com/vector-db-overview\"\n",
        "        }\n",
        "    )\n",
        "    # 추가 문서들...\n",
        "]"
      ],
      "metadata": {
        "id": "XpVUMbM5J134"
      },
      "execution_count": 54,
      "outputs": []
    },
    {
      "cell_type": "markdown",
      "source": [
        "2. Chroma 벡터 스토어에 문서와 메타데이터 저장\n",
        "\n",
        "  from_documents 메서드를 사용하여 문서와 메타데이터 함께 저장\n"
      ],
      "metadata": {
        "id": "6yYM8BkbKEbj"
      }
    },
    {
      "cell_type": "code",
      "source": [
        "from langchain_community.vectorstores import Chroma\n",
        "from langchain_openai import OpenAIEmbeddings\n",
        "\n",
        "# OpenAI 임베딩 모델 초기화\n",
        "embedding_model = OpenAIEmbeddings()\n",
        "\n",
        "# Chroma 벡터 스토어에 문서와 메타데이터 저장\n",
        "vectorstore = Chroma.from_documents(\n",
        "    documents=documents,\n",
        "    embedding=embedding_model,\n",
        "    persist_directory=\"./chroma_db\"  # 벡터 스토어를 디스크에 저장\n",
        ")"
      ],
      "metadata": {
        "id": "lupzy6qHKD8Y"
      },
      "execution_count": 55,
      "outputs": []
    },
    {
      "cell_type": "markdown",
      "source": [
        "3. 유사성 검색 수행 및 메타데이터 활용\n"
      ],
      "metadata": {
        "id": "rvYqHnsSKPR5"
      }
    },
    {
      "cell_type": "code",
      "source": [
        "query = \"LangChain이란 무엇인가요?\"\n",
        "results = vectorstore.similarity_search(query, k=2)\n",
        "\n",
        "for doc in results:\n",
        "    print(f\"내용: {doc.page_content}\")\n",
        "    print(f\"제목: {doc.metadata['title']}\")\n",
        "    print(f\"저자: {doc.metadata['author']}\")\n",
        "    print(f\"URL: {doc.metadata['url']}\")\n",
        "    print(\"---\")"
      ],
      "metadata": {
        "colab": {
          "base_uri": "https://localhost:8080/"
        },
        "id": "v_pUUNjMKShX",
        "outputId": "f35c8f0d-8b9b-4f4b-8ea4-bfa11c4f3d78"
      },
      "execution_count": 56,
      "outputs": [
        {
          "output_type": "stream",
          "name": "stdout",
          "text": [
            "내용: LangChain은 대규모 언어 모델(LLM)을 사용하는 애플리케이션을 개발하기 위한 프레임워크입니다.\n",
            "제목: LangChain 소개\n",
            "저자: AI 개발자\n",
            "URL: http://example.com/langchain-intro\n",
            "---\n",
            "내용: 벡터 데이터베이스는 고차원 벡터를 효율적으로 저장하고 검색하는 데 특화된 데이터베이스 시스템입니다.\n",
            "제목: 벡터 데이터베이스 개요\n",
            "저자: 데이터 과학자\n",
            "URL: http://example.com/vector-db-overview\n",
            "---\n"
          ]
        }
      ]
    },
    {
      "cell_type": "markdown",
      "source": [
        "## FAISS\n",
        "\n",
        "Facebook AI Research에 의해 개발된 라이브러리로, 대규모 벡터 데이터셋에서 유사도 검색을 빠르고 효율적으로 수행할 수 있게 해준다. 특히 벡터의 압축된 표현을 사용하여 메모리 사용량을 최소화하면서도 검색 속도를 극대화하는 특징이 있다.\n",
        "\n",
        "**<유사도 기준>**\n",
        "- 'l2' (기본값): 유클리디안 거리를 기반으로 하는 유사도 측정 방법. 두 벡터 간의 거리가 작을수록 더 유사하다고 평가.\n",
        "- 'ip' (내적): 내적 기반 유사도 측정 방법으로, 두 벡터의 방향성이 얼마나 유사한지를 평기. 값이 클수록 더 유사하다고 판단.\n",
        "- 'cosine': 코사인 유사도를 기반으로 하는 방법으로, 두 벡터의 각도가 작을수록 (즉, 방향이 더 유사할수록) 더 유사하다고 평가. 내적과 유사하지만, 벡터의 크기에 영향을 받지 않는다."
      ],
      "metadata": {
        "id": "sdMBxLv_Kao9"
      }
    },
    {
      "cell_type": "markdown",
      "source": [
        "### 유사도 기반 검색\n",
        "\n"
      ],
      "metadata": {
        "id": "kHZT672RLqCd"
      }
    },
    {
      "cell_type": "code",
      "source": [
        "!pip install faiss-gpu"
      ],
      "metadata": {
        "colab": {
          "base_uri": "https://localhost:8080/"
        },
        "id": "QmM7m2j5m4rP",
        "outputId": "adc67a57-1ee2-419d-b2c4-9eedf748c7cb"
      },
      "execution_count": 58,
      "outputs": [
        {
          "output_type": "stream",
          "name": "stdout",
          "text": [
            "Collecting faiss-gpu\n",
            "  Downloading faiss_gpu-1.7.2-cp310-cp310-manylinux_2_17_x86_64.manylinux2014_x86_64.whl.metadata (1.4 kB)\n",
            "Downloading faiss_gpu-1.7.2-cp310-cp310-manylinux_2_17_x86_64.manylinux2014_x86_64.whl (85.5 MB)\n",
            "\u001b[2K   \u001b[90m━━━━━━━━━━━━━━━━━━━━━━━━━━━━━━━━━━━━━━━━\u001b[0m \u001b[32m85.5/85.5 MB\u001b[0m \u001b[31m8.9 MB/s\u001b[0m eta \u001b[36m0:00:00\u001b[0m\n",
            "\u001b[?25hInstalling collected packages: faiss-gpu\n",
            "Successfully installed faiss-gpu-1.7.2\n"
          ]
        }
      ]
    },
    {
      "cell_type": "code",
      "source": [
        "# 벡터스토어 db 인스턴스를 생성\n",
        "from langchain_community.vectorstores import FAISS\n",
        "from langchain_community.vectorstores.utils import DistanceStrategy\n",
        "from langchain_community.embeddings import HuggingFaceEmbeddings\n",
        "\n",
        "embeddings_model = HuggingFaceEmbeddings(\n",
        "    model_name='jhgan/ko-sbert-nli',\n",
        "    model_kwargs={'device':'cpu'},\n",
        "    encode_kwargs={'normalize_embeddings':True},\n",
        ")\n",
        "\n",
        "\n",
        "vectorstore = FAISS.from_documents(documents,\n",
        "                                   embedding = embeddings_model,\n",
        "                                   distance_strategy = DistanceStrategy.COSINE\n",
        "                                  )\n",
        "vectorstore\n"
      ],
      "metadata": {
        "colab": {
          "base_uri": "https://localhost:8080/"
        },
        "id": "GON-gEA1L52p",
        "outputId": "e6e678a4-54d7-4c70-b988-93a060bfcb80"
      },
      "execution_count": 59,
      "outputs": [
        {
          "output_type": "execute_result",
          "data": {
            "text/plain": [
              "<langchain_community.vectorstores.faiss.FAISS at 0x7821e557a2f0>"
            ]
          },
          "metadata": {},
          "execution_count": 59
        }
      ]
    },
    {
      "cell_type": "code",
      "source": [
        "vectorstore.distance_strategy"
      ],
      "metadata": {
        "colab": {
          "base_uri": "https://localhost:8080/",
          "height": 35
        },
        "id": "7VodI4afMIum",
        "outputId": "daae8c9d-2a67-41b1-8dd6-b235ed37ebe0"
      },
      "execution_count": 60,
      "outputs": [
        {
          "output_type": "execute_result",
          "data": {
            "text/plain": [
              "<DistanceStrategy.COSINE: 'COSINE'>"
            ],
            "application/vnd.google.colaboratory.intrinsic+json": {
              "type": "string"
            }
          },
          "metadata": {},
          "execution_count": 60
        }
      ]
    },
    {
      "cell_type": "markdown",
      "source": [
        "1. 쿼리 인코딩 : 주어진 쿼리 문자열을 벡터로 변환한다. 이과정은 vectorstore를 생성할 때 사용된 임베딩 모델을 사용하여 수행된다.\n",
        "\n",
        "2. 유사도 검색 : 변환된 쿼리 벡터와 벡터 스토어에 저장된 문서 벡터들 간의 유사도를 계산하여, 가장 유사한 문서들을 찾아낸다. 이때 유사도 계산 방법은 vectorstore 생성 시 지정된 distance_strategy에 따라 결정된다.\n",
        "\n",
        "3. 결과반환"
      ],
      "metadata": {
        "id": "_pmF07d0MSVt"
      }
    },
    {
      "cell_type": "code",
      "source": [
        "query = 'LangChain이란 무엇인가요?'\n",
        "docs = vectorstore.similarity_search(query)\n",
        "print(len(docs))\n",
        "print(docs[0].page_content)"
      ],
      "metadata": {
        "colab": {
          "base_uri": "https://localhost:8080/"
        },
        "id": "dqITxvKNM5sq",
        "outputId": "4ced6975-33f5-4475-e03d-783a29090c33"
      },
      "execution_count": 61,
      "outputs": [
        {
          "output_type": "stream",
          "name": "stdout",
          "text": [
            "2\n",
            "LangChain은 대규모 언어 모델(LLM)을 사용하는 애플리케이션을 개발하기 위한 프레임워크입니다.\n"
          ]
        }
      ]
    },
    {
      "cell_type": "markdown",
      "source": [
        "### FAISS DB를 로컬에 저장하기\n",
        "\n",
        "vectorstore.save_local 메서드를 사용하여 로컬 파일 시스템에 벡터 스토어를 저장할 수 있다.\n",
        "이 메서드는 벡터 스토어의 상태를 지정된 경로에 파일로 저장한다.\n",
        "저장된 파일은 나중에 불러와서 동일한 벡터 스토어 상태를 재구성하는 데 사용될 수 있다."
      ],
      "metadata": {
        "id": "WEpml27uNQkA"
      }
    },
    {
      "cell_type": "code",
      "source": [
        "# save db\n",
        "vectorstore.save_local('./db/faiss')"
      ],
      "metadata": {
        "id": "SYPgCzjdNbVU"
      },
      "execution_count": 62,
      "outputs": []
    },
    {
      "cell_type": "markdown",
      "source": [
        "**백터 스토어 불러오기**\n",
        "\n",
        "FAISS.load_local 클래스 메서드는 저장된 파일 경로와 임베딩 모델을 인자로 받아, 해당 파일로부터 벡터 스토어를 재구성한다.\n",
        "\n",
        "여기서 embeddings_model은 벡터 스토어와 함께 사용될 임베딩 모델 인스턴스이다."
      ],
      "metadata": {
        "id": "R_9HQ8boNdz4"
      }
    },
    {
      "cell_type": "code",
      "source": [
        "# load db\n",
        "db3 = FAISS.load_local('./db/faiss', embeddings_model,allow_dangerous_deserialization=True)"
      ],
      "metadata": {
        "id": "jIy7zhYTNfLI"
      },
      "execution_count": 64,
      "outputs": []
    },
    {
      "cell_type": "markdown",
      "source": [
        "# Retreiver\n",
        "\n",
        "벡터 저장소에서 문서를 검색하는 도구\n",
        "\n",
        "## 1. Vector Store Retriver\n",
        "\n",
        "대량의 텍스트 데이터에서 관련 정보를 효율적으로 검색할 수 있다.\n",
        "\n",
        "LangChain의 벡터스토어와 임베딩 모델을 사용하여 문서들의 임베딩을 생성하고, 그 후 저장된 임베딩들을 기반으로 검색 쿼리에 가장 관련 있는 문서들을 검색하는 방법을 설명\n",
        "\n",
        "\n",
        "사전 준비 - 문서 로드 및 분할\n",
        "- PyMuPDFLoader를 사용하여 pdf에서 텍스트 데이터 로드\n",
        "- RecursiveCharacterTextSplitter를 사용하여 문서를 텍스트 조각으로 분할하는 인스턴스를 생성\n",
        "- text_splitter.split_documents(data)를 호출하여 로드된 문서 객체를 여러 개의 청크로 분할\n"
      ],
      "metadata": {
        "id": "qGYG-hvLUmG-"
      }
    },
    {
      "cell_type": "code",
      "source": [
        "# Load data -> Text split\n",
        "\n",
        "from langchain_community.document_loaders import PyMuPDFLoader\n",
        "from langchain_text_splitters import RecursiveCharacterTextSplitter\n",
        "from langchain_openai import OpenAIEmbeddings\n",
        "\n",
        "loader = PyMuPDFLoader('/content/SPRI_AI_Brief_2023년12월호_F.pdf')\n",
        "data = loader.load()\n",
        "text_splitter = RecursiveCharacterTextSplitter.from_tiktoken_encoder(\n",
        "    chunk_size=1000,\n",
        "    chunk_overlap=200,\n",
        "    encoding_name='cl100k_base'\n",
        ")\n",
        "\n",
        "documents = text_splitter.split_documents(data)\n",
        "len(documents)"
      ],
      "metadata": {
        "colab": {
          "base_uri": "https://localhost:8080/"
        },
        "id": "aOBdOIFbVRQp",
        "outputId": "dee5733a-6a48-4b21-c5b0-7b6f83abb7e9"
      },
      "execution_count": 65,
      "outputs": [
        {
          "output_type": "execute_result",
          "data": {
            "text/plain": [
              "40"
            ]
          },
          "metadata": {},
          "execution_count": 65
        }
      ]
    },
    {
      "cell_type": "code",
      "source": [
        "!pip install sentence-transformers"
      ],
      "metadata": {
        "colab": {
          "base_uri": "https://localhost:8080/"
        },
        "id": "Px13u_yaVvkR",
        "outputId": "560729fd-ded0-49cb-fe5e-0a440e50ec34"
      },
      "execution_count": 66,
      "outputs": [
        {
          "output_type": "stream",
          "name": "stdout",
          "text": [
            "Requirement already satisfied: sentence-transformers in /usr/local/lib/python3.10/dist-packages (3.2.0)\n",
            "Requirement already satisfied: transformers<5.0.0,>=4.41.0 in /usr/local/lib/python3.10/dist-packages (from sentence-transformers) (4.44.2)\n",
            "Requirement already satisfied: tqdm in /usr/local/lib/python3.10/dist-packages (from sentence-transformers) (4.66.5)\n",
            "Requirement already satisfied: torch>=1.11.0 in /usr/local/lib/python3.10/dist-packages (from sentence-transformers) (2.4.1+cu121)\n",
            "Requirement already satisfied: scikit-learn in /usr/local/lib/python3.10/dist-packages (from sentence-transformers) (1.5.2)\n",
            "Requirement already satisfied: scipy in /usr/local/lib/python3.10/dist-packages (from sentence-transformers) (1.13.1)\n",
            "Requirement already satisfied: huggingface-hub>=0.20.0 in /usr/local/lib/python3.10/dist-packages (from sentence-transformers) (0.24.7)\n",
            "Requirement already satisfied: Pillow in /usr/local/lib/python3.10/dist-packages (from sentence-transformers) (10.4.0)\n",
            "Requirement already satisfied: filelock in /usr/local/lib/python3.10/dist-packages (from huggingface-hub>=0.20.0->sentence-transformers) (3.16.1)\n",
            "Requirement already satisfied: fsspec>=2023.5.0 in /usr/local/lib/python3.10/dist-packages (from huggingface-hub>=0.20.0->sentence-transformers) (2024.6.1)\n",
            "Requirement already satisfied: packaging>=20.9 in /usr/local/lib/python3.10/dist-packages (from huggingface-hub>=0.20.0->sentence-transformers) (24.1)\n",
            "Requirement already satisfied: pyyaml>=5.1 in /usr/local/lib/python3.10/dist-packages (from huggingface-hub>=0.20.0->sentence-transformers) (6.0.2)\n",
            "Requirement already satisfied: requests in /usr/local/lib/python3.10/dist-packages (from huggingface-hub>=0.20.0->sentence-transformers) (2.32.3)\n",
            "Requirement already satisfied: typing-extensions>=3.7.4.3 in /usr/local/lib/python3.10/dist-packages (from huggingface-hub>=0.20.0->sentence-transformers) (4.12.2)\n",
            "Requirement already satisfied: sympy in /usr/local/lib/python3.10/dist-packages (from torch>=1.11.0->sentence-transformers) (1.13.3)\n",
            "Requirement already satisfied: networkx in /usr/local/lib/python3.10/dist-packages (from torch>=1.11.0->sentence-transformers) (3.4)\n",
            "Requirement already satisfied: jinja2 in /usr/local/lib/python3.10/dist-packages (from torch>=1.11.0->sentence-transformers) (3.1.4)\n",
            "Requirement already satisfied: numpy>=1.17 in /usr/local/lib/python3.10/dist-packages (from transformers<5.0.0,>=4.41.0->sentence-transformers) (1.26.4)\n",
            "Requirement already satisfied: regex!=2019.12.17 in /usr/local/lib/python3.10/dist-packages (from transformers<5.0.0,>=4.41.0->sentence-transformers) (2024.9.11)\n",
            "Requirement already satisfied: safetensors>=0.4.1 in /usr/local/lib/python3.10/dist-packages (from transformers<5.0.0,>=4.41.0->sentence-transformers) (0.4.5)\n",
            "Requirement already satisfied: tokenizers<0.20,>=0.19 in /usr/local/lib/python3.10/dist-packages (from transformers<5.0.0,>=4.41.0->sentence-transformers) (0.19.1)\n",
            "Requirement already satisfied: joblib>=1.2.0 in /usr/local/lib/python3.10/dist-packages (from scikit-learn->sentence-transformers) (1.4.2)\n",
            "Requirement already satisfied: threadpoolctl>=3.1.0 in /usr/local/lib/python3.10/dist-packages (from scikit-learn->sentence-transformers) (3.5.0)\n",
            "Requirement already satisfied: MarkupSafe>=2.0 in /usr/local/lib/python3.10/dist-packages (from jinja2->torch>=1.11.0->sentence-transformers) (3.0.1)\n",
            "Requirement already satisfied: charset-normalizer<4,>=2 in /usr/local/lib/python3.10/dist-packages (from requests->huggingface-hub>=0.20.0->sentence-transformers) (3.4.0)\n",
            "Requirement already satisfied: idna<4,>=2.5 in /usr/local/lib/python3.10/dist-packages (from requests->huggingface-hub>=0.20.0->sentence-transformers) (3.10)\n",
            "Requirement already satisfied: urllib3<3,>=1.21.1 in /usr/local/lib/python3.10/dist-packages (from requests->huggingface-hub>=0.20.0->sentence-transformers) (2.2.3)\n",
            "Requirement already satisfied: certifi>=2017.4.17 in /usr/local/lib/python3.10/dist-packages (from requests->huggingface-hub>=0.20.0->sentence-transformers) (2024.8.30)\n",
            "Requirement already satisfied: mpmath<1.4,>=1.1.0 in /usr/local/lib/python3.10/dist-packages (from sympy->torch>=1.11.0->sentence-transformers) (1.3.0)\n"
          ]
        }
      ]
    },
    {
      "cell_type": "markdown",
      "source": [
        "**사전 준비 - 문서 임베딩을 벡터스토어에 저장**"
      ],
      "metadata": {
        "id": "MsceE5oL9xr0"
      }
    },
    {
      "cell_type": "code",
      "source": [
        "!pip install faiss-gpu"
      ],
      "metadata": {
        "colab": {
          "base_uri": "https://localhost:8080/"
        },
        "id": "28X492EVV-Ae",
        "outputId": "9851b826-efc3-46c2-c8af-48e947e838f5"
      },
      "execution_count": 54,
      "outputs": [
        {
          "output_type": "stream",
          "name": "stdout",
          "text": [
            "Collecting faiss-gpu\n",
            "  Downloading faiss_gpu-1.7.2-cp310-cp310-manylinux_2_17_x86_64.manylinux2014_x86_64.whl.metadata (1.4 kB)\n",
            "Downloading faiss_gpu-1.7.2-cp310-cp310-manylinux_2_17_x86_64.manylinux2014_x86_64.whl (85.5 MB)\n",
            "\u001b[2K   \u001b[90m━━━━━━━━━━━━━━━━━━━━━━━━━━━━━━━━━━━━━━━━\u001b[0m \u001b[32m85.5/85.5 MB\u001b[0m \u001b[31m5.1 MB/s\u001b[0m eta \u001b[36m0:00:00\u001b[0m\n",
            "\u001b[?25hInstalling collected packages: faiss-gpu\n",
            "Successfully installed faiss-gpu-1.7.2\n"
          ]
        }
      ]
    },
    {
      "cell_type": "code",
      "source": [
        "# 벡터스토어에 문서 임베딩을 저장\n",
        "from langchain_community.vectorstores import FAISS\n",
        "from langchain_community.vectorstores.utils import DistanceStrategy\n",
        "from langchain_community.embeddings import HuggingFaceEmbeddings\n",
        "\n",
        "embeddings_model = HuggingFaceEmbeddings(\n",
        "    model_name='jhgan/ko-sbert-nli',\n",
        "    model_kwargs={'device':'cpu'},\n",
        "    encode_kwargs={'normalize_embeddings':True},\n",
        ")\n",
        "\n",
        "\n",
        "vectorstore = FAISS.from_documents(documents,\n",
        "                                   embedding = embeddings_model,\n",
        "                                   distance_strategy = DistanceStrategy.COSINE\n",
        "                                  )\n",
        "\n"
      ],
      "metadata": {
        "colab": {
          "base_uri": "https://localhost:8080/"
        },
        "id": "rlY2j_c1VsRU",
        "outputId": "05708052-e7d4-475e-992d-872d9cfb3ed2"
      },
      "execution_count": 67,
      "outputs": [
        {
          "output_type": "stream",
          "name": "stderr",
          "text": [
            "/usr/local/lib/python3.10/dist-packages/transformers/tokenization_utils_base.py:1601: FutureWarning: `clean_up_tokenization_spaces` was not set. It will be set to `True` by default. This behavior will be depracted in transformers v4.45, and will be then set to `False` by default. For more details check this issue: https://github.com/huggingface/transformers/issues/31884\n",
            "  warnings.warn(\n"
          ]
        }
      ]
    },
    {
      "cell_type": "markdown",
      "source": [
        "**단일 문서 검색**\n",
        "\n",
        "검색 쿼리를 정의한 후, `as_retriever`메소드를 사용하여 벡터스토어에서 Retriever 객체를 생성한다. `search_kwargs`에서 K:1을 설정하여 가장 유사도가 높은 하나의 문서를 검색한다."
      ],
      "metadata": {
        "id": "jG4Vrnmz98Pt"
      }
    },
    {
      "cell_type": "code",
      "source": [
        "# 검색 쿼리\n",
        "query = '삼성 가우스에 대해 설명해주세요'\n",
        "\n",
        "# 가장 유사도가 높은 문장을 하나만 추출\n",
        "retriever = vectorstore.as_retriever(search_kwargs={'k': 1})\n",
        "\n",
        "docs = retriever.get_relevant_documents(query)\n",
        "print(len(docs))\n",
        "docs[0]\n"
      ],
      "metadata": {
        "colab": {
          "base_uri": "https://localhost:8080/"
        },
        "id": "PEM2joxuV1I-",
        "outputId": "edb66d46-7d6e-4ae9-bbba-72b65bac678e"
      },
      "execution_count": 68,
      "outputs": [
        {
          "output_type": "stream",
          "name": "stdout",
          "text": [
            "1\n"
          ]
        },
        {
          "output_type": "stream",
          "name": "stderr",
          "text": [
            "<ipython-input-68-53367a8d4145>:7: LangChainDeprecationWarning: The method `BaseRetriever.get_relevant_documents` was deprecated in langchain-core 0.1.46 and will be removed in 1.0. Use :meth:`~invoke` instead.\n",
            "  docs = retriever.get_relevant_documents(query)\n"
          ]
        },
        {
          "output_type": "execute_result",
          "data": {
            "text/plain": [
              "Document(metadata={'source': '/content/SPRI_AI_Brief_2023년12월호_F.pdf', 'file_path': '/content/SPRI_AI_Brief_2023년12월호_F.pdf', 'page': 12, 'total_pages': 23, 'format': 'PDF 1.4', 'title': '', 'author': 'dj', 'subject': '', 'keywords': '', 'creator': 'Hwp 2018 10.0.0.13462', 'producer': 'Hancom PDF 1.3.0.542', 'creationDate': \"D:20231208132838+09'00'\", 'modDate': \"D:20231208132838+09'00'\", 'trapped': ''}, page_content='SPRi AI Brief |  \\n2023-12월호\\n10\\n삼성전자, 자체 개발 생성 AI ‘삼성 가우스’ 공개\\nn 삼성전자가 온디바이스에서 작동 가능하며 언어, 코드, 이미지의 3개 모델로 구성된 자체 개발 생성 \\nAI 모델 ‘삼성 가우스’를 공개\\nn 삼성전자는 삼성 가우스를 다양한 제품에 단계적으로 탑재할 계획으로, 온디바이스 작동이 가능한 \\n삼성 가우스는 외부로 사용자 정보가 유출될 위험이 없다는 장점을 보유\\nKEY Contents\\n£ 언어, 코드, 이미지의 3개 모델로 구성된 삼성 가우스, 온디바이스 작동 지원\\nn 삼성전자가 2023년 11월 8일 열린 ‘삼성 AI 포럼 2023’ 행사에서 자체 개발한 생성 AI 모델 \\n‘삼성 가우스’를 최초 공개\\n∙정규분포 이론을 정립한 천재 수학자 가우스(Gauss)의 이름을 본뜬 삼성 가우스는 다양한 상황에 \\n최적화된 크기의 모델 선택이 가능\\n∙삼성 가우스는 라이선스나 개인정보를 침해하지 않는 안전한 데이터를 통해 학습되었으며, \\n온디바이스에서 작동하도록 설계되어 외부로 사용자의 정보가 유출되지 않는 장점을 보유\\n∙삼성전자는 삼성 가우스를 활용한 온디바이스 AI 기술도 소개했으며, 생성 AI 모델을 다양한 제품에 \\n단계적으로 탑재할 계획\\nn 삼성 가우스는 △텍스트를 생성하는 언어모델 △코드를 생성하는 코드 모델 △이미지를 생성하는 \\n이미지 모델의 3개 모델로 구성\\n∙언어 모델은 클라우드와 온디바이스 대상 다양한 모델로 구성되며, 메일 작성, 문서 요약, 번역 업무의 \\n처리를 지원\\n∙코드 모델 기반의 AI 코딩 어시스턴트 ‘코드아이(code.i)’는 대화형 인터페이스로 서비스를 제공하며 \\n사내 소프트웨어 개발에 최적화\\n∙이미지 모델은 창의적인 이미지를 생성하고 기존 이미지를 원하는 대로 바꿀 수 있도록 지원하며 \\n저해상도 이미지의 고해상도 전환도 지원\\nn IT 전문지 테크리퍼블릭(TechRepublic)은 온디바이스 AI가 주요 기술 트렌드로 부상했다며, \\n2024년부터 가우스를 탑재한 삼성 스마트폰이 메타의 라마(Llama)2를 탑재한 퀄컴 기기 및 구글 \\n어시스턴트를 적용한 구글 픽셀(Pixel)과 경쟁할 것으로 예상')"
            ]
          },
          "metadata": {},
          "execution_count": 68
        }
      ]
    },
    {
      "cell_type": "markdown",
      "source": [
        "**MMR 검색1**\n",
        "\n",
        "상위 5개의 문서 검색, fetch_k는 후보 집합으로 선택되는 문서의 수를 의미함\n",
        "\n",
        "lambda_mult 설정은 유사도와 다양성 사이에서 적용될 수준을 의미한다. 0.5를 사용하면 중립적으로 적용하게 된다."
      ],
      "metadata": {
        "id": "VLm6b6XB-SWA"
      }
    },
    {
      "cell_type": "code",
      "source": [
        "# MMR - 다양성 고려 (lambda_mult = 0.5)\n",
        "retriever = vectorstore.as_retriever(\n",
        "    search_type='mmr',\n",
        "    search_kwargs={'k': 5, 'fetch_k': 20}\n",
        ")\n",
        "\n",
        "docs = retriever.get_relevant_documents(query)\n",
        "print(len(docs))\n",
        "docs[0]"
      ],
      "metadata": {
        "colab": {
          "base_uri": "https://localhost:8080/"
        },
        "id": "BYEZNLCKV1Km",
        "outputId": "785842bf-b15c-4cb2-aaf9-8c5596e2ab26"
      },
      "execution_count": 69,
      "outputs": [
        {
          "output_type": "stream",
          "name": "stdout",
          "text": [
            "5\n"
          ]
        },
        {
          "output_type": "execute_result",
          "data": {
            "text/plain": [
              "Document(metadata={'source': '/content/SPRI_AI_Brief_2023년12월호_F.pdf', 'file_path': '/content/SPRI_AI_Brief_2023년12월호_F.pdf', 'page': 12, 'total_pages': 23, 'format': 'PDF 1.4', 'title': '', 'author': 'dj', 'subject': '', 'keywords': '', 'creator': 'Hwp 2018 10.0.0.13462', 'producer': 'Hancom PDF 1.3.0.542', 'creationDate': \"D:20231208132838+09'00'\", 'modDate': \"D:20231208132838+09'00'\", 'trapped': ''}, page_content='SPRi AI Brief |  \\n2023-12월호\\n10\\n삼성전자, 자체 개발 생성 AI ‘삼성 가우스’ 공개\\nn 삼성전자가 온디바이스에서 작동 가능하며 언어, 코드, 이미지의 3개 모델로 구성된 자체 개발 생성 \\nAI 모델 ‘삼성 가우스’를 공개\\nn 삼성전자는 삼성 가우스를 다양한 제품에 단계적으로 탑재할 계획으로, 온디바이스 작동이 가능한 \\n삼성 가우스는 외부로 사용자 정보가 유출될 위험이 없다는 장점을 보유\\nKEY Contents\\n£ 언어, 코드, 이미지의 3개 모델로 구성된 삼성 가우스, 온디바이스 작동 지원\\nn 삼성전자가 2023년 11월 8일 열린 ‘삼성 AI 포럼 2023’ 행사에서 자체 개발한 생성 AI 모델 \\n‘삼성 가우스’를 최초 공개\\n∙정규분포 이론을 정립한 천재 수학자 가우스(Gauss)의 이름을 본뜬 삼성 가우스는 다양한 상황에 \\n최적화된 크기의 모델 선택이 가능\\n∙삼성 가우스는 라이선스나 개인정보를 침해하지 않는 안전한 데이터를 통해 학습되었으며, \\n온디바이스에서 작동하도록 설계되어 외부로 사용자의 정보가 유출되지 않는 장점을 보유\\n∙삼성전자는 삼성 가우스를 활용한 온디바이스 AI 기술도 소개했으며, 생성 AI 모델을 다양한 제품에 \\n단계적으로 탑재할 계획\\nn 삼성 가우스는 △텍스트를 생성하는 언어모델 △코드를 생성하는 코드 모델 △이미지를 생성하는 \\n이미지 모델의 3개 모델로 구성\\n∙언어 모델은 클라우드와 온디바이스 대상 다양한 모델로 구성되며, 메일 작성, 문서 요약, 번역 업무의 \\n처리를 지원\\n∙코드 모델 기반의 AI 코딩 어시스턴트 ‘코드아이(code.i)’는 대화형 인터페이스로 서비스를 제공하며 \\n사내 소프트웨어 개발에 최적화\\n∙이미지 모델은 창의적인 이미지를 생성하고 기존 이미지를 원하는 대로 바꿀 수 있도록 지원하며 \\n저해상도 이미지의 고해상도 전환도 지원\\nn IT 전문지 테크리퍼블릭(TechRepublic)은 온디바이스 AI가 주요 기술 트렌드로 부상했다며, \\n2024년부터 가우스를 탑재한 삼성 스마트폰이 메타의 라마(Llama)2를 탑재한 퀄컴 기기 및 구글 \\n어시스턴트를 적용한 구글 픽셀(Pixel)과 경쟁할 것으로 예상')"
            ]
          },
          "metadata": {},
          "execution_count": 69
        }
      ]
    },
    {
      "cell_type": "markdown",
      "source": [
        "**MMR 검색2**\n",
        "\n",
        "검색 결과의 관련성과 다양성을 균형있게 조정하는 방식\n",
        "\n",
        "`lambda_mult` 매개 변수는 관련성과 다양성 사이의 균형 조절\n",
        "\n",
        "0.15인 경우 관련성보다는 다양성을 우선으로 한다"
      ],
      "metadata": {
        "id": "mv17_tcE-rh2"
      }
    },
    {
      "cell_type": "code",
      "source": [
        "# MMR - 다양성 고려 (lambda_mult 작을수록 더 다양하게 추출)\n",
        "retriever = vectorstore.as_retriever(\n",
        "    search_type='mmr',\n",
        "    search_kwargs={'k': 5, 'lambda_mult': 0.15}\n",
        ")\n",
        "\n",
        "docs = retriever.get_relevant_documents(query)\n",
        "print(len(docs))\n",
        "docs[-1]\n"
      ],
      "metadata": {
        "colab": {
          "base_uri": "https://localhost:8080/"
        },
        "id": "fj-CB8lEXtyx",
        "outputId": "6c668c77-4e19-44d5-9fee-fc1020c81e7b"
      },
      "execution_count": 70,
      "outputs": [
        {
          "output_type": "stream",
          "name": "stdout",
          "text": [
            "5\n"
          ]
        },
        {
          "output_type": "execute_result",
          "data": {
            "text/plain": [
              "Document(metadata={'source': '/content/SPRI_AI_Brief_2023년12월호_F.pdf', 'file_path': '/content/SPRI_AI_Brief_2023년12월호_F.pdf', 'page': 21, 'total_pages': 23, 'format': 'PDF 1.4', 'title': '', 'author': 'dj', 'subject': '', 'keywords': '', 'creator': 'Hwp 2018 10.0.0.13462', 'producer': 'Hancom PDF 1.3.0.542', 'creationDate': \"D:20231208132838+09'00'\", 'modDate': \"D:20231208132838+09'00'\", 'trapped': ''}, page_content='행사명\\n행사 주요 개요\\nCES 2024\\n- 미국 소비자기술 협회(CTA)가 주관하는 세계 최대 가전·IT·소\\n비재 전시회로 5G, AR&VR, 디지털헬스, 교통·모빌리티 등 \\n주요 카테고리 중심으로 기업들이 최신의 기술 제품군을 전시\\n- CTA 사피로 회장은 가장 주목받는 섹터로 AI를 조명하였으며, \\n모든 산업을 포괄한다는 의미에서 ‘올 온(All on)’을 주제로 한 \\n이번 전시에는 500곳 이상의 한국기업 참가 예정\\n기간\\n장소 \\n홈페이지\\n2024.1.9~12\\n미국, 라스베가스\\nhttps://www.ces.tech/\\nAIMLA 2024\\n- 머신러닝 및 응용에 관한 국제 컨퍼런스(AIMLA 2024)는 \\n인공지능 및 머신러닝의 이론, 방법론 및 실용적 접근에 관한 \\n지식과 최신 연구 결과 공유\\n- 이론 및 실무 측면에서 인공지능, 기계학습의 주요 분야를 \\n논의하고, 학계, 산업계의 연구자와 실무자들에게 해당 분\\n야의 최첨단 개발 소식 공유\\n기간\\n장소 \\n홈페이지\\n2024.1.27~28\\n덴마크, 코펜하겐\\nhttps://ccnet2024.org/aimla\\n/index\\nAAAI Conference \\non Artificial \\nIntelligence\\n- AI 발전 협회 컨퍼런스(AAAI)는 AI 연구를 촉진하고, AI 분야 \\n연구원, 실무자, 과학자, 학생 및 공학자 간 교류의 기회 제공\\n- 컨퍼런스에서 AI 관련 기술 발표, 특별 트랙, 초청 연사, \\n워크숍, 튜토리얼, 포스터 세션, 주제 발표, 대회, 전시 프\\n로그램 등 진행   \\n기간\\n장소 \\n홈페이지\\n2024.2.20~27\\n캐나다, 밴쿠버\\nhttps://aaai.org/aaai-confere\\nnce/\\nⅡ. 주요 행사 일정')"
            ]
          },
          "metadata": {},
          "execution_count": 70
        }
      ]
    },
    {
      "cell_type": "markdown",
      "source": [
        "**유사도 점수 임계값 기반 검색**\n",
        "\n",
        "score_threshold 유사도 점수 이상인 문서만을 대상으로 추출\n",
        "\n",
        "퀴리 문장과 최소한 0.3 이상의 유사도를 가진 문서만을 검색결과로 반환\n"
      ],
      "metadata": {
        "id": "TlQq7T_u_Ayl"
      }
    },
    {
      "cell_type": "code",
      "source": [
        "# Similarity score threshold (기준 스코어 이상인 문서를 대상으로 추출)\n",
        "retriever = vectorstore.as_retriever(\n",
        "    search_type='similarity_score_threshold',\n",
        "    search_kwargs={'score_threshold': 0.3}\n",
        ")\n",
        "\n",
        "docs = retriever.get_relevant_documents(query)\n",
        "print(len(docs))\n",
        "docs[0]\n"
      ],
      "metadata": {
        "colab": {
          "base_uri": "https://localhost:8080/"
        },
        "id": "mMWyue7BXuRN",
        "outputId": "a37108bb-89c5-4a7b-ed02-b71111135363"
      },
      "execution_count": 71,
      "outputs": [
        {
          "output_type": "stream",
          "name": "stdout",
          "text": [
            "1\n"
          ]
        },
        {
          "output_type": "stream",
          "name": "stderr",
          "text": [
            "/usr/local/lib/python3.10/dist-packages/langchain_core/vectorstores/base.py:1083: UserWarning: Relevance scores must be between 0 and 1, got [(Document(metadata={'source': '/content/SPRI_AI_Brief_2023년12월호_F.pdf', 'file_path': '/content/SPRI_AI_Brief_2023년12월호_F.pdf', 'page': 12, 'total_pages': 23, 'format': 'PDF 1.4', 'title': '', 'author': 'dj', 'subject': '', 'keywords': '', 'creator': 'Hwp 2018 10.0.0.13462', 'producer': 'Hancom PDF 1.3.0.542', 'creationDate': \"D:20231208132838+09'00'\", 'modDate': \"D:20231208132838+09'00'\", 'trapped': ''}, page_content='SPRi AI Brief |  \\n2023-12월호\\n10\\n삼성전자, 자체 개발 생성 AI ‘삼성 가우스’ 공개\\nn 삼성전자가 온디바이스에서 작동 가능하며 언어, 코드, 이미지의 3개 모델로 구성된 자체 개발 생성 \\nAI 모델 ‘삼성 가우스’를 공개\\nn 삼성전자는 삼성 가우스를 다양한 제품에 단계적으로 탑재할 계획으로, 온디바이스 작동이 가능한 \\n삼성 가우스는 외부로 사용자 정보가 유출될 위험이 없다는 장점을 보유\\nKEY Contents\\n£ 언어, 코드, 이미지의 3개 모델로 구성된 삼성 가우스, 온디바이스 작동 지원\\nn 삼성전자가 2023년 11월 8일 열린 ‘삼성 AI 포럼 2023’ 행사에서 자체 개발한 생성 AI 모델 \\n‘삼성 가우스’를 최초 공개\\n∙정규분포 이론을 정립한 천재 수학자 가우스(Gauss)의 이름을 본뜬 삼성 가우스는 다양한 상황에 \\n최적화된 크기의 모델 선택이 가능\\n∙삼성 가우스는 라이선스나 개인정보를 침해하지 않는 안전한 데이터를 통해 학습되었으며, \\n온디바이스에서 작동하도록 설계되어 외부로 사용자의 정보가 유출되지 않는 장점을 보유\\n∙삼성전자는 삼성 가우스를 활용한 온디바이스 AI 기술도 소개했으며, 생성 AI 모델을 다양한 제품에 \\n단계적으로 탑재할 계획\\nn 삼성 가우스는 △텍스트를 생성하는 언어모델 △코드를 생성하는 코드 모델 △이미지를 생성하는 \\n이미지 모델의 3개 모델로 구성\\n∙언어 모델은 클라우드와 온디바이스 대상 다양한 모델로 구성되며, 메일 작성, 문서 요약, 번역 업무의 \\n처리를 지원\\n∙코드 모델 기반의 AI 코딩 어시스턴트 ‘코드아이(code.i)’는 대화형 인터페이스로 서비스를 제공하며 \\n사내 소프트웨어 개발에 최적화\\n∙이미지 모델은 창의적인 이미지를 생성하고 기존 이미지를 원하는 대로 바꿀 수 있도록 지원하며 \\n저해상도 이미지의 고해상도 전환도 지원\\nn IT 전문지 테크리퍼블릭(TechRepublic)은 온디바이스 AI가 주요 기술 트렌드로 부상했다며, \\n2024년부터 가우스를 탑재한 삼성 스마트폰이 메타의 라마(Llama)2를 탑재한 퀄컴 기기 및 구글 \\n어시스턴트를 적용한 구글 픽셀(Pixel)과 경쟁할 것으로 예상'), 0.3203277587890625), (Document(metadata={'source': '/content/SPRI_AI_Brief_2023년12월호_F.pdf', 'file_path': '/content/SPRI_AI_Brief_2023년12월호_F.pdf', 'page': 12, 'total_pages': 23, 'format': 'PDF 1.4', 'title': '', 'author': 'dj', 'subject': '', 'keywords': '', 'creator': 'Hwp 2018 10.0.0.13462', 'producer': 'Hancom PDF 1.3.0.542', 'creationDate': \"D:20231208132838+09'00'\", 'modDate': \"D:20231208132838+09'00'\", 'trapped': ''}, page_content='저해상도 이미지의 고해상도 전환도 지원\\nn IT 전문지 테크리퍼블릭(TechRepublic)은 온디바이스 AI가 주요 기술 트렌드로 부상했다며, \\n2024년부터 가우스를 탑재한 삼성 스마트폰이 메타의 라마(Llama)2를 탑재한 퀄컴 기기 및 구글 \\n어시스턴트를 적용한 구글 픽셀(Pixel)과 경쟁할 것으로 예상\\n☞ 출처 : 삼성전자, ‘삼성 AI 포럼’서 자체 개발 생성형 AI ‘삼성 가우스’ 공개, 2023.11.08.\\n삼성전자, ‘삼성 개발자 콘퍼런스 코리아 2023’ 개최, 2023.11.14.\\nTechRepublic, Samsung Gauss: Samsung Research Reveals Generative AI, 2023.11.08.'), 0.18935132026672363), (Document(metadata={'source': '/content/SPRI_AI_Brief_2023년12월호_F.pdf', 'file_path': '/content/SPRI_AI_Brief_2023년12월호_F.pdf', 'page': 21, 'total_pages': 23, 'format': 'PDF 1.4', 'title': '', 'author': 'dj', 'subject': '', 'keywords': '', 'creator': 'Hwp 2018 10.0.0.13462', 'producer': 'Hancom PDF 1.3.0.542', 'creationDate': \"D:20231208132838+09'00'\", 'modDate': \"D:20231208132838+09'00'\", 'trapped': ''}, page_content='행사명\\n행사 주요 개요\\nCES 2024\\n- 미국 소비자기술 협회(CTA)가 주관하는 세계 최대 가전·IT·소\\n비재 전시회로 5G, AR&VR, 디지털헬스, 교통·모빌리티 등 \\n주요 카테고리 중심으로 기업들이 최신의 기술 제품군을 전시\\n- CTA 사피로 회장은 가장 주목받는 섹터로 AI를 조명하였으며, \\n모든 산업을 포괄한다는 의미에서 ‘올 온(All on)’을 주제로 한 \\n이번 전시에는 500곳 이상의 한국기업 참가 예정\\n기간\\n장소 \\n홈페이지\\n2024.1.9~12\\n미국, 라스베가스\\nhttps://www.ces.tech/\\nAIMLA 2024\\n- 머신러닝 및 응용에 관한 국제 컨퍼런스(AIMLA 2024)는 \\n인공지능 및 머신러닝의 이론, 방법론 및 실용적 접근에 관한 \\n지식과 최신 연구 결과 공유\\n- 이론 및 실무 측면에서 인공지능, 기계학습의 주요 분야를 \\n논의하고, 학계, 산업계의 연구자와 실무자들에게 해당 분\\n야의 최첨단 개발 소식 공유\\n기간\\n장소 \\n홈페이지\\n2024.1.27~28\\n덴마크, 코펜하겐\\nhttps://ccnet2024.org/aimla\\n/index\\nAAAI Conference \\non Artificial \\nIntelligence\\n- AI 발전 협회 컨퍼런스(AAAI)는 AI 연구를 촉진하고, AI 분야 \\n연구원, 실무자, 과학자, 학생 및 공학자 간 교류의 기회 제공\\n- 컨퍼런스에서 AI 관련 기술 발표, 특별 트랙, 초청 연사, \\n워크숍, 튜토리얼, 포스터 세션, 주제 발표, 대회, 전시 프\\n로그램 등 진행   \\n기간\\n장소 \\n홈페이지\\n2024.2.20~27\\n캐나다, 밴쿠버\\nhttps://aaai.org/aaai-confere\\nnce/\\nⅡ. 주요 행사 일정'), -0.23649883270263672), (Document(metadata={'source': '/content/SPRI_AI_Brief_2023년12월호_F.pdf', 'file_path': '/content/SPRI_AI_Brief_2023년12월호_F.pdf', 'page': 18, 'total_pages': 23, 'format': 'PDF 1.4', 'title': '', 'author': 'dj', 'subject': '', 'keywords': '', 'creator': 'Hwp 2018 10.0.0.13462', 'producer': 'Hancom PDF 1.3.0.542', 'creationDate': \"D:20231208132838+09'00'\", 'modDate': \"D:20231208132838+09'00'\", 'trapped': ''}, page_content='16\\n구글 딥마인드, 범용 AI 모델의 기능과 동작에 대한 분류 체계 발표\\nn 구글 딥마인드 연구진이 성능과 범용성, 자율성을 기준으로 범용 AI(AGI)의 수준을 \\n0~5단계까지 총 6단계로 구분한 프레임워크를 공개\\nn 현재 AGI는 단백질 구조를 예측하는 알파폴드와 같은 특정 용도에서는 5단계 수준을 달성했지만 \\n광범위하게 활용될 수 있는 범용에서는 1단계 수준에 머물러 있음\\nKEY Contents\\n£ 챗GPT와 구글 바드와 같은 AI 챗봇은 범용 AI 1단계 수준\\nn 구글 딥마인드 연구진은 2023년 11월 4일 범용 AI(Artificial General Intelligence, AGI) 모델을 용도와 \\n성능에 따라 분류하는 프레임워크를 제시한 논문을 발표\\n∙프레임워크의 목적은 AGI의 성능, 범용성, 자율성 수준을 정의하여 모델 간 비교와 위험 평가, AGI \\n달성까지의 진행 상황을 측정할 수 있는 공통 기준을 제공하기 위함\\nn 연구진은 AGI 개념 정의에 필요한 기준을 수립하기 위한 6가지 원칙을 아래와 같이 도출\\n∙(프로세스가 아닌 기능에 중점) AI가 어떻게 작동하는지보다 무엇을 할 수 있는지가 더 중요\\n∙(범용성과 성능을 모두 평가) 진정한 AGI는 인간을 능가하는 폭넓은 범용성과 기술의 깊이를 모두 요구\\n∙(인지와 메타인지 작업에 중점) 물리적 작업의 수행 능력은 AGI의 필수 전제조건이 아니며, 인지 작업과 \\n메타인지 작업(예; 새로운 작업의 학습 능력, 인간에게 도움을 요청할 시점을 아는 능력)이 핵심\\n∙(실제 구현보다 잠재력에 집중) 통제된 상황에서 발휘되는 성능에 따라 AGI를 규정하고 테스트를 진행 \\n∙(생태학적 타당도를 갖춘 벤치마크 사용) AGI에 대한 벤치마크는 사람들이 경제적· 사회적 또는 예술적으로 \\n가치 있게 여기는 실질적인 작업을 대상으로 성능 평가 필요\\n∙(종점이 아닌 AGI를 향한 경로에 중점) 단계별 접근방식을 통해 AGI의 발전 상태를 점진적으로 측정\\nn 연구진은 상기 원칙에 따라 AI를 성능에 따라 0~5단계와 광범위한 목적에 활용될 수 있는 범용 AI 및 특정'), -0.29913604259490967)]\n",
            "  self.vectorstore.similarity_search_with_relevance_scores(\n"
          ]
        },
        {
          "output_type": "execute_result",
          "data": {
            "text/plain": [
              "Document(metadata={'source': '/content/SPRI_AI_Brief_2023년12월호_F.pdf', 'file_path': '/content/SPRI_AI_Brief_2023년12월호_F.pdf', 'page': 12, 'total_pages': 23, 'format': 'PDF 1.4', 'title': '', 'author': 'dj', 'subject': '', 'keywords': '', 'creator': 'Hwp 2018 10.0.0.13462', 'producer': 'Hancom PDF 1.3.0.542', 'creationDate': \"D:20231208132838+09'00'\", 'modDate': \"D:20231208132838+09'00'\", 'trapped': ''}, page_content='SPRi AI Brief |  \\n2023-12월호\\n10\\n삼성전자, 자체 개발 생성 AI ‘삼성 가우스’ 공개\\nn 삼성전자가 온디바이스에서 작동 가능하며 언어, 코드, 이미지의 3개 모델로 구성된 자체 개발 생성 \\nAI 모델 ‘삼성 가우스’를 공개\\nn 삼성전자는 삼성 가우스를 다양한 제품에 단계적으로 탑재할 계획으로, 온디바이스 작동이 가능한 \\n삼성 가우스는 외부로 사용자 정보가 유출될 위험이 없다는 장점을 보유\\nKEY Contents\\n£ 언어, 코드, 이미지의 3개 모델로 구성된 삼성 가우스, 온디바이스 작동 지원\\nn 삼성전자가 2023년 11월 8일 열린 ‘삼성 AI 포럼 2023’ 행사에서 자체 개발한 생성 AI 모델 \\n‘삼성 가우스’를 최초 공개\\n∙정규분포 이론을 정립한 천재 수학자 가우스(Gauss)의 이름을 본뜬 삼성 가우스는 다양한 상황에 \\n최적화된 크기의 모델 선택이 가능\\n∙삼성 가우스는 라이선스나 개인정보를 침해하지 않는 안전한 데이터를 통해 학습되었으며, \\n온디바이스에서 작동하도록 설계되어 외부로 사용자의 정보가 유출되지 않는 장점을 보유\\n∙삼성전자는 삼성 가우스를 활용한 온디바이스 AI 기술도 소개했으며, 생성 AI 모델을 다양한 제품에 \\n단계적으로 탑재할 계획\\nn 삼성 가우스는 △텍스트를 생성하는 언어모델 △코드를 생성하는 코드 모델 △이미지를 생성하는 \\n이미지 모델의 3개 모델로 구성\\n∙언어 모델은 클라우드와 온디바이스 대상 다양한 모델로 구성되며, 메일 작성, 문서 요약, 번역 업무의 \\n처리를 지원\\n∙코드 모델 기반의 AI 코딩 어시스턴트 ‘코드아이(code.i)’는 대화형 인터페이스로 서비스를 제공하며 \\n사내 소프트웨어 개발에 최적화\\n∙이미지 모델은 창의적인 이미지를 생성하고 기존 이미지를 원하는 대로 바꿀 수 있도록 지원하며 \\n저해상도 이미지의 고해상도 전환도 지원\\nn IT 전문지 테크리퍼블릭(TechRepublic)은 온디바이스 AI가 주요 기술 트렌드로 부상했다며, \\n2024년부터 가우스를 탑재한 삼성 스마트폰이 메타의 라마(Llama)2를 탑재한 퀄컴 기기 및 구글 \\n어시스턴트를 적용한 구글 픽셀(Pixel)과 경쟁할 것으로 예상')"
            ]
          },
          "metadata": {},
          "execution_count": 71
        }
      ]
    },
    {
      "cell_type": "markdown",
      "source": [
        "**메타데이터 필터링을 사용한 검색**\n",
        "\n",
        "메타데이터의 특정 필드에 대해 기준을 설정하고 조건을 충족하는 문서만을 필터링하여 검색."
      ],
      "metadata": {
        "id": "_S3DXtmW_R1L"
      }
    },
    {
      "cell_type": "code",
      "source": [
        "# 문서 객체의 metadata를 이용한 필터링\n",
        "retriever = vectorstore.as_retriever(\n",
        "    search_kwargs={'filter': {'format':'PDF 1.4'}}\n",
        ")\n",
        "\n",
        "docs = retriever.get_relevant_documents(query)\n",
        "print(len(docs))\n",
        "docs[0]\n"
      ],
      "metadata": {
        "colab": {
          "base_uri": "https://localhost:8080/"
        },
        "id": "bdDFUWvXXxEV",
        "outputId": "bdab687a-ed1d-4d3e-eba8-9c320a0baf24"
      },
      "execution_count": 72,
      "outputs": [
        {
          "output_type": "stream",
          "name": "stdout",
          "text": [
            "4\n"
          ]
        },
        {
          "output_type": "execute_result",
          "data": {
            "text/plain": [
              "Document(metadata={'source': '/content/SPRI_AI_Brief_2023년12월호_F.pdf', 'file_path': '/content/SPRI_AI_Brief_2023년12월호_F.pdf', 'page': 12, 'total_pages': 23, 'format': 'PDF 1.4', 'title': '', 'author': 'dj', 'subject': '', 'keywords': '', 'creator': 'Hwp 2018 10.0.0.13462', 'producer': 'Hancom PDF 1.3.0.542', 'creationDate': \"D:20231208132838+09'00'\", 'modDate': \"D:20231208132838+09'00'\", 'trapped': ''}, page_content='SPRi AI Brief |  \\n2023-12월호\\n10\\n삼성전자, 자체 개발 생성 AI ‘삼성 가우스’ 공개\\nn 삼성전자가 온디바이스에서 작동 가능하며 언어, 코드, 이미지의 3개 모델로 구성된 자체 개발 생성 \\nAI 모델 ‘삼성 가우스’를 공개\\nn 삼성전자는 삼성 가우스를 다양한 제품에 단계적으로 탑재할 계획으로, 온디바이스 작동이 가능한 \\n삼성 가우스는 외부로 사용자 정보가 유출될 위험이 없다는 장점을 보유\\nKEY Contents\\n£ 언어, 코드, 이미지의 3개 모델로 구성된 삼성 가우스, 온디바이스 작동 지원\\nn 삼성전자가 2023년 11월 8일 열린 ‘삼성 AI 포럼 2023’ 행사에서 자체 개발한 생성 AI 모델 \\n‘삼성 가우스’를 최초 공개\\n∙정규분포 이론을 정립한 천재 수학자 가우스(Gauss)의 이름을 본뜬 삼성 가우스는 다양한 상황에 \\n최적화된 크기의 모델 선택이 가능\\n∙삼성 가우스는 라이선스나 개인정보를 침해하지 않는 안전한 데이터를 통해 학습되었으며, \\n온디바이스에서 작동하도록 설계되어 외부로 사용자의 정보가 유출되지 않는 장점을 보유\\n∙삼성전자는 삼성 가우스를 활용한 온디바이스 AI 기술도 소개했으며, 생성 AI 모델을 다양한 제품에 \\n단계적으로 탑재할 계획\\nn 삼성 가우스는 △텍스트를 생성하는 언어모델 △코드를 생성하는 코드 모델 △이미지를 생성하는 \\n이미지 모델의 3개 모델로 구성\\n∙언어 모델은 클라우드와 온디바이스 대상 다양한 모델로 구성되며, 메일 작성, 문서 요약, 번역 업무의 \\n처리를 지원\\n∙코드 모델 기반의 AI 코딩 어시스턴트 ‘코드아이(code.i)’는 대화형 인터페이스로 서비스를 제공하며 \\n사내 소프트웨어 개발에 최적화\\n∙이미지 모델은 창의적인 이미지를 생성하고 기존 이미지를 원하는 대로 바꿀 수 있도록 지원하며 \\n저해상도 이미지의 고해상도 전환도 지원\\nn IT 전문지 테크리퍼블릭(TechRepublic)은 온디바이스 AI가 주요 기술 트렌드로 부상했다며, \\n2024년부터 가우스를 탑재한 삼성 스마트폰이 메타의 라마(Llama)2를 탑재한 퀄컴 기기 및 구글 \\n어시스턴트를 적용한 구글 픽셀(Pixel)과 경쟁할 것으로 예상')"
            ]
          },
          "metadata": {},
          "execution_count": 72
        }
      ]
    },
    {
      "cell_type": "markdown",
      "source": [
        "1. 검색 (Retrieval): vectorstore.as_retriever를 사용하여 MMR(Maximal Marginal Relevance) 검색 방식으로 문서를 검색합니다. search_kwargs에 k: 5와 lambda_mult: 0.15를 설정하여 상위 5개의 관련성이 높으면서도 다양한 문서를 선택합니다.\n",
        "\n",
        "2. 프롬프트 생성 (Prompt): ChatPromptTemplate를 사용하여 쿼리에 대한 답변을 생성하기 위한 템플릿을 정의합니다. 여기서 {context}는 검색된 문서의 내용이고, {question}은 사용자의 쿼리입니다.\n",
        "\n",
        "3. 모델 (Model): ChatOpenAI를 사용하여 OpenAI의 GPT 모델을 초기화합니다. 이 예에서는 'gpt-3.5-turbo-0125' 모델을 사용하며, temperature를 0으로 설정하여 결정론적인 응답을 생성하고, max_tokens를 500으로 설정하여 응답의 길이를 제한합니다.\n",
        "\n",
        "4. 문서 포맷팅 (Formatting Docs): 검색된 문서(docs)를 포맷팅하는 format_docs 함수를 정의합니다. 이 함수는 각 문서의 page_content를 가져와 두 개의 문단 사이에 두 개의 줄바꿈을 삽입하여 문자열로 결합합니다.\n",
        "\n",
        "5. 체인 실행 (Chain Execution): prompt | llm | StrOutputParser()를 사용하여 LLM 체인을 구성하고 실행합니다. 프롬프트를 통해 정의된 쿼리를 모델에 전달하고, 모델의 응답을 문자열로 파싱합니다.\n",
        "\n",
        "6. 실행 (Run): chain.invoke 메서드를 사용하여 체인을 실행합니다. context로는 포맷팅된 문서 내용이고, question은 사용자의 쿼리입니다. 최종 응답은 response 변수에 저장됩니다."
      ],
      "metadata": {
        "id": "uyA208KXX75u"
      }
    },
    {
      "cell_type": "code",
      "source": [
        "from langchain_openai import ChatOpenAI\n",
        "from langchain.prompts import ChatPromptTemplate\n",
        "from langchain_core.output_parsers import StrOutputParser\n",
        "\n",
        "retriever = vectorstore.as_retriever(\n",
        "    search_type='mmr',\n",
        "    search_kwargs = {'k':5, 'lambda_mult':0.15}\n",
        ")\n",
        "\n",
        "docs = retriever.get_relevant_documents(query)\n",
        "\n",
        "#prompt\n",
        "template = '''Answer the question based only on the following context:\n",
        "{context}\n",
        "\n",
        "Question: {question}\n",
        "'''\n",
        "\n",
        "prompt = ChatPromptTemplate.from_template(template)\n",
        "\n",
        "# Model\n",
        "llm = ChatOpenAI(\n",
        "    model = 'gpt-4o-mini',\n",
        "    temperature = 0,\n",
        "    max_tokens = 500,\n",
        ")\n",
        "\n",
        "def format_docs(docs):\n",
        "  return '\\n\\n'.join([d.page_content for d in docs])\n",
        "\n",
        "\n",
        "#chain\n",
        "chain = prompt | llm | StrOutputParser()\n",
        "\n",
        "# Run\n",
        "response = chain.invoke({'context':(format_docs(docs)),'question':query})\n",
        "\n",
        "response"
      ],
      "metadata": {
        "colab": {
          "base_uri": "https://localhost:8080/",
          "height": 162
        },
        "id": "cE56G9G8X69p",
        "outputId": "a4ef421a-ced0-4ac7-db97-40848f5e90f9"
      },
      "execution_count": 73,
      "outputs": [
        {
          "output_type": "execute_result",
          "data": {
            "text/plain": [
              "\"삼성 가우스는 삼성전자가 자체 개발한 생성 AI 모델로, 언어, 코드, 이미지의 3개 모델로 구성되어 있습니다. 이 모델은 온디바이스에서 작동 가능하며, 사용자 정보가 외부로 유출될 위험이 없다는 장점을 가지고 있습니다. 삼성전자는 2023년 11월 8일 열린 '삼성 AI 포럼 2023'에서 삼성 가우스를 최초 공개하였으며, 다양한 제품에 단계적으로 탑재할 계획입니다.\\n\\n삼성 가우스는 다음과 같은 세 가지 모델로 구성됩니다:\\n1. **언어 모델**: 메일 작성, 문서 요약, 번역 등의 작업을 지원하며, 클라우드와 온디바이스에서 다양한 모델로 구성됩니다.\\n2. **코드 모델**: AI 코딩 어시스턴트인 '코드아이(code.i)'를 통해 대화형 인터페이스로 서비스를 제공하며, 사내 소프트웨어 개발에 최적화되어 있습니다.\\n3. **이미지 모델**: 창의적인 이미지를 생성하고 기존 이미지를 원하는 대로 변경할 수 있으며, 저해상도 이미지를 고해상도로 전환하는 기능도 지원합니다.\\n\\n삼성 가우스는 정규분포 이론을 정립한 수학자 가우스의 이름을 따서 명명되었으며, 다양한 상황에 최적화된 크기의 모델 선택이 가능합니다. 이 모델은 안전한 데이터를 통해 학습되었으며, 라이선스나 개인정보를 침해하지 않는 방식으로 개발되었습니다.\""
            ],
            "application/vnd.google.colaboratory.intrinsic+json": {
              "type": "string"
            }
          },
          "metadata": {},
          "execution_count": 73
        }
      ]
    },
    {
      "cell_type": "markdown",
      "source": [
        "## Multi Query Retriever\n",
        "\n",
        "벡터스토어 검색도구(Vector Store Retriever)의 한계를 극복하기 위해 고안된 방법으로 용자가 입력한 쿼리의 의미를 다각도로 포착하여 검색 효율성을 높이고, LLM을 활용하여 사용자에게 보다 관련성 높고 정확한 정보를 제공하는 것을 목표함.\n",
        "\n",
        "다양한 문장을 생성하기 위하여 LLM을 사용하여 사용자의 입력 문장을 다양한 관점으로 패러프레이징(Paraphrasing)하는 방식으로 구현\n",
        "\n",
        "1. MultiQueryRetriever 설정 : from_llm 메서드를 통해, 기존 벡터저장소 검색도구(vectorstore.as_retriever())와 LLM 모델(llm)을 결합하여 MultiQueryRetriever 인스턴스 생성\n",
        "\n",
        "2. 로깅 설정 : 로깅을 설정하여 MultiQueryRetriever에 의해 생성되고 실행되는 쿼리들에 대한 정보를 로그로 기록하고 확인할 수 있음.\n",
        "\n",
        "3. 문서 검색 실행: get_relevant_documents 메서드를 사용하여 주어진 사용자 쿼리(question)에 대해 멀티 쿼리 기반의 문서 검색을 실행. 생성된 모든 쿼리에 대해 문서를 검색하고, 중복을 제거하여 고유한 문서들만을 결과로 반환\n",
        "\n",
        "4. 결과 확인 : 검색을 통해 반환된 고유 문서들의 수를 확인. 멀티 쿼리 접근 방식을 통해 얼마나 많은 관련 문서가 검색되었는지를 나타냄.\n"
      ],
      "metadata": {
        "id": "o5lnnn_sdp5H"
      }
    },
    {
      "cell_type": "code",
      "source": [
        "# 멀티 쿼리 생성\n",
        "from langchain.retrievers.multi_query import MultiQueryRetriever\n",
        "\n",
        "question = '미래의 AI 소프트웨어 매출 전망은 어떻게 되나요?'\n",
        "\n",
        "llm = ChatOpenAI(\n",
        "    model='gpt-3.5-turbo-0125',\n",
        "    temperature=0,\n",
        "    max_tokens=500,\n",
        ")\n",
        "\n",
        "retriever_from_llm = MultiQueryRetriever.from_llm(\n",
        "    retriever=vectorstore.as_retriever(), llm=llm\n",
        ")\n",
        "\n",
        "# Set logging for the queries\n",
        "import logging\n",
        "\n",
        "logging.basicConfig()\n",
        "logging.getLogger('langchain.retrievers.multi_query').setLevel(logging.INFO)\n",
        "\n",
        "unique_docs = retriever_from_llm.get_relevant_documents(query=question)\n",
        "len(unique_docs)"
      ],
      "metadata": {
        "colab": {
          "base_uri": "https://localhost:8080/"
        },
        "id": "-PYbFwJZef9F",
        "outputId": "4b1d25ac-57a2-4870-f739-d289f05a613a"
      },
      "execution_count": 74,
      "outputs": [
        {
          "output_type": "stream",
          "name": "stderr",
          "text": [
            "INFO:langchain.retrievers.multi_query:Generated queries: ['1. AI 소프트웨어의 미래 매출 전망은 무엇인가요?', '2. AI 소프트웨어의 매출이 어떻게 예상되고 있나요?', '3. 미래에 AI 소프트웨어의 매출이 어떻게 변화할 것으로 예상되나요?']\n"
          ]
        },
        {
          "output_type": "execute_result",
          "data": {
            "text/plain": [
              "7"
            ]
          },
          "metadata": {},
          "execution_count": 74
        }
      ]
    },
    {
      "cell_type": "code",
      "source": [
        "unique_docs[1]"
      ],
      "metadata": {
        "colab": {
          "base_uri": "https://localhost:8080/"
        },
        "id": "LN59bk6uekFM",
        "outputId": "87c37f80-bffd-4cd4-c0da-6d4c15af7d59"
      },
      "execution_count": 75,
      "outputs": [
        {
          "output_type": "execute_result",
          "data": {
            "text/plain": [
              "Document(metadata={'source': '/content/SPRI_AI_Brief_2023년12월호_F.pdf', 'file_path': '/content/SPRI_AI_Brief_2023년12월호_F.pdf', 'page': 14, 'total_pages': 23, 'format': 'PDF 1.4', 'title': '', 'author': 'dj', 'subject': '', 'keywords': '', 'creator': 'Hwp 2018 10.0.0.13462', 'producer': 'Hancom PDF 1.3.0.542', 'creationDate': \"D:20231208132838+09'00'\", 'modDate': \"D:20231208132838+09'00'\", 'trapped': ''}, page_content='연평균 성장률은 32.6%로 시장 전체를 웃돌 전망\\n∙애플리케이션 개발, 소프트웨어 품질과 수명주기 관리 소프트웨어, 애플리케이션 플랫폼을 포함하는 AI \\nAD&D는 향후 5년간 카테고리 중 가장 높은 38.7%의 연평균 성장률이 예상됨\\nn IDC에 따르면 경제적 불확실성과 시장 역학의 변화에도 AI와 자동화 기술에 대한 기업들의 투자 \\n의지는 확고하며, 기업들은 AI 도입이 사업 성공과 경쟁우위에 필수적이라고 인식\\n∙IDC 설문조사에 따르면 향후 12개월 동안 응답자의 3분의 1은 기업이 특정 사용 사례나 응용 영역에서 \\n외부 AI 소프트웨어의 구매를 고려하거나 외부 AI 소프트웨어와 내부 자원의 결합을 고려\\nn 한편, AI 소프트웨어 시장에 포함되지 않는 생성 AI 플랫폼과 애플리케이션은 2027년까지 283억 \\n달러의 매출을 창출할 전망 \\n☞ 출처 : IDC, IDC Forecasts Revenue for Artificial Intelligence Software Will Reach $279 Billion Worldwide in \\n2027, 2023.10.31.')"
            ]
          },
          "metadata": {},
          "execution_count": 75
        }
      ]
    },
    {
      "cell_type": "markdown",
      "source": [
        "retriever_from_llm을 활용하여 여러 쿼리를 생성하고 검색된 문서를 기반으로 사용자 질문에 답변하는 과정\n",
        "\n",
        "1. 프롬프트 설정 : 사용자의 질문에 대한 답변을 생성하기 위한 프롬프트 템플릿 정의. 여기서 {context}는 검색된 문서의 내용을 나타내고, {question}은 사용자의 질문이다.\n",
        "\n",
        "2. 모델 초기화 :  ChatOpenAI 클래스를 사용하여 모델 초기화. temperature를 0으로 설정하여 일관된 답변을 생성\n",
        "\n",
        "3. 문서 포맷팅 함수 정의 : 검색된 문서들을 하나의 문자열로 포맷팅하는 함수를 정의. 각 문서 내용을 두개의 줄바꿈으로 구분하여 결합\n",
        "\n",
        "4. 체인 정의 및 실행 : RunnablePassthrough를 사용하여 사용자의 질문을 그대로 전달. 이후 검색된 문서(context)와 사용자의 질문(question)을 prompt에 전달하고, 생성된 프롬프트를 모델에 입력으로 제공. StrOutputParser를 사용하여 모델의 출력을 문자열로 파싱\n",
        "\n",
        "5. 실행 및 응답 생성 :  chain.invoke 메서드를 호출하여 전체 프로세스를 실행."
      ],
      "metadata": {
        "id": "u0CGH18ne5FD"
      }
    },
    {
      "cell_type": "code",
      "source": [
        "from langchain_openai import ChatOpenAI\n",
        "from langchain.prompts import ChatPromptTemplate\n",
        "from langchain_core.output_parsers import StrOutputParser\n",
        "from langchain.schema.runnable import RunnablePassthrough\n",
        "\n",
        "\n",
        "# Prompt\n",
        "template = '''Answer the question based only on the following context:\n",
        "{context}\n",
        "\n",
        "Question: {question}\n",
        "'''\n",
        "\n",
        "prompt = ChatPromptTemplate.from_template(template)\n",
        "\n",
        "# Model\n",
        "llm = ChatOpenAI(\n",
        "    model='gpt-4o-mini',\n",
        "    temperature=0,\n",
        ")\n",
        "\n",
        "def format_docs(docs):\n",
        "    return '\\n\\n'.join([d.page_content for d in docs])\n",
        "\n",
        "# Chain\n",
        "chain = (\n",
        "    {'context': retriever_from_llm | format_docs, 'question': RunnablePassthrough()}\n",
        "    | prompt\n",
        "    | llm\n",
        "    | StrOutputParser()\n",
        ")\n",
        "\n",
        "# Run\n",
        "response = chain.invoke('미래의 AI 소프트웨어 매출 전망을 요약해서 알려주세요.')\n",
        "response"
      ],
      "metadata": {
        "colab": {
          "base_uri": "https://localhost:8080/",
          "height": 128
        },
        "id": "ewhpIoUgfi4p",
        "outputId": "5f2c0a60-1faa-4565-e8c4-cd2a2aa49631"
      },
      "execution_count": 76,
      "outputs": [
        {
          "output_type": "stream",
          "name": "stderr",
          "text": [
            "INFO:langchain.retrievers.multi_query:Generated queries: ['1. AI 소프트웨어의 미래 매출 전망에 대한 간략한 요약을 알려주세요.', '2. 미래에 예상되는 AI 소프트웨어의 매출에 대한 요약 정보를 제공해 주세요.', '3. AI 소프트웨어의 매출 전망을 간단히 설명해 주실 수 있나요?']\n"
          ]
        },
        {
          "output_type": "execute_result",
          "data": {
            "text/plain": [
              "'미래의 AI 소프트웨어 매출 전망에 따르면, IDC는 AI 소프트웨어 시장이 2022년 640억 달러에서 2027년 2,510억 달러로 성장할 것으로 예상하며, 연평균 성장률은 31.4%에 이를 것으로 보입니다. 이 중 AI 애플리케이션은 2023년 전체 매출의 약 3분의 1을 차지하며, 2027년까지 21.1%의 연평균 성장률을 기록할 전망입니다. 생성 AI 플랫폼과 애플리케이션은 2027년까지 283억 달러의 매출을 창출할 것으로 예상됩니다.'"
            ],
            "application/vnd.google.colaboratory.intrinsic+json": {
              "type": "string"
            }
          },
          "metadata": {},
          "execution_count": 76
        }
      ]
    },
    {
      "cell_type": "markdown",
      "source": [
        "## Contextual Compression\n",
        "\n",
        "컨텍스트 압축 기법은 검색된 문서 중에서 쿼리와 관련된 정보만을 추출하여 반환하는 것을 목표로 함.\n",
        "쿼리와 무관한 정보를 제거하는 방식으로 답변의 품질을 높이고 비용을 줄일 수 있다.\n",
        "\n",
        "### 기본 검색기 정의\n",
        "1. 기본 검색기(Base Retriever) 설정\n",
        "\n",
        "  vectorstore.as_retriever 함수를 사용하여 기본 검색기를 설정\n",
        "  \n",
        "  search_type='mmr'와 search_kwargs={'k':7, 'fetch_k': 20}는 검색 방식을 설정\n",
        "\n",
        "  mmr 검색 방식은 다양성을 고려한 검색 결과를 제공하여, 단순히 가장 관련성 높은 문서만 반환하는 대신 다양한 관점에서 관련된 문서들을 선택\n",
        "\n",
        "2. 쿼리 처리 및 문서 검색\n",
        "\n",
        "  base_retriever.get_relevant_documents(question) 함수를 사용하여 주어진 쿼리에 대한 관련 문서 검색. 쿼리와 관련성 높은 문서들을 반환\n",
        "\n",
        "3. 결과 출력\n"
      ],
      "metadata": {
        "id": "KIZu8YXffvVp"
      }
    },
    {
      "cell_type": "code",
      "source": [
        "# 기본 검색기\n",
        "\n",
        "question = '미래의 AI 소프트웨어 매출 전망은 어떻게 되나요?'\n",
        "\n",
        "llm = ChatOpenAI(\n",
        "    model='gpt-4o-mini',\n",
        "    temperature=0,\n",
        "    max_tokens=500,\n",
        ")\n",
        "\n",
        "base_retriever = vectorstore.as_retriever(\n",
        "                                search_type='mmr',\n",
        "                                search_kwargs={'k':7, 'fetch_k': 20})\n",
        "\n",
        "docs = base_retriever.get_relevant_documents(question)\n",
        "print(len(docs))"
      ],
      "metadata": {
        "colab": {
          "base_uri": "https://localhost:8080/"
        },
        "id": "U67UK05yhMno",
        "outputId": "2a42f97a-3383-4137-afd1-33460d7775db"
      },
      "execution_count": 77,
      "outputs": [
        {
          "output_type": "stream",
          "name": "stdout",
          "text": [
            "7\n"
          ]
        }
      ]
    },
    {
      "cell_type": "markdown",
      "source": [
        "### 문서 압축기의 구성과 작동 방식\n",
        "\n",
        "기본 검색기로부터 얻은 문서들을 더욱 효율적으로 압축하여, 쿼리와 가장 관련이 깊은 내용만을 추려내는 것을 목표로 함. LLMChainExtractor와 ContextualCompressionRetriever 클래스를 사용\n",
        "\n",
        "1. LLMChainExtractor 설정\n",
        "\n",
        "  LLMChainExtractor.from_llm(llm)를 사용하여 문서 압축기 설정. 언어모델을 사용하여 문서 내용 압축\n",
        "\n",
        "2. ContextualCompressionRetriever 설정\n",
        "\n",
        "  ContextualCompressionRetriever 인스턴스를 생성할 때, base_compressor와 base_retriever를 인자로 제공\n",
        "\n",
        "  base_compressor는 앞서 설정한 LLMChainExtractor 인스턴스이며, base_retriever는 기본 검색기 인스턴스이다.\n",
        "\n",
        "  이 두 구성 요소를 결합하여 검색된 문서들을 압축하는 과정을 처리한다.\n",
        "\n",
        "3. 압축된 문서 검색\n",
        "\n",
        "  compression_retriever.get_relevant_documents(question) 함수를 사용하여 주어진 쿼리에 대한 압축된 문서들을 검색. 기본 검색기를 통해 얻은 문서들을 문서 압축기를 사용하여 내용을 압축하고, 쿼리와 가장 관련된 내용만을 추려낸다.\n",
        "\n",
        "4. 결과출력"
      ],
      "metadata": {
        "id": "aEWXcY8OhxPK"
      }
    },
    {
      "cell_type": "code",
      "source": [
        "# 문서 압축기를 연결하여 구성\n",
        "\n",
        "from langchain.retrievers import ContextualCompressionRetriever\n",
        "from langchain.retrievers.document_compressors import LLMChainExtractor\n",
        "\n",
        "compressor = LLMChainExtractor.from_llm(llm)\n",
        "compression_retriever = ContextualCompressionRetriever(\n",
        "    base_compressor=compressor, base_retriever=base_retriever\n",
        ")\n",
        "\n",
        "compressed_docs = compression_retriever.get_relevant_documents(question)\n",
        "print(len(compressed_docs))"
      ],
      "metadata": {
        "colab": {
          "base_uri": "https://localhost:8080/"
        },
        "id": "_E6zEKvLicxo",
        "outputId": "bb24a2e5-e134-4083-ddc4-065471035a33"
      },
      "execution_count": 78,
      "outputs": [
        {
          "output_type": "stream",
          "name": "stdout",
          "text": [
            "2\n"
          ]
        }
      ]
    },
    {
      "cell_type": "code",
      "source": [
        "compressed_docs"
      ],
      "metadata": {
        "colab": {
          "base_uri": "https://localhost:8080/"
        },
        "id": "kQCK4Y2TigdJ",
        "outputId": "570e079b-d287-41d5-a39f-df89306b8faa"
      },
      "execution_count": 79,
      "outputs": [
        {
          "output_type": "execute_result",
          "data": {
            "text/plain": [
              "[Document(metadata={'source': '/content/SPRI_AI_Brief_2023년12월호_F.pdf', 'file_path': '/content/SPRI_AI_Brief_2023년12월호_F.pdf', 'page': 14, 'total_pages': 23, 'format': 'PDF 1.4', 'title': '', 'author': 'dj', 'subject': '', 'keywords': '', 'creator': 'Hwp 2018 10.0.0.13462', 'producer': 'Hancom PDF 1.3.0.542', 'creationDate': \"D:20231208132838+09'00'\", 'modDate': \"D:20231208132838+09'00'\", 'trapped': ''}, page_content='n IDC의 예측에 의하면 AI 소프트웨어 시장은 2027년 2,510억 달러로 달할 전망이며, 생성 AI 플랫폼과 애플리케이션은 2027년까지 283억 달러의 매출을 창출할 전망  \\nn 2023년 기준 AI 소프트웨어 매출의 3분의 1을 차지하는 최대 시장인 AI 애플리케이션은 2027년까지 21.1%의 연평균 성장률을 기록할 전망  \\nn 시장조사기관 IDC는 AI 소프트웨어 시장이 2022년 640억 달러에서 2027년 2,510억 달러로 연평균 성장률 31.4%를 기록하며 급성장할 것으로 예상  \\n∙AI 소프트웨어 시장은 AI 플랫폼, AI 애플리케이션, AI 시스템 인프라 소프트웨어(SIS), AI 애플리케이션 개발·배포(AI AD&D) 소프트웨어를 포괄  \\n∙AI 애플리케이션은 AI 소프트웨어의 최대 시장으로 2023년 전체 매출의 약 3분의 1을 차지하며 2027년까지 21.1%의 연평균 성장률을 기록할 전망  \\n∙AI 비서를 포함한 AI 모델과 애플리케이션의 개발을 뒷받침하는 AI 플랫폼은 두 번째로 시장 규모가 큰 분야로, 2027년까지 35.8%의 연평균 성장률이 예상됨  \\n∙AI SIS는 현재 매출 규모는 비교적 작지만 5년간 연평균 성장률은 32.6%로 시장 전체를 웃돌 전망  \\n∙AI AD&D는 향후 5년간 카테고리 중 가장 높은 38.7%의 연평균 성장률이 예상됨'),\n",
              " Document(metadata={'source': '/content/SPRI_AI_Brief_2023년12월호_F.pdf', 'file_path': '/content/SPRI_AI_Brief_2023년12월호_F.pdf', 'page': 15, 'total_pages': 23, 'format': 'PDF 1.4', 'title': '', 'author': 'dj', 'subject': '', 'keywords': '', 'creator': 'Hwp 2018 10.0.0.13462', 'producer': 'Hancom PDF 1.3.0.542', 'creationDate': \"D:20231208132838+09'00'\", 'modDate': \"D:20231208132838+09'00'\", 'trapped': ''}, page_content='빌 게이츠가 5년 내 일상언어로 모든 작업을 처리할 수 있는 AI 에이전트가 보급되며 컴퓨터를 \\n사용하는 방식이 완전히 바뀔 것으로 예상\\nn 에이전트의 보급은 컴퓨터 분야를 넘어 산업 전 영역에 영향을 미칠 전망으로 특히 의료와 \\n교육, 생산성, 엔터테인먼트·쇼핑 영역에서 고가로 제공되던 서비스가 대중화될 전망\\n£ AI 에이전트가 의료와 교육, 생산성, 엔터테인먼트·쇼핑 영역의 서비스 대중화를 주도할 것\\nn 에이전트로 인해 주목할 만한 변화는 고비용 서비스의 대중화로 특히 △의료 △교육 △생산성 △\\n엔터테인먼트·쇼핑의 4개 영역에서 대규모 변화 예상')]"
            ]
          },
          "metadata": {},
          "execution_count": 79
        }
      ]
    },
    {
      "cell_type": "markdown",
      "source": [
        "참고 : https://wikidocs.net/231364\n"
      ],
      "metadata": {
        "id": "hPWlKl6Sn2hT"
      }
    }
  ]
}