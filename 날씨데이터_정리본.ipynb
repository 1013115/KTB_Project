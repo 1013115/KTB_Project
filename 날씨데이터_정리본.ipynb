{
  "nbformat": 4,
  "nbformat_minor": 0,
  "metadata": {
    "colab": {
      "provenance": [],
      "authorship_tag": "ABX9TyMf15fQLP6MkxlSh/3e3l2e",
      "include_colab_link": true
    },
    "kernelspec": {
      "name": "python3",
      "display_name": "Python 3"
    },
    "language_info": {
      "name": "python"
    }
  },
  "cells": [
    {
      "cell_type": "markdown",
      "metadata": {
        "id": "view-in-github",
        "colab_type": "text"
      },
      "source": [
        "<a href=\"https://colab.research.google.com/github/1013115/KTB_Project/blob/main/%EB%82%A0%EC%94%A8%EB%8D%B0%EC%9D%B4%ED%84%B0_%EC%A0%95%EB%A6%AC%EB%B3%B8.ipynb\" target=\"_parent\"><img src=\"https://colab.research.google.com/assets/colab-badge.svg\" alt=\"Open In Colab\"/></a>"
      ]
    },
    {
      "cell_type": "markdown",
      "source": [
        "## api key 호출"
      ],
      "metadata": {
        "id": "61WTeF8oX1uh"
      }
    },
    {
      "cell_type": "code",
      "execution_count": 1,
      "metadata": {
        "id": "ly4nxSSHXdVH"
      },
      "outputs": [],
      "source": [
        "from google.colab import userdata\n",
        "data_servicekey = userdata.get('DATA_API_KEY')\n",
        "weather_servicekey = userdata.get('WEATHER_API_KEY')"
      ]
    },
    {
      "cell_type": "markdown",
      "source": [
        "## 주소 변환\n",
        "\n",
        "참고 : https://gist.github.com/fronteer-kr/14d7f779d52a21ac2f16"
      ],
      "metadata": {
        "id": "NNqP3T1sYKiY"
      }
    },
    {
      "cell_type": "code",
      "source": [
        "import math\n",
        "NX = 149            ## X축 격자점 수\n",
        "NY = 253            ## Y축 격자점 수\n",
        "\n",
        "Re = 6371.00877     ##  지도반경\n",
        "grid = 5.0          ##  격자간격 (km)\n",
        "slat1 = 30.0        ##  표준위도 1\n",
        "slat2 = 60.0        ##  표준위도 2\n",
        "olon = 126.0        ##  기준점 경도\n",
        "olat = 38.0         ##  기준점 위도\n",
        "xo = 210 / grid     ##  기준점 X좌표\n",
        "yo = 675 / grid     ##  기준점 Y좌표\n",
        "first = 0\n",
        "\n",
        "if first == 0 :\n",
        "    PI = math.asin(1.0) * 2.0\n",
        "    DEGRAD = PI/ 180.0\n",
        "    RADDEG = 180.0 / PI\n",
        "\n",
        "\n",
        "    re = Re / grid\n",
        "    slat1 = slat1 * DEGRAD\n",
        "    slat2 = slat2 * DEGRAD\n",
        "    olon = olon * DEGRAD\n",
        "    olat = olat * DEGRAD\n",
        "\n",
        "    sn = math.tan(PI * 0.25 + slat2 * 0.5) / math.tan(PI * 0.25 + slat1 * 0.5)\n",
        "    sn = math.log(math.cos(slat1) / math.cos(slat2)) / math.log(sn)\n",
        "    sf = math.tan(PI * 0.25 + slat1 * 0.5)\n",
        "    sf = math.pow(sf, sn) * math.cos(slat1) / sn\n",
        "    ro = math.tan(PI * 0.25 + olat * 0.5)\n",
        "    ro = re * sf / math.pow(ro, sn)\n",
        "    first = 1\n",
        "\n",
        "def mapToGrid(lat, lon, code = 0 ):\n",
        "    ra = math.tan(PI * 0.25 + lat * DEGRAD * 0.5)\n",
        "    ra = re * sf / pow(ra, sn)\n",
        "    theta = lon * DEGRAD - olon\n",
        "    if theta > PI :\n",
        "        theta -= 2.0 * PI\n",
        "    if theta < -PI :\n",
        "        theta += 2.0 * PI\n",
        "    theta *= sn\n",
        "    x = (ra * math.sin(theta)) + xo\n",
        "    y = (ro - ra * math.cos(theta)) + yo\n",
        "    x = int(x + 1.5)\n",
        "    y = int(y + 1.5)\n",
        "    return x, y\n",
        "\n",
        "def gridToMap(x, y, code = 1):\n",
        "    x = x - 1\n",
        "    y = y - 1\n",
        "    xn = x - xo\n",
        "    yn = ro - y + yo\n",
        "    ra = math.sqrt(xn * xn + yn * yn)\n",
        "    if sn < 0.0 :\n",
        "        ra = -ra\n",
        "    alat = math.pow((re * sf / ra), (1.0 / sn))\n",
        "    alat = 2.0 * math.atan(alat) - PI * 0.5\n",
        "    if math.fabs(xn) <= 0.0 :\n",
        "        theta = 0.0\n",
        "    else :\n",
        "        if math.fabs(yn) <= 0.0 :\n",
        "            theta = PI * 0.5\n",
        "            if xn < 0.0 :\n",
        "                theta = -theta\n",
        "        else :\n",
        "            theta = math.atan2(xn, yn)\n",
        "    alon = theta / sn + olon\n",
        "    lat = alat * RADDEG\n",
        "    lon = alon * RADDEG\n",
        "\n",
        "    return lat, lon\n",
        "\n",
        "print(mapToGrid(37.400383, 127.106706))\n",
        "\n",
        "print(gridToMap(62, 123))\n"
      ],
      "metadata": {
        "colab": {
          "base_uri": "https://localhost:8080/"
        },
        "id": "Qg1UlWWLYHX9",
        "outputId": "ae40aa60-f424-41e9-bd2e-19153aa6c760"
      },
      "execution_count": 5,
      "outputs": [
        {
          "output_type": "stream",
          "name": "stdout",
          "text": [
            "(62, 123)\n",
            "(37.39424102222431, 127.10252748850417)\n"
          ]
        }
      ]
    },
    {
      "cell_type": "markdown",
      "source": [
        "### Geopy의 Nominatim 모듈을 사용한 주소변환\n",
        "\n",
        "참고 : https://parkgihyeon.github.io/project/geocoding-api/"
      ],
      "metadata": {
        "id": "uGWu2vykYgy-"
      }
    },
    {
      "cell_type": "code",
      "source": [
        "from geopy.geocoders import Nominatim\n",
        "\n",
        "def geocoding_reverse(lat_lng_str):\n",
        "    geolocoder = Nominatim(user_agent='South Korea', timeout=None)\n",
        "    location = geolocoder.reverse(lat_lng_str)\n",
        "\n",
        "    # address 객체에서 원하는 정보를 추출\n",
        "    address_details = location.raw.get('address', {})\n",
        "    city = address_details.get('city', '')  # 시 정보\n",
        "    district = address_details.get('suburb', '') or address_details.get('town', '') or address_details.get('village', '') or address_details.get('hamlet', '')  # 동/읍/면 정보\n",
        "\n",
        "    # 원하는 형식으로 반환\n",
        "    return f\"{city} {district}\"\n",
        "\n",
        "address = geocoding_reverse('36.5760732781656, 128.15935928504484')\n",
        "print(address)\n"
      ],
      "metadata": {
        "colab": {
          "base_uri": "https://localhost:8080/"
        },
        "id": "cOm7KgkMYm65",
        "outputId": "dbaea606-e0f3-4c96-e5f8-bd01fbfc8ddd"
      },
      "execution_count": 3,
      "outputs": [
        {
          "output_type": "stream",
          "name": "stdout",
          "text": [
            "상주시 교촌리\n"
          ]
        }
      ]
    },
    {
      "cell_type": "code",
      "source": [
        "# 공공데이터 포털 url\n",
        "# 초단기 예보\n",
        "data_url = f\"https://apis.data.go.kr/1360000/VilageFcstInfoService_2.0/getUltraSrtFcst?serviceKey={data_servicekey}&numOfRows=10&pageNo=1&base_date=20241101&base_time=0630&nx=62&ny=123&dataType=JSON\"\n",
        "# 단기 예보\n",
        "data_url = f\"https://apis.data.go.kr/1360000/VilageFcstInfoService_2.0/getVilageFcst?serviceKey={data_servicekey}&numOfRows=10&pageNo=1&base_date=20241101&base_time=0500&nx=62&ny=123&dataType=JSON\"\n",
        "\n",
        "# 기상청\n",
        "# 초단기 예보\n",
        "weather_url = f\"https://apihub.kma.go.kr/api/typ02/openApi/VilageFcstInfoService_2.0/getUltraSrtFcst?authKey={weather_servicekey}&numOfRows=500&pageNo=1&base_date=20241101&base_time=0630&nx=62&ny=123&dataType=JSON\"\n",
        "# 단기 예보\n",
        "#weather_url = f\"https://apihub.kma.go.kr/api/typ02/openApi/VilageFcstInfoService_2.0/getVilageFcst?authKey={weather_servicekey}&numOfRows=500&pageNo=1&base_date=20241101&base_time=0500&nx=62&ny=123&dataType=JSON\"\n"
      ],
      "metadata": {
        "id": "Y663jYllYwL-"
      },
      "execution_count": 16,
      "outputs": []
    },
    {
      "cell_type": "code",
      "source": [
        "import requests\n",
        "import json\n",
        "response = requests.get(weather_url, verify=False)\n",
        "res = json.loads(response.text)"
      ],
      "metadata": {
        "colab": {
          "base_uri": "https://localhost:8080/"
        },
        "id": "igZVdnAdazc6",
        "outputId": "c6a2c19c-0aa6-48ab-8543-ebed7a58e4a4"
      },
      "execution_count": 32,
      "outputs": [
        {
          "output_type": "stream",
          "name": "stderr",
          "text": [
            "/usr/local/lib/python3.10/dist-packages/urllib3/connectionpool.py:1099: InsecureRequestWarning: Unverified HTTPS request is being made to host 'apihub.kma.go.kr'. Adding certificate verification is strongly advised. See: https://urllib3.readthedocs.io/en/latest/advanced-usage.html#tls-warnings\n",
            "  warnings.warn(\n"
          ]
        }
      ]
    },
    {
      "cell_type": "markdown",
      "source": [
        "## 코드 변환\n",
        "\n",
        "참고 : https://velog.io/@choonsik_mom/python-OpenAPI%EA%B8%B0%EC%83%81%EC%B2%AD-API%EB%A1%9C-%EB%82%A0%EC%94%A8-%EC%A0%95%EB%B3%B4-%EB%B6%88%EB%9F%AC%EC%98%A4%EA%B8%B0\n"
      ],
      "metadata": {
        "id": "bgp9yf5IbWXC"
      }
    },
    {
      "cell_type": "code",
      "source": [
        "information = dict()\n",
        "\n",
        "for item in res['response']['body']['items']['item']:\n",
        "    # 날짜와 시간 정보를 가져옵니다.\n",
        "    fcstDate = item['fcstDate']  # 날짜 정보\n",
        "    fcstTime = item['fcstTime']  # 시간 정보\n",
        "    cate = item['category']      # 카테고리 정보\n",
        "    fcstValue = item['fcstValue']  # 예보 값\n",
        "\n",
        "    # 날짜와 시간을 결합하여 고유한 키를 생성합니다.\n",
        "    fcstDateTime = f\"{fcstDate}_{fcstTime}\"\n",
        "\n",
        "    # fcstDateTime이 information에 없으면 새 딕셔너리를 생성합니다.\n",
        "    if fcstDateTime not in information:\n",
        "        information[fcstDateTime] = dict()\n",
        "\n",
        "    # 예보 카테고리와 값을 추가합니다.\n",
        "    information[fcstDateTime][cate] = fcstValue\n",
        "\n",
        "# 결과 출력\n",
        "print(information)\n"
      ],
      "metadata": {
        "colab": {
          "base_uri": "https://localhost:8080/"
        },
        "id": "iyxtes_HbX4n",
        "outputId": "422af158-2563-4110-f9ac-e57225e41024"
      },
      "execution_count": 11,
      "outputs": [
        {
          "output_type": "stream",
          "name": "stdout",
          "text": [
            "{'20241101_0600': {'TMP': '11', 'UUU': '-0.8', 'VVV': '0.1', 'VEC': '98', 'WSD': '0.9', 'SKY': '3', 'PTY': '0', 'POP': '20', 'WAV': '0', 'PCP': '강수없음', 'REH': '85', 'SNO': '적설없음'}, '20241101_0700': {'TMP': '11', 'UUU': '-0.4', 'VVV': '-0.3', 'VEC': '58', 'WSD': '0.5', 'SKY': '4', 'PTY': '0', 'POP': '30', 'WAV': '0', 'PCP': '강수없음', 'REH': '85', 'SNO': '적설없음'}, '20241101_0800': {'TMP': '11', 'UUU': '0', 'VVV': '-0.4', 'VEC': '14', 'WSD': '0.4', 'SKY': '4', 'PTY': '0', 'POP': '30', 'WAV': '0', 'PCP': '강수없음', 'REH': '80', 'SNO': '적설없음'}, '20241101_0900': {'TMP': '13', 'UUU': '-0.3', 'VVV': '-0.2', 'VEC': '67', 'WSD': '0.4', 'SKY': '4', 'PTY': '0', 'POP': '30', 'WAV': '0', 'PCP': '강수없음', 'REH': '75', 'SNO': '적설없음'}, '20241101_1000': {'TMP': '14', 'UUU': '-0.6', 'VVV': '0.2', 'VEC': '106', 'WSD': '0.7', 'SKY': '4', 'PTY': '0', 'POP': '30', 'WAV': '0', 'PCP': '강수없음', 'REH': '65', 'SNO': '적설없음'}, '20241101_1100': {'TMP': '16', 'UUU': '-1.1', 'VVV': '0.3', 'VEC': '106', 'WSD': '1.2', 'SKY': '4', 'PTY': '0', 'POP': '30', 'WAV': '0', 'PCP': '강수없음', 'REH': '60', 'SNO': '적설없음'}, '20241101_1200': {'TMP': '16', 'UUU': '-0.6', 'VVV': '-0.3', 'VEC': '68', 'WSD': '0.7', 'SKY': '1', 'PTY': '0', 'POP': '0', 'WAV': '0', 'PCP': '강수없음', 'REH': '60', 'SNO': '적설없음'}, '20241101_1300': {'TMP': '17', 'UUU': '-0.7', 'VVV': '-0.6', 'VEC': '53', 'WSD': '1', 'SKY': '1', 'PTY': '0', 'POP': '0', 'WAV': '0', 'PCP': '강수없음', 'REH': '55', 'SNO': '적설없음'}, '20241101_1400': {'TMP': '18', 'UUU': '-1.2', 'VVV': '0', 'VEC': '90', 'WSD': '1.3', 'SKY': '1', 'PTY': '0', 'POP': '0', 'WAV': '0', 'PCP': '강수없음', 'REH': '55', 'SNO': '적설없음'}, '20241101_1500': {'TMP': '18', 'UUU': '-0.7', 'VVV': '-1.6', 'VEC': '27', 'WSD': '1.7', 'SKY': '1', 'PTY': '0', 'POP': '0', 'WAV': '0', 'PCP': '강수없음', 'REH': '55', 'SNO': '적설없음', 'TMX': '19.0'}, '20241101_1600': {'TMP': '18', 'UUU': '0', 'VVV': '-0.8', 'VEC': '360', 'WSD': '0.8', 'SKY': '1', 'PTY': '0', 'POP': '0', 'WAV': '0', 'PCP': '강수없음', 'REH': '60', 'SNO': '적설없음'}, '20241101_1700': {'TMP': '17', 'UUU': '-0.4', 'VVV': '-1', 'VEC': '27', 'WSD': '1.1', 'SKY': '1', 'PTY': '0', 'POP': '0', 'WAV': '0', 'PCP': '강수없음', 'REH': '65', 'SNO': '적설없음'}, '20241101_1800': {'TMP': '16', 'UUU': '-0.4', 'VVV': '-0.9', 'VEC': '29', 'WSD': '1', 'SKY': '1', 'PTY': '0', 'POP': '0', 'WAV': '0', 'PCP': '강수없음', 'REH': '70', 'SNO': '적설없음'}, '20241101_1900': {'TMP': '15', 'UUU': '-0.6', 'VVV': '-0.7', 'VEC': '42', 'WSD': '1', 'SKY': '1', 'PTY': '0', 'POP': '0', 'WAV': '0', 'PCP': '강수없음', 'REH': '75', 'SNO': '적설없음'}, '20241101_2000': {'TMP': '14', 'UUU': '-0.5', 'VVV': '-0.4', 'VEC': '56', 'WSD': '0.7', 'SKY': '1', 'PTY': '0', 'POP': '0', 'WAV': '0', 'PCP': '강수없음', 'REH': '75', 'SNO': '적설없음'}, '20241101_2100': {'TMP': '14', 'UUU': '-0.4', 'VVV': '-0.1', 'VEC': '77', 'WSD': '0.5', 'SKY': '1', 'PTY': '0', 'POP': '0', 'WAV': '0', 'PCP': '강수없음', 'REH': '75', 'SNO': '적설없음'}, '20241101_2200': {'TMP': '14', 'UUU': '-0.3', 'VVV': '-0.3', 'VEC': '58', 'WSD': '0.5', 'SKY': '1', 'PTY': '0', 'POP': '0', 'WAV': '0', 'PCP': '강수없음', 'REH': '75', 'SNO': '적설없음'}, '20241101_2300': {'TMP': '13', 'UUU': '-0.2', 'VVV': '-0.2', 'VEC': '52', 'WSD': '0.4', 'SKY': '1', 'PTY': '0', 'POP': '0', 'WAV': '0', 'PCP': '강수없음', 'REH': '75', 'SNO': '적설없음'}, '20241102_0000': {'TMP': '13', 'UUU': '-0.6', 'VVV': '-0.3', 'VEC': '70', 'WSD': '0.8', 'SKY': '1', 'PTY': '0', 'POP': '0', 'WAV': '0', 'PCP': '강수없음', 'REH': '75', 'SNO': '적설없음'}, '20241102_0100': {'TMP': '13', 'UUU': '-0.8', 'VVV': '-0.6', 'VEC': '58', 'WSD': '1.1', 'SKY': '1', 'PTY': '0', 'POP': '0', 'WAV': '0', 'PCP': '강수없음', 'REH': '75', 'SNO': '적설없음'}, '20241102_0200': {'TMP': '13', 'UUU': '-1', 'VVV': '-0.6', 'VEC': '61', 'WSD': '1.2', 'SKY': '1', 'PTY': '0', 'POP': '0', 'WAV': '0', 'PCP': '강수없음', 'REH': '75', 'SNO': '적설없음'}, '20241102_0300': {'TMP': '13', 'UUU': '-0.9', 'VVV': '-0.6', 'VEC': '58', 'WSD': '1.2', 'SKY': '1', 'PTY': '0', 'POP': '0', 'WAV': '0', 'PCP': '강수없음', 'REH': '70', 'SNO': '적설없음'}, '20241102_0400': {'TMP': '13', 'UUU': '-1.5', 'VVV': '-1.1', 'VEC': '56', 'WSD': '1.9', 'SKY': '1', 'PTY': '0', 'POP': '0', 'WAV': '0', 'PCP': '강수없음', 'REH': '70', 'SNO': '적설없음'}, '20241102_0500': {'TMP': '13', 'UUU': '-2.3', 'VVV': '-1.7', 'VEC': '54', 'WSD': '2.9', 'SKY': '1', 'PTY': '0', 'POP': '0', 'WAV': '0', 'PCP': '강수없음', 'REH': '75', 'SNO': '적설없음'}, '20241102_0600': {'TMP': '13', 'UUU': '-2.6', 'VVV': '-2', 'VEC': '54', 'WSD': '3.3', 'SKY': '1', 'PTY': '0', 'POP': '0', 'WAV': '0', 'PCP': '강수없음', 'REH': '75', 'SNO': '적설없음', 'TMN': '13.0'}, '20241102_0700': {'TMP': '13', 'UUU': '-2.6', 'VVV': '-2.3', 'VEC': '50', 'WSD': '3.5', 'SKY': '1', 'PTY': '0', 'POP': '0', 'WAV': '0', 'PCP': '강수없음', 'REH': '75', 'SNO': '적설없음'}, '20241102_0800': {'TMP': '14', 'UUU': '-2.1', 'VVV': '-3', 'VEC': '37', 'WSD': '3.7', 'SKY': '1', 'PTY': '0', 'POP': '0', 'WAV': '0', 'PCP': '강수없음', 'REH': '75', 'SNO': '적설없음'}, '20241102_0900': {'TMP': '16', 'UUU': '-2.3', 'VVV': '-3.1', 'VEC': '38', 'WSD': '3.9', 'SKY': '1', 'PTY': '0', 'POP': '0', 'WAV': '0', 'PCP': '강수없음', 'REH': '70', 'SNO': '적설없음'}, '20241102_1000': {'TMP': '18', 'UUU': '-3.7', 'VVV': '-2.8', 'VEC': '53', 'WSD': '4.7', 'SKY': '1', 'PTY': '0', 'POP': '0', 'WAV': '0', 'PCP': '강수없음', 'REH': '60', 'SNO': '적설없음'}, '20241102_1100': {'TMP': '20', 'UUU': '-4.6', 'VVV': '-3.1', 'VEC': '56', 'WSD': '5.7', 'SKY': '3', 'PTY': '0', 'POP': '20', 'WAV': '0', 'PCP': '강수없음', 'REH': '55', 'SNO': '적설없음'}, '20241102_1200': {'TMP': '21', 'UUU': '-4.5', 'VVV': '-3.9', 'VEC': '50', 'WSD': '6.1', 'SKY': '3', 'PTY': '0', 'POP': '20', 'WAV': '0', 'PCP': '강수없음', 'REH': '50', 'SNO': '적설없음'}, '20241102_1300': {'TMP': '22', 'UUU': '-4.5', 'VVV': '-4.1', 'VEC': '48', 'WSD': '6.2', 'SKY': '3', 'PTY': '0', 'POP': '20', 'WAV': '0', 'PCP': '강수없음', 'REH': '50', 'SNO': '적설없음'}, '20241102_1400': {'TMP': '22', 'UUU': '-4.5', 'VVV': '-4', 'VEC': '49', 'WSD': '6.1', 'SKY': '3', 'PTY': '0', 'POP': '20', 'WAV': '0', 'PCP': '강수없음', 'REH': '50', 'SNO': '적설없음'}, '20241102_1500': {'TMP': '22', 'UUU': '-4.1', 'VVV': '-3.5', 'VEC': '50', 'WSD': '5.5', 'SKY': '4', 'PTY': '0', 'POP': '30', 'WAV': '0', 'PCP': '강수없음', 'REH': '50', 'SNO': '적설없음', 'TMX': '22.0'}, '20241102_1600': {'TMP': '21', 'UUU': '-3.4', 'VVV': '-3.3', 'VEC': '47', 'WSD': '4.8', 'SKY': '3', 'PTY': '0', 'POP': '20', 'WAV': '0', 'PCP': '강수없음', 'REH': '50', 'SNO': '적설없음'}, '20241102_1700': {'TMP': '20', 'UUU': '-2.5', 'VVV': '-3.3', 'VEC': '38', 'WSD': '4.2', 'SKY': '1', 'PTY': '0', 'POP': '0', 'WAV': '0', 'PCP': '강수없음', 'REH': '60', 'SNO': '적설없음'}, '20241102_1800': {'TMP': '18', 'UUU': '-1.6', 'VVV': '-2.9', 'VEC': '30', 'WSD': '3.3', 'SKY': '1', 'PTY': '0', 'POP': '0', 'WAV': '0', 'PCP': '강수없음', 'REH': '65', 'SNO': '적설없음'}, '20241102_1900': {'TMP': '16', 'UUU': '-2', 'VVV': '-2.4', 'VEC': '41', 'WSD': '3.2', 'SKY': '3', 'PTY': '0', 'POP': '20', 'WAV': '0', 'PCP': '강수없음', 'REH': '70', 'SNO': '적설없음'}, '20241102_2000': {'TMP': '16', 'UUU': '-2', 'VVV': '-1.5', 'VEC': '55', 'WSD': '2.5', 'SKY': '1', 'PTY': '0', 'POP': '0', 'WAV': '0', 'PCP': '강수없음', 'REH': '70', 'SNO': '적설없음'}, '20241102_2100': {'TMP': '15', 'UUU': '-1.9', 'VVV': '-0.9', 'VEC': '65', 'WSD': '2.2', 'SKY': '1', 'PTY': '0', 'POP': '0', 'WAV': '0', 'PCP': '강수없음', 'REH': '75', 'SNO': '적설없음'}, '20241102_2200': {'TMP': '14', 'UUU': '-2', 'VVV': '-0.8', 'VEC': '69', 'WSD': '2.2', 'SKY': '1', 'PTY': '0', 'POP': '0', 'WAV': '0', 'PCP': '강수없음', 'REH': '75', 'SNO': '적설없음'}, '20241102_2300': {'TMP': '13', 'UUU': '-1.9', 'VVV': '-0.7', 'VEC': '72', 'WSD': '2.1'}}\n"
          ]
        }
      ]
    },
    {
      "cell_type": "code",
      "source": [
        "deg_code = {0 : 'N', 360 : 'N', 180 : 'S', 270 : 'W', 90 : 'E', 22.5 :'NNE',\n",
        "           45 : 'NE', 67.5 : 'ENE', 112.5 : 'ESE', 135 : 'SE', 157.5 : 'SSE',\n",
        "           202.5 : 'SSW', 225 : 'SW', 247.5 : 'WSW', 292.5 : 'WNW', 315 : 'NW',\n",
        "           337.5 : 'NNW'}\n",
        "\n",
        "def deg_to_dir(deg) :\n",
        "    close_dir = ''\n",
        "    min_abs = 360\n",
        "    if deg not in deg_code.keys() :\n",
        "        for key in deg_code.keys() :\n",
        "            if abs(key - deg) < min_abs :\n",
        "                min_abs = abs(key - deg)\n",
        "                close_dir = deg_code[key]\n",
        "    else :\n",
        "        close_dir = deg_code[deg]\n",
        "    return close_dir\n",
        "deg_to_dir(0)"
      ],
      "metadata": {
        "colab": {
          "base_uri": "https://localhost:8080/",
          "height": 36
        },
        "id": "TF6S-tXqbbLa",
        "outputId": "1ee80717-5715-457c-bb16-876025122cda"
      },
      "execution_count": 12,
      "outputs": [
        {
          "output_type": "execute_result",
          "data": {
            "text/plain": [
              "'N'"
            ],
            "application/vnd.google.colaboratory.intrinsic+json": {
              "type": "string"
            }
          },
          "metadata": {},
          "execution_count": 12
        }
      ]
    },
    {
      "cell_type": "markdown",
      "source": [
        "### 단기예보"
      ],
      "metadata": {
        "id": "NzzF02MdbfRR"
      }
    },
    {
      "cell_type": "code",
      "source": [
        "pyt_code = {0 : '강수 없음', 1 : '비', 2 : '비/눈', 3 : '눈', 5 : '빗방울', 6 : '진눈깨비', 7 : '눈날림'}\n",
        "sky_code = {1 : '맑음', 3 : '구름많음', 4 : '흐림'}\n",
        "address = geocoding_reverse(gridToMap(62, 123))\n",
        "\n",
        "for key, val in zip(information.keys(), information.values()) :\n",
        "#     print(key, val)\n",
        "    # val['LGT'] -- 낙뢰\n",
        "    template = f\"\"\"{key[:4]}년 {key[4:6]}월 {key[6:8]}일 {key[9:11]}시 {key[11:]}분 {address} 날씨: \"\"\"\n",
        "\n",
        "\n",
        "    # 맑음(1), 구름많음(3), 흐림(4)\n",
        "    try:\n",
        "      if val['SKY'] :\n",
        "          sky_temp = sky_code[int(val['SKY'])]\n",
        "  #         print(\"하늘 :\", sky_temp)\n",
        "          template += sky_temp + \" | \"\n",
        "    except KeyError:\n",
        "        # tmn 키가 없는 경우 아무 작업도 하지 않고 넘어감\n",
        "        pass\n",
        "    # (초단기) 없음(0), 비(1), 비/눈(2), 눈(3), 빗방울(5), 빗방울눈날림(6), 눈날림(7)\n",
        "    try:\n",
        "      if val['PTY'] :\n",
        "          pty_temp = pyt_code[int(val['PTY'])]\n",
        "  #         print(\"강수 여부 :\",pty_temp)\n",
        "          template += pty_temp + \" | \"\n",
        "          # 강수 있는 경우\n",
        "          if val['POP'] :\n",
        "              # POP 강수확률\n",
        "              pop_temp = val['POP']\n",
        "  #             print(\"강수량(1시간당) :\",rn1_temp)\n",
        "              template += f\"강수확률 {pop_temp}% | \"\n",
        "          if val['PCP'] != '강수없음' :\n",
        "              # PCP 1시간 강수량\n",
        "              pcp_temp = val['PCP']\n",
        "  #             print(\"강수량(1시간당) :\",rn1_temp)\n",
        "              template += f\"시간당 {pcp_temp}mm | \"\n",
        "    except KeyError:\n",
        "        # tmn 키가 없는 경우 아무 작업도 하지 않고 넘어감\n",
        "        pass\n",
        "\n",
        "\n",
        "\n",
        "\n",
        "    # 기온\n",
        "    if val['TMP'] :\n",
        "        t1h_temp = float(val['TMP'])\n",
        "#         print(f\"기온 : {t1h_temp}℃\")\n",
        "        template += f\" 기온 {t1h_temp}℃\"+ \" | \"\n",
        "    # 습도\n",
        "    try:\n",
        "      if val['REH'] :\n",
        "          reh_temp = float(val['REH'])\n",
        "  #         print(f\"습도 : {reh_temp}%\")\n",
        "          template += f\"습도 {reh_temp}%\"+ \"| \"\n",
        "    except KeyError:\n",
        "        # tmn 키가 없는 경우 아무 작업도 하지 않고 넘어감\n",
        "        pass\n",
        "\n",
        "\n",
        "    # 풍향/ 풍속\n",
        "    if val['VEC'] and val['WSD']:\n",
        "        vec_temp = deg_to_dir(float(val['VEC']))\n",
        "        wsd_temp = val['WSD']\n",
        "#         print(f\"풍속 :{vec_temp} 방향 {wsd_temp}m/s\")\n",
        "\n",
        "    template += f\"풍속 {vec_temp} 방향 {wsd_temp}m/s\"+ \" | \"\n",
        "\n",
        "    try:\n",
        "        tmn_temp = val['TMN']\n",
        "        template += f\"최저 기온 {tmn_temp}℃ | \"\n",
        "    except KeyError:\n",
        "        # tmn 키가 없는 경우 아무 작업도 하지 않고 넘어감\n",
        "        pass\n",
        "    try:\n",
        "        tmx_temp = val['TMX']\n",
        "        template += f\"최고 기온 {tmx_temp}℃ | \"\n",
        "    except KeyError:\n",
        "        # tmn 키가 없는 경우 아무 작업도 하지 않고 넘어감\n",
        "        pass\n",
        "\n",
        "\n",
        "\n",
        "    print(template)"
      ],
      "metadata": {
        "colab": {
          "base_uri": "https://localhost:8080/"
        },
        "id": "RK5qlKP3bele",
        "outputId": "5c24eefa-5feb-4472-a438-7e9c1c4ee956"
      },
      "execution_count": 31,
      "outputs": [
        {
          "output_type": "stream",
          "name": "stdout",
          "text": [
            "2024년 11월 01일 06시 00분 성남시 판교 날씨: 구름많음 | 강수 없음 | 강수확률 20% |  기온 11.0℃ | 습도 85.0%| 풍속 E 방향 0.9m/s | \n",
            "2024년 11월 01일 07시 00분 성남시 판교 날씨: 흐림 | 강수 없음 | 강수확률 30% |  기온 11.0℃ | 습도 85.0%| 풍속 ENE 방향 0.5m/s | \n",
            "2024년 11월 01일 08시 00분 성남시 판교 날씨: 흐림 | 강수 없음 | 강수확률 30% |  기온 11.0℃ | 습도 80.0%| 풍속 NNE 방향 0.4m/s | \n",
            "2024년 11월 01일 09시 00분 성남시 판교 날씨: 흐림 | 강수 없음 | 강수확률 30% |  기온 13.0℃ | 습도 75.0%| 풍속 ENE 방향 0.4m/s | \n",
            "2024년 11월 01일 10시 00분 성남시 판교 날씨: 흐림 | 강수 없음 | 강수확률 30% |  기온 14.0℃ | 습도 65.0%| 풍속 ESE 방향 0.7m/s | \n",
            "2024년 11월 01일 11시 00분 성남시 판교 날씨: 흐림 | 강수 없음 | 강수확률 30% |  기온 16.0℃ | 습도 60.0%| 풍속 ESE 방향 1.2m/s | \n",
            "2024년 11월 01일 12시 00분 성남시 판교 날씨: 맑음 | 강수 없음 | 강수확률 0% |  기온 16.0℃ | 습도 60.0%| 풍속 ENE 방향 0.7m/s | \n",
            "2024년 11월 01일 13시 00분 성남시 판교 날씨: 맑음 | 강수 없음 | 강수확률 0% |  기온 17.0℃ | 습도 55.0%| 풍속 NE 방향 1m/s | \n",
            "2024년 11월 01일 14시 00분 성남시 판교 날씨: 맑음 | 강수 없음 | 강수확률 0% |  기온 18.0℃ | 습도 55.0%| 풍속 E 방향 1.3m/s | \n",
            "2024년 11월 01일 15시 00분 성남시 판교 날씨: 맑음 | 강수 없음 | 강수확률 0% |  기온 18.0℃ | 습도 55.0%| 풍속 NNE 방향 1.7m/s | 최고 기온 19.0℃ | \n",
            "2024년 11월 01일 16시 00분 성남시 판교 날씨: 맑음 | 강수 없음 | 강수확률 0% |  기온 18.0℃ | 습도 60.0%| 풍속 N 방향 0.8m/s | \n",
            "2024년 11월 01일 17시 00분 성남시 판교 날씨: 맑음 | 강수 없음 | 강수확률 0% |  기온 17.0℃ | 습도 65.0%| 풍속 NNE 방향 1.1m/s | \n",
            "2024년 11월 01일 18시 00분 성남시 판교 날씨: 맑음 | 강수 없음 | 강수확률 0% |  기온 16.0℃ | 습도 70.0%| 풍속 NNE 방향 1m/s | \n",
            "2024년 11월 01일 19시 00분 성남시 판교 날씨: 맑음 | 강수 없음 | 강수확률 0% |  기온 15.0℃ | 습도 75.0%| 풍속 NE 방향 1m/s | \n",
            "2024년 11월 01일 20시 00분 성남시 판교 날씨: 맑음 | 강수 없음 | 강수확률 0% |  기온 14.0℃ | 습도 75.0%| 풍속 NE 방향 0.7m/s | \n",
            "2024년 11월 01일 21시 00분 성남시 판교 날씨: 맑음 | 강수 없음 | 강수확률 0% |  기온 14.0℃ | 습도 75.0%| 풍속 ENE 방향 0.5m/s | \n",
            "2024년 11월 01일 22시 00분 성남시 판교 날씨: 맑음 | 강수 없음 | 강수확률 0% |  기온 14.0℃ | 습도 75.0%| 풍속 ENE 방향 0.5m/s | \n",
            "2024년 11월 01일 23시 00분 성남시 판교 날씨: 맑음 | 강수 없음 | 강수확률 0% |  기온 13.0℃ | 습도 75.0%| 풍속 NE 방향 0.4m/s | \n",
            "2024년 11월 02일 00시 00분 성남시 판교 날씨: 맑음 | 강수 없음 | 강수확률 0% |  기온 13.0℃ | 습도 75.0%| 풍속 ENE 방향 0.8m/s | \n",
            "2024년 11월 02일 01시 00분 성남시 판교 날씨: 맑음 | 강수 없음 | 강수확률 0% |  기온 13.0℃ | 습도 75.0%| 풍속 ENE 방향 1.1m/s | \n",
            "2024년 11월 02일 02시 00분 성남시 판교 날씨: 맑음 | 강수 없음 | 강수확률 0% |  기온 13.0℃ | 습도 75.0%| 풍속 ENE 방향 1.2m/s | \n",
            "2024년 11월 02일 03시 00분 성남시 판교 날씨: 맑음 | 강수 없음 | 강수확률 0% |  기온 13.0℃ | 습도 70.0%| 풍속 ENE 방향 1.2m/s | \n",
            "2024년 11월 02일 04시 00분 성남시 판교 날씨: 맑음 | 강수 없음 | 강수확률 0% |  기온 13.0℃ | 습도 70.0%| 풍속 NE 방향 1.9m/s | \n",
            "2024년 11월 02일 05시 00분 성남시 판교 날씨: 맑음 | 강수 없음 | 강수확률 0% |  기온 13.0℃ | 습도 75.0%| 풍속 NE 방향 2.9m/s | \n",
            "2024년 11월 02일 06시 00분 성남시 판교 날씨: 맑음 | 강수 없음 | 강수확률 0% |  기온 13.0℃ | 습도 75.0%| 풍속 NE 방향 3.3m/s | 최저 기온 13.0℃ | \n",
            "2024년 11월 02일 07시 00분 성남시 판교 날씨: 맑음 | 강수 없음 | 강수확률 0% |  기온 13.0℃ | 습도 75.0%| 풍속 NE 방향 3.5m/s | \n",
            "2024년 11월 02일 08시 00분 성남시 판교 날씨: 맑음 | 강수 없음 | 강수확률 0% |  기온 14.0℃ | 습도 75.0%| 풍속 NE 방향 3.7m/s | \n",
            "2024년 11월 02일 09시 00분 성남시 판교 날씨: 맑음 | 강수 없음 | 강수확률 0% |  기온 16.0℃ | 습도 70.0%| 풍속 NE 방향 3.9m/s | \n",
            "2024년 11월 02일 10시 00분 성남시 판교 날씨: 맑음 | 강수 없음 | 강수확률 0% |  기온 18.0℃ | 습도 60.0%| 풍속 NE 방향 4.7m/s | \n",
            "2024년 11월 02일 11시 00분 성남시 판교 날씨: 구름많음 | 강수 없음 | 강수확률 20% |  기온 20.0℃ | 습도 55.0%| 풍속 NE 방향 5.7m/s | \n",
            "2024년 11월 02일 12시 00분 성남시 판교 날씨: 구름많음 | 강수 없음 | 강수확률 20% |  기온 21.0℃ | 습도 50.0%| 풍속 NE 방향 6.1m/s | \n",
            "2024년 11월 02일 13시 00분 성남시 판교 날씨: 구름많음 | 강수 없음 | 강수확률 20% |  기온 22.0℃ | 습도 50.0%| 풍속 NE 방향 6.2m/s | \n",
            "2024년 11월 02일 14시 00분 성남시 판교 날씨: 구름많음 | 강수 없음 | 강수확률 20% |  기온 22.0℃ | 습도 50.0%| 풍속 NE 방향 6.1m/s | \n",
            "2024년 11월 02일 15시 00분 성남시 판교 날씨: 흐림 | 강수 없음 | 강수확률 30% |  기온 22.0℃ | 습도 50.0%| 풍속 NE 방향 5.5m/s | 최고 기온 22.0℃ | \n",
            "2024년 11월 02일 16시 00분 성남시 판교 날씨: 구름많음 | 강수 없음 | 강수확률 20% |  기온 21.0℃ | 습도 50.0%| 풍속 NE 방향 4.8m/s | \n",
            "2024년 11월 02일 17시 00분 성남시 판교 날씨: 맑음 | 강수 없음 | 강수확률 0% |  기온 20.0℃ | 습도 60.0%| 풍속 NE 방향 4.2m/s | \n",
            "2024년 11월 02일 18시 00분 성남시 판교 날씨: 맑음 | 강수 없음 | 강수확률 0% |  기온 18.0℃ | 습도 65.0%| 풍속 NNE 방향 3.3m/s | \n",
            "2024년 11월 02일 19시 00분 성남시 판교 날씨: 구름많음 | 강수 없음 | 강수확률 20% |  기온 16.0℃ | 습도 70.0%| 풍속 NE 방향 3.2m/s | \n",
            "2024년 11월 02일 20시 00분 성남시 판교 날씨: 맑음 | 강수 없음 | 강수확률 0% |  기온 16.0℃ | 습도 70.0%| 풍속 NE 방향 2.5m/s | \n",
            "2024년 11월 02일 21시 00분 성남시 판교 날씨: 맑음 | 강수 없음 | 강수확률 0% |  기온 15.0℃ | 습도 75.0%| 풍속 ENE 방향 2.2m/s | \n",
            "2024년 11월 02일 22시 00분 성남시 판교 날씨: 맑음 | 강수 없음 | 강수확률 0% |  기온 14.0℃ | 습도 75.0%| 풍속 ENE 방향 2.2m/s | \n",
            "2024년 11월 02일 23시 00분 성남시 판교 날씨:  기온 13.0℃ | 풍속 ENE 방향 2.1m/s | \n"
          ]
        }
      ]
    },
    {
      "cell_type": "markdown",
      "source": [
        "### 초단기 예보"
      ],
      "metadata": {
        "id": "se8zsLxjbykb"
      }
    },
    {
      "cell_type": "code",
      "source": [
        "pyt_code = {0 : '강수 없음', 1 : '비', 2 : '비/눈', 3 : '눈', 5 : '빗방울', 6 : '진눈깨비', 7 : '눈날림'}\n",
        "sky_code = {1 : '맑음', 3 : '구름많음', 4 : '흐림'}\n",
        "address = geocoding_reverse(gridToMap(62, 123))\n",
        "\n",
        "for key, val in zip(information.keys(), information.values()) :\n",
        "#     print(key, val)\n",
        "    # val['LGT'] -- 낙뢰\n",
        "    template = f\"\"\"{key[:4]}년 {key[4:6]}월 {key[6:8]}일 {key[9:11]}시 {key[11:]}분 {address} 날씨: \"\"\"\n",
        "\n",
        "\n",
        "    # 맑음(1), 구름많음(3), 흐림(4)\n",
        "    try:\n",
        "      if val['SKY'] :\n",
        "          sky_temp = sky_code[int(val['SKY'])]\n",
        "  #         print(\"하늘 :\", sky_temp)\n",
        "          template += sky_temp + \" | \"\n",
        "    except KeyError:\n",
        "        pass\n",
        "\n",
        "    # (초단기) 없음(0), 비(1), 비/눈(2), 눈(3), 빗방울(5), 빗방울눈날림(6), 눈날림(7)\n",
        "    try:\n",
        "      if val['PTY'] :\n",
        "          pty_temp = pyt_code[int(val['PTY'])]\n",
        "  #         print(\"강수 여부 :\",pty_temp)\n",
        "          template += pty_temp+\" | \"\n",
        "          # 강수 있는 경우\n",
        "          try:\n",
        "            if val['RN1'] != '강수없음' :\n",
        "                # RN1 1시간 강수량\n",
        "                rn1_temp = val['RN1']\n",
        "    #             print(\"강수량(1시간당) :\",rn1_temp)\n",
        "                template += f\"시간당 {rn1_temp}mm | \"\n",
        "          except KeyError:\n",
        "              #  키가 없는 경우 아무 작업도 하지 않고 넘어감\n",
        "              pass\n",
        "    except KeyError:\n",
        "        pass\n",
        "\n",
        "    # 기온\n",
        "    try:\n",
        "      if val['T1H'] :\n",
        "          t1h_temp = float(val['T1H'])\n",
        "  #         print(f\"기온 : {t1h_temp}℃\")\n",
        "          template += f\"기온 {t1h_temp}℃ | \"\n",
        "    except KeyError:\n",
        "      pass\n",
        "    # 습도\n",
        "    try:\n",
        "      if val['REH'] :\n",
        "          reh_temp = float(val['REH'])\n",
        "  #         print(f\"습도 : {reh_temp}%\")\n",
        "          template += f\"습도 {reh_temp}% | \"\n",
        "    except KeyError:\n",
        "      pass\n",
        "\n",
        "\n",
        "    # 풍향/ 풍속\n",
        "    if val['VEC'] and val['WSD']:\n",
        "        vec_temp = deg_to_dir(float(val['VEC']))\n",
        "        wsd_temp = val['WSD']\n",
        "#         print(f\"풍속 :{vec_temp} 방향 {wsd_temp}m/s\")\n",
        "\n",
        "    template += f\"풍속 {vec_temp} 방향 {wsd_temp}m/s | \"\n",
        "    print(template)"
      ],
      "metadata": {
        "colab": {
          "base_uri": "https://localhost:8080/"
        },
        "id": "-OCaP-vibppG",
        "outputId": "19640af1-abcd-4058-e062-9d9b5313c586"
      },
      "execution_count": 28,
      "outputs": [
        {
          "output_type": "stream",
          "name": "stdout",
          "text": [
            "2024년 11월 01일 06시 00분 성남시 판교 날씨: 구름많음 | 강수 없음 | 습도 85.0% | 풍속 E 방향 0.9m/s | \n",
            "2024년 11월 01일 07시 00분 성남시 판교 날씨: 흐림 | 강수 없음 | 습도 85.0% | 풍속 ENE 방향 0.5m/s | \n",
            "2024년 11월 01일 08시 00분 성남시 판교 날씨: 흐림 | 강수 없음 | 습도 80.0% | 풍속 NNE 방향 0.4m/s | \n",
            "2024년 11월 01일 09시 00분 성남시 판교 날씨: 흐림 | 강수 없음 | 습도 75.0% | 풍속 ENE 방향 0.4m/s | \n",
            "2024년 11월 01일 10시 00분 성남시 판교 날씨: 흐림 | 강수 없음 | 습도 65.0% | 풍속 ESE 방향 0.7m/s | \n",
            "2024년 11월 01일 11시 00분 성남시 판교 날씨: 흐림 | 강수 없음 | 습도 60.0% | 풍속 ESE 방향 1.2m/s | \n",
            "2024년 11월 01일 12시 00분 성남시 판교 날씨: 맑음 | 강수 없음 | 습도 60.0% | 풍속 ENE 방향 0.7m/s | \n",
            "2024년 11월 01일 13시 00분 성남시 판교 날씨: 맑음 | 강수 없음 | 습도 55.0% | 풍속 NE 방향 1m/s | \n",
            "2024년 11월 01일 14시 00분 성남시 판교 날씨: 맑음 | 강수 없음 | 습도 55.0% | 풍속 E 방향 1.3m/s | \n",
            "2024년 11월 01일 15시 00분 성남시 판교 날씨: 맑음 | 강수 없음 | 습도 55.0% | 풍속 NNE 방향 1.7m/s | \n",
            "2024년 11월 01일 16시 00분 성남시 판교 날씨: 맑음 | 강수 없음 | 습도 60.0% | 풍속 N 방향 0.8m/s | \n",
            "2024년 11월 01일 17시 00분 성남시 판교 날씨: 맑음 | 강수 없음 | 습도 65.0% | 풍속 NNE 방향 1.1m/s | \n",
            "2024년 11월 01일 18시 00분 성남시 판교 날씨: 맑음 | 강수 없음 | 습도 70.0% | 풍속 NNE 방향 1m/s | \n",
            "2024년 11월 01일 19시 00분 성남시 판교 날씨: 맑음 | 강수 없음 | 습도 75.0% | 풍속 NE 방향 1m/s | \n",
            "2024년 11월 01일 20시 00분 성남시 판교 날씨: 맑음 | 강수 없음 | 습도 75.0% | 풍속 NE 방향 0.7m/s | \n",
            "2024년 11월 01일 21시 00분 성남시 판교 날씨: 맑음 | 강수 없음 | 습도 75.0% | 풍속 ENE 방향 0.5m/s | \n",
            "2024년 11월 01일 22시 00분 성남시 판교 날씨: 맑음 | 강수 없음 | 습도 75.0% | 풍속 ENE 방향 0.5m/s | \n",
            "2024년 11월 01일 23시 00분 성남시 판교 날씨: 맑음 | 강수 없음 | 습도 75.0% | 풍속 NE 방향 0.4m/s | \n",
            "2024년 11월 02일 00시 00분 성남시 판교 날씨: 맑음 | 강수 없음 | 습도 75.0% | 풍속 ENE 방향 0.8m/s | \n",
            "2024년 11월 02일 01시 00분 성남시 판교 날씨: 맑음 | 강수 없음 | 습도 75.0% | 풍속 ENE 방향 1.1m/s | \n",
            "2024년 11월 02일 02시 00분 성남시 판교 날씨: 맑음 | 강수 없음 | 습도 75.0% | 풍속 ENE 방향 1.2m/s | \n",
            "2024년 11월 02일 03시 00분 성남시 판교 날씨: 맑음 | 강수 없음 | 습도 70.0% | 풍속 ENE 방향 1.2m/s | \n",
            "2024년 11월 02일 04시 00분 성남시 판교 날씨: 맑음 | 강수 없음 | 습도 70.0% | 풍속 NE 방향 1.9m/s | \n",
            "2024년 11월 02일 05시 00분 성남시 판교 날씨: 맑음 | 강수 없음 | 습도 75.0% | 풍속 NE 방향 2.9m/s | \n",
            "2024년 11월 02일 06시 00분 성남시 판교 날씨: 맑음 | 강수 없음 | 습도 75.0% | 풍속 NE 방향 3.3m/s | \n",
            "2024년 11월 02일 07시 00분 성남시 판교 날씨: 맑음 | 강수 없음 | 습도 75.0% | 풍속 NE 방향 3.5m/s | \n",
            "2024년 11월 02일 08시 00분 성남시 판교 날씨: 맑음 | 강수 없음 | 습도 75.0% | 풍속 NE 방향 3.7m/s | \n",
            "2024년 11월 02일 09시 00분 성남시 판교 날씨: 맑음 | 강수 없음 | 습도 70.0% | 풍속 NE 방향 3.9m/s | \n",
            "2024년 11월 02일 10시 00분 성남시 판교 날씨: 맑음 | 강수 없음 | 습도 60.0% | 풍속 NE 방향 4.7m/s | \n",
            "2024년 11월 02일 11시 00분 성남시 판교 날씨: 구름많음 | 강수 없음 | 습도 55.0% | 풍속 NE 방향 5.7m/s | \n",
            "2024년 11월 02일 12시 00분 성남시 판교 날씨: 구름많음 | 강수 없음 | 습도 50.0% | 풍속 NE 방향 6.1m/s | \n",
            "2024년 11월 02일 13시 00분 성남시 판교 날씨: 구름많음 | 강수 없음 | 습도 50.0% | 풍속 NE 방향 6.2m/s | \n",
            "2024년 11월 02일 14시 00분 성남시 판교 날씨: 구름많음 | 강수 없음 | 습도 50.0% | 풍속 NE 방향 6.1m/s | \n",
            "2024년 11월 02일 15시 00분 성남시 판교 날씨: 흐림 | 강수 없음 | 습도 50.0% | 풍속 NE 방향 5.5m/s | \n",
            "2024년 11월 02일 16시 00분 성남시 판교 날씨: 구름많음 | 강수 없음 | 습도 50.0% | 풍속 NE 방향 4.8m/s | \n",
            "2024년 11월 02일 17시 00분 성남시 판교 날씨: 맑음 | 강수 없음 | 습도 60.0% | 풍속 NE 방향 4.2m/s | \n",
            "2024년 11월 02일 18시 00분 성남시 판교 날씨: 맑음 | 강수 없음 | 습도 65.0% | 풍속 NNE 방향 3.3m/s | \n",
            "2024년 11월 02일 19시 00분 성남시 판교 날씨: 구름많음 | 강수 없음 | 습도 70.0% | 풍속 NE 방향 3.2m/s | \n",
            "2024년 11월 02일 20시 00분 성남시 판교 날씨: 맑음 | 강수 없음 | 습도 70.0% | 풍속 NE 방향 2.5m/s | \n",
            "2024년 11월 02일 21시 00분 성남시 판교 날씨: 맑음 | 강수 없음 | 습도 75.0% | 풍속 ENE 방향 2.2m/s | \n",
            "2024년 11월 02일 22시 00분 성남시 판교 날씨: 맑음 | 강수 없음 | 습도 75.0% | 풍속 ENE 방향 2.2m/s | \n",
            "2024년 11월 02일 23시 00분 성남시 판교 날씨: 풍속 ENE 방향 2.1m/s | \n"
          ]
        }
      ]
    }
  ]
}